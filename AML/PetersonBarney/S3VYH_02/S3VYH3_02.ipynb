{
 "cells": [
  {
   "cell_type": "markdown",
   "metadata": {},
   "source": [
    "# Imports"
   ]
  },
  {
   "cell_type": "code",
   "execution_count": 77,
   "metadata": {},
   "outputs": [],
   "source": [
    "# By Nguyen Ba Phi (S3VYH3) with the help of ChatGPT\n",
    "\n",
    "import warnings\n",
    "warnings.filterwarnings('ignore')\n",
    "\n",
    "import pandas as pd\n",
    "from sklearn.model_selection import train_test_split\n",
    "\n",
    "import numpy as np\n",
    "from scipy.spatial.distance import cdist\n",
    "from sklearn.metrics import accuracy_score\n",
    "\n",
    "from sklearn.mixture import GaussianMixture\n",
    "\n",
    "from itertools import product\n"
   ]
  },
  {
   "cell_type": "markdown",
   "metadata": {},
   "source": [
    "# Data Preparation "
   ]
  },
  {
   "cell_type": "code",
   "execution_count": 78,
   "metadata": {},
   "outputs": [
    {
     "name": "stdout",
     "output_type": "stream",
     "text": [
      "Training set size: (1216, 4)\n",
      "Validation set size: (152, 4)\n",
      "Test set size: (152, 4)\n"
     ]
    }
   ],
   "source": [
    "# Data Preparation\n",
    "# Path to your dataset\n",
    "data_path = \"/Users/killercookie/Documents/GitHub/School-Code/AML/PetersonBarney/verified_pb.data\"\n",
    "\n",
    "# Load the dataset\n",
    "columns = ['M/F/C', 'SPKR', 'Phoneme_Number', 'Phoneme_Ascii', 'F0', 'F1', 'F2', 'F3']\n",
    "df = pd.read_csv(data_path, delim_whitespace=True, names=columns)\n",
    "\n",
    "# Separate features and labels (Phoneme_Ascii as the target label, rest as features)\n",
    "X = df[['F0', 'F1', 'F2', 'F3']]  # Acoustic features\n",
    "y = df['Phoneme_Ascii']  # Target: Phoneme\n",
    "\n",
    "# Splitting into 80/10/10 train, validation, and test sets\n",
    "X_train, X_temp, y_train, y_temp = train_test_split(X, y, test_size=0.2, random_state=42)\n",
    "X_val, X_test, y_val, y_test = train_test_split(X_temp, y_temp, test_size=0.5, random_state=42)\n",
    "\n",
    "# Display data splits\n",
    "print(f\"Training set size: {X_train.shape}\")\n",
    "print(f\"Validation set size: {X_val.shape}\")\n",
    "print(f\"Test set size: {X_test.shape}\")"
   ]
  },
  {
   "cell_type": "markdown",
   "metadata": {},
   "source": [
    "# Model Selection"
   ]
  },
  {
   "cell_type": "markdown",
   "metadata": {},
   "source": [
    "## Baseline Model"
   ]
  },
  {
   "cell_type": "code",
   "execution_count": 79,
   "metadata": {},
   "outputs": [
    {
     "name": "stdout",
     "output_type": "stream",
     "text": [
      "Validation Accuracy: 42.76%\n"
     ]
    }
   ],
   "source": [
    "# Baseline Model\n",
    "# Calculate the centroids of each phoneme in the training set\n",
    "centroids = X_train.groupby(y_train).mean()\n",
    "\n",
    "# Function to predict phoneme using centroid-based nearest neighbor\n",
    "def predict_centroid(X, centroids):\n",
    "    # Compute distances between each sample and each centroid\n",
    "    distances = cdist(X, centroids, metric='euclidean')\n",
    "    # Get the index of the closest centroid\n",
    "    closest_centroids = np.argmin(distances, axis=1)\n",
    "    # Map the indices back to the corresponding phonemes\n",
    "    predicted_phonemes = centroids.index[closest_centroids]\n",
    "    return predicted_phonemes\n",
    "\n",
    "# Predict on validation set\n",
    "y_val_pred = predict_centroid(X_val, centroids)\n",
    "\n",
    "# Evaluate accuracy on validation set\n",
    "accuracy = accuracy_score(y_val, y_val_pred)\n",
    "print(f\"Validation Accuracy: {accuracy * 100:.2f}%\")"
   ]
  },
  {
   "cell_type": "markdown",
   "metadata": {},
   "source": [
    "## GMM Model"
   ]
  },
  {
   "cell_type": "code",
   "execution_count": 80,
   "metadata": {},
   "outputs": [
    {
     "name": "stdout",
     "output_type": "stream",
     "text": [
      "GMM Validation Accuracy: 73.03%\n"
     ]
    }
   ],
   "source": [
    "# GMM Model\n",
    "# Dictionary to store GMM models for each phoneme\n",
    "gmm_models = {}\n",
    "\n",
    "# Train a GMM for each phoneme\n",
    "for phoneme in y_train.unique():\n",
    "    # Select the data corresponding to the current phoneme\n",
    "    X_phoneme = X_train[y_train == phoneme]\n",
    "    \n",
    "    # Train GMM with 3 components (this can be tuned)\n",
    "    gmm = GaussianMixture(n_components=3, covariance_type='full', random_state=42)\n",
    "    gmm.fit(X_phoneme)\n",
    "    \n",
    "    # Store the trained model\n",
    "    gmm_models[phoneme] = gmm\n",
    "\n",
    "# Function to predict phonemes using the trained GMM models\n",
    "def predict_gmm(X, gmm_models):\n",
    "    phonemes = list(gmm_models.keys())\n",
    "    likelihoods = np.zeros((X.shape[0], len(phonemes)))\n",
    "    \n",
    "    # For each sample, compute the log-likelihood for each phoneme's GMM\n",
    "    for idx, phoneme in enumerate(phonemes):\n",
    "        likelihoods[:, idx] = gmm_models[phoneme].score_samples(X)\n",
    "    \n",
    "    # Assign the phoneme corresponding to the highest likelihood\n",
    "    predicted_phonemes = np.array(phonemes)[np.argmax(likelihoods, axis=1)]\n",
    "    return predicted_phonemes\n",
    "\n",
    "# Predict on validation set using GMM\n",
    "y_val_pred_gmm = predict_gmm(X_val, gmm_models)\n",
    "\n",
    "# Evaluate GMM accuracy on validation set\n",
    "accuracy_gmm = accuracy_score(y_val, y_val_pred_gmm)\n",
    "print(f\"GMM Validation Accuracy: {accuracy_gmm * 100:.2f}%\")"
   ]
  },
  {
   "cell_type": "markdown",
   "metadata": {},
   "source": [
    "### GMM Hyperparameters tuning"
   ]
  },
  {
   "cell_type": "code",
   "execution_count": 81,
   "metadata": {},
   "outputs": [
    {
     "name": "stdout",
     "output_type": "stream",
     "text": [
      "Best GMM Validation Accuracy: 73.03%\n",
      "Best Parameters: {'n_components': 3, 'covariance_type': 'full'}\n"
     ]
    }
   ],
   "source": [
    "# GMM Hyperparameters tuning\n",
    "# Define hyperparameters to tune\n",
    "n_components_range = [1, 2, 3, 4, 5]\n",
    "covariance_types = ['full', 'tied', 'diag', 'spherical']\n",
    "\n",
    "# Store best model and accuracy\n",
    "best_accuracy = 0\n",
    "best_params = {}\n",
    "\n",
    "# Loop through all combinations of n_components and covariance_type\n",
    "for n_components, covariance_type in product(n_components_range, covariance_types):\n",
    "    gmm_models = {}\n",
    "    \n",
    "    # Train a GMM for each phoneme with current parameters\n",
    "    for phoneme in y_train.unique():\n",
    "        X_phoneme = X_train[y_train == phoneme]\n",
    "        \n",
    "        # Adjust n_components if the number of samples is smaller\n",
    "        effective_components = min(n_components, X_phoneme.shape[0])\n",
    "        \n",
    "        # Train GMM\n",
    "        gmm = GaussianMixture(n_components=effective_components, covariance_type=covariance_type, random_state=42)\n",
    "        gmm.fit(X_phoneme)\n",
    "        gmm_models[phoneme] = gmm\n",
    "    \n",
    "    # Predict on validation set\n",
    "    y_val_pred_gmm = predict_gmm(X_val, gmm_models)\n",
    "    \n",
    "    # Calculate accuracy\n",
    "    accuracy_gmm = accuracy_score(y_val, y_val_pred_gmm)\n",
    "    \n",
    "    # Check if this is the best model so far\n",
    "    if accuracy_gmm > best_accuracy:\n",
    "        best_accuracy = accuracy_gmm\n",
    "        best_params = {\n",
    "            'n_components': n_components,\n",
    "            'covariance_type': covariance_type,\n",
    "        }\n",
    "\n",
    "# Output the best parameters and accuracy\n",
    "print(f\"Best GMM Validation Accuracy: {best_accuracy * 100:.2f}%\")\n",
    "print(f\"Best Parameters: {best_params}\")"
   ]
  },
  {
   "cell_type": "markdown",
   "metadata": {},
   "source": [
    "# Final Evaluation based on test data"
   ]
  },
  {
   "cell_type": "code",
   "execution_count": 82,
   "metadata": {},
   "outputs": [
    {
     "name": "stdout",
     "output_type": "stream",
     "text": [
      "Best GMM Test Accuracy: 75.00%\n"
     ]
    }
   ],
   "source": [
    "# Best GMM model based on tuning\n",
    "best_gmm_models = {}\n",
    "\n",
    "for phoneme in y_train.unique():\n",
    "    X_phoneme = X_train[y_train == phoneme]\n",
    "    effective_components = min(best_params['n_components'], X_phoneme.shape[0])\n",
    "    \n",
    "    gmm = GaussianMixture(n_components=effective_components,\n",
    "                          covariance_type=best_params['covariance_type'],\n",
    "                          random_state=42)\n",
    "    gmm.fit(X_phoneme)\n",
    "    best_gmm_models[phoneme] = gmm\n",
    "\n",
    "# Predict on the test set using the best GMM model\n",
    "y_test_pred_gmm = predict_gmm(X_test, best_gmm_models)\n",
    "\n",
    "# Calculate test accuracy for the GMM model\n",
    "test_accuracy_gmm = accuracy_score(y_test, y_test_pred_gmm)\n",
    "print(f\"Best GMM Test Accuracy: {test_accuracy_gmm * 100:.2f}%\")"
   ]
  },
  {
   "cell_type": "code",
   "execution_count": null,
   "metadata": {},
   "outputs": [],
   "source": []
  }
 ],
 "metadata": {
  "kernelspec": {
   "display_name": "Python 3",
   "language": "python",
   "name": "python3"
  },
  "language_info": {
   "codemirror_mode": {
    "name": "ipython",
    "version": 3
   },
   "file_extension": ".py",
   "mimetype": "text/x-python",
   "name": "python",
   "nbconvert_exporter": "python",
   "pygments_lexer": "ipython3",
   "version": "3.11.5"
  }
 },
 "nbformat": 4,
 "nbformat_minor": 2
}
