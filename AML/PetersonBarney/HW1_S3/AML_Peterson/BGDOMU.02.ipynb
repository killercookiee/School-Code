{
 "cells": [
  {
   "cell_type": "code",
   "execution_count": 159,
   "metadata": {},
   "outputs": [],
   "source": [
    "import numpy as np\n",
    "from sklearn.model_selection import train_test_split\n",
    "from sklearn.neighbors import KNeighborsClassifier as KNN"
   ]
  },
  {
   "cell_type": "code",
   "execution_count": 160,
   "metadata": {},
   "outputs": [
    {
     "name": "stdout",
     "output_type": "stream",
     "text": [
      "1520\n"
     ]
    },
    {
     "data": {
      "text/plain": [
       "array([(1, 1, 1, 'IY', 160., 240., 2280., 2850.),\n",
       "       (1, 1, 1, 'IY', 186., 280., 2400., 2790.),\n",
       "       (1, 1, 2, 'IH', 203., 390., 2030., 2640.),\n",
       "       (1, 1, 2, 'IH', 192., 310., 1980., 2550.),\n",
       "       (1, 1, 3, 'EH', 161., 490., 1870., 2420.),\n",
       "       (1, 1, 3, '*EH', 155., 570., 1700., 2600.),\n",
       "       (1, 1, 4, '*AE', 140., 560., 1820., 2660.),\n",
       "       (1, 1, 4, 'AE', 180., 630., 1700., 2550.),\n",
       "       (1, 1, 5, 'AH', 144., 590., 1250., 2620.),\n",
       "       (1, 1, 5, 'AH', 148., 620., 1300., 2530.)],\n",
       "      dtype=[('f0', '<i8'), ('f1', '<i8'), ('f2', '<i8'), ('f3', '<U3'), ('f4', '<f8'), ('f5', '<f8'), ('f6', '<f8'), ('f7', '<f8')])"
      ]
     },
     "execution_count": 160,
     "metadata": {},
     "output_type": "execute_result"
    }
   ],
   "source": [
    "full_data = np.genfromtxt('verified_pb.data',\n",
    "                     dtype=None,\n",
    "                     delimiter='\\t',\n",
    "                     encoding=None)\n",
    "print(len(full_data))\n",
    "full_data[:10]"
   ]
  },
  {
   "cell_type": "code",
   "execution_count": 161,
   "metadata": {},
   "outputs": [],
   "source": [
    "x = np.array([[s[4], s[5], s[6], s[7]] for s in full_data], dtype=(\"float\"))\n",
    "y = np.array([s[2] for s in full_data], dtype=(\"int\"))\n",
    "\n",
    "x_train, x_0, y_train, y_0 = train_test_split(x, y, test_size=0.2, random_state=42)\n",
    "x_valid, x_test, y_valid, y_test = train_test_split(x_0, y_0, test_size=0.5, random_state=42)"
   ]
  },
  {
   "cell_type": "code",
   "execution_count": 162,
   "metadata": {},
   "outputs": [],
   "source": [
    "class Baseline():\n",
    "    def __init__(self, nc):\n",
    "        self.nc = nc\n",
    "\n",
    "    def train(self, x, y):\n",
    "        centers = []\n",
    "        for i in range(1, self.nc+1):\n",
    "            pos = np.where(i == y)\n",
    "            center = sum(x[pos])/len(pos[0])\n",
    "            centers.append(center)\n",
    "        self.centers = np.array(centers)\n",
    "    \n",
    "    def predict(self, x):\n",
    "        dist_matrix = np.zeros((len(x), self.nc))\n",
    "        for i in range(self.nc):\n",
    "            z = np.array([self.centers[i] for _ in range(len(x))])\n",
    "            dist = np.sum((x-z)**2, axis=1)\n",
    "            dist_matrix[:, i] = dist\n",
    "        \n",
    "        y = np.argmin(dist_matrix, axis=1)+1\n",
    "        return y"
   ]
  },
  {
   "cell_type": "code",
   "execution_count": 163,
   "metadata": {},
   "outputs": [
    {
     "data": {
      "text/plain": [
       "0.5197368421052632"
      ]
     },
     "execution_count": 163,
     "metadata": {},
     "output_type": "execute_result"
    }
   ],
   "source": [
    "classifier = Baseline(10)\n",
    "classifier.train(x_train, y_train)\n",
    "pred = classifier.predict(x_0)\n",
    "sum((pred == y_0).astype(\"float\"))/len(y_0)"
   ]
  },
  {
   "cell_type": "markdown",
   "metadata": {},
   "source": [
    "A modelleket csak az F értékeken tanítjuk (a nemet, valamint, hogy hányadik alany, figyelmen kívül hagyjuk). Baseline modellként minden osztályra kiszámoljuk az osztály \"középpontját\", és azt az osztályt predikáljuk, amelynek a középpontjához a legközelebb van az adatpont (Euklideszi távolsággal számolunk). Ez a validációs és teszt adatokon ~52% accuracyt ad."
   ]
  },
  {
   "cell_type": "code",
   "execution_count": 164,
   "metadata": {},
   "outputs": [
    {
     "name": "stdout",
     "output_type": "stream",
     "text": [
      "1 szomszéddal a validációs accuracy score: 0.8486842105263158\n",
      "3 szomszéddal a validációs accuracy score: 0.8421052631578947\n",
      "5 szomszéddal a validációs accuracy score: 0.868421052631579\n",
      "7 szomszéddal a validációs accuracy score: 0.868421052631579\n",
      "9 szomszéddal a validációs accuracy score: 0.8486842105263158\n"
     ]
    }
   ],
   "source": [
    "for k in range(1, 10, 2):\n",
    "    model = KNN(n_neighbors = k)\n",
    "    model.fit(x_train, y_train)\n",
    "    pred = model.predict(x_valid)\n",
    "    accuracy = sum((pred == y_valid).astype(\"float\"))/len(y_valid)\n",
    "    print(f\"{k} szomszéddal a validációs accuracy score: {accuracy}\")"
   ]
  },
  {
   "cell_type": "markdown",
   "metadata": {},
   "source": [
    "A legjobb validációs accuracy scoret 5 és 7 szomszéd esetén kapjuk, ezeket megvizsgáljuk a tesztadaton is."
   ]
  },
  {
   "cell_type": "code",
   "execution_count": 165,
   "metadata": {},
   "outputs": [
    {
     "name": "stdout",
     "output_type": "stream",
     "text": [
      "5 szomszéddal a test accuracy score: 0.8157894736842105\n",
      "7 szomszéddal a test accuracy score: 0.8486842105263158\n"
     ]
    }
   ],
   "source": [
    "model_5 = KNN(n_neighbors = 5)\n",
    "model_5.fit(x_train, y_train)\n",
    "pred = model_5.predict(x_test)\n",
    "accuracy = sum((pred == y_test).astype(\"float\"))/len(y_test)\n",
    "print(f\"{5} szomszéddal a test accuracy score: {accuracy}\")\n",
    "model_7 = KNN(n_neighbors = 7)\n",
    "model_7.fit(x_train, y_train)\n",
    "pred = model_7.predict(x_test)\n",
    "accuracy = sum((pred == y_test).astype(\"float\"))/len(y_test)\n",
    "print(f\"{7} szomszéddal a test accuracy score: {accuracy}\")"
   ]
  },
  {
   "cell_type": "markdown",
   "metadata": {},
   "source": [
    "Hozzátanítva a modellekhez a validációs adatot is:"
   ]
  },
  {
   "cell_type": "code",
   "execution_count": 166,
   "metadata": {},
   "outputs": [
    {
     "name": "stdout",
     "output_type": "stream",
     "text": [
      "5 szomszéddal a test accuracy score: 0.8092105263157895\n",
      "7 szomszéddal a test accuracy score: 0.8223684210526315\n"
     ]
    }
   ],
   "source": [
    "x_valtrain = np.concatenate((x_train, x_valid), axis=0)\n",
    "y_valtrain = np.concatenate((y_train, y_valid), axis=0)\n",
    "\n",
    "\n",
    "model_5 = KNN(n_neighbors = 5)\n",
    "model_5.fit(x_valtrain, y_valtrain)\n",
    "pred = model_5.predict(x_test)\n",
    "accuracy = sum((pred == y_test).astype(\"float\"))/len(y_test)\n",
    "print(f\"{5} szomszéddal a test accuracy score: {accuracy}\")\n",
    "model_7 = KNN(n_neighbors = 7)\n",
    "model_7.fit(x_valtrain, y_valtrain)\n",
    "pred = model_7.predict(x_test)\n",
    "accuracy = sum((pred == y_test).astype(\"float\"))/len(y_test)\n",
    "print(f\"{7} szomszéddal a test accuracy score: {accuracy}\")"
   ]
  },
  {
   "cell_type": "markdown",
   "metadata": {},
   "source": [
    "A továbbiakban a KNN algoritmust próbáltuk ki a feladatra, 1, 3, 5, 7 és 9 legközelebbi szomszéd figyelembevételével. A validáció során azt kaptuk, hogy 5 és 7 szomszéd esetén a legjobb a modell teljesítménye, így ezeket teszteltük, a tesztek során a k=7 szomszéd bizonyult a legjobbnak, ezzel a modell 82-84% accuracyt ért el a tesztadaton."
   ]
  },
  {
   "cell_type": "code",
   "execution_count": null,
   "metadata": {},
   "outputs": [],
   "source": []
  }
 ],
 "metadata": {
  "kernelspec": {
   "display_name": "Python 3 (ipykernel)",
   "language": "python",
   "name": "python3"
  },
  "language_info": {
   "codemirror_mode": {
    "name": "ipython",
    "version": 3
   },
   "file_extension": ".py",
   "mimetype": "text/x-python",
   "name": "python",
   "nbconvert_exporter": "python",
   "pygments_lexer": "ipython3",
   "version": "3.12.5"
  }
 },
 "nbformat": 4,
 "nbformat_minor": 4
}
