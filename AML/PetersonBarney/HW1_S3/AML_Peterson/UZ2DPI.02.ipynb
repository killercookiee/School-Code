{
 "cells": [
  {
   "cell_type": "markdown",
   "metadata": {},
   "source": [
    "I have read the documentation for Gaussian mixture models, as this is the first time i have used it https://scikit-learn.org/stable/modules/mixture.html <br>\n",
    "I have used ChatGPT to figure out why gmm was throwing errors and how to fix it (see comments below) <br>\n",
    "I have looked up how to map gmm classes to actual classes, as stated in comments\n"
   ]
  },
  {
   "cell_type": "code",
   "execution_count": 1,
   "metadata": {},
   "outputs": [],
   "source": [
    "import pandas as pd \n",
    "import numpy as np\n",
    "from sklearn.model_selection import train_test_split\n",
    "from sklearn.preprocessing import StandardScaler\n",
    "from sklearn.metrics import accuracy_score\n",
    "from sklearn.mixture import GaussianMixture as GMM\n",
    "from scipy.stats import mode"
   ]
  },
  {
   "cell_type": "code",
   "execution_count": 2,
   "metadata": {},
   "outputs": [],
   "source": [
    "header = ['M/F/C', 'SPKR', 'Phoneme-Number', 'Phoneme-Ascii', 'F0', 'F1', 'F2', 'F3']\n",
    "df = pd.read_csv('./PetersonBarney/verified_pb.data', sep='\\t', header=None, names=header)\n",
    "#print(df)\n",
    "\n",
    "X = df[['F0', 'F1', 'F2', 'F3']]\n",
    "y = df['Phoneme-Number']\n",
    "\n",
    "X_train, X_temp, y_train, y_temp = train_test_split(X, y, test_size=0.2, random_state=1)\n",
    "X_val, X_test, y_val, y_test = train_test_split(X_temp, y_temp, test_size=0.5, random_state=1)"
   ]
  },
  {
   "cell_type": "code",
   "execution_count": 3,
   "metadata": {},
   "outputs": [
    {
     "name": "stdout",
     "output_type": "stream",
     "text": [
      "Test Accuracy for baseline model: 0.49\n"
     ]
    }
   ],
   "source": [
    "# baseline model with center of gravity approach\n",
    "centers = X_train.groupby(y_train).mean()\n",
    "\n",
    "#print(centers)\n",
    "from scipy.spatial.distance import cdist\n",
    "\n",
    "distances = cdist(X_test, centers, metric='euclidean')\n",
    "\n",
    "y_test_pred = np.argmin(distances, axis=1)\n",
    "\n",
    "\n",
    "phoneme_classes = centers.index\n",
    "y_test_pred_classes = phoneme_classes[y_test_pred]\n",
    "\n",
    "test_accuracy = accuracy_score(y_test, y_test_pred_classes)\n",
    "print(f'Test Accuracy for baseline model: {test_accuracy:.2f}')\n"
   ]
  },
  {
   "cell_type": "code",
   "execution_count": 4,
   "metadata": {},
   "outputs": [],
   "source": [
    "scaler = StandardScaler()\n",
    "X_train_scaled = scaler.fit_transform(X_train)\n",
    "X_val_scaled = scaler.transform(X_val)\n",
    "X_test_scaled = scaler.transform(X_test)"
   ]
  },
  {
   "cell_type": "code",
   "execution_count": 5,
   "metadata": {},
   "outputs": [
    {
     "name": "stdout",
     "output_type": "stream",
     "text": [
      "SVM Validation Accuracy: 0.90\n",
      "SVM Validation Accuracy using scaled data: 0.89\n"
     ]
    }
   ],
   "source": [
    "# for supervised classifier, my choice is SVM\n",
    "from sklearn.svm import SVC\n",
    "svm = SVC(kernel='linear')  \n",
    "svm.fit(X_train, y_train)\n",
    "\n",
    "y_val_pred = svm.predict(X_val)\n",
    "val_accuracy = accuracy_score(y_val, y_val_pred)\n",
    "print(f'SVM Validation Accuracy: {val_accuracy:.2f}')\n",
    "\n",
    "\n",
    "svm.fit(X_train_scaled, y_train)\n",
    "y_val_pred = svm.predict(X_val_scaled)\n",
    "val_accuracy = accuracy_score(y_val, y_val_pred)\n",
    "print(f'SVM Validation Accuracy using scaled data: {val_accuracy:.2f}')\n",
    "# using scaled data does not seem to have a big impact"
   ]
  },
  {
   "cell_type": "code",
   "execution_count": null,
   "metadata": {},
   "outputs": [],
   "source": []
  },
  {
   "cell_type": "code",
   "execution_count": null,
   "metadata": {},
   "outputs": [],
   "source": []
  },
  {
   "cell_type": "code",
   "execution_count": 6,
   "metadata": {},
   "outputs": [
    {
     "name": "stdout",
     "output_type": "stream",
     "text": [
      "Train Accuracy: 0.42\n",
      "Test Accuracy: 0.38\n"
     ]
    }
   ],
   "source": [
    "# GMM as suggested in the slides, I think this could be optimized way better\n",
    "# but the SVM is good enough for me\n",
    "n_components = len(list(set(df['Phoneme-Number']))) # this is 10, confirmed by Data Wrangler extension in VSCode\n",
    "gmm = GMM(n_components=n_components, covariance_type='full', random_state=1, init_params='k-means++')\n",
    "\n",
    "gmm.fit(X_train)\n",
    "\n",
    "y_train_pred = gmm.predict(X_train)\n",
    "\n",
    "# Map each GMM component to the actual phoneme class by majority voting\n",
    "# I have looked this up\n",
    "component_to_class = {}\n",
    "for component in np.unique(y_train_pred):\n",
    "    mask = y_train_pred == component  # Get samples assigned to this component\n",
    "    most_common = mode(y_train[mask])  # Get the mode (most common phoneme class)\n",
    "    component_to_class[component] = most_common.mode\n",
    "\n",
    "y_train_mapped = np.array([component_to_class[component] for component in y_train_pred])\n",
    "\n",
    "train_accuracy = accuracy_score(y_train, y_train_mapped)\n",
    "print(f\"Train Accuracy: {train_accuracy:.2f}\")\n",
    "\n",
    "y_test_pred = gmm.predict(X_test)\n",
    "\n",
    "y_test_mapped = np.array([component_to_class[component] for component in y_test_pred])\n",
    "\n",
    "test_accuracy = accuracy_score(y_test, y_test_mapped) \n",
    "print(f\"Test Accuracy: {test_accuracy:.2f}\")\n"
   ]
  },
  {
   "cell_type": "code",
   "execution_count": null,
   "metadata": {},
   "outputs": [],
   "source": []
  },
  {
   "cell_type": "code",
   "execution_count": null,
   "metadata": {},
   "outputs": [],
   "source": []
  }
 ],
 "metadata": {
  "kernelspec": {
   "display_name": "base",
   "language": "python",
   "name": "python3"
  },
  "language_info": {
   "codemirror_mode": {
    "name": "ipython",
    "version": 3
   },
   "file_extension": ".py",
   "mimetype": "text/x-python",
   "name": "python",
   "nbconvert_exporter": "python",
   "pygments_lexer": "ipython3",
   "version": "3.12.4"
  }
 },
 "nbformat": 4,
 "nbformat_minor": 2
}
