{
 "cells": [
  {
   "cell_type": "code",
   "execution_count": 10,
   "id": "58ba4f8f",
   "metadata": {
    "scrolled": true
   },
   "outputs": [
    {
     "data": {
      "text/html": [
       "<div>\n",
       "<style scoped>\n",
       "    .dataframe tbody tr th:only-of-type {\n",
       "        vertical-align: middle;\n",
       "    }\n",
       "\n",
       "    .dataframe tbody tr th {\n",
       "        vertical-align: top;\n",
       "    }\n",
       "\n",
       "    .dataframe thead th {\n",
       "        text-align: right;\n",
       "    }\n",
       "</style>\n",
       "<table border=\"1\" class=\"dataframe\">\n",
       "  <thead>\n",
       "    <tr style=\"text-align: right;\">\n",
       "      <th></th>\n",
       "      <th>4</th>\n",
       "      <th>5</th>\n",
       "      <th>6</th>\n",
       "      <th>7</th>\n",
       "    </tr>\n",
       "  </thead>\n",
       "  <tbody>\n",
       "    <tr>\n",
       "      <th>0</th>\n",
       "      <td>160.0</td>\n",
       "      <td>240.0</td>\n",
       "      <td>2280.0</td>\n",
       "      <td>2850.0</td>\n",
       "    </tr>\n",
       "    <tr>\n",
       "      <th>1</th>\n",
       "      <td>186.0</td>\n",
       "      <td>280.0</td>\n",
       "      <td>2400.0</td>\n",
       "      <td>2790.0</td>\n",
       "    </tr>\n",
       "    <tr>\n",
       "      <th>2</th>\n",
       "      <td>203.0</td>\n",
       "      <td>390.0</td>\n",
       "      <td>2030.0</td>\n",
       "      <td>2640.0</td>\n",
       "    </tr>\n",
       "    <tr>\n",
       "      <th>3</th>\n",
       "      <td>192.0</td>\n",
       "      <td>310.0</td>\n",
       "      <td>1980.0</td>\n",
       "      <td>2550.0</td>\n",
       "    </tr>\n",
       "    <tr>\n",
       "      <th>4</th>\n",
       "      <td>161.0</td>\n",
       "      <td>490.0</td>\n",
       "      <td>1870.0</td>\n",
       "      <td>2420.0</td>\n",
       "    </tr>\n",
       "    <tr>\n",
       "      <th>...</th>\n",
       "      <td>...</td>\n",
       "      <td>...</td>\n",
       "      <td>...</td>\n",
       "      <td>...</td>\n",
       "    </tr>\n",
       "    <tr>\n",
       "      <th>1515</th>\n",
       "      <td>322.0</td>\n",
       "      <td>610.0</td>\n",
       "      <td>1550.0</td>\n",
       "      <td>3400.0</td>\n",
       "    </tr>\n",
       "    <tr>\n",
       "      <th>1516</th>\n",
       "      <td>345.0</td>\n",
       "      <td>520.0</td>\n",
       "      <td>1250.0</td>\n",
       "      <td>3460.0</td>\n",
       "    </tr>\n",
       "    <tr>\n",
       "      <th>1517</th>\n",
       "      <td>334.0</td>\n",
       "      <td>500.0</td>\n",
       "      <td>1140.0</td>\n",
       "      <td>3380.0</td>\n",
       "    </tr>\n",
       "    <tr>\n",
       "      <th>1518</th>\n",
       "      <td>308.0</td>\n",
       "      <td>740.0</td>\n",
       "      <td>1850.0</td>\n",
       "      <td>2160.0</td>\n",
       "    </tr>\n",
       "    <tr>\n",
       "      <th>1519</th>\n",
       "      <td>328.0</td>\n",
       "      <td>660.0</td>\n",
       "      <td>1830.0</td>\n",
       "      <td>2200.0</td>\n",
       "    </tr>\n",
       "  </tbody>\n",
       "</table>\n",
       "<p>1520 rows × 4 columns</p>\n",
       "</div>"
      ],
      "text/plain": [
       "          4      5       6       7\n",
       "0     160.0  240.0  2280.0  2850.0\n",
       "1     186.0  280.0  2400.0  2790.0\n",
       "2     203.0  390.0  2030.0  2640.0\n",
       "3     192.0  310.0  1980.0  2550.0\n",
       "4     161.0  490.0  1870.0  2420.0\n",
       "...     ...    ...     ...     ...\n",
       "1515  322.0  610.0  1550.0  3400.0\n",
       "1516  345.0  520.0  1250.0  3460.0\n",
       "1517  334.0  500.0  1140.0  3380.0\n",
       "1518  308.0  740.0  1850.0  2160.0\n",
       "1519  328.0  660.0  1830.0  2200.0\n",
       "\n",
       "[1520 rows x 4 columns]"
      ]
     },
     "execution_count": 10,
     "metadata": {},
     "output_type": "execute_result"
    }
   ],
   "source": [
    "import pandas as pd\n",
    "from sklearn.model_selection import train_test_split\n",
    "\n",
    "\n",
    "df1=pd.read_csv('C:/Users/Norbi/Downloads/PetersonBarney/PetersonBarney/verified_pb.data', delim_whitespace=True, header=None)  # header=None if no header in the file\n",
    "\n",
    "df=df1[[4,5,6,7]]\n",
    "\n",
    "\n",
    "x_train, temp1, train=train_test_split(df, test_size=0.2, random_state=42)\n",
    "\n",
    "valid1, test1=train_test_split(temp, test_size=0.5, random_state=42)\n",
    "\n",
    "df"
   ]
  },
  {
   "cell_type": "code",
   "execution_count": null,
   "id": "9d9d3107",
   "metadata": {},
   "outputs": [],
   "source": []
  },
  {
   "cell_type": "code",
   "execution_count": 14,
   "id": "d3bd2e42",
   "metadata": {},
   "outputs": [
    {
     "name": "stdout",
     "output_type": "stream",
     "text": [
      "Accuracy(Validation): 0.67\n",
      "Accuracy(Test): 0.72\n"
     ]
    },
    {
     "name": "stderr",
     "output_type": "stream",
     "text": [
      "C:\\Users\\Norbi\\anaconda3\\lib\\site-packages\\sklearn\\linear_model\\_logistic.py:458: ConvergenceWarning: lbfgs failed to converge (status=1):\n",
      "STOP: TOTAL NO. of ITERATIONS REACHED LIMIT.\n",
      "\n",
      "Increase the number of iterations (max_iter) or scale the data as shown in:\n",
      "    https://scikit-learn.org/stable/modules/preprocessing.html\n",
      "Please also refer to the documentation for alternative solver options:\n",
      "    https://scikit-learn.org/stable/modules/linear_model.html#logistic-regression\n",
      "  n_iter_i = _check_optimize_result(\n"
     ]
    }
   ],
   "source": [
    "from sklearn.preprocessing import LabelEncoder\n",
    "from sklearn.linear_model import LogisticRegression\n",
    "from sklearn.metrics import accuracy_score\n",
    "\n",
    "le=LabelEncoder()\n",
    "y=le.fit_transform(df1[3])\n",
    "\n",
    "x_train, x_t, y_train, y_t=train_test_split(df, y, test_size=0.2, random_state=42)\n",
    "\n",
    "x_valid, x_test, y_valid, y_test = train_test_split(x_t, y_t, test_size=0.5, random_state=42)\n",
    "\n",
    "classifier = LogisticRegression()\n",
    "classifier.fit(x_train, y_train)\n",
    "\n",
    "y_val_pred = classifier.predict(x_valid)\n",
    "val_accuracy = accuracy_score(y_valid, y_val_pred)\n",
    "print(f\"Accuracy(Validation): {val_accuracy:.2f}\")\n",
    "\n",
    "# Step 5: Evaluate the model on the test set\n",
    "y_test_pred = classifier.predict(x_test)\n",
    "test_accuracy = accuracy_score(y_test, y_test_pred)\n",
    "print(f\"Accuracy(Test): {test_accuracy:.2f}\")"
   ]
  },
  {
   "cell_type": "code",
   "execution_count": 18,
   "id": "5fbad333",
   "metadata": {},
   "outputs": [
    {
     "data": {
      "text/plain": [
       "IY     148\n",
       "ER     148\n",
       "UW     143\n",
       "AE     127\n",
       "UH     127\n",
       "IH     114\n",
       "AO     108\n",
       "AH     104\n",
       "EH      93\n",
       "AA      87\n",
       "*AA     65\n",
       "*EH     59\n",
       "*AH     48\n",
       "*AO     44\n",
       "*IH     38\n",
       "*AE     25\n",
       "*UH     25\n",
       "*UW      9\n",
       "*IY      4\n",
       "*ER      4\n",
       "Name: 3, dtype: int64"
      ]
     },
     "execution_count": 18,
     "metadata": {},
     "output_type": "execute_result"
    }
   ],
   "source": [
    "class_sizes = df1[3].value_counts()\n",
    "class_sizes"
   ]
  }
 ],
 "metadata": {
  "kernelspec": {
   "display_name": "Python 3 (ipykernel)",
   "language": "python",
   "name": "python3"
  },
  "language_info": {
   "codemirror_mode": {
    "name": "ipython",
    "version": 3
   },
   "file_extension": ".py",
   "mimetype": "text/x-python",
   "name": "python",
   "nbconvert_exporter": "python",
   "pygments_lexer": "ipython3",
   "version": "3.12.5"
  }
 },
 "nbformat": 4,
 "nbformat_minor": 5
}
