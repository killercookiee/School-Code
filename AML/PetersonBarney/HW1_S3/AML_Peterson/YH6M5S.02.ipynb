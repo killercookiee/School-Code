{
 "cells": [
  {
   "cell_type": "code",
   "execution_count": 4,
   "metadata": {},
   "outputs": [
    {
     "name": "stdout",
     "output_type": "stream",
     "text": [
      "   gender  speaker  phoneme phoneme_in_ascii     F0     F1      F2      F3\n",
      "0       1        1        1               IY  160.0  240.0  2280.0  2850.0\n",
      "1       1        1        1               IY  186.0  280.0  2400.0  2790.0\n",
      "2       1        1        2               IH  203.0  390.0  2030.0  2640.0\n",
      "3       1        1        2               IH  192.0  310.0  1980.0  2550.0\n",
      "4       1        1        3               EH  161.0  490.0  1870.0  2420.0\n"
     ]
    },
    {
     "name": "stderr",
     "output_type": "stream",
     "text": [
      "C:\\Users\\Felhasználó\\AppData\\Local\\Temp\\ipykernel_16072\\4101704356.py:8: FutureWarning: The 'delim_whitespace' keyword in pd.read_csv is deprecated and will be removed in a future version. Use ``sep='\\s+'`` instead\n",
      "  data = pd.read_csv(file_path, delim_whitespace=True, names=column_names)\n"
     ]
    }
   ],
   "source": [
    "import pandas as pd\n",
    "\n",
    "# Fájl elérési útja\n",
    "file_path = r'C:\\\\Users\\\\Felhasználó\\\\Desktop\\\\PetersonBarney\\\\verified_pb.data'\n",
    "\n",
    "# Adatok beolvasása egy pandas DataFrame-be\n",
    "column_names = ['gender', 'speaker', 'phoneme', 'phoneme_in_ascii', 'F0', 'F1', 'F2', 'F3']\n",
    "data = pd.read_csv(file_path, delim_whitespace=True, names=column_names)\n",
    "\n",
    "print(data.head())"
   ]
  },
  {
   "cell_type": "markdown",
   "metadata": {},
   "source": [
    "# Adatok felosztása\n",
    "Először felosztjuk az adatokat tanuló, validációs és teszt halmazra alkalmazva az óran elhangzott 80% - 10% - 10% arányt."
   ]
  },
  {
   "cell_type": "code",
   "execution_count": 21,
   "metadata": {},
   "outputs": [
    {
     "name": "stdout",
     "output_type": "stream",
     "text": [
      "Training set size: 1216\n",
      "Validation set size: 152\n",
      "Test set size: 152\n"
     ]
    },
    {
     "name": "stderr",
     "output_type": "stream",
     "text": [
      "C:\\Users\\Felhasználó\\AppData\\Local\\Temp\\ipykernel_16072\\1643603563.py:5: FutureWarning: The 'delim_whitespace' keyword in pd.read_csv is deprecated and will be removed in a future version. Use ``sep='\\s+'`` instead\n",
      "  data = pd.read_csv(r'C:\\\\Users\\\\Felhasználó\\\\Desktop\\\\PetersonBarney\\\\verified_pb.data', delim_whitespace=True, names=column_names)\n"
     ]
    }
   ],
   "source": [
    "from sklearn.model_selection import train_test_split\n",
    "\n",
    "# Beolvassuk az adatokat a slideban megadott oszlopnevekkel\n",
    "column_names = ['gender', 'speaker', 'phoneme', 'phoneme_in_ascii', 'F0', 'F1', 'F2', 'F3']\n",
    "data = pd.read_csv(r'C:\\\\Users\\\\Felhasználó\\\\Desktop\\\\PetersonBarney\\\\verified_pb.data', delim_whitespace=True, names=column_names)\n",
    "\n",
    "# Bemeneti adatok és címke kiválasztása\n",
    "X = data[['F0', 'F1', 'F2', 'F3']]  # Az akusztikai frekvenciák\n",
    "y = data['phoneme']  # A fonéma, amit osztályozni fogunk\n",
    "\n",
    "# Adatok felosztása tanuló (80%), validációs (10%) és teszt adatokra (10%)\n",
    "X_train, X_temp, y_train, y_temp = train_test_split(X, y, test_size=0.2, random_state=42)\n",
    "X_val, X_test, y_val, y_test = train_test_split(X_temp, y_temp, test_size=0.5, random_state=42)\n",
    "\n",
    "# Ellenőrzés, hogy helyesen osztottuk-e fel az adatokat\n",
    "print(f\"Training set size: {len(X_train)}\")\n",
    "print(f\"Validation set size: {len(X_val)}\")\n",
    "print(f\"Test set size: {len(X_test)}\")\n"
   ]
  },
  {
   "cell_type": "markdown",
   "metadata": {},
   "source": [
    "# Egy baseline modell létrehozása\n",
    "Itt egy Gauss-keverék modellt tanítunk az adaton."
   ]
  },
  {
   "cell_type": "code",
   "execution_count": 22,
   "metadata": {},
   "outputs": [
    {
     "name": "stdout",
     "output_type": "stream",
     "text": [
      "Validation accuracy of GMM baseline model: 15.79%\n"
     ]
    }
   ],
   "source": [
    "from sklearn.mixture import GaussianMixture\n",
    "from sklearn.metrics import accuracy_score\n",
    "\n",
    "# GMM modell létrehozása\n",
    "gmm = GaussianMixture(n_components=len(y.unique()), covariance_type='full', random_state=42)\n",
    "\n",
    "# A modell betanítása a tréning adatokon\n",
    "gmm.fit(X_train)\n",
    "\n",
    "# A modell kiértékelése a validációs adatokon\n",
    "y_pred_gmm = gmm.predict(X_val)\n",
    "accuracy_gmm = accuracy_score(y_val, y_pred_gmm)\n",
    "\n",
    "print(f\"Validation accuracy of GMM baseline model: {accuracy_gmm * 100:.2f}%\")\n"
   ]
  },
  {
   "cell_type": "markdown",
   "metadata": {},
   "source": [
    "# Egy másik modell az összehasonlításhoz\n",
    "Most egy egyszerű K-NN osztályozót tanítunk az adaton."
   ]
  },
  {
   "cell_type": "code",
   "execution_count": 23,
   "metadata": {},
   "outputs": [
    {
     "name": "stdout",
     "output_type": "stream",
     "text": [
      "Validation accuracy of K-NN model: 84.21%\n"
     ]
    }
   ],
   "source": [
    "from sklearn.neighbors import KNeighborsClassifier\n",
    "\n",
    "# K-NN modell létrehozása (k=3)\n",
    "knn = KNeighborsClassifier(n_neighbors=3)\n",
    "\n",
    "# A modell betanítása a tréning adatokon\n",
    "knn.fit(X_train, y_train)\n",
    "\n",
    "# A modell kiértékelése a validációs adatokon\n",
    "y_pred_knn = knn.predict(X_val)\n",
    "accuracy_knn = accuracy_score(y_val, y_pred_knn)\n",
    "\n",
    "print(f\"Validation accuracy of K-NN model: {accuracy_knn * 100:.2f}%\")\n"
   ]
  },
  {
   "cell_type": "markdown",
   "metadata": {},
   "source": [
    "# Kiértékeljük mind a kettőt a teszt adaton"
   ]
  },
  {
   "cell_type": "code",
   "execution_count": 24,
   "metadata": {},
   "outputs": [
    {
     "name": "stdout",
     "output_type": "stream",
     "text": [
      "Test accuracy of GMM baseline model: 18.42%\n",
      "Test accuracy of K-NN model: 84.87%\n"
     ]
    }
   ],
   "source": [
    "# Tesztelés a GMM baseline modellel\n",
    "y_pred_test_gmm = gmm.predict(X_test)\n",
    "accuracy_test_gmm = accuracy_score(y_test, y_pred_test_gmm)\n",
    "\n",
    "# Tesztelés a K-NN modellel\n",
    "y_pred_test_knn = knn.predict(X_test)\n",
    "accuracy_test_knn = accuracy_score(y_test, y_pred_test_knn)\n",
    "\n",
    "print(f\"Test accuracy of GMM baseline model: {accuracy_test_gmm * 100:.2f}%\")\n",
    "print(f\"Test accuracy of K-NN model: {accuracy_test_knn * 100:.2f}%\")\n"
   ]
  },
  {
   "cell_type": "markdown",
   "metadata": {},
   "source": [
    "# Értékelés:\n",
    "\n",
    "* Láthatóan a Gauss-keverék modell sokkal gyengébben teljesít, mint az egyszerű K-NN algoritmus.\n",
    "* Ennek több oka is lehet például, hogy nincs elég adatunk a feladat megoldásához.\n",
    "* Vagy mindössze a GMM a fonémák valószínűségi eloszlásait próbálja modellezni, de ezek az adatok valószínűleg nem követik jól a Gauss-eloszlásokat, ezért nem illeszkedik megfelelően. Így a K-NN, ami az adatpontok közelségét használja az osztályozáshoz jobban tud teljesíteni."
   ]
  }
 ],
 "metadata": {
  "kernelspec": {
   "display_name": "working",
   "language": "python",
   "name": "python3"
  },
  "language_info": {
   "codemirror_mode": {
    "name": "ipython",
    "version": 3
   },
   "file_extension": ".py",
   "mimetype": "text/x-python",
   "name": "python",
   "nbconvert_exporter": "python",
   "pygments_lexer": "ipython3",
   "version": "3.10.14"
  }
 },
 "nbformat": 4,
 "nbformat_minor": 2
}
