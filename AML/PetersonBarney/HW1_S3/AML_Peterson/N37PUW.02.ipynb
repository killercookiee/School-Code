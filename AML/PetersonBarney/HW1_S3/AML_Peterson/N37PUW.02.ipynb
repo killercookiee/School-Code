{
 "cells": [
  {
   "cell_type": "code",
   "execution_count": 135,
   "id": "c244d5d9-e7ab-406a-9c72-aa6a1bbb6d23",
   "metadata": {},
   "outputs": [],
   "source": [
    "import pandas as pd\n",
    "import numpy as np\n",
    "from sklearn.model_selection import train_test_split\n",
    "from sklearn.preprocessing import StandardScaler\n",
    "from sklearn.metrics import accuracy_score\n",
    "from sklearn.neighbors import KNeighborsClassifier"
   ]
  },
  {
   "cell_type": "markdown",
   "id": "2d838dce-70ea-4b83-9614-d74654d49dce",
   "metadata": {},
   "source": [
    "# Loadnig the data"
   ]
  },
  {
   "cell_type": "code",
   "execution_count": 136,
   "id": "69f79aa7-ce69-4bfe-b552-75a6129527c8",
   "metadata": {},
   "outputs": [],
   "source": [
    "file_path = r'C:\\Users\\szjan\\Downloads\\PetersonBarney\\PetersonBarney\\verified_pb.data'\n",
    "\n",
    "columns = ['M/F/C', 'SPKR', 'Phoneme-Number', 'Phoneme-Ascii', 'F0', 'F1', 'F2', 'F3']\n",
    "\n",
    "df = pd.read_csv(file_path, delim_whitespace=True, header=None, names=columns)\n",
    "\n",
    "X = df[['F1', 'F2', 'F3']]\n",
    "y = df['Phoneme-Ascii']"
   ]
  },
  {
   "cell_type": "markdown",
   "id": "af2ae94a-32f8-4975-a799-20b299dbd3c4",
   "metadata": {},
   "source": [
    "# Splitting"
   ]
  },
  {
   "cell_type": "code",
   "execution_count": 137,
   "id": "a0a80153-09c4-42ed-8c9e-e8cf58ee9e8f",
   "metadata": {},
   "outputs": [],
   "source": [
    "X_train, X_temp, y_train, y_temp = train_test_split(X, y, test_size=0.2, random_state=42)\n",
    "X_val, X_test, y_val, y_test = train_test_split(X_temp, y_temp, test_size=0.5, random_state=42)"
   ]
  },
  {
   "cell_type": "markdown",
   "id": "c7113c4e-c8c0-45dc-9ea2-79614be7cb64",
   "metadata": {},
   "source": [
    "# Finding the centers of the sounds"
   ]
  },
  {
   "cell_type": "code",
   "execution_count": 138,
   "id": "4c5ccc53-9416-4632-a590-5c0608053d92",
   "metadata": {},
   "outputs": [
    {
     "name": "stdout",
     "output_type": "stream",
     "text": [
      "                       F1           F2           F3\n",
      "Phoneme-Ascii                                      \n",
      "*AA            816.907692  1190.230769  2765.076923\n",
      "*AE            670.480000  2070.000000  2791.120000\n",
      "*AH            692.354167  1277.270833  2617.041667\n",
      "*AO            636.772727   975.340909  2768.272727\n",
      "*EH            586.559322  2116.796610  2869.830508\n",
      "*ER            491.500000  1727.500000  2168.750000\n",
      "*IH            466.921053  2358.105263  3081.842105\n",
      "*IY            325.000000  2712.500000  3225.000000\n",
      "*UH            484.320000  1151.040000  2637.760000\n",
      "*UW            401.111111  1050.333333  2658.888889\n",
      "AA             846.057471  1206.137931  2677.379310\n",
      "AE             833.503937  1944.811024  2752.141732\n",
      "AH             735.644231  1384.576923  2751.490385\n",
      "AO             584.805556   883.574074  2665.777778\n",
      "EH             593.333333  2222.064516  2895.774194\n",
      "ER             510.141892  1546.581081  1896.101351\n",
      "IH             428.622807  2305.254386  2912.763158\n",
      "IY             300.621622  2646.621622  3238.648649\n",
      "UH             470.850394  1148.677165  2618.771654\n",
      "UW             355.293706   964.706294  2592.069930\n"
     ]
    }
   ],
   "source": [
    "centers_of_gravity = df.groupby('Phoneme-Ascii').mean()[['F1', 'F2', 'F3']]\n",
    "\n",
    "print(centers_of_gravity)"
   ]
  },
  {
   "cell_type": "markdown",
   "id": "9af7405c-2d46-44fe-aa2a-5e908b7bb41e",
   "metadata": {},
   "source": [
    "# Baseline model"
   ]
  },
  {
   "cell_type": "code",
   "execution_count": 139,
   "id": "30d7ddcf-948c-4d75-a8fc-d27779754db3",
   "metadata": {},
   "outputs": [],
   "source": [
    "def euclidean_distance(point1, point2):\n",
    "    return np.sqrt(np.sum((point1 - point2) ** 2))\n",
    "\n",
    "def nearest_neighbor_classifier(test_point, centers):\n",
    "    min_distance = float('inf')\n",
    "    nearest_phoneme = None\n",
    "    for phoneme, center in centers.iterrows():\n",
    "        center_point = np.array([center['F1'], center['F2'], center['F3']])\n",
    "        distance = euclidean_distance(test_point, center_point)\n",
    "        if distance < min_distance:\n",
    "            min_distance = distance\n",
    "            nearest_phoneme = phoneme\n",
    "    return nearest_phoneme"
   ]
  },
  {
   "cell_type": "code",
   "execution_count": 140,
   "id": "ec8d0987-c280-4e96-9bdf-fbdf13e3ca34",
   "metadata": {},
   "outputs": [],
   "source": [
    "centers_of_gravity_train = pd.concat([X_train, y_train], axis=1).groupby('Phoneme-Ascii').mean()[['F1', 'F2', 'F3']]"
   ]
  },
  {
   "cell_type": "code",
   "execution_count": 141,
   "id": "6a85adad-764f-43d0-8aeb-14a1afc2f045",
   "metadata": {},
   "outputs": [
    {
     "data": {
      "text/plain": [
       "0.4276315789473684"
      ]
     },
     "execution_count": 141,
     "metadata": {},
     "output_type": "execute_result"
    }
   ],
   "source": [
    "y_val_pred = X_val.apply(lambda row: nearest_neighbor_classifier(np.array([row['F1'], row['F2'], row['F3']]), centers_of_gravity_train), axis=1)\n",
    "\n",
    "val_accuracy = (y_val_pred == y_val).mean()\n",
    "\n",
    "val_accuracy"
   ]
  },
  {
   "cell_type": "markdown",
   "id": "29f7850f-65af-487c-99de-da708d38cc10",
   "metadata": {},
   "source": [
    "# Logistic regression"
   ]
  },
  {
   "cell_type": "code",
   "execution_count": 142,
   "id": "3c1883f8-c68a-45f3-b524-521d9835ceb8",
   "metadata": {},
   "outputs": [],
   "source": [
    "# Normalize the features using StandardScaler\n",
    "scaler = StandardScaler()\n",
    "X_train_scaled = scaler.fit_transform(X_train)\n",
    "X_val_scaled = scaler.transform(X_val)\n",
    "X_test_scaled = scaler.transform(X_test)"
   ]
  },
  {
   "cell_type": "code",
   "execution_count": 143,
   "id": "82154b3a-52f7-4679-8931-f4a02c3ce69b",
   "metadata": {},
   "outputs": [
    {
     "data": {
      "text/html": [
       "<style>#sk-container-id-22 {color: black;}#sk-container-id-22 pre{padding: 0;}#sk-container-id-22 div.sk-toggleable {background-color: white;}#sk-container-id-22 label.sk-toggleable__label {cursor: pointer;display: block;width: 100%;margin-bottom: 0;padding: 0.3em;box-sizing: border-box;text-align: center;}#sk-container-id-22 label.sk-toggleable__label-arrow:before {content: \"▸\";float: left;margin-right: 0.25em;color: #696969;}#sk-container-id-22 label.sk-toggleable__label-arrow:hover:before {color: black;}#sk-container-id-22 div.sk-estimator:hover label.sk-toggleable__label-arrow:before {color: black;}#sk-container-id-22 div.sk-toggleable__content {max-height: 0;max-width: 0;overflow: hidden;text-align: left;background-color: #f0f8ff;}#sk-container-id-22 div.sk-toggleable__content pre {margin: 0.2em;color: black;border-radius: 0.25em;background-color: #f0f8ff;}#sk-container-id-22 input.sk-toggleable__control:checked~div.sk-toggleable__content {max-height: 200px;max-width: 100%;overflow: auto;}#sk-container-id-22 input.sk-toggleable__control:checked~label.sk-toggleable__label-arrow:before {content: \"▾\";}#sk-container-id-22 div.sk-estimator input.sk-toggleable__control:checked~label.sk-toggleable__label {background-color: #d4ebff;}#sk-container-id-22 div.sk-label input.sk-toggleable__control:checked~label.sk-toggleable__label {background-color: #d4ebff;}#sk-container-id-22 input.sk-hidden--visually {border: 0;clip: rect(1px 1px 1px 1px);clip: rect(1px, 1px, 1px, 1px);height: 1px;margin: -1px;overflow: hidden;padding: 0;position: absolute;width: 1px;}#sk-container-id-22 div.sk-estimator {font-family: monospace;background-color: #f0f8ff;border: 1px dotted black;border-radius: 0.25em;box-sizing: border-box;margin-bottom: 0.5em;}#sk-container-id-22 div.sk-estimator:hover {background-color: #d4ebff;}#sk-container-id-22 div.sk-parallel-item::after {content: \"\";width: 100%;border-bottom: 1px solid gray;flex-grow: 1;}#sk-container-id-22 div.sk-label:hover label.sk-toggleable__label {background-color: #d4ebff;}#sk-container-id-22 div.sk-serial::before {content: \"\";position: absolute;border-left: 1px solid gray;box-sizing: border-box;top: 0;bottom: 0;left: 50%;z-index: 0;}#sk-container-id-22 div.sk-serial {display: flex;flex-direction: column;align-items: center;background-color: white;padding-right: 0.2em;padding-left: 0.2em;position: relative;}#sk-container-id-22 div.sk-item {position: relative;z-index: 1;}#sk-container-id-22 div.sk-parallel {display: flex;align-items: stretch;justify-content: center;background-color: white;position: relative;}#sk-container-id-22 div.sk-item::before, #sk-container-id-22 div.sk-parallel-item::before {content: \"\";position: absolute;border-left: 1px solid gray;box-sizing: border-box;top: 0;bottom: 0;left: 50%;z-index: -1;}#sk-container-id-22 div.sk-parallel-item {display: flex;flex-direction: column;z-index: 1;position: relative;background-color: white;}#sk-container-id-22 div.sk-parallel-item:first-child::after {align-self: flex-end;width: 50%;}#sk-container-id-22 div.sk-parallel-item:last-child::after {align-self: flex-start;width: 50%;}#sk-container-id-22 div.sk-parallel-item:only-child::after {width: 0;}#sk-container-id-22 div.sk-dashed-wrapped {border: 1px dashed gray;margin: 0 0.4em 0.5em 0.4em;box-sizing: border-box;padding-bottom: 0.4em;background-color: white;}#sk-container-id-22 div.sk-label label {font-family: monospace;font-weight: bold;display: inline-block;line-height: 1.2em;}#sk-container-id-22 div.sk-label-container {text-align: center;}#sk-container-id-22 div.sk-container {/* jupyter's `normalize.less` sets `[hidden] { display: none; }` but bootstrap.min.css set `[hidden] { display: none !important; }` so we also need the `!important` here to be able to override the default hidden behavior on the sphinx rendered scikit-learn.org. See: https://github.com/scikit-learn/scikit-learn/issues/21755 */display: inline-block !important;position: relative;}#sk-container-id-22 div.sk-text-repr-fallback {display: none;}</style><div id=\"sk-container-id-22\" class=\"sk-top-container\"><div class=\"sk-text-repr-fallback\"><pre>LogisticRegression(max_iter=1000, multi_class=&#x27;multinomial&#x27;)</pre><b>In a Jupyter environment, please rerun this cell to show the HTML representation or trust the notebook. <br />On GitHub, the HTML representation is unable to render, please try loading this page with nbviewer.org.</b></div><div class=\"sk-container\" hidden><div class=\"sk-item\"><div class=\"sk-estimator sk-toggleable\"><input class=\"sk-toggleable__control sk-hidden--visually\" id=\"sk-estimator-id-22\" type=\"checkbox\" checked><label for=\"sk-estimator-id-22\" class=\"sk-toggleable__label sk-toggleable__label-arrow\">LogisticRegression</label><div class=\"sk-toggleable__content\"><pre>LogisticRegression(max_iter=1000, multi_class=&#x27;multinomial&#x27;)</pre></div></div></div></div></div>"
      ],
      "text/plain": [
       "LogisticRegression(max_iter=1000, multi_class='multinomial')"
      ]
     },
     "execution_count": 143,
     "metadata": {},
     "output_type": "execute_result"
    }
   ],
   "source": [
    "from sklearn.linear_model import LogisticRegression\n",
    "\n",
    "# Logistic Regression model\n",
    "log_reg = LogisticRegression(multi_class='multinomial', solver='lbfgs', max_iter=1000)\n",
    "\n",
    "# Train the model on the training set\n",
    "log_reg.fit(X_train_scaled, y_train)\n"
   ]
  },
  {
   "cell_type": "code",
   "execution_count": 144,
   "id": "3b4ccab9-0d37-474b-b09f-45bfcfe29b2f",
   "metadata": {},
   "outputs": [
    {
     "name": "stdout",
     "output_type": "stream",
     "text": [
      "Validation accuracy: 0.7171052631578947\n"
     ]
    }
   ],
   "source": [
    "# Predict on the validation set\n",
    "y_val_pred = log_reg.predict(X_val_scaled)\n",
    "\n",
    "# Calculate accuracy\n",
    "val_accuracy = accuracy_score(y_val, y_val_pred)\n",
    "print(f\"Validation accuracy: {val_accuracy}\")\n"
   ]
  },
  {
   "cell_type": "code",
   "execution_count": null,
   "id": "dc75634b-a540-4390-b379-894b8f407bfb",
   "metadata": {},
   "outputs": [],
   "source": []
  }
 ],
 "metadata": {
  "kernelspec": {
   "display_name": "Python 3 (ipykernel)",
   "language": "python",
   "name": "python3"
  },
  "language_info": {
   "codemirror_mode": {
    "name": "ipython",
    "version": 3
   },
   "file_extension": ".py",
   "mimetype": "text/x-python",
   "name": "python",
   "nbconvert_exporter": "python",
   "pygments_lexer": "ipython3",
   "version": "3.12.5"
  }
 },
 "nbformat": 4,
 "nbformat_minor": 5
}
