{
 "cells": [
  {
   "cell_type": "markdown",
   "metadata": {},
   "source": [
    "# Introduction to numerical algorithms\n",
    "## Practice class 1 - Set up a workspace, read and structure data"
   ]
  },
  {
   "cell_type": "markdown",
   "metadata": {},
   "source": [
    "We are going to use jupyter notebooks, suggested programming enviroments:\n",
    "* VS code with miniconda \n",
    "* Jupyther with miniconda \n",
    "* Google Colab"
   ]
  },
  {
   "cell_type": "markdown",
   "metadata": {},
   "source": [
    "**Set up miniconda:**\n",
    "1. Install: https://docs.anaconda.com/miniconda/miniconda-install/\n",
    "2. Creat python virtual environment: https://conda.io/projects/conda/en/latest/user-guide/tasks/manage-environments.html#\n",
    "3. `environment.yml` is provided\n",
    "\n",
    "*Pros:*\n",
    "* virtual environments\n",
    "* safety\n",
    "* any version of any package can be installed in your env\n",
    "* you can have many different envs\n",
    "\n",
    "*Cons:*\n",
    "* need some experience to set up"
   ]
  },
  {
   "cell_type": "markdown",
   "metadata": {},
   "source": [
    "### Pip on Linux/Window (without miniconda)\n",
    "\n",
    "- Use the following terminal commands:\n",
    "```bash\n",
    "python3 -m venv venv_name\n",
    "```\n",
    "- Windows:\n",
    "```bash\n",
    "venv_name\\Scripts\\activate\n",
    "```\n",
    "- Linux/Mac:\n",
    "```bash\n",
    "source venv_name/bin/activate\n",
    "```\n",
    "\n",
    "Note that `.yml` is nothing else than a simple text file. If you are using mini conda use the `.yml`, if you are using native python, you have to convert it to simple `.txt` as it uses `pip` by default. This is done by renaming the extension and rewriting the file as in the example below:\n",
    "- YAML:\n",
    "```yaml\n",
    "dependencies:\n",
    "  - numpy=1.19.2\n",
    "  - pandas=1.1.3\n",
    "  - scikit-learn=0.23.2\n",
    "\n",
    "```\n",
    "- TXT:\n",
    "```bash\n",
    "numpy==1.19.2\n",
    "pandas==1.1.3\n",
    "scikit-learn==0.23.2\n",
    "```\n",
    "Use command \n",
    "```bash\n",
    "pip install -r /path/to/environment.txt\n",
    "```\n",
    "to install the requirements.\n",
    "\n",
    "**Remarks**\n",
    "\n",
    "I personally prefer pip as it is more native python, it is more easier to manage packages, it is built in natively in Linux systems and doesn't require miniconda setup.\n",
    "\n",
    "Miniconda, on the other hand, is a compact way to handle project files and is more widespread on windows systems. Some types of projects and compatibility issues may require its usage.\n",
    "\n",
    "Note that, \n",
    "- there were changes to `pip` in Ubuntu (Debian based Linux) systems after 2023 release cycle.\n",
    "- noteworthy mention is `pyenv` on Linux to handle different python environments easily.\n",
    "- virtual environments are preferred to keep track of the versions of your packages and assure backward compatibility\n",
    "- you can precise the version number in the requirements file. If you don't do this, the package manager will try to look for the newest stable version. \n",
    "- in VS code you can use the command palette instead of terminal to create virtual environments both with venv or conda"
   ]
  },
  {
   "cell_type": "markdown",
   "metadata": {
    "vscode": {
     "languageId": "bat"
    }
   },
   "source": [
    "**Set up Jupyter:**\n",
    "\n",
    "Install: https://docs.jupyter.org/en/latest/install/notebook-classic.html"
   ]
  },
  {
   "cell_type": "markdown",
   "metadata": {},
   "source": [
    "**Set up VS Code**\n",
    "\n",
    "Install: https://code.visualstudio.com/download"
   ]
  },
  {
   "cell_type": "markdown",
   "metadata": {},
   "source": [
    "**Set up colab:**\n",
    "\n",
    "Visit: https://colab.research.google.com/\n",
    "\n",
    "You need a google account, everything stored in your google drive. \n",
    "\n",
    "*Pros:*\n",
    "* easy to access\n",
    "* no initial setup\n",
    "* stored in the cloud, can be accessed anywhere\n",
    "\n",
    "*Cons:*\n",
    "* complicated file management\n",
    "* runs in the cloud, requires internet access\n",
    "* slow"
   ]
  },
  {
   "cell_type": "markdown",
   "metadata": {},
   "source": [
    "### Python and numpy basics:\n",
    "**Reference materials:**\n",
    "* python: https://docs.python.org/3/\n",
    "* numpy: https://numpy.org/doc/stable/user/index.html\n",
    "\n",
    "But Google is your friend, with any question first Google it!"
   ]
  },
  {
   "cell_type": "markdown",
   "metadata": {},
   "source": [
    "### Numpy Tutorial\n",
    "`numpy` is the most general vector and linear algebra tool in python. It includes the most common operations of linear algebra, complex numbers, mathematical functions and random numbers. I reiterate that do not mix with the `math` and `random` package. They have different number styles, and different precisions. Python is a mess by itself, there is no need to make your life harder!"
   ]
  },
  {
   "cell_type": "code",
   "execution_count": 10,
   "metadata": {},
   "outputs": [],
   "source": [
    "import numpy as np #always use it this way!\n",
    "import sys"
   ]
  },
  {
   "cell_type": "markdown",
   "metadata": {},
   "source": [
    "```\n",
    "import numpy as foo\n",
    "````\n",
    "would also work, but noone will understand"
   ]
  },
  {
   "cell_type": "code",
   "execution_count": null,
   "metadata": {},
   "outputs": [
    {
     "name": "stdout",
     "output_type": "stream",
     "text": [
      "[0 1 2 3 4 5 6 7 8 9] range(0, 10) [0, 1, 2, 3, 4, 5, 6, 7, 8, 9]\n",
      "<class 'numpy.ndarray'> <class 'range'>\n"
     ]
    }
   ],
   "source": [
    "a = np.arange(10)\n",
    "b = range(10)\n",
    "print(a,b,list(b))\n",
    "print(type(a),type(b))\n",
    "#please note the subtle difference of missing commas. Do not rely on it! "
   ]
  },
  {
   "cell_type": "code",
   "execution_count": null,
   "metadata": {},
   "outputs": [
    {
     "name": "stdout",
     "output_type": "stream",
     "text": [
      "<class 'list'> [1, 2, 3] 1\n",
      "<class 'numpy.ndarray'> [1 2 3] 1\n",
      "<class 'list'> [1, 2, 3] 1\n"
     ]
    }
   ],
   "source": [
    "#numpy array and list can be made from each other\n",
    "b = [1,2,3]\n",
    "print(type(b),b,b[0])\n",
    "a = np.array(b)\n",
    "print(type(a),a,a[0])\n",
    "c = list(a)\n",
    "print(type(c),c,c[0])"
   ]
  },
  {
   "cell_type": "code",
   "execution_count": 8,
   "metadata": {},
   "outputs": [
    {
     "name": "stdout",
     "output_type": "stream",
     "text": [
      "['1' 'a' '1.5']\n",
      "[1.  1.5 7. ]\n"
     ]
    }
   ],
   "source": [
    "#numpy cannot mix types, if the list does it will take the most incluseive one, here the string\n",
    "print(np.array([1,\"a\",1.5]))\n",
    "#here float\n",
    "print(np.array([1,1.5,7]))"
   ]
  },
  {
   "cell_type": "code",
   "execution_count": null,
   "metadata": {},
   "outputs": [
    {
     "name": "stdout",
     "output_type": "stream",
     "text": [
      "80096 800096\n"
     ]
    }
   ],
   "source": [
    "#very efficient in storage. I have 8 byte integers by default:\n",
    "a = np.arange(10000)\n",
    "b = np.arange(100000)\n",
    "print(sys.getsizeof(a),sys.getsizeof(b))"
   ]
  },
  {
   "cell_type": "code",
   "execution_count": null,
   "metadata": {},
   "outputs": [
    {
     "name": "stdout",
     "output_type": "stream",
     "text": [
      "87616\n",
      "24\n"
     ]
    }
   ],
   "source": [
    "#list first stores a list of pointers to the elements which are in turn stored individually in the memory.\n",
    "la = [i for i in range(10000)]\n",
    "print(sys.getsizeof(la))\n",
    "print(sys.getsizeof(la[0]))"
   ]
  },
  {
   "cell_type": "code",
   "execution_count": 12,
   "metadata": {},
   "outputs": [
    {
     "name": "stdout",
     "output_type": "stream",
     "text": [
      "85176\n",
      "92\n"
     ]
    }
   ],
   "source": [
    "la = [\"A LONG STRING THAT DEFINITELY\"+str(i)+\" DOES NOT FIT\" for i in range(10000)]\n",
    "print(sys.getsizeof(la))\n",
    "print(sys.getsizeof(la[0]))"
   ]
  },
  {
   "cell_type": "code",
   "execution_count": null,
   "metadata": {},
   "outputs": [
    {
     "name": "stdout",
     "output_type": "stream",
     "text": [
      "1\n",
      "2 1\n",
      "[[1 2 3]\n",
      " [4 5 6]] 2\n"
     ]
    }
   ],
   "source": [
    "#the extra space stores the shape of the numpy array. reshaping is cheap:\n",
    "a = np.array([1,2,3,4,5,6])\n",
    "b = np.array([[1,2,3],[4,5,6]])\n",
    "print(np.ndim(a))\n",
    "print(np.ndim(b),np.ndim(b[0]))\n",
    "print(a.reshape(2,3),a.reshape(2,3).ndim)"
   ]
  },
  {
   "cell_type": "code",
   "execution_count": null,
   "metadata": {},
   "outputs": [
    {
     "ename": "ValueError",
     "evalue": "cannot reshape array of size 6 into shape (2,4)",
     "output_type": "error",
     "traceback": [
      "\u001b[0;31m---------------------------------------------------------------------------\u001b[0m\n",
      "\u001b[0;31mValueError\u001b[0m                                Traceback (most recent call last)\n",
      "\u001b[0;32m<ipython-input-10-1093854b4323>\u001b[0m in \u001b[0;36m<module>\u001b[0;34m\u001b[0m\n",
      "\u001b[1;32m      1\u001b[0m \u001b[0;31m#obviously:\u001b[0m\u001b[0;34m\u001b[0m\u001b[0;34m\u001b[0m\u001b[0;34m\u001b[0m\u001b[0m\n",
      "\u001b[1;32m      2\u001b[0m \u001b[0ma\u001b[0m \u001b[0;34m=\u001b[0m \u001b[0mnp\u001b[0m\u001b[0;34m.\u001b[0m\u001b[0marray\u001b[0m\u001b[0;34m(\u001b[0m\u001b[0;34m[\u001b[0m\u001b[0;36m1\u001b[0m\u001b[0;34m,\u001b[0m\u001b[0;36m2\u001b[0m\u001b[0;34m,\u001b[0m\u001b[0;36m3\u001b[0m\u001b[0;34m,\u001b[0m\u001b[0;36m4\u001b[0m\u001b[0;34m,\u001b[0m\u001b[0;36m5\u001b[0m\u001b[0;34m,\u001b[0m\u001b[0;36m6\u001b[0m\u001b[0;34m]\u001b[0m\u001b[0;34m)\u001b[0m\u001b[0;34m\u001b[0m\u001b[0;34m\u001b[0m\u001b[0m\n",
      "\u001b[0;32m----> 3\u001b[0;31m \u001b[0mc\u001b[0m \u001b[0;34m=\u001b[0m \u001b[0ma\u001b[0m\u001b[0;34m.\u001b[0m\u001b[0mreshape\u001b[0m\u001b[0;34m(\u001b[0m\u001b[0;36m2\u001b[0m\u001b[0;34m,\u001b[0m\u001b[0;36m4\u001b[0m\u001b[0;34m)\u001b[0m\u001b[0;34m\u001b[0m\u001b[0;34m\u001b[0m\u001b[0m\n",
      "\u001b[0m\n",
      "\u001b[0;31mValueError\u001b[0m: cannot reshape array of size 6 into shape (2,4)"
     ]
    }
   ],
   "source": [
    "#obviously:\n",
    "a = np.array([1,2,3,4,5,6])\n",
    "c = a.reshape(2,4)"
   ]
  },
  {
   "cell_type": "code",
   "execution_count": null,
   "metadata": {},
   "outputs": [
    {
     "name": "stdout",
     "output_type": "stream",
     "text": [
      "[[0. 0. 0.]\n",
      " [0. 0. 0.]\n",
      " [0. 0. 0.]]\n",
      "[[0 0 0]\n",
      " [0 0 0]\n",
      " [0 0 0]]\n",
      "[1 1 1 1 1]\n"
     ]
    }
   ],
   "source": [
    "#zeros is the default way to create a numpy array. Always define the type!!!!!!!! Though default is float.\n",
    "a = np.zeros((3,3))\n",
    "b = np.zeros((3,3),dtype=int)\n",
    "print(a)\n",
    "print(b)\n",
    "c = np.ones(5,dtype=np.uint8) #8 bit unsigned integer\n",
    "print(c)"
   ]
  },
  {
   "cell_type": "code",
   "execution_count": null,
   "metadata": {},
   "outputs": [
    {
     "name": "stdout",
     "output_type": "stream",
     "text": [
      "a= [[0 0 0]\n",
      " [0 0 0]\n",
      " [0 0 0]]\n",
      "\n",
      "a= [[0 1 0]\n",
      " [0 0 3]\n",
      " [0 0 0]]\n",
      "\n",
      "a= [[2 1 2]\n",
      " [2 0 2]\n",
      " [2 0 2]]\n"
     ]
    }
   ],
   "source": [
    "#indexing, and slicing\n",
    "a = np.zeros((3,3),dtype=int)\n",
    "print(\"a=\",a)\n",
    "a[0][1] = 1\n",
    "a[1, 2] = 3.5 # just to show that it will be converted back to integer\n",
    "print(\"\\na=\",a)\n",
    "a[:,0:3:2] = 2  # slicing. The single : means all rows/columns/whatever comes after it in the third dimension\n",
    "print(\"\\na=\",a)"
   ]
  },
  {
   "cell_type": "code",
   "execution_count": null,
   "metadata": {},
   "outputs": [
    {
     "name": "stdout",
     "output_type": "stream",
     "text": [
      "[0 1 1 1 1]\n"
     ]
    }
   ],
   "source": [
    "c[0] += 255\n",
    "print(c)\n",
    "#it is zero as a 8 bit unsigned goes from 0 to 255"
   ]
  },
  {
   "cell_type": "code",
   "execution_count": null,
   "metadata": {},
   "outputs": [
    {
     "name": "stdout",
     "output_type": "stream",
     "text": [
      "[[0. 0. 0.]\n",
      " [1. 1. 1.]\n",
      " [0. 0. 0.]]\n",
      "[[0. 0. 2.]\n",
      " [1. 1. 3.]\n",
      " [0. 0. 2.]]\n"
     ]
    }
   ],
   "source": [
    "# operations on the whole array or on a part of it\n",
    "a = np.zeros((3,3),dtype=float)\n",
    "a[1] += 1\n",
    "print(a)\n",
    "a[:,2] += 2\n",
    "print(a)"
   ]
  },
  {
   "cell_type": "code",
   "execution_count": null,
   "metadata": {},
   "outputs": [
    {
     "name": "stdout",
     "output_type": "stream",
     "text": [
      "[[-0. -0. -2.]\n",
      " [-1. -1. -3.]\n",
      " [-0. -0. -2.]]\n"
     ]
    }
   ],
   "source": [
    "a = a*(-1)\n",
    "print(a)"
   ]
  },
  {
   "cell_type": "code",
   "execution_count": null,
   "metadata": {},
   "outputs": [
    {
     "name": "stdout",
     "output_type": "stream",
     "text": [
      "[[10. -0.  8.]\n",
      " [ 9. -1.  7.]\n",
      " [-0. -0. -2.]]\n"
     ]
    }
   ],
   "source": [
    "#but\n",
    "a[:2,::2] = a[:2,::2] + 10\n",
    "print(a)"
   ]
  },
  {
   "cell_type": "code",
   "execution_count": null,
   "metadata": {},
   "outputs": [
    {
     "name": "stdout",
     "output_type": "stream",
     "text": [
      "[[20. -0. 18.]\n",
      " [19. -1. 17.]\n",
      " [-0. -0. -2.]]\n"
     ]
    }
   ],
   "source": [
    "a[:2,::2] += np.ones((2,2))*10\n",
    "print(a)"
   ]
  },
  {
   "cell_type": "code",
   "execution_count": null,
   "metadata": {},
   "outputs": [
    {
     "name": "stdout",
     "output_type": "stream",
     "text": [
      "[[0 1 2]\n",
      " [3 4 5]\n",
      " [6 7 8]]\n",
      "\n",
      "[3 4 5]\n",
      "[1 4 7]\n"
     ]
    }
   ],
   "source": [
    "# columns and rows\n",
    "a = np.arange(9).reshape(3,3)\n",
    "print(a)\n",
    "print(\"\")\n",
    "print(a[1])\n",
    "print(a[:,1])"
   ]
  },
  {
   "cell_type": "markdown",
   "metadata": {},
   "source": [
    "### Random numbers\n",
    "All random numbers created by python are pseudo random numbers which means they are created by an algorithm, which was proven to fullfill all requirements of randomness. The new numbers are always created from the last generated one. So there must be a first one which is called seed. If you omit it the computer will use the current time. Advantages of using your own seed:\n",
    "* You can debug your code\n",
    "* Results are reporducable\n",
    "* If by chance you run a parallel code. All instances generate the same random sequence. "
   ]
  },
  {
   "cell_type": "code",
   "execution_count": null,
   "metadata": {},
   "outputs": [
    {
     "name": "stdout",
     "output_type": "stream",
     "text": [
      "[0.92961609 0.31637555 0.18391881 0.20456028 0.56772503 0.5955447\n",
      " 0.96451452 0.6531771  0.74890664 0.65356987]\n"
     ]
    }
   ],
   "source": [
    "np.random.seed(12345)\n",
    "a = np.random.random(10)\n",
    "print(a)"
   ]
  },
  {
   "cell_type": "code",
   "execution_count": null,
   "metadata": {},
   "outputs": [
    {
     "name": "stdout",
     "output_type": "stream",
     "text": [
      "It happened in step 2.\n",
      "It happened in step 3.\n",
      "It happened in step 4.\n"
     ]
    }
   ],
   "source": [
    "#events with given probability. Here 30%\n",
    "N = 10\n",
    "p = 0.3\n",
    "for i in range(N):\n",
    "    if np.random.random() < p:\n",
    "        print(\"It happened in step %d.\" % (i))"
   ]
  },
  {
   "cell_type": "code",
   "execution_count": null,
   "metadata": {},
   "outputs": [
    {
     "name": "stdout",
     "output_type": "stream",
     "text": [
      "[False False False False False False False False False  True]\n"
     ]
    }
   ],
   "source": [
    "# do it in one step\n",
    "p = 0.3\n",
    "r = np.random.random(10) < p\n",
    "print(r)"
   ]
  },
  {
   "cell_type": "code",
   "execution_count": null,
   "metadata": {},
   "outputs": [
    {
     "data": {
      "text/plain": [
       "array([9])"
      ]
     },
     "metadata": {},
     "output_type": "display_data"
    }
   ],
   "source": [
    "#the True/False array can be used as an index to restrict the other array to the True part\n",
    "np.arange(10)[r]"
   ]
  },
  {
   "cell_type": "code",
   "execution_count": null,
   "metadata": {},
   "outputs": [
    {
     "data": {
      "text/plain": [
       "(array([9]),)"
      ]
     },
     "metadata": {},
     "output_type": "display_data"
    }
   ],
   "source": [
    "np.where(r)"
   ]
  },
  {
   "cell_type": "code",
   "execution_count": null,
   "metadata": {},
   "outputs": [
    {
     "name": "stdout",
     "output_type": "stream",
     "text": [
      "[3 1 3 1 3 4 0 0 3 2]\n",
      "[0 1 4]\n",
      "[3 2 2 3 3 2 0 2 3 2]\n",
      "['Budapest']\n",
      "['Miskolc' 'Budapest']\n",
      "[0 1 3 2 4]\n"
     ]
    }
   ],
   "source": [
    "# Other useful random functions:\n",
    "print(np.random.choice(5, 10))\n",
    "print(np.random.choice(5,3,replace=False))\n",
    "print(np.random.choice(5, 10, p=[0.1, 0, 0.3, 0.6, 0]))\n",
    "c = [\"Budapest\", \"Pécs\", \"Debrecen\", \"Miskolc\"]\n",
    "print(np.random.choice(c,1))\n",
    "print(np.random.choice(c,2))\n",
    "sr = np.arange(5)\n",
    "np.random.shuffle(sr)\n",
    "print(sr)"
   ]
  },
  {
   "cell_type": "code",
   "execution_count": null,
   "metadata": {},
   "outputs": [
    {
     "name": "stdout",
     "output_type": "stream",
     "text": [
      "[[0.92961609 0.31637555 0.18391881 0.20456028 0.56772503]\n",
      " [0.5955447  0.96451452 0.6531771  0.74890664 0.65356987]]\n"
     ]
    }
   ],
   "source": [
    "# shape of the array\n",
    "np.random.seed(12345)\n",
    "a = np.random.random(size=(2,5))\n",
    "print(a)"
   ]
  },
  {
   "cell_type": "markdown",
   "metadata": {},
   "source": [
    "<b>copying</b>"
   ]
  },
  {
   "cell_type": "code",
   "execution_count": null,
   "metadata": {},
   "outputs": [
    {
     "name": "stdout",
     "output_type": "stream",
     "text": [
      "[0 1 2 9 4] [0 1 2 9 4]\n"
     ]
    }
   ],
   "source": [
    "a = np.arange(5)\n",
    "b = a\n",
    "b[3] = 9\n",
    "print(a,b) #they are the same"
   ]
  },
  {
   "cell_type": "code",
   "execution_count": null,
   "metadata": {},
   "outputs": [
    {
     "name": "stdout",
     "output_type": "stream",
     "text": [
      "[0 1 2 3 4] [0 1 2 9 4]\n"
     ]
    }
   ],
   "source": [
    "a = np.arange(5)\n",
    "b = a.copy()\n",
    "b[3] = 9\n",
    "print(a,b) #they are not the same"
   ]
  },
  {
   "cell_type": "code",
   "execution_count": null,
   "metadata": {},
   "outputs": [
    {
     "name": "stdout",
     "output_type": "stream",
     "text": [
      "[[0 1]\n",
      " [2 9]\n",
      " [4 5]] \n",
      " [[0 1]\n",
      " [2 9]]\n"
     ]
    }
   ],
   "source": [
    "a = np.arange(6).reshape(3,2)\n",
    "b = a[0:2]\n",
    "b[1,1] = 9\n",
    "print(a,\"\\n\",b) #they are not the same"
   ]
  },
  {
   "cell_type": "markdown",
   "metadata": {},
   "source": [
    "### Random number example\n",
    "Typical problem: We have an array with many values and we have to change them randomly with a given probability `p`\n",
    "\n",
    "First for loop"
   ]
  },
  {
   "cell_type": "code",
   "execution_count": null,
   "metadata": {},
   "outputs": [],
   "source": [
    "N = 1000000\n",
    "p = 0.00001\n",
    "a = np.zeros(N,dtype=float)"
   ]
  },
  {
   "cell_type": "code",
   "execution_count": null,
   "metadata": {},
   "outputs": [],
   "source": [
    "for i in range(N):\n",
    "    if np.random.random() < p:\n",
    "        a[i] = np.random.normal(0,0.1)"
   ]
  },
  {
   "cell_type": "code",
   "execution_count": null,
   "metadata": {},
   "outputs": [
    {
     "name": "stdout",
     "output_type": "stream",
     "text": [
      "271 ms ± 3.99 ms per loop (mean ± std. dev. of 7 runs, 1 loop each)\n"
     ]
    }
   ],
   "source": [
    "%%timeit\n",
    "a = np.zeros(N,dtype=float)\n",
    "for i in range(N):\n",
    "    if np.random.random() < p:\n",
    "        a[i] = np.random.normal(0,0.1)"
   ]
  },
  {
   "cell_type": "code",
   "execution_count": null,
   "metadata": {},
   "outputs": [],
   "source": [
    "a = np.zeros(N,dtype=float)\n",
    "r = np.random.random(N) < p\n",
    "a[r] = np.random.normal(0,0.1,size=r.sum())"
   ]
  },
  {
   "cell_type": "code",
   "execution_count": null,
   "metadata": {},
   "outputs": [
    {
     "name": "stdout",
     "output_type": "stream",
     "text": [
      "5.92 ms ± 87.1 µs per loop (mean ± std. dev. of 7 runs, 100 loops each)\n"
     ]
    }
   ],
   "source": [
    "%%timeit\n",
    "a = np.zeros(N,dtype=float)\n",
    "r = np.random.random(N) < p\n",
    "a[r] = np.random.normal(0,0.1,size=r.sum())"
   ]
  },
  {
   "cell_type": "code",
   "execution_count": null,
   "metadata": {},
   "outputs": [
    {
     "name": "stdout",
     "output_type": "stream",
     "text": [
      "6\n"
     ]
    }
   ],
   "source": [
    "n = np.random.binomial(N,p)\n",
    "print(n)"
   ]
  },
  {
   "cell_type": "markdown",
   "metadata": {},
   "source": [
    "Idea: We \"know\" how many number will be changed, or at least the distribution of it: binomial. So we generate a number with binomial distribution and only that many random numbers and positions. The problem with python is that the positions is tricky to get, as we have a terrible implementation of `np.random.choice` with the `replace=False` option."
   ]
  },
  {
   "cell_type": "code",
   "execution_count": null,
   "metadata": {},
   "outputs": [
    {
     "name": "stdout",
     "output_type": "stream",
     "text": [
      "13 ms ± 176 µs per loop (mean ± std. dev. of 7 runs, 100 loops each)\n"
     ]
    }
   ],
   "source": [
    "%%timeit\n",
    "a = np.zeros(N,dtype=float)\n",
    "n = np.random.binomial(N,p)\n",
    "a[np.random.choice(N,n,replace=False)] = np.random.normal(0,0.1,size=n)"
   ]
  },
  {
   "cell_type": "code",
   "execution_count": null,
   "metadata": {},
   "outputs": [
    {
     "name": "stdout",
     "output_type": "stream",
     "text": [
      "272 µs ± 6.43 µs per loop (mean ± std. dev. of 7 runs, 1000 loops each)\n"
     ]
    }
   ],
   "source": [
    "%%timeit\n",
    "a = np.zeros(N,dtype=float)\n",
    "n = np.random.binomial(N,p)\n",
    "a[np.random.choice(N,n)] = np.random.normal(0,0.1,size=n)"
   ]
  },
  {
   "cell_type": "markdown",
   "metadata": {},
   "source": [
    "### Task 1: Create your first virtual env\n",
    "1. Install miniconda.\n",
    "2. Create a virtual env with the provided `environment.yml` file.\n",
    "3. Activate/deactivate your environment.\n",
    "\n",
    "Note: you are going to use it in the whole semester!"
   ]
  },
  {
   "cell_type": "markdown",
   "metadata": {},
   "source": [
    "### Task 2: Write Hello World!\n",
    "1. Install VS Code/Jupyterlab (Colab is not recommended, only if the others are not working).\n",
    "2. Open a local work folder in VS Code/Jupyterlab\n",
    "3. Set your virtual environment as python interpretter\n",
    "4. Create your fist notebook called `helloworld.ipynb`.\n",
    "5. Write a short code, what prints 'Hello World!' and run it."
   ]
  },
  {
   "cell_type": "markdown",
   "metadata": {},
   "source": [
    "### Task 3: Basics of file read\n",
    "1. Read the layer charges from `example1.txt` and plot it\n",
    "* First read the file until you find the header\n",
    "* Stop if the line not looks like expected\n",
    "* Create a simple line plot with \n",
    "```python\n",
    "from matplotlib import pyplot as plt\n",
    "plt.plot(yourdata)\n",
    "```\n",
    "* Modify your code to write out the last occurance of the layer charges.\n",
    "\n",
    "2. Read the $\\chi$ superconducting order parameter from `example2.txt` and plot it, similarly as before."
   ]
  },
  {
   "cell_type": "markdown",
   "metadata": {},
   "source": [
    "Use the following code to read the file line by line:\n",
    "```python\n",
    "infile='data.txt'\n",
    "with open(infile,'r') as f:\n",
    "    line=f.readline()\n",
    "    print(line)\n",
    "```\n"
   ]
  },
  {
   "cell_type": "markdown",
   "metadata": {},
   "source": [
    "### Task 4: Built in routines\n",
    "There are also built in routines in python what are very effective but not for all cases\n",
    "```python\n",
    "import numpy as np\n",
    "import pandas as pd\n",
    "np.genfromtxt()\n",
    "np.loadtxt()\n",
    "pd.read_csv()\n",
    "```\n",
    "\n",
    "1. Download the following dataset: https://www.kaggle.com/datasets/muhammadehsan000/diabetes-healthcare-dataset\n",
    "2. Read the data with the previous method, 'by hand'.\n",
    "  * read each data coloumn into a list\n",
    "  * cast the lists to numpy arrays with the appropriate data type\n",
    "  * create a dictionary from the data where the keys are the coloumn names\n",
    "3. Do it with the built in methods"
   ]
  },
  {
   "cell_type": "markdown",
   "metadata": {},
   "source": [
    "### Task 5: Save and load numpy arrays\n",
    "1. Load the provided numpy array `a.npy` with `np.load()`\n",
    "2. Determine the:\n",
    " * Data type\n",
    " * Dimensions\n",
    "3. Create an array with dimension (3,6,9) and save it as `b.npy`"
   ]
  },
  {
   "cell_type": "markdown",
   "metadata": {},
   "source": [
    "### Homework\n",
    "From nature.com find an article with provided data sets.\n",
    "\n",
    "Eg: https://www.nature.com/articles/s41586-024-07818-x#data-availability \n",
    "\n",
    "1. Write a script that reads the data \n",
    "2. Determine the data type and the dimension of the data\n",
    "3. Extra: Reproduce the plot"
   ]
  }
 ],
 "metadata": {
  "kernelspec": {
   "display_name": "TBarrier",
   "language": "python",
   "name": "python3"
  },
  "language_info": {
   "codemirror_mode": {
    "name": "ipython",
    "version": 3
   },
   "file_extension": ".py",
   "mimetype": "text/x-python",
   "name": "python",
   "nbconvert_exporter": "python",
   "pygments_lexer": "ipython3",
   "version": "3.10.14"
  }
 },
 "nbformat": 4,
 "nbformat_minor": 2
}
