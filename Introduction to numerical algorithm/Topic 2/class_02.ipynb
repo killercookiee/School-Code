{
 "cells": [
  {
   "cell_type": "code",
   "execution_count": 3,
   "metadata": {},
   "outputs": [],
   "source": [
    "import numpy as np \n",
    "import matplotlib.pyplot as plt\n",
    "import json\n",
    "import sys\n",
    "import matplotlib.pyplot\n",
    "import scipy.linalg"
   ]
  },
  {
   "cell_type": "code",
   "execution_count": 4,
   "metadata": {},
   "outputs": [],
   "source": [
    "import plotly\n",
    "import plotly.graph_objs as go"
   ]
  },
  {
   "cell_type": "markdown",
   "metadata": {},
   "source": [
    "# Introduction to numerical methods"
   ]
  },
  {
   "cell_type": "markdown",
   "metadata": {},
   "source": [
    "János Török"
   ]
  },
  {
   "cell_type": "markdown",
   "metadata": {},
   "source": [
    "# Class 2: Linear algebra"
   ]
  },
  {
   "cell_type": "markdown",
   "metadata": {},
   "source": [
    "## Permutations\n",
    "Enumerate all permutations of the number 1,2,3"
   ]
  },
  {
   "cell_type": "code",
   "execution_count": null,
   "metadata": {},
   "outputs": [],
   "source": [
    "l = [ 1, 2, 3] # the list of numbers to be permuted\n",
    "permutations = []\n",
    "for i1 in range(3):\n",
    "    for i2 in range(3):\n",
    "        if i1 == i2: continue\n",
    "        for i3 in range(3):\n",
    "            if i1 == i3 or i2 == i3: continue\n",
    "            permutations.append([ l[i1], l[i2], l[i3] ])"
   ]
  },
  {
   "cell_type": "code",
   "execution_count": null,
   "metadata": {},
   "outputs": [],
   "source": [
    "permutations"
   ]
  },
  {
   "cell_type": "markdown",
   "metadata": {},
   "source": [
    "It would be silly to write a different function for different number of elements. Let us write a general code.\n",
    " \n",
    "* Recursive. Take all elements successively and add all permutations of the rest in all cases\n",
    "* If the function receives a single element, we are done, return it.\n",
    "* The return value of the function is a list of permuted lists, so in the previous case we should return the list of list of that last element"
   ]
  },
  {
   "cell_type": "code",
   "execution_count": null,
   "metadata": {},
   "outputs": [],
   "source": [
    "def rpermutations(l):\n",
    "    print(\"Kukucs\",l)\n",
    "    # if we have one element return the list of list of it\n",
    "    if len(l) == 1:\n",
    "        print(\"I have only one element: \", l[0])\n",
    "        return [l]\n",
    "    # iterate through all elements\n",
    "    permutations = []\n",
    "    for i in range(len(l)):\n",
    "        ltmp = l.copy()\n",
    "        my = ltmp.pop(i) # remove the element from the list and permute the rest\n",
    "        for r in rpermutations(ltmp):\n",
    "            # we have to add all combinations\n",
    "            permutations.append([my] + r)\n",
    "    print(\"I am returning:\", permutations)\n",
    "    return permutations"
   ]
  },
  {
   "cell_type": "code",
   "execution_count": null,
   "metadata": {},
   "outputs": [],
   "source": [
    "l = [1, 2, 3, 4]\n",
    "p = rpermutations(l)\n",
    "print(p)"
   ]
  },
  {
   "cell_type": "markdown",
   "metadata": {},
   "source": [
    "We define the Levi-Civita symbol as\n",
    "$$\\varepsilon_{a_1 a_2 a_3 \\ldots a_n} = \\begin{cases}\n",
    "         +1 & \\text{if }(a_1, a_2, a_3, \\ldots, a_n) \\text{ is an even permutation of } (1, 2, 3, \\dots, n) \\\\\n",
    "         -1 & \\text{if }(a_1, a_2, a_3, \\ldots, a_n) \\text{ is an odd permutation of } (1, 2, 3, \\dots, n) \\\\\n",
    "    \\;\\;\\,0 & \\text{otherwise}\\end{cases}$$\n",
    "The permutation is when we change two indices e.g. $(1,$<font color='red'>$ 2,3$</font>$,4)\\to(1,$<font color='red'>$3,2$</font>$,4)$. \n",
    "\n",
    "<p>Specifically for $n=3$ it reads as\n",
    "$$ \\varepsilon_{ijk} = \\begin{cases}\n",
    "         +1 & \\text{if } (i,j,k) \\text{ is } (1,2,3), (2,3,1), \\text{ or } (3,1,2), \\\\\n",
    "         -1 & \\text{if } (i,j,k) \\text{ is } (3,2,1), (1,3,2), \\text{ or } (2,1,3), \\\\\n",
    "    \\;\\;\\,0 & \\text{if } i = j, \\text{ or } j = k, \\text{ or } k = i\n",
    "\\end{cases}$$</p>\n",
    "Let us create a function which calculates the number of swaps there are between two permutations:\n",
    "* for each position $i$ we search the element ant swap it to its place"
   ]
  },
  {
   "cell_type": "code",
   "execution_count": null,
   "metadata": {},
   "outputs": [],
   "source": [
    "def swap(l,i1,i2):\n",
    "    tmp = l[i1]\n",
    "    l[i1] = l[i2]\n",
    "    l[i2] = tmp\n",
    "    \n",
    "def numberofswap(l1,l2):\n",
    "    # we will modify l2, so do it on a copy\n",
    "    ll2 = l2.copy()\n",
    "    noswap = 0\n",
    "    if len(l1) != len(ll2): # Just to be safe\n",
    "        return \"Error: the length of the arrays must be equal\"\n",
    "    for i in range(len(l1)):\n",
    "        v = l1[i]\n",
    "        try:\n",
    "            j = ll2.index(v)\n",
    "        except:\n",
    "            return \"Error: the lists differ in elements\"\n",
    "        if i != j:\n",
    "            swap(ll2,i,j)\n",
    "            noswap += 1\n",
    "    return noswap"
   ]
  },
  {
   "cell_type": "markdown",
   "metadata": {},
   "source": [
    "Now we create an $3$ domensional Levi-Civita symbol"
   ]
  },
  {
   "cell_type": "code",
   "execution_count": null,
   "metadata": {},
   "outputs": [],
   "source": [
    "E = np.zeros((3,3,3),dtype=int)"
   ]
  },
  {
   "cell_type": "code",
   "execution_count": null,
   "metadata": {},
   "outputs": [],
   "source": [
    "for p in rpermutations([0,1,2]):\n",
    "    ns = numberofswap([0,1,2],p)\n",
    "    print(ns)\n",
    "    if ns%2 == 0:\n",
    "        E[p[0],p[1],p[2]] = 1\n",
    "    else:\n",
    "        E[p[0],p[1],p[2]] = -1"
   ]
  },
  {
   "cell_type": "code",
   "execution_count": null,
   "metadata": {},
   "outputs": [],
   "source": [
    "E"
   ]
  },
  {
   "cell_type": "markdown",
   "metadata": {},
   "source": [
    "### Vector space\n",
    "Here we consider only $n$-domensional vector spaces which is defined by its bases and we will work with the vectors defined by this bases. During the lecture we mainly work with real numbers but `numpy` does not care and everything should work with complex ones."
   ]
  },
  {
   "cell_type": "markdown",
   "metadata": {},
   "source": [
    "<b>Vectors</b>: Vectors $\\mathbf{v}\\in V$ can be represented by simple `numpy` array or an $1\\times n$ matrix, people often use one dimensional arrays for vectors, and for most purposes it is fine, but not everything works with it"
   ]
  },
  {
   "cell_type": "code",
   "execution_count": null,
   "metadata": {},
   "outputs": [],
   "source": [
    "a = np.zeros(3,dtype=float) # one dimensional array\n",
    "b = np.ones((3,1),dtype=float) # column vector\n",
    "c = np.ones((1,3),dtype=float) # row vector\n",
    "print(a)\n",
    "print(b)\n",
    "print(c)"
   ]
  },
  {
   "cell_type": "markdown",
   "metadata": {},
   "source": [
    "The most basic operation we have in a vector space is the addition and multiplication by a number, The transpose function mirrors the object to the diagonal"
   ]
  },
  {
   "cell_type": "code",
   "execution_count": null,
   "metadata": {},
   "outputs": [],
   "source": [
    "print(c*3.7)\n",
    "print(c+c)\n",
    "print(b+c.T)"
   ]
  },
  {
   "cell_type": "markdown",
   "metadata": {},
   "source": [
    "For sake of exercise let us try complex numbers"
   ]
  },
  {
   "cell_type": "code",
   "execution_count": null,
   "metadata": {},
   "outputs": [],
   "source": [
    "z = np.ones(3,dtype=complex)\n",
    "print(z)"
   ]
  },
  {
   "cell_type": "code",
   "execution_count": null,
   "metadata": {},
   "outputs": [],
   "source": [
    "#As you can see the complex unit is denoted by j\n",
    "z[1] = 5+3.6j\n",
    "print(z,z.real,z.imag)"
   ]
  },
  {
   "cell_type": "markdown",
   "metadata": {},
   "source": [
    "### Scalar product\n",
    "$$s= (\\mathbf{a},\\mathbf{b})=\\sum_{i=1}^n a_ib_i$$"
   ]
  },
  {
   "cell_type": "code",
   "execution_count": null,
   "metadata": {},
   "outputs": [],
   "source": [
    "#elementwise multiplication:\n",
    "a = np.arange(3)\n",
    "b = np.arange(1,4)\n",
    "\n",
    "print(a,b,a * b,(a*b).sum())"
   ]
  },
  {
   "cell_type": "markdown",
   "metadata": {},
   "source": [
    "`numpy.dot(a,b)`:\n",
    "\n",
    "* If both `a` and `b` are 1-D arrays, it is inner product of vectors (without complex conjugation).\n",
    "* If both `a` and `b` are 2-D arrays, it is matrix multiplication, but using `matmul` or `a @ b` is preferred.\n",
    "* If either `a` or `b` is 0-D (scalar), it is equivalent to multiply and using `numpy.multiply(a, b)` or `a * b` is preferred.\n",
    "\n",
    "However `matmul` is slower for matrix sizes $\\sim 30$ or smaller, so feel free to use `numpy.dot`!"
   ]
  },
  {
   "cell_type": "code",
   "execution_count": null,
   "metadata": {},
   "outputs": [],
   "source": [
    "print(np.dot(a,b))\n",
    "#other uses but I will mostly stick with the previous one:\n",
    "print(a.dot(b),b.dot(a))"
   ]
  },
  {
   "cell_type": "markdown",
   "metadata": {},
   "source": [
    "Length of a vector\n",
    "$$||a||=\\sqrt{(a,a)}$$"
   ]
  },
  {
   "cell_type": "code",
   "execution_count": null,
   "metadata": {},
   "outputs": [],
   "source": [
    "#however `numpy.linalg.norm` is preferred\n",
    "print(np.sqrt(np.dot(a,a)),np.linalg.norm(a))"
   ]
  },
  {
   "cell_type": "markdown",
   "metadata": {},
   "source": [
    "## Matrix\n",
    "Let $A$ and $m\\times n$ matrix, then it read as\n",
    "$$A =\n",
    "\\begin{pmatrix}\n",
    "a_{11} & a_{12} & \\cdots & a_{1n} \\\\\n",
    "a_{21} & a_{22} & \\cdots & a_{2n} \\\\\n",
    "\\vdots & \\vdots & \\ddots & \\vdots \\\\\n",
    "a_{m1} & a_{m2} & \\cdots & a_{mn}\n",
    "\\end{pmatrix}$$\n",
    "Product of a matrix $A$ and a vector $\\mathbf{v}$\n",
    "$$(A\\mathbf{v})_i=\\sum_{j=1}^nA_{ij}v_j$$\n",
    "Matrix product:\n",
    "$$A=\\begin{pmatrix}\n",
    " a_{11} & a_{12} & \\cdots & a_{1n} \\\\\n",
    " a_{21} & a_{22} & \\cdots & a_{2n} \\\\\n",
    " \\vdots & \\vdots & \\ddots & \\vdots \\\\\n",
    " a_{m1} & a_{m2} & \\cdots & a_{mn} \\\\\n",
    "\\end{pmatrix},\\quad B=\\begin{pmatrix}\n",
    " b_{11} & b_{12} & \\cdots & b_{1p} \\\\\n",
    " b_{21} & b_{22} & \\cdots & b_{2p} \\\\\n",
    " \\vdots & \\vdots & \\ddots & \\vdots \\\\\n",
    " b_{n1} & b_{n2} & \\cdots & b_{np} \\\\\n",
    "\\end{pmatrix}$$\n",
    "The product will have the following structure:\n",
    "$$C = \\begin{pmatrix}\n",
    " c_{11} & c_{12} & \\cdots & c_{1p} \\\\\n",
    " c_{21} & c_{22} & \\cdots & c_{2p} \\\\\n",
    " \\vdots & \\vdots & \\ddots & \\vdots \\\\\n",
    " c_{m1} & c_{m2} & \\cdots & c_{mp} \\\\\n",
    "\\end{pmatrix}$$\n",
    "The product is defined as:\n",
    "$$(AB)_{ij}=C_{ij}=c_{ij} = a_{i1} b_{1j} + a_{i2} b_{2j} + \\cdots + a_{in} b_{nj} = \\sum_{k=1}^n a_{ik} b_{kj}$$"
   ]
  },
  {
   "cell_type": "code",
   "execution_count": null,
   "metadata": {},
   "outputs": [],
   "source": [
    "m = 4\n",
    "n = 3\n",
    "p = 2\n",
    "A = np.random.randint(5,size=(m,n))\n",
    "v = np.random.randint(5,size=(n,1))\n",
    "w = v[:,0]\n",
    "print(\"A=\",A)\n",
    "print(\"v=\",v)\n",
    "print(\"w=\",w)\n",
    "print(\"Av=\",np.dot(A,v),\"\\n\",\"Av=\",np.matmul(A,v))\n",
    "print(\"Aw=\",np.dot(A,w),\"\\n\",\"Aw=\",np.matmul(A,w))"
   ]
  },
  {
   "cell_type": "markdown",
   "metadata": {},
   "source": [
    "Remarks: if $\\mathbf{w}$ is defined as a vector, then the result will also be a vector"
   ]
  },
  {
   "cell_type": "code",
   "execution_count": null,
   "metadata": {},
   "outputs": [],
   "source": [
    "B = np.random.randint(5,size=(n,p))\n",
    "print(\"B=\",B)\n",
    "print(\"C=\",np.dot(A,B))\n",
    "print(\"C=\",np.matmul(A,B))"
   ]
  },
  {
   "cell_type": "code",
   "execution_count": null,
   "metadata": {},
   "outputs": [],
   "source": [
    "%%timeit\n",
    "C = np.dot(A,B)"
   ]
  },
  {
   "cell_type": "code",
   "execution_count": null,
   "metadata": {},
   "outputs": [],
   "source": [
    "%%timeit\n",
    "C = np.matmul(A,B)"
   ]
  },
  {
   "cell_type": "markdown",
   "metadata": {},
   "source": [
    "How challenging it is to write a matrix multiplication?"
   ]
  },
  {
   "cell_type": "code",
   "execution_count": null,
   "metadata": {},
   "outputs": [],
   "source": [
    "def mymm(A,B):\n",
    "    m,n = A.shape\n",
    "    nb,p = B.shape\n",
    "    if n != nb:\n",
    "        return \"Incompatible matrix shapes\"\n",
    "    C = np.zeros((m,p),dtype=float)\n",
    "    for mi in range(m):\n",
    "        for pi in range(p):\n",
    "            for ni in range(n):\n",
    "                C[mi,pi] += A[mi,ni] * B[ni,pi]\n",
    "    return C\n",
    "        "
   ]
  },
  {
   "cell_type": "code",
   "execution_count": null,
   "metadata": {},
   "outputs": [],
   "source": [
    "mymm(A,B)"
   ]
  },
  {
   "cell_type": "code",
   "execution_count": null,
   "metadata": {},
   "outputs": [],
   "source": [
    "#get rid of one of the summation\n",
    "def mymm2(A,B):\n",
    "    m,n = A.shape\n",
    "    nb,p = B.shape\n",
    "    if n != nb:\n",
    "        return \"Incompatible matrix shapes\"\n",
    "    C = np.zeros((m,p),dtype=float)\n",
    "    for mi in range(m):\n",
    "        for pi in range(p):\n",
    "            C[mi,pi] = (A[mi,:] * B[:,pi]).sum()\n",
    "    return C\n",
    "        "
   ]
  },
  {
   "cell_type": "code",
   "execution_count": null,
   "metadata": {},
   "outputs": [],
   "source": [
    "mymm2(A,B)"
   ]
  },
  {
   "cell_type": "markdown",
   "metadata": {},
   "source": [
    "If the matrix $\\mathbf{A}$ is square say $n\\times n$ then it has a determinant:\n",
    "$$\\det(A) = \\sum_{i_1,i_2,\\ldots,i_n} \\varepsilon_{i_1\\cdots i_n} a_{1,i_1} \\!\\cdots a_{n,i_n}$$\n",
    "If $n=2$:\n",
    "$$\\det \\begin{pmatrix} a & b \\\\c & d \\end{pmatrix} = \\begin{vmatrix} a & b \\\\c & d \\end{vmatrix} = ad - bc.$$\n",
    "If $n=3$:\n",
    "$$\\begin{vmatrix} a & b & c \\\\ d & e & f \\\\ g & h & i \\end{vmatrix}= aei + bfg + cdh - ceg - bdi - afh.$$"
   ]
  },
  {
   "cell_type": "code",
   "execution_count": null,
   "metadata": {},
   "outputs": [],
   "source": [
    "n = 3\n",
    "A = np.random.randint(5,size=(n,n))\n",
    "print(A)\n",
    "print(np.linalg.det(A))"
   ]
  },
  {
   "cell_type": "markdown",
   "metadata": {},
   "source": [
    "We can use our permutation to calculate the determinant"
   ]
  },
  {
   "cell_type": "code",
   "execution_count": null,
   "metadata": {},
   "outputs": [],
   "source": [
    "def mydet(A):\n",
    "    d = 0.0\n",
    "    n = len(A)\n",
    "    for p in rpermutations(list(range(n))):\n",
    "        d += A[(np.arange(n),p)].prod() * (-1)**numberofswap(list(range(n)),p)\n",
    "    return d"
   ]
  },
  {
   "cell_type": "code",
   "execution_count": null,
   "metadata": {},
   "outputs": [],
   "source": [
    "mydet(A)"
   ]
  },
  {
   "cell_type": "markdown",
   "metadata": {},
   "source": [
    "## Linear operations\n",
    "Given a vectora $\\mathbf{v}$ in $n$-dimension all linear operations can be represented by an $n\\times m$ matrix if the target space is $m$ dimensional. Here special cases: $n=m=2$\n",
    "$$\\mathbf{u} = A\\mathbf{v}$$"
   ]
  },
  {
   "cell_type": "markdown",
   "metadata": {},
   "source": [
    "### Scaling\n",
    "All vectors are scaled by $a_1$ in $x$ and $a_2$ in $y$ direction:\n",
    "$$A=\\begin{pmatrix}\n",
    "a_1& 0\\cr\n",
    "0 & a_2\n",
    "\\end{pmatrix}$$\n"
   ]
  },
  {
   "cell_type": "code",
   "execution_count": null,
   "metadata": {},
   "outputs": [],
   "source": [
    "def scaling_matrix(a1,a2):\n",
    "    A = np.zeros((2,2),dtype=float)\n",
    "    A[0,0] = a1\n",
    "    A[1,1] = a2\n",
    "    return A\n",
    "def plotarrow(v1,color,ls='solid'):\n",
    "    l = np.linalg.norm(v1)\n",
    "    plt.arrow(*origin, v1[0], v1[1],head_width=l/15, head_length=l/6, fc=color, ec=color, ls=ls)"
   ]
  },
  {
   "cell_type": "code",
   "execution_count": null,
   "metadata": {},
   "outputs": [],
   "source": [
    "v1 = np.array([1,2])\n",
    "v2 = np.array([-2,-0.7])\n",
    "A = scaling_matrix(0.7,-0.2)\n",
    "origin = [0,0]\n",
    "plt.figure(figsize=(10,7))\n",
    "plt.xlim(-3,3)\n",
    "plt.ylim(-3,3)\n",
    "plotarrow(v1,'r')\n",
    "plotarrow(np.dot(A,v1),\"r\",ls=\"dotted\")\n",
    "plotarrow(v2,'b')\n",
    "plotarrow(np.dot(A,v2),\"b\",ls=\"dotted\")"
   ]
  },
  {
   "cell_type": "code",
   "execution_count": null,
   "metadata": {},
   "outputs": [],
   "source": [
    "v = np.zeros((6,2),dtype=float)\n",
    "for i in range(6):\n",
    "    v[i,0] = np.cos(2*np.pi *(2*i/5+0.05))\n",
    "    v[i,1] = np.sin(2*np.pi *(2*i/5+0.05))"
   ]
  },
  {
   "cell_type": "code",
   "execution_count": null,
   "metadata": {},
   "outputs": [],
   "source": [
    "plt.plot(v[:,0],v[:,1])\n",
    "u = np.dot(A,v.T).T\n",
    "plt.plot(u[:,0],u[:,1],\"r-\")"
   ]
  },
  {
   "cell_type": "markdown",
   "metadata": {},
   "source": [
    "### Projections \n",
    "if we want to project the vector $\\mathbf{v}$ to the plane with normal $\\mathbf{t}$. Then the projection matrix is \n",
    "$$P=\\mathbf{t}\\circ \\mathbf{t}=\\begin{pmatrix}\n",
    "t_1t_1& t_1t_2\\cr\n",
    "t_1t_2 &t_2t_2 \n",
    "\\end{pmatrix}$$\n"
   ]
  },
  {
   "cell_type": "code",
   "execution_count": null,
   "metadata": {},
   "outputs": [],
   "source": [
    "def projection(t):\n",
    "    tt = t / np.linalg.norm(t)\n",
    "    return np.outer(tt,tt)\n",
    "    \n",
    "#or\n",
    "#tt = t / np.linalg.norm()\n",
    "#return np.outer(t,t)/(t*t).sum()"
   ]
  },
  {
   "cell_type": "code",
   "execution_count": null,
   "metadata": {},
   "outputs": [],
   "source": [
    "t = np.array([1,2])\n",
    "P = projection(t)\n",
    "print(P)"
   ]
  },
  {
   "cell_type": "code",
   "execution_count": null,
   "metadata": {},
   "outputs": [],
   "source": [
    "#Check whether its determinant is zero\n",
    "print(np.linalg.det(P))"
   ]
  },
  {
   "cell_type": "code",
   "execution_count": null,
   "metadata": {},
   "outputs": [],
   "source": [
    "plt.plot(v[:,0],v[:,1])\n",
    "u = np.dot(P,v.T).T\n",
    "plt.plot(u[:,0],u[:,1],\"r-\")"
   ]
  },
  {
   "cell_type": "markdown",
   "metadata": {},
   "source": [
    "### Rotation\n",
    "\n",
    "If we want to rotate the vector $\\mathbf{v}$ along the $z$ axis with angle $\\phi$. Then the rotation matrix is \n",
    "$$R=\\begin{pmatrix}\n",
    "\\cos(\\phi)&-\\sin(\\phi)\\cr\n",
    "\\sin(\\phi)&\\cos(\\phi)\n",
    "\\end{pmatrix}$$\n",
    "\n"
   ]
  },
  {
   "cell_type": "code",
   "execution_count": null,
   "metadata": {},
   "outputs": [],
   "source": [
    "def rotation(phi):\n",
    "    R = np.zeros((2,2),dtype=float)\n",
    "    R[0,0] = R[1,1] = np.cos(phi)\n",
    "    R[0,1] = - np.sin(phi)\n",
    "    R[1,0] = np.sin(phi)\n",
    "    return R"
   ]
  },
  {
   "cell_type": "code",
   "execution_count": null,
   "metadata": {},
   "outputs": [],
   "source": [
    "R = rotation(-np.pi/9)\n",
    "print(np.linalg.det(R)) # should be one"
   ]
  },
  {
   "cell_type": "code",
   "execution_count": 8,
   "metadata": {},
   "outputs": [
    {
     "ename": "NameError",
     "evalue": "name 'v' is not defined",
     "output_type": "error",
     "traceback": [
      "\u001b[31m---------------------------------------------------------------------------\u001b[39m",
      "\u001b[31mNameError\u001b[39m                                 Traceback (most recent call last)",
      "\u001b[36mCell\u001b[39m\u001b[36m \u001b[39m\u001b[32mIn[8]\u001b[39m\u001b[32m, line 1\u001b[39m\n\u001b[32m----> \u001b[39m\u001b[32m1\u001b[39m plt.plot(\u001b[43mv\u001b[49m[:,\u001b[32m0\u001b[39m],v[:,\u001b[32m1\u001b[39m])\n\u001b[32m      2\u001b[39m u = np.dot(R,v.T).T\n\u001b[32m      3\u001b[39m plt.plot(u[:,\u001b[32m0\u001b[39m],u[:,\u001b[32m1\u001b[39m],\u001b[33m\"\u001b[39m\u001b[33mr-\u001b[39m\u001b[33m\"\u001b[39m)\n",
      "\u001b[31mNameError\u001b[39m: name 'v' is not defined"
     ]
    }
   ],
   "source": [
    "plt.plot(v[:,0],v[:,1])\n",
    "u = np.dot(R,v.T).T\n",
    "plt.plot(u[:,0],u[:,1],\"r-\")"
   ]
  },
  {
   "cell_type": "markdown",
   "metadata": {},
   "source": [
    "### Affine transformations\n",
    "Translation is not a linear transformation since it is not the same if we multiply the whole object by a factor of two then move it or the other way around, e.g."
   ]
  },
  {
   "cell_type": "code",
   "execution_count": 6,
   "metadata": {},
   "outputs": [],
   "source": [
    "def translate(u,t):\n",
    "    return u+t"
   ]
  },
  {
   "cell_type": "code",
   "execution_count": 7,
   "metadata": {},
   "outputs": [
    {
     "ename": "NameError",
     "evalue": "name 'u' is not defined",
     "output_type": "error",
     "traceback": [
      "\u001b[31m---------------------------------------------------------------------------\u001b[39m",
      "\u001b[31mNameError\u001b[39m                                 Traceback (most recent call last)",
      "\u001b[36mCell\u001b[39m\u001b[36m \u001b[39m\u001b[32mIn[7]\u001b[39m\u001b[32m, line 4\u001b[39m\n\u001b[32m      2\u001b[39m t = np.array([\u001b[32m1\u001b[39m,\u001b[32m0\u001b[39m])\n\u001b[32m      3\u001b[39m \u001b[38;5;66;03m# object multiplyed by 2 and the translated:\u001b[39;00m\n\u001b[32m----> \u001b[39m\u001b[32m4\u001b[39m v1 = translate(\u001b[43mu\u001b[49m*\u001b[32m2\u001b[39m,t)\n\u001b[32m      5\u001b[39m v2 = translate(u,t) * \u001b[32m2\u001b[39m\n\u001b[32m      6\u001b[39m plt.plot(u[:,\u001b[32m0\u001b[39m],u[:,\u001b[32m1\u001b[39m])\n",
      "\u001b[31mNameError\u001b[39m: name 'u' is not defined"
     ]
    }
   ],
   "source": [
    "#translate vector\n",
    "t = np.array([1,0])\n",
    "# object multiplyed by 2 and the translated:\n",
    "v1 = translate(u*2,t)\n",
    "v2 = translate(u,t) * 2\n",
    "plt.plot(u[:,0],u[:,1])\n",
    "plt.plot(v1[:,0],v1[:,1],\"g-\")\n",
    "plt.plot(v2[:,0],v2[:,1],\"r-\")"
   ]
  },
  {
   "cell_type": "markdown",
   "metadata": {},
   "source": [
    "Translation is <b>affine transformation</b>. The trick is that we add a new component to the input vector a simple 1 which after the matrix product will be added to the correspontind components:\n",
    "$$\\mathbf{u}'=\\begin{pmatrix}\\mathbf{u}\\cr1\\end{pmatrix}.$$\n",
    "The affine transformation is then \n",
    "$$A' =\\begin{pmatrix}1&0\\cr0&1\\cr t_x&t_y\\end{pmatrix}.$$\n",
    "Let us do the multiplication:\n",
    "$$\\mathbf{v}'_j=\\sum_{i=1}^3A'_{ji}u'_i=u_j+t_j.$$\n",
    "Note that in the top part of $\\mathbf{A}'$ we put the identity matrix, but any linear operation there is executed the translated."
   ]
  },
  {
   "cell_type": "code",
   "execution_count": 1,
   "metadata": {},
   "outputs": [],
   "source": [
    "def translation(t):\n",
    "    A = np.zeros((2,3),dtype=float)\n",
    "    A[0,0] = 1\n",
    "    A[1,1] = 1\n",
    "    A[:,2] = t\n",
    "    return A"
   ]
  },
  {
   "cell_type": "code",
   "execution_count": null,
   "metadata": {},
   "outputs": [],
   "source": [
    "T = translation(np.array([1,-0.5]))\n",
    "print(T)"
   ]
  },
  {
   "cell_type": "code",
   "execution_count": null,
   "metadata": {},
   "outputs": [],
   "source": [
    "def tdot(T,u):\n",
    "    if u.ndim == 1:\n",
    "        uu = np.ones(3,dtype=float)\n",
    "        uu[:2] = u\n",
    "        return np.dot(T,uu)\n",
    "    else:\n",
    "        shape = list(u.shape)\n",
    "        shape[0] += 1\n",
    "        uu = np.ones(shape,dtype=float)\n",
    "        uu[:-1] = u\n",
    "        vT = np.dot(T,uu)\n",
    "        return(vT.T)"
   ]
  },
  {
   "cell_type": "code",
   "execution_count": null,
   "metadata": {},
   "outputs": [],
   "source": [
    "tdot(T,u.T)"
   ]
  },
  {
   "cell_type": "code",
   "execution_count": null,
   "metadata": {},
   "outputs": [],
   "source": [
    "plt.plot(v[:,0],v[:,1])\n",
    "u = tdot(T,v.T)\n",
    "plt.plot(u[:,0],u[:,1],\"r-\")"
   ]
  },
  {
   "cell_type": "markdown",
   "metadata": {},
   "source": [
    "As mentioned earlier We can you any linear transformation along with translation in the affine tansformation."
   ]
  },
  {
   "cell_type": "code",
   "execution_count": null,
   "metadata": {},
   "outputs": [],
   "source": [
    "def affine(B,t):\n",
    "    A = np.zeros((2,3),dtype=float)\n",
    "    A[:2,:2] = B\n",
    "    A[:,2] = t\n",
    "    return A"
   ]
  },
  {
   "cell_type": "code",
   "execution_count": null,
   "metadata": {},
   "outputs": [],
   "source": [
    "A = affine(rotation(np.pi/4),np.array([1,-0.5]))\n",
    "print(A)"
   ]
  },
  {
   "cell_type": "code",
   "execution_count": null,
   "metadata": {},
   "outputs": [],
   "source": [
    "plt.plot(v[:,0],v[:,1])\n",
    "u = tdot(A,v.T)\n",
    "plt.plot(u[:,0],u[:,1],\"r-\")"
   ]
  },
  {
   "cell_type": "markdown",
   "metadata": {},
   "source": [
    "## Affine transformations in 3d\n",
    "Now let us do it properly! First we need a visualization tool. We will use `plotly`"
   ]
  },
  {
   "cell_type": "code",
   "execution_count": null,
   "metadata": {},
   "outputs": [],
   "source": [
    "# plot_cube takes the corners of a parallelepiped, and plots it.\n",
    "#Arrays can be supplied instead of the coordinates and the color(s) for multiple objects\n",
    "def plot_cube(X,Y,Z,color='blue'):\n",
    "    if '[' in str(X[0]): # ] just close it :-)\n",
    "        fig = go.Figure(data=[\n",
    "             go.Mesh3d(\n",
    "                # 8 vertices of a cube\n",
    "                x=X[0],\n",
    "                y=Y[0],\n",
    "                z=Z[0],\n",
    "\n",
    "                i = [0,3,0,5,0,6,4,7,2,7,1,7],\n",
    "                j = [1,1,1,1,2,2,5,5,3,3,3,3],\n",
    "                k = [2,2,4,4,4,4,6,6,6,6,5,5],\n",
    "                opacity=0.6,\n",
    "                color=color[0],\n",
    "                flatshading = True\n",
    "            )                    \n",
    "            ])\n",
    "        for i in range(1,len(X)):\n",
    "            fig.add_trace(go.Mesh3d(\n",
    "                # 8 vertices of a cube\n",
    "                x=X[i],\n",
    "                y=Y[i],\n",
    "                z=Z[i],\n",
    "\n",
    "                i = [0,3,0,5,0,6,4,7,2,7,1,7],\n",
    "                j = [1,1,1,1,2,2,5,5,3,3,3,3],\n",
    "                k = [2,2,4,4,4,4,6,6,6,6,5,5],\n",
    "                opacity=0.6,\n",
    "                color=color[i],\n",
    "                flatshading = True\n",
    "            ))\n",
    "    else:\n",
    "        fig = go.Figure(data=[\n",
    "             go.Mesh3d(\n",
    "                # 8 vertices of a cube\n",
    "                x=X,\n",
    "                y=Y,\n",
    "                z=Z,\n",
    "\n",
    "                i = [0,3,0,5,0,6,4,7,2,7,1,7],\n",
    "                j = [1,1,1,1,2,2,5,5,3,3,3,3],\n",
    "                k = [2,2,4,4,4,4,6,6,6,6,5,5],\n",
    "                opacity=0.6,\n",
    "                color=color,\n",
    "                flatshading = True\n",
    "            )                   \n",
    "            ])\n",
    "    fig.show()"
   ]
  },
  {
   "cell_type": "code",
   "execution_count": null,
   "metadata": {},
   "outputs": [],
   "source": [
    "X = np.arange(8)//4\n",
    "Y = (np.arange(8)//2)%2\n",
    "Z = np.arange(8)%2\n",
    "plot_cube(X,Y,Z)"
   ]
  },
  {
   "cell_type": "code",
   "execution_count": null,
   "metadata": {},
   "outputs": [],
   "source": [
    "#two cubes (We shift the second by two units in the x direction to be able to see anything.)\n",
    "plot_cube([X-1,X+1],[Y,Y],[Z,Z],color=['red','blue'])"
   ]
  },
  {
   "cell_type": "markdown",
   "metadata": {},
   "source": [
    "## Tansformations\n",
    " * Scaling\n",
    " * Projection\n",
    " * Rotation\n",
    " * Translation"
   ]
  },
  {
   "cell_type": "code",
   "execution_count": null,
   "metadata": {},
   "outputs": [],
   "source": [
    "#Scaling\n",
    "def L_scale(A,alpha):\n",
    "    return (A.T*alpha).T"
   ]
  },
  {
   "cell_type": "code",
   "execution_count": null,
   "metadata": {},
   "outputs": [],
   "source": [
    "#projection\n",
    "def L_projection(A,t):\n",
    "    tt = t / np.linalg.norm(t)\n",
    "    return np.dot(np.identity(len(A)) - np.outer(tt,tt),A)"
   ]
  },
  {
   "cell_type": "code",
   "execution_count": null,
   "metadata": {},
   "outputs": [],
   "source": [
    "#projection\n",
    "def L_rotation_xyz(A,alpha):\n",
    "    ax = alpha[0]\n",
    "    ay = alpha[1]\n",
    "    az = alpha[2]\n",
    "    Rx = np.array([[1.0,0.0,0.0],[0,np.cos(ax),-np.sin(ax)],[0,np.sin(ax),np.cos(ax)]])\n",
    "    Ry = np.array([[np.cos(ay),0,np.sin(ay)],[0.0,1.0,0.0],[-np.sin(ay),0,np.cos(ay)]])\n",
    "    Rz = np.array([[np.cos(az),-np.sin(az),0],[np.sin(az),np.cos(az),0],[0.0,0.0,1.0]])\n",
    "    return np.dot(Rz,np.dot(Ry,np.dot(Rx,A)))"
   ]
  },
  {
   "cell_type": "code",
   "execution_count": null,
   "metadata": {},
   "outputs": [],
   "source": [
    "#translation, which we implement in a simple way\n",
    "def L_translate(A,t):\n",
    "    return (A.T+t).T"
   ]
  },
  {
   "cell_type": "code",
   "execution_count": null,
   "metadata": {},
   "outputs": [],
   "source": [
    "#coordinates:\n",
    "X = np.arange(8)//4\n",
    "Y = (np.arange(8)//2)%2\n",
    "Z = np.arange(8)%2\n",
    "# in a single matrix\n",
    "A = np.concatenate((X,Y,Z)).reshape(3,-1)"
   ]
  },
  {
   "cell_type": "code",
   "execution_count": null,
   "metadata": {},
   "outputs": [],
   "source": [
    "B = L_scale(A,np.array([0.5,2,1.3]))\n",
    "plot_cube([X-1,B[0]+1],[Y,B[1]],[Z,B[2]],color=['red','blue'])"
   ]
  },
  {
   "cell_type": "code",
   "execution_count": null,
   "metadata": {},
   "outputs": [],
   "source": [
    "B = L_projection(A,np.array([0.5,2,1.3]))\n",
    "plot_cube([X-1,B[0]+1],[Y,B[1]],[Z,B[2]],color=['red','blue'])"
   ]
  },
  {
   "cell_type": "code",
   "execution_count": null,
   "metadata": {},
   "outputs": [],
   "source": [
    "B = L_rotation_xyz(A,np.array([np.pi/6,np.pi/4,np.pi/12]))\n",
    "plot_cube([X-1,B[0]+1],[Y,B[1]],[Z,B[2]],color=['red','blue'])"
   ]
  },
  {
   "cell_type": "code",
   "execution_count": null,
   "metadata": {},
   "outputs": [],
   "source": [
    "#Let us shift the rotated matrix back\n",
    "C = L_rotation_xyz(A,np.array([np.pi/6,np.pi/4,np.pi/12]))\n",
    "B = L_translate(C,np.array([-2,0,0]))\n",
    "plot_cube([X-1,B[0]+1],[Y,B[1]],[Z,B[2]],color=['red','blue'])"
   ]
  },
  {
   "cell_type": "code",
   "execution_count": null,
   "metadata": {},
   "outputs": [],
   "source": []
  }
 ],
 "metadata": {
  "kernelspec": {
   "display_name": "Python 3",
   "language": "python",
   "name": "python3"
  },
  "language_info": {
   "codemirror_mode": {
    "name": "ipython",
    "version": 3
   },
   "file_extension": ".py",
   "mimetype": "text/x-python",
   "name": "python",
   "nbconvert_exporter": "python",
   "pygments_lexer": "ipython3",
   "version": "3.11.5"
  }
 },
 "nbformat": 4,
 "nbformat_minor": 4
}
