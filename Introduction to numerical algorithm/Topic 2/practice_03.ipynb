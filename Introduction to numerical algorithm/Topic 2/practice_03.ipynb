{
 "cells": [
  {
   "cell_type": "code",
   "execution_count": null,
   "metadata": {},
   "outputs": [],
   "source": [
    "import numpy as np\n",
    "import matplotlib.pyplot as plt"
   ]
  },
  {
   "cell_type": "markdown",
   "metadata": {},
   "source": [
    "# Introduction to numerical algorithms\n",
    "## Practice class 3 - Vectors, matrices, vector operations, linear and affine transformations"
   ]
  },
  {
   "cell_type": "markdown",
   "metadata": {},
   "source": [
    "### Warmup Task 1\n",
    "\n",
    "You are given a vector `x_np` of $n$ elements, define a new vector (d) of size $n−1$ such that $d_i = x_{i+1} - x_i$ for $i=1, \\dots, n-1$.\n",
    "\n",
    "Hint try doing this without writing your own loop. You should be able to use simple numpy indexing as described above."
   ]
  },
  {
   "cell_type": "code",
   "execution_count": null,
   "metadata": {},
   "outputs": [],
   "source": [
    "x_np = np.array([1,8,3,2,1,9,7])"
   ]
  },
  {
   "cell_type": "markdown",
   "metadata": {},
   "source": [
    "### Warmup Task 2\n",
    "\n",
    "Given 2 lists. Write a one-liner that checks, if the vectors are equal element-wise. Use vectorization instead of list comprehension!"
   ]
  },
  {
   "cell_type": "code",
   "execution_count": null,
   "metadata": {},
   "outputs": [],
   "source": [
    "x = [-1, 0, 2, 3.1]\n",
    "y = x.copy()\n",
    "y[2] = 20.2"
   ]
  },
  {
   "cell_type": "markdown",
   "metadata": {},
   "source": [
    "### Warmup Task 3\n",
    "\n",
    "We have two vectors $x$ and $y$. We can get the linear combination of these two vectors as $ax+by$, where $a$ and $b$ are scalar coefficients.\n",
    "\n",
    "In the following example, we are given two vectors (`x_np` and `y_np`), and two scalars (alpha and beta), and we obtain the linear combination."
   ]
  },
  {
   "cell_type": "code",
   "execution_count": null,
   "metadata": {},
   "outputs": [],
   "source": [
    "x_np = np.array([1,2])\n",
    "y_np = np.array([3,4])\n",
    "alpha = 0.5\n",
    "beta = -0.8\n",
    "c = alpha*x_np + beta*y_np\n",
    "print(c)"
   ]
  },
  {
   "cell_type": "markdown",
   "metadata": {},
   "source": [
    "Write a function that computes the linear combination of arbitrary many coefficients and vectors! Make sure you have a fool test, i.e., your code should yield an error if there are too many or too few coefficients!   "
   ]
  },
  {
   "cell_type": "code",
   "execution_count": null,
   "metadata": {},
   "outputs": [],
   "source": [
    "def lincomb(coef, vectors): \n",
    "    n = len(vectors[0])  # get the dimension of the vectors. note they have to be of the same dimension\n",
    "    comb = np.zeros(n)   # initial the value with all zeros.\n",
    "    ### Add code here to calculate the linear combination of the input vecotrs and the coefficients. \n",
    "    return comb"
   ]
  },
  {
   "cell_type": "markdown",
   "metadata": {},
   "source": [
    "### Warmup Task 4\n",
    "\n",
    "Define the matrix $A$ and the vector $u$ in Python. Then perform all of the tasks below.\n",
    "\n",
    "$$A=\\begin{pmatrix}\n",
    "1&3&5&7\\\\\n",
    "2&4&6&8\\\\\n",
    "−3&−2&−1&0\\\\\n",
    "\\end{pmatrix}$$\n",
    "and\n",
    "$$u=\\begin{pmatrix}\n",
    "10\\\\\n",
    "20\\\\\n",
    "30\\\\\n",
    "\\end{pmatrix}$$\n",
    " \n",
    "\n",
    "1. Print the matrix $A$, the vector $u$, the shape of $A$, and the shape of $u$.\n",
    "2. Print the first column of $A$.\n",
    "3. Print the first two rows of $A$.\n",
    "4. Print the first two entries of $u$.\n",
    "5. Print the last two entries of $u$.\n",
    "6. Print the bottom left $2\\times 2$ submatrix of $A$.\n",
    "7. Print the middle two elements of the middle row of $A$."
   ]
  },
  {
   "cell_type": "code",
   "execution_count": null,
   "metadata": {},
   "outputs": [],
   "source": [
    "# Define matrix A and vector u\n",
    "A = np.array([[1, 3, 5, 7],\n",
    "              [2, 4, 6, 8],\n",
    "              [-3, -2, -1, 0]])\n",
    "\n",
    "u = np.array([10, 20, 30])"
   ]
  },
  {
   "cell_type": "markdown",
   "metadata": {},
   "source": [
    "### Task 1: Angle between vectors\n",
    "Write a function which gets two vectors and calculate the angle between them.\n",
    "1. Check the length of the input vectors, if not the same raise input error.\n",
    "2. Use the scalar product to calculate the angle between the two vectors.\n",
    "3. Use an input parameter to determine the unit of the output (degrees or radian)\n",
    "4. Is it working for any dimensions?\n",
    "5. Test your function with 2 and 3 dimensional vectors, eg. `[1,1], [1,-1]` and `[2,1,1], [3,-4,2]`."
   ]
  },
  {
   "cell_type": "markdown",
   "metadata": {},
   "source": [
    "### Task 2: Decomposition of arrays\n",
    "\n",
    "Write a function which gets a vector $\\vec{v}$ and a direction $\\vec{d}$ and calulcate the parallel and perpendicular component of $\\vec{v}$ to the direction $\\vec{d}$.\n",
    "1. Work with 2 dimensional arrays first.\n",
    "2. For the parallel component use the scalar product.\n",
    "3. For the perpendicular component use the cross product.\n",
    "4. Create a plot of the vectors.\n",
    "5. Modify your code, to deal with 3 dimensional vectors. Be careful with the perpendicular direction! \n",
    "6. Construct the projector matrices for the parallel and perpendicular directions. The projection matrix to a vector $\\vec{a}$ is defined as \n",
    "$$\n",
    "    \\underline{\\underline{P}}=\\dfrac{\\vec{a}\\otimes\\vec{a}}{\\vec{a}\\cdot\\vec{a}}\n",
    "$$"
   ]
  },
  {
   "cell_type": "markdown",
   "metadata": {},
   "source": [
    "### Task 3: Volume of a parallelepiped \n",
    "\n",
    "A parallelelepiped can be defined with a $3\\times 3$ matrix, where the coloumns of the matrix contains the vectors spanning the parallelepiped. Write a function which gets a $3\\times 3$ matrix as input and returns the volume of the parallelepiped spanned by the coloumns of the matrix.\n",
    "\n",
    "1. Check that the defined object is three dimensional. \n",
    "2. First wirte a function uses the usual formula $V=A\\cdot h$, where $A$ is the base area and $h$ is the height of the parallelepiped.\n",
    "3. Then write a function uses the determinant.\n",
    "4. Extend your code to also calculate the surface are of the parallelepiped."
   ]
  },
  {
   "cell_type": "markdown",
   "metadata": {},
   "source": [
    "## Recap on the linear transformations\n",
    "\n",
    "![](https://miro.medium.com/v2/resize:fit:720/format:webp/0*rAAM3EWn0Q5MRGWp.png)\n",
    "![](https://miro.medium.com/v2/resize:fit:720/format:webp/1*QCGKz_TZPBhYOjTIm55A7w.jpeg)\n",
    "\n",
    "## Why do we care\n",
    "\n",
    "We like in physics if we make a translation for instance, then our equations, or at least their message, do not change. Recall special relativity to be invariant under Lorentz transformations, which are affine transformations.\n",
    "\n",
    "Affine transformations are also heavily used in image manipulation and data augmentation methods. Data augmentation is one of the cornerstones of effectively training some (deep) neural networks and in enhancing the image recognition capabilities of certain AI models. See for more YOLO model, Fast-CNN or General Object Detection algorithms. \n",
    "\n"
   ]
  },
  {
   "cell_type": "markdown",
   "metadata": {},
   "source": [
    "### Task 4\n",
    "\n",
    "Below you have a $2\\times 2$ matrix. Illustrate the following affine transformations on it:\n",
    "1. Scaling\n",
    "2. Shearing\n",
    "3. Rotation\n",
    "4. Reflection (with respect to some line/axis in some angle)\n",
    "\n",
    "Use only `numpy` functions! \n",
    "\n",
    "Hint: You may want to define a transformation matrix in each case and apply that one!"
   ]
  },
  {
   "cell_type": "code",
   "execution_count": null,
   "metadata": {},
   "outputs": [],
   "source": [
    "aux = np.ones((100, 100), dtype=int)\n",
    "src = np.vstack([np.c_[aux, 2*aux], np.c_[3*aux, 4*aux]])\n",
    "plt.imshow(src)\n",
    "plt.show()"
   ]
  },
  {
   "cell_type": "code",
   "execution_count": null,
   "metadata": {},
   "outputs": [],
   "source": [
    "def linear_transformation(src, a):\n",
    "    M, N = src.shape\n",
    "    points = np.mgrid[0:N, 0:M].reshape((2, M*N))\n",
    "    new_points = np.linalg.inv(a).dot(points).round().astype(int)\n",
    "    x, y = new_points.reshape((2, M, N), order='F')\n",
    "    indices = x + N*y\n",
    "    return np.take(src, indices, mode='wrap')"
   ]
  },
  {
   "cell_type": "code",
   "execution_count": null,
   "metadata": {},
   "outputs": [],
   "source": []
  },
  {
   "cell_type": "markdown",
   "metadata": {},
   "source": [
    "### Task 5\n",
    "\n",
    "Using `scipy.ndimage.affine_transform` function put together a workflow that can manipulate an image by:\n",
    "\n",
    "1. translation\n",
    "2. scaling\n",
    "3. rotation\n",
    "\n",
    "Plot the original and resulting image. Do you notice something weird about the scaling factors? What and why does it happen?\n",
    "Does it work the same for an RGB and a BW image?"
   ]
  },
  {
   "cell_type": "code",
   "execution_count": null,
   "metadata": {},
   "outputs": [],
   "source": [
    "from scipy.ndimage import affine_transform\n",
    "from matplotlib.image import imread\n",
    "mpl.rcParams.update(mpl.rcParamsDefault)\n",
    "\n",
    "image = imread('corgi.png') \n",
    "\n",
    "plt.figure(figsize=(12, 6), dpi = 150)\n",
    "plt.imshow(image, cmap='gray')\n",
    "plt.xlabel('y axis')\n",
    "plt.ylabel('x axis')\n",
    "plt.show()"
   ]
  },
  {
   "cell_type": "code",
   "execution_count": null,
   "metadata": {},
   "outputs": [],
   "source": [
    "def show(image, transformedImage):\n",
    "    \n",
    "    fig, ax = plt.subplots(nrows=1, ncols=2, dpi=100)\n",
    "    \n",
    "    ax[0].set_title('Original Image')\n",
    "    ax[0].imshow(image, cmap='gray')\n",
    "    ax[0].set_xlabel('y axis')\n",
    "    ax[0].set_ylabel('x axis')\n",
    "\n",
    "    ax[1].set_title('Transformed Image')\n",
    "    ax[1].imshow(transformedImage, cmap='gray')\n",
    "    ax[1].set_xlabel('y axis')\n",
    "    ax[1].set_ylabel('x axis')\n",
    "    \n",
    "    fig.tight_layout()\n",
    "    \n",
    "    plt.show()"
   ]
  },
  {
   "cell_type": "markdown",
   "metadata": {},
   "source": [
    "What Happens in Scaling:\n",
    "- Larger Scaling Factor (>1): The pixel coordinates are multiplied by values greater than 1, so the image looks \"zoomed out\" because the content stretches beyond the visible window of imshow unless you explicitly handle the output image size or adjust the transformation appropriately.\n",
    "\n",
    "- Smaller Scaling Factor (<1): The pixel coordinates are multiplied by values smaller than 1, so the image is \"zoomed in\" as the content gets compressed toward the origin."
   ]
  },
  {
   "cell_type": "markdown",
   "metadata": {},
   "source": [
    "### Homework\n",
    "\n",
    "**Description**\n",
    "A matrix in different coordinate systems can be written in terms of projectors as:\n",
    "\\begin{equation}\n",
    "\\underline{\\underline{A}}=\\sum_{\\alpha,\\beta} A_{\\alpha,\\beta} \\underline{\\underline{P}}_{\\alpha,\\beta}\n",
    "\\end{equation}\n",
    "where $A_{\\alpha,\\beta}=\\vec{e}_\\alpha \\underline{\\underline{A}} \\vec{e}_\\beta$ is the matrix element in the given coordinate system, and\n",
    "\\begin{equation}\n",
    "\\underline{\\underline{P}}_{\\alpha,\\beta} = \\vec{e}_\\alpha \\circ \\vec{e}_\\beta\n",
    "\\end{equation}\n",
    "is the projector related to the $(\\alpha,\\beta)$ matrix element and $\\vec{e}_\\alpha$ and $\\vec{e}_\\beta$ are the related basis vectors.\n",
    "\n",
    "Your task is to write a code which gets a $3\\times 3$ matrix and transform it to an other coordinate system, the other coordinate system is given in terms of the unit vectors of an $(r,\\theta,\\phi)$ spherical coordinate system. See the figure below!\n",
    "\n",
    "<img src=\"https://www.researchgate.net/publication/316068127/figure/fig3/AS:669044097179674@1536523951532/The-spherical-coordinate-system-where-th-0-p-is-the-polar-angle-ph-0-2p-is_W640.jpg\" width=400>\n",
    "\n",
    "**Task**\n",
    "1. Define your function `matrix_transform(A,v)`, where `A` is the $3\\times 3$ matrix to transform, `v` is a direction, a 3 component vector.\n",
    "2. Write a function which calculate the $\\theta$ polar, and $\\phi$ azimuthal angles. Be careful, there are different definitions out there on the internet, use the one given in the figure.\n",
    "3. Write a function which constructs the unit vectors of the spherical coordinate system $\\vec{e}_r$, $\\vec{e}_\\theta$, $\\vec{e}_\\phi$ for a given value of $\\theta$ and $\\phi$\n",
    "4. Calculate the matrix elements and construct the transformed matrix.\n",
    "5. Write the funtion `transverse_projection(A,v)`, which has the same input, and calculates the projection of `A` to the normal plane of `v`, meaning that is removes the $r$ compenents and leaves only the $\\theta$ and $\\phi$ components. Return the matrix in the original coordinate system. "
   ]
  },
  {
   "cell_type": "code",
   "execution_count": null,
   "metadata": {},
   "outputs": [],
   "source": [
    "## Test input:\n",
    "A=np.array([[1,np.sqrt(3),1],[np.sqrt(3),2,0],[1,0,1]],dtype=np.float32)\n",
    "v=np.array([1,1,1])\n",
    "## Expected output:\n",
    "#At=matrix_transform(A,v)\n",
    "At=np.load('At.npy')\n",
    "#Ap=transverse_projection(A,v)\n",
    "Ap=np.load('Ap.npy')\n",
    "print('matrix_transform(A,v)=\\n',At)\n",
    "print('transverse_projection(A,v)=\\n',Ap)"
   ]
  }
 ],
 "metadata": {
  "kernelspec": {
   "display_name": "TBarrier",
   "language": "python",
   "name": "python3"
  },
  "language_info": {
   "codemirror_mode": {
    "name": "ipython",
    "version": 3
   },
   "file_extension": ".py",
   "mimetype": "text/x-python",
   "name": "python",
   "nbconvert_exporter": "python",
   "pygments_lexer": "ipython3",
   "version": "3.10.14"
  }
 },
 "nbformat": 4,
 "nbformat_minor": 2
}
