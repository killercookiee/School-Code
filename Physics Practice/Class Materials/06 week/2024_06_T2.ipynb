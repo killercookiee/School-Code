{
  "cells": [
    {
      "cell_type": "markdown",
      "id": "b91ebd44",
      "metadata": {
        "id": "b91ebd44"
      },
      "source": [
        "# Homework\n",
        "### Instructions\n",
        "\n",
        "Please solve all 3 problems below, but submit EITHER problems 1 and 2, OR problem 3.\n",
        "\n",
        "When submitting a python solution, please make sure to submit BOTH the source code (.py or .ipy file) and a pdf of the code together with the expected output.\n",
        "\n",
        "\n",
        "### 1) Sliding a hockey puck on a slope - $\\mu=?$, $\\alpha=$, $v_0$?\n",
        "\n",
        "I can slide a flat piece of metal weighing 800 g with a well controlled but initial speed of 10 km/h. When I slide it downwards, it comes to a full stop after 81 cm. When I slide it upwards, it comes to a full stop after 21 cm. What is the coefficient of friction $\\mu$ and the angle $\\alpha$? (6p)\n",
        "\n",
        "\n",
        "### 2) Mass on spring - how much to compress?\n",
        "\n",
        "A steel spring, which can push or pull, is lying on the ground, near a vertical wall, perpendicular to the wall. One end is fixed to the wall, on the free end a mass is attached that can slide on the ground, with friction. If I pull the mass away from the wall, because of static friction, it can still be in equilibrium, even if it is nudged ever so slightly - as long as the spring is stretched by no more than 10 cm. If the spring is stretched by more than that, even if the mass is in equilibrium to start with (due to static friction), if it is nudged, it will be pulled towards the wall, and eventually stop because the friction forces dissipate the energy. How far do I need to pull it from the wall, so that it comes to a stop exactly at the position where the spring is unstretched? (4p)\n",
        "\n",
        "+ extra work (not needed for 100 percent of points):\n",
        "\n",
        "\n",
        "### 3) How far does a plastic ball sink?\n",
        "\n",
        "I drop a plastic ball (radius R=1 cm) into water, it enters the water with 4 km/h. The ball has the same density as water. Since I dropped it, it sinks down, but under the effect of viscous friction, it is slowed down. The force is well approximated by Stokes' law,  \n",
        "\n",
        "$$ F_\\mathrm{drag} = - 6\\pi \\eta R  v, $$\n",
        "\n",
        "with dynamic viscosity of water $\\eta = 10^{-3}$ Ns/m$^2$.\n",
        "\n",
        "How deep will the ball sink before it stops?\n",
        "\n",
        "This problem is hard to solve analytically. Try to solve it numerically, calculating the x(t) and v(t) curves using Newton's 2nd law, for \"long enough\" time. The only force you need to take into account is the viscous friction force, since under water, the gravitational pull of the Earth and the buoyancy force cancel each other out. Since as the ball slows down, the friction force decreases, the ball never truly \"stops\" - but still, there is a depth which it would only reach in the $t\\to\\infty$ limit.\n",
        "\n",
        "Plot the x(t) and v(t) curves. Also plot the v(x) curve. This last curve can be used for an accurate estimate of how deep the ball sinks.\n",
        "\n"
      ]
    },
    {
      "cell_type": "code",
      "execution_count": 2,
      "id": "d8f77d31",
      "metadata": {
        "colab": {
          "base_uri": "https://localhost:8080/"
        },
        "id": "d8f77d31",
        "outputId": "ee12a055-e1cf-4e66-f251-f9e23e8a7cc3"
      },
      "outputs": [
        {
          "output_type": "stream",
          "name": "stdout",
          "text": [
            "Populating the interactive namespace from numpy and matplotlib\n",
            "0.8072528399464166\n",
            "0.20959424952025482\n"
          ]
        }
      ],
      "source": [
        "%pylab inline\n",
        "v0 = 5/3.6\n",
        "g = 9.81\n",
        "mu = 0.3\n",
        "alpha = 10*pi/180\n",
        "print(v0**2/2/g /(cos(alpha)*mu-sin(alpha)))\n",
        "print(v0**2/2/g /(cos(alpha)*mu+sin(alpha)))\n"
      ]
    },
    {
      "cell_type": "markdown",
      "id": "efb1beeb",
      "metadata": {
        "id": "efb1beeb"
      },
      "source": [
        "# Exercises to be solved in class:\n",
        "\n",
        "\n",
        "## Does the normal force do work on a body? (3 min, test)\n",
        "Take a body sliding down an incline with a complicated shape. Does the normal force do work on the body?\n",
        "\n",
        "*   A - only on segments that are slanted downwards\n",
        "*   B - only on segments that are slanted upwards\n",
        "*   C - Yes, on all segments\n",
        "*   D - No\n",
        "\n",
        "\n",
        "## Kicked simple pendulum (5 min)\n",
        "\n",
        "We hit a simple pendulum in equilibrium, a 1 kg steel ball hanging on a 40cm rope, with a baseball bat horizontally. The ball starts moving with 10 km/h. Neglecting air resistance, how high will it swing? (39.3 cm)\n",
        "\n",
        "## Jumping with a parachute (5 min)\n",
        "A parachutist is dropped from a plane at an altitude of 2000 m; the plane is flying horizontally, with a speed of 500 km/h.  The parachutist reaches the ground with a vertical velocity of 15 km/h. Her mass (together with the parachute), is 100 kg. How much work has the drag force performed on her?\n",
        "\n",
        "\n",
        "## How much power to accelerate a car? (13 min)\n",
        "\n",
        "A small car of mass m=1200 kg is accelerated from standstill to 60 km/h under 9 seconds.\n",
        "\n",
        "What is the average power put out by the motor?\n",
        "\n",
        "Neglecting the effect of drag, at least how large is the coefficient of static friction between the car's tyre and the ground?\n",
        "\n",
        "\n",
        "## Power of accelerating elevator (14 min)\n",
        "\n",
        "An elevator of mass m=1000 kg starts going up, in the first 4 seconds of motion with a uniform acceleration of a=1.2 m/$s^2$. What is\n",
        "\n",
        "a) the average power the motor outputs,\n",
        "\n",
        "b) the power at t=1s,\n",
        "\n",
        "c) the power at t=4s?\n",
        "\n",
        "\n",
        "\n"
      ]
    },
    {
      "cell_type": "markdown",
      "source": [
        "# Write a python code useful for homework 3. - Solve numerically, plot numerically\n",
        "\n",
        "Consider now a ramp segment that is connected to the bottom of the ramp before, which serves to shoot the toy car up in the air. The ramp segment has a circular arc shape, with radius of curvature $R$, and ends in a part that is angled up at angle $\\alpha$, i.e., the arc has a central angle of $2\\alpha$. Neglecting friction, the car leaves the ramp with velocity $v_1=v_0$ (energy conservation). If the coefficient of friction between car and ramp is $\\mu$, what is the velocity of the car, $v_1$, when it leaves the ramp?\n",
        "\n",
        "![picture](https://drive.google.com/uc?id=17NuvPxK9uVS_nNcP58v89zNdqgyI5F25)\n",
        "\n",
        "a) Draw a free body diagram of the forces on the toy car. How large is the normal force?\n",
        "\n",
        "b) Taking $R=5\\rm\\, cm$, $\\alpha=45^\\circ$, $\\mu=0.02$, and $v_0=10\\rm\\,km/h$, write a code that calculates the (i) car's position along the ramp, $s$, and (ii) its tangential velocity, $v$. Note that we can connect the variable $s=0...2R\\alpha$ with the local descent angle of the ramp, $\\theta=+\\alpha...-\\alpha$ via $s=(\\alpha-\\theta)R$. Plot the $s(t)$, $v(t)$ curves, as well as the curves of the potential and kinetic energy on the ramp. This calculates $v_1$ as well. Calculate numerically the work done by friction. Check that it is equal to the difference in the kinetic energy of the car at the initial and final positions.\n",
        "\n",
        "c) Plot $v_1$ as a function of $v_0$ for $\\mu=0.02$, $\\alpha=45^\\circ$, and $R=5\\rm\\,cm$. (try at home)\n",
        "\n",
        "d) Produce a few more plots like in 2), with smaller and smaller values for the radius. What do you notice? (try at home)"
      ],
      "metadata": {
        "id": "19dZOsnrAS-x"
      },
      "id": "19dZOsnrAS-x"
    },
    {
      "cell_type": "code",
      "source": [
        "import numpy as np\n",
        "import matplotlib.pyplot as plt\n",
        "\n",
        "# data, using SI units:\n",
        "v0 = 10/3.6\n",
        "R = 0.05\n",
        "mu = 0.02\n",
        "m = 0.1\n",
        "g = 9.81\n",
        "alpha = np.pi/4\n",
        "W = 0\n",
        "\n",
        "tt, ss, vv = [], [], []\n",
        "t = 0\n",
        "s = 0\n",
        "v = v0\n",
        "dt = (2*R*alpha/v0)/1000  # with constant speed it would take 1000 steps to do the arc [0;2*alpha]\n",
        "print(f\"dt={dt} s\")\n",
        "# we will iterate until the arc is covered or there is a \"timeout\":\n",
        "t_max=dt*10000 # max. 10000 steps, otherwise the body is likely to never finish the full arc\n",
        "\n",
        "while s<2*R*alpha:\n",
        "\n",
        "    # current slope:\n",
        "    theta = alpha-s/R   # as expressed from s=(alpha-theta)*R\n",
        "\n",
        "    F_cp = m*v*v/R\n",
        "    F_N = F_cp + m*g*np.cos(theta)\n",
        "    a = (m*g*np.sin(theta) - mu*F_N)/m\n",
        "    W += -v*dt*mu*F_N\n",
        "\n",
        "    t += dt\n",
        "    s += v*dt\n",
        "    v += a*dt\n",
        "\n",
        "\n",
        "    tt.append(t)\n",
        "    ss.append(s)\n",
        "    vv.append(v)\n",
        "\n",
        "    if v<0 or t>t_max:  # the car stopped or time is up\n",
        "        break\n",
        "\n",
        "tt = np.array(tt)\n",
        "ss = np.array(ss)\n",
        "vv = np.array(vv)\n",
        "\n",
        "plt.plot(ss/(R*2*alpha), vv*3.6)\n",
        "plt.xlabel(\"s/s_total\")\n",
        "plt.ylabel(\"v [km/h]\")\n",
        "plt.grid()\n",
        "plt.show()\n",
        "\n",
        "print(f\"DeltaE_kin={0.5*m*(v*v - v0*v0)} J, W_friction={W} J\")\n",
        "print(f\"relative speed loss on arc: v_final/v_initial={v/v0}\")"
      ],
      "metadata": {
        "colab": {
          "base_uri": "https://localhost:8080/",
          "height": 504
        },
        "id": "NXvkvp0LJoln",
        "outputId": "ace1c1bd-75ff-44f9-d27b-6bc2768d562c"
      },
      "id": "NXvkvp0LJoln",
      "execution_count": 5,
      "outputs": [
        {
          "output_type": "stream",
          "name": "stdout",
          "text": [
            "dt=2.8274333882308137e-05 s\n"
          ]
        },
        {
          "output_type": "display_data",
          "data": {
            "text/plain": [
              "<Figure size 640x480 with 1 Axes>"
            ],
            "image/png": "[encoded data removed]"
          },
          "metadata": {}
        },
        {
          "output_type": "stream",
          "name": "stdout",
          "text": [
            "DeltaE_kin=-0.025399310195720393 J, W_friction=0.02542987114518509 J\n",
            "relative speed loss on arc: v_final/v_initial=0.9665221094070703\n"
          ]
        }
      ]
    },
    {
      "cell_type": "code",
      "execution_count": 3,
      "id": "40d3ff79",
      "metadata": {
        "id": "40d3ff79"
      },
      "outputs": [],
      "source": []
    }
  ],
  "metadata": {
    "kernelspec": {
      "display_name": "Python 3 (ipykernel)",
      "language": "python",
      "name": "python3"
    },
    "language_info": {
      "codemirror_mode": {
        "name": "ipython",
        "version": 3
      },
      "file_extension": ".py",
      "mimetype": "text/x-python",
      "name": "python",
      "nbconvert_exporter": "python",
      "pygments_lexer": "ipython3",
      "version": "3.7.3"
    },
    "colab": {
      "provenance": [],
      "collapsed_sections": [
        "b91ebd44"
      ]
    }
  },
  "nbformat": 4,
  "nbformat_minor": 5
}