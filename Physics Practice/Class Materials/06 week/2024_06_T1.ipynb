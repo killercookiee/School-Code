{
 "cells": [
  {
   "cell_type": "markdown",
   "id": "b91ebd44",
   "metadata": {},
   "source": [
    "# Homework\n",
    " \n",
    " \n",
    "### Instructions\n",
    "\n",
    "Please solve all 3 problems below, but submit EITHER problems 1 and 2, OR problem 3. \n",
    "\n",
    "When submitting a python solution, please make sure to submit BOTH the source code (.py or .ipy file) and a pdf of the code together with the expected output.\n",
    "\n",
    "\n",
    "### 1) Sliding a hockey puck on a slope - $\\mu=?$, $\\alpha=$, $v_0$?\n",
    "\n",
    "I can slide a flat piece of metal weighing 800 g with a well controlled but initial speed of 10 km/h. When I slide it downwards, it comes to a full stop after 81 cm. When I slide it upwards, it comes to a full stop after 21 cm. What is the coefficient of friction $\\mu$ and the angle $\\alpha$? (6p)\n",
    "\n",
    "\n",
    "### 2) Mass on spring - how much to compress?\n",
    "\n",
    "A steel spring, which can push or pull, is lying on the ground, near a vertical wall, perpendicular to the wall. One end is fixed to the wall, on the free end a mass is attached that can slide on the ground, with friction. If I pull the mass away from the wall, because of static friction, it can still be in equilibrium, even if it is nudged ever so slightly - as long as the spring is stretched by no more than 10 cm. If the spring is stretched by more than that, even if the mass is in equilibrium to start with (due to static friction), if it is nudged, it will be pulled towards the wall, and eventually stop because the friction forces dissipate the energy. How far do I need to pull it from the wall, so that it comes to a stop exactly at the position where the spring is unstretched? (4p)\n",
    "\n",
    "+ extra work (not needed for 100 percent of points): \n",
    "\n",
    "\n",
    "### 3) Python: How far does a submarine go?\n",
    "\n",
    "A spherical submarine (diameter of 3 m) is exploring the ocean, floating in it, powered by its motor, with a horizontal velocity of 4 km/h. The submarine has the same average density as the water around it \n",
    "($\\rho = 1.024 $ g/cm$^3$). At time $t=0$ the motor stops working. The submarine keeps moving, due to its inertia, but, under the effect of viscous friction, it is gradually slowed down. The friction force on the submarine is well approximated by Stokes' law,  \n",
    "\\[F_\\mathrm{drag} = - 6\\pi \\eta R  v, \\]\n",
    "where the dynamic viscosity of water is $\\eta = 10^{-3}$ Ns/m$^2$. \n",
    "\n",
    "How far will the submarine go before it stops? \n",
    "\n",
    "This problem is hard to solve analytically. Try to solve it numerically, calculating the x(t) and v(t) curves using Newton's 2nd law, for \"long enough\" time. The only force you need to take into account is the viscous friction force, since under water, the gravitational pull of the Earth and the buoyancy force cancel each other out. As the submarine slows down, the friction force decreases, and the submarine never truly \"stops\" -- but still, there is a distance $x$ that it only reaches in the $t\\to\\infty$ limit. Try to find this distance $x$.\n",
    "\n",
    "Plot the x(t) and v(t) curves. Also plot the v(x) curve. This last curve can be used for the most accurate estimate of how far the submarine will go. \n",
    "\n",
    "\n",
    "\n"
   ]
  },
  {
   "cell_type": "code",
   "execution_count": 3,
   "id": "d8f77d31",
   "metadata": {},
   "outputs": [
    {
     "name": "stdout",
     "output_type": "stream",
     "text": [
      "Populating the interactive namespace from numpy and matplotlib\n",
      "0.8072528399464166\n",
      "0.20959424952025482\n"
     ]
    }
   ],
   "source": [
    "%pylab inline\n",
    "v0 = 5/3.6\n",
    "g = 9.81\n",
    "mu = 0.3\n",
    "alpha = 10*pi/180\n",
    "print(v0**2/2/g /(cos(alpha)*mu-sin(alpha)))\n",
    "print(v0**2/2/g /(cos(alpha)*mu+sin(alpha)))\n"
   ]
  },
  {
   "cell_type": "markdown",
   "id": "efb1beeb",
   "metadata": {},
   "source": [
    "# Exercises to be solved in class:\n",
    "\n",
    "\n",
    "## Does the normal force do work on a body? (3 min, test)\n",
    "Take a body sliding down an incline with a complicated shape. Does the normal force do work on the body? \n",
    "\n",
    "A - only on segments that are slanted downwards\n",
    "B - only on segments that are slanted upwards\n",
    "C - Yes, on all segments\n",
    "D - No\n",
    "\n",
    "\n",
    "\n",
    "## Kicked simple pendulum (5 min)\n",
    "\n",
    "We hit a simple pendulum in equilibrium, a 1 kg steel ball hanging on a 40cm rope, with a baseball bat horizontally. The ball starts moving with 10 km/h. Neglecting air resistance, how high will it swing? (39.3 cm)\n",
    "\n",
    "## Jumping with a parachute (5 min)\n",
    "A parachutist is dropped from a plane at an altitude of 2000 m; the plane is flying horizontally, with a speed of 500 km/h.  The parachutist reaches the ground with a vertical velocity of 15 km/h. Her mass (together with the parachute), is 100 kg. How much work has the drag force performed on her?\n",
    "\n",
    "\n",
    "## How much power to accelerate a car? (13 min)\n",
    "\n",
    "A small car of mass m=1200 kg is accelerated from standstill to 60 km/h under 9 seconds. What is the average power put out by the motor? Neglecting the effect of drag, at least how large is the coefficient of static friction between the car's tyre and the ground? \n",
    "\n",
    "\n",
    "## Power of accelerating elevator (14 min)\n",
    "\n",
    "An elevator of mass m=1000 kg starts going up, in the first 4 seconds of motion with a uniform acceleration of a=1.2 m/$s^2$. What is a) the average power the motor outputs, b) the power at t=1s, c) the power at t=4s?\n",
    "\n",
    "\n",
    "\n"
   ]
  },
  {
   "cell_type": "markdown",
   "id": "bfa5078b",
   "metadata": {},
   "source": [
    "# Write a short python code useful for homework 3. \n",
    "\n",
    "Consider a ramp that shoots a toy car of mass $100$ g up in the air. The ramp starts from a certain height, there is a straight part sloping down with angle $\\alpha$, which serves to accelerate the car to a velocity $v_0$. Then there is a curved part at the bottom (circle segment, with radius of curvature $R$) that ends in a part that is angled up at angle $\\alpha$. Neglecting friction, the car leaves the ramp with velocity $v_1=v_0$ (energy conservation). If the coefficient of friction between car and ramp is $\\mu$, what is the velocity of the car, $v_1$, when it leaves the ramp?\n",
    "\n",
    "1) Draw a free body diagram of the forces on the toy car. How large is the normal force? \n",
    "\n",
    "1) Taking $R=5$ cm, $\\alpha=45^\\circ$, $\\mu=0.02$, and $v_0=10$ km/h, write a code that calculates the tangential velocity of the car as a function of its position along the ramp, $s = R \\theta$ going from 0 to $2R \\alpha$. Plot the s(t), v(t) curves, as well as the curves of the potential and kinetic energy on the ramp. Calculate numerically the work done by friction. Check that it is equal to the difference in the kinetic energy of the car at the initial and final positions.\n",
    "\n",
    "2) Plot $v_1$ as a function of $v_0$ for $\\mu=0.02$, $\\alpha=45^\\circ$, and $R=5$ cm. \n",
    "\n",
    "3) Produce a few more plots like in 2), with smaller and smaller values for the radius. What do you notice?\n"
   ]
  },
  {
   "cell_type": "code",
   "execution_count": 19,
   "id": "9a6cef9d",
   "metadata": {},
   "outputs": [
    {
     "name": "stdout",
     "output_type": "stream",
     "text": [
      "dt = 0.001,  Delta E_kin = -18.4 J,   W = 21.4 J,  v/v0 = 0.722\n",
      "dt = 0.0001,  Delta E_kin = -5.85 J,   W = 5.93 J,  v/v0 = 0.921\n",
      "dt = 1e-05,  Delta E_kin = -5.72 J,   W = 5.73 J,  v/v0 = 0.923\n"
     ]
    }
   ],
   "source": [
    "# 1 - I write this, kind of together with them (10 min)\n",
    "\n",
    "import numpy as np\n",
    "from numpy import sin, cos, sqrt\n",
    "import matplotlib.pyplot as plt\n",
    "\n",
    "# data, using SI units:\n",
    "v0, R, mu = 100/3.6, 0.005, 0.05\n",
    "m, g = 0.1, 9.81\n",
    "alpha = np.pi/4\n",
    "#dt = (2*R*alpha/v0)*0.001\n",
    "dt_values = (1e-3, 1e-4, 1e-5)\n",
    "for dt in dt_values:\n",
    "    tt, ss, vv = [], [], []\n",
    "    s, t, W = 0, 0, 0\n",
    "    v = v0\n",
    "    while s<2*R*alpha:\n",
    "        t += dt\n",
    "        theta = alpha-s/R\n",
    "\n",
    "        F_cp = m*v*v/R \n",
    "        F_N = F_cp - m*g*cos(theta)\n",
    "        a = (m*g*sin(theta) - mu*F_N)/m\n",
    "        W += v*dt*mu*F_N\n",
    "\n",
    "        v += a*dt\n",
    "        s += v*dt\n",
    "\n",
    "        tt.append(t)\n",
    "        ss.append(s)\n",
    "        vv.append(v)\n",
    "\n",
    "    tt = np.array(tt)\n",
    "    ss = np.array(ss)\n",
    "    vv = np.array(vv)\n",
    "\n",
    "    print(\"dt = %.3g,  Delta E_kin = %.3g J,   W = %.3g J,  v/v0 = %.3g\"\\\n",
    "          %(dt, 0.5*m*v*v - 0.5*m*v0**2, W, v/v0))\n",
    "    #plt.plot(ss/(R*alpha), vv)\n",
    "    #plt.xlabel(\"s\")\n",
    "    #plt.ylabel(\"v\")\n",
    "    #plt.grid()\n",
    "    #plt.show()"
   ]
  },
  {
   "cell_type": "code",
   "execution_count": null,
   "id": "40d3ff79",
   "metadata": {},
   "outputs": [],
   "source": []
  }
 ],
 "metadata": {
  "kernelspec": {
   "display_name": "Python 3 (ipykernel)",
   "language": "python",
   "name": "python3"
  },
  "language_info": {
   "codemirror_mode": {
    "name": "ipython",
    "version": 3
   },
   "file_extension": ".py",
   "mimetype": "text/x-python",
   "name": "python",
   "nbconvert_exporter": "python",
   "pygments_lexer": "ipython3",
   "version": "3.7.3"
  }
 },
 "nbformat": 4,
 "nbformat_minor": 5
}
