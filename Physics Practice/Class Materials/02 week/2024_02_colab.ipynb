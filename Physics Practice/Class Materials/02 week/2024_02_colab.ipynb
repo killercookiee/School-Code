{
  "nbformat": 4,
  "nbformat_minor": 0,
  "metadata": {
    "colab": {
      "provenance": []
    },
    "kernelspec": {
      "name": "python3",
      "display_name": "Python 3"
    },
    "language_info": {
      "name": "python"
    }
  },
  "cells": [
    {
      "cell_type": "code",
      "execution_count": 1,
      "metadata": {
        "colab": {
          "base_uri": "https://localhost:8080/",
          "height": 141
        },
        "id": "jCx1K0t1SWiO",
        "outputId": "797d39b7-633d-4c70-e809-d44ea61c0605"
      },
      "outputs": [
        {
          "output_type": "error",
          "ename": "TypeError",
          "evalue": "list expected at most 1 argument, got 3",
          "traceback": [
            "\u001b[0;31m---------------------------------------------------------------------------\u001b[0m",
            "\u001b[0;31mTypeError\u001b[0m                                 Traceback (most recent call last)",
            "\u001b[0;32m<ipython-input-1-b672df31d998>\u001b[0m in \u001b[0;36m<cell line: 1>\u001b[0;34m()\u001b[0m\n\u001b[0;32m----> 1\u001b[0;31m \u001b[0mlist\u001b[0m\u001b[0;34m(\u001b[0m\u001b[0;36m3\u001b[0m\u001b[0;34m,\u001b[0m\u001b[0;36m4\u001b[0m\u001b[0;34m,\u001b[0m\u001b[0;36m5\u001b[0m\u001b[0;34m)\u001b[0m\u001b[0;34m\u001b[0m\u001b[0;34m\u001b[0m\u001b[0m\n\u001b[0m",
            "\u001b[0;31mTypeError\u001b[0m: list expected at most 1 argument, got 3"
          ]
        }
      ],
      "source": [
        "list(3,4,5)"
      ]
    },
    {
      "cell_type": "code",
      "source": [
        "a = 16\n",
        "b = 256\n",
        "while a>0:\n",
        "    if a<b:\n",
        "        a, b = b, a   # switch a and be without introducing extra dummy variables (python trick)\n",
        "    a = a-b\n",
        "print(\"gcd = \", b)\n"
      ],
      "metadata": {
        "colab": {
          "base_uri": "https://localhost:8080/"
        },
        "id": "1sXTuHUKWggm",
        "outputId": "c8650731-61bc-4227-cf6d-ee3283e7d0d8"
      },
      "execution_count": 4,
      "outputs": [
        {
          "output_type": "stream",
          "name": "stdout",
          "text": [
            "gcd =  16\n"
          ]
        }
      ]
    },
    {
      "cell_type": "markdown",
      "source": [
        "Let's turn this into a function!\n"
      ],
      "metadata": {
        "id": "_Dwg7xnccImT"
      }
    },
    {
      "cell_type": "code",
      "source": [
        "def gcd(a, b):\n",
        "    while a>0:\n",
        "        if a<b:\n",
        "            a, b = b, a   # switch a and be without introducing extra dummy variables (python trick)\n",
        "        a = a-b\n",
        "    return b\n",
        "print(gcd(15, 25))\n",
        "\n",
        "test_var = gcd(16, 36)\n",
        "\n",
        "print(test_var)"
      ],
      "metadata": {
        "colab": {
          "base_uri": "https://localhost:8080/"
        },
        "id": "8994mXNdb2K4",
        "outputId": "db766135-402e-4d91-f66a-8e8c531eab91"
      },
      "execution_count": 6,
      "outputs": [
        {
          "output_type": "stream",
          "name": "stdout",
          "text": [
            "5\n",
            "4\n"
          ]
        }
      ]
    },
    {
      "cell_type": "markdown",
      "source": [
        "Let's make it more useful: help string and such"
      ],
      "metadata": {
        "id": "94fzFSWGc1bc"
      }
    },
    {
      "cell_type": "code",
      "source": [
        "def gcd(a, b):\n",
        "    \"\"\" Return the greatest common divisor of two positive integers a, b\n",
        "        Please make sure to call this function only with positive integers\n",
        "        For other types of input not tested!\n",
        "    \"\"\"\n",
        "    while a>0:\n",
        "        if a<b:\n",
        "            a, b = b, a   # switch a and be without introducing extra dummy variables (python trick)\n",
        "        a = a-b\n",
        "    return b\n",
        "print(gcd(15, 25))\n"
      ],
      "metadata": {
        "colab": {
          "base_uri": "https://localhost:8080/"
        },
        "id": "SqVQLPeGcfBd",
        "outputId": "d041eb34-deb1-41ca-8d5f-2a42ec01e55f"
      },
      "execution_count": 7,
      "outputs": [
        {
          "output_type": "stream",
          "name": "stdout",
          "text": [
            "5\n"
          ]
        }
      ]
    },
    {
      "cell_type": "code",
      "source": [
        "gcd(45, 60)"
      ],
      "metadata": {
        "colab": {
          "base_uri": "https://localhost:8080/"
        },
        "id": "3SxYvWMCdXio",
        "outputId": "2b1409bc-4b45-446d-d584-f578829a36fd"
      },
      "execution_count": 8,
      "outputs": [
        {
          "output_type": "execute_result",
          "data": {
            "text/plain": [
              "15"
            ]
          },
          "metadata": {},
          "execution_count": 8
        }
      ]
    },
    {
      "cell_type": "markdown",
      "source": [
        "Functions can also do other stuff besides producing a return value."
      ],
      "metadata": {
        "id": "9KzcDMwLdsDa"
      }
    },
    {
      "cell_type": "code",
      "source": [
        "def print_welcome_message(my_name, course_name):\n",
        "    print(\"Hi, enthusiastic student \", my_name)\n",
        "    print(\" Please participate actively in the course\", course_name)\n",
        "\n",
        "print_welcome_message(\"Janos\", \"physics\")"
      ],
      "metadata": {
        "colab": {
          "base_uri": "https://localhost:8080/"
        },
        "id": "qQR7ZqxBdiuW",
        "outputId": "6dcca634-6cd2-4c11-d42d-1a947dbabc40"
      },
      "execution_count": 13,
      "outputs": [
        {
          "output_type": "stream",
          "name": "stdout",
          "text": [
            "Hi, enthusiastic student  Janos\n",
            " Please participate actively in the course physics\n"
          ]
        }
      ]
    },
    {
      "cell_type": "code",
      "source": [],
      "metadata": {
        "id": "Fe_L9_VffJF8"
      },
      "execution_count": null,
      "outputs": []
    },
    {
      "cell_type": "code",
      "source": [],
      "metadata": {
        "id": "Kne4Ln-GfJDI"
      },
      "execution_count": null,
      "outputs": []
    },
    {
      "cell_type": "markdown",
      "source": [
        "If we want to be more flexible with the order of arguments, we can use named arguments / clarify later\n"
      ],
      "metadata": {
        "id": "MTK9E68GezVk"
      }
    },
    {
      "cell_type": "code",
      "source": [
        "def print_welcome_message(name=my_name, course=course_name):\n",
        "    print(\"Hi, enthusiastic student \", my_name)\n",
        "    print(\" Please participate actively in the course\", course_name)\n"
      ],
      "metadata": {
        "colab": {
          "base_uri": "https://localhost:8080/",
          "height": 176
        },
        "id": "SvBbFyRieF5D",
        "outputId": "b254f20b-4c3f-42bd-8dc0-97f9ce4bde9b"
      },
      "execution_count": 15,
      "outputs": [
        {
          "output_type": "error",
          "ename": "NameError",
          "evalue": "name 'my_name' is not defined",
          "traceback": [
            "\u001b[0;31m---------------------------------------------------------------------------\u001b[0m",
            "\u001b[0;31mNameError\u001b[0m                                 Traceback (most recent call last)",
            "\u001b[0;32m<ipython-input-15-05674e04880b>\u001b[0m in \u001b[0;36m<cell line: 1>\u001b[0;34m()\u001b[0m\n\u001b[0;32m----> 1\u001b[0;31m \u001b[0;32mdef\u001b[0m \u001b[0mprint_welcome_message\u001b[0m\u001b[0;34m(\u001b[0m\u001b[0mname\u001b[0m\u001b[0;34m=\u001b[0m\u001b[0mmy_name\u001b[0m\u001b[0;34m,\u001b[0m \u001b[0mcourse\u001b[0m\u001b[0;34m=\u001b[0m\u001b[0mcourse_name\u001b[0m\u001b[0;34m)\u001b[0m\u001b[0;34m:\u001b[0m\u001b[0;34m\u001b[0m\u001b[0;34m\u001b[0m\u001b[0m\n\u001b[0m\u001b[1;32m      2\u001b[0m     \u001b[0mprint\u001b[0m\u001b[0;34m(\u001b[0m\u001b[0;34m\"Hi, enthusiastic student \"\u001b[0m\u001b[0;34m,\u001b[0m \u001b[0mmy_name\u001b[0m\u001b[0;34m)\u001b[0m\u001b[0;34m\u001b[0m\u001b[0;34m\u001b[0m\u001b[0m\n\u001b[1;32m      3\u001b[0m     \u001b[0mprint\u001b[0m\u001b[0;34m(\u001b[0m\u001b[0;34m\" Please participate actively in the course\"\u001b[0m\u001b[0;34m,\u001b[0m \u001b[0mcourse_name\u001b[0m\u001b[0;34m)\u001b[0m\u001b[0;34m\u001b[0m\u001b[0;34m\u001b[0m\u001b[0m\n",
            "\u001b[0;31mNameError\u001b[0m: name 'my_name' is not defined"
          ]
        }
      ]
    },
    {
      "cell_type": "code",
      "source": [],
      "metadata": {
        "id": "g4Heo7o2e82X"
      },
      "execution_count": null,
      "outputs": []
    },
    {
      "cell_type": "markdown",
      "source": [
        "For more serious maths, we use a module called numpy"
      ],
      "metadata": {
        "id": "TCj4wbjefMPc"
      }
    },
    {
      "cell_type": "code",
      "source": [
        "import numpy as np\n",
        "\n",
        "#b = sin(pi)\n",
        "b = np.sin(np.pi)\n",
        "print(b)"
      ],
      "metadata": {
        "colab": {
          "base_uri": "https://localhost:8080/"
        },
        "id": "iVdQ1PUWfPgN",
        "outputId": "5d2ab57b-68a5-478d-c478-7feebd21b9c2"
      },
      "execution_count": 19,
      "outputs": [
        {
          "output_type": "stream",
          "name": "stdout",
          "text": [
            "1.2246467991473532e-16\n"
          ]
        }
      ]
    },
    {
      "cell_type": "code",
      "source": [
        "np.arcsin(0.5)/np.pi*180"
      ],
      "metadata": {
        "colab": {
          "base_uri": "https://localhost:8080/"
        },
        "id": "w2pSTG2DflxG",
        "outputId": "9adc1292-e8d1-48f9-ca21-7cbf65a6c15b"
      },
      "execution_count": 24,
      "outputs": [
        {
          "output_type": "execute_result",
          "data": {
            "text/plain": [
              "30.000000000000004"
            ]
          },
          "metadata": {},
          "execution_count": 24
        }
      ]
    },
    {
      "cell_type": "code",
      "source": [
        "from numpy.random import randint"
      ],
      "metadata": {
        "id": "E_1sDsvwgV0b"
      },
      "execution_count": 25,
      "outputs": []
    },
    {
      "cell_type": "code",
      "source": [
        "for j in range(40):\n",
        "    print(randint(15), end=\" \")"
      ],
      "metadata": {
        "colab": {
          "base_uri": "https://localhost:8080/"
        },
        "id": "5hcfHIkWgt9x",
        "outputId": "4c34c598-5453-4f92-b751-ab57fc0ac465"
      },
      "execution_count": 28,
      "outputs": [
        {
          "output_type": "stream",
          "name": "stdout",
          "text": [
            "4 2 0 13 0 10 10 8 1 5 13 4 6 3 10 9 0 10 4 4 5 4 11 4 4 9 14 0 12 7 8 7 2 10 8 10 1 10 12 0 "
          ]
        }
      ]
    },
    {
      "cell_type": "code",
      "source": [
        "np.random.rand(40)"
      ],
      "metadata": {
        "colab": {
          "base_uri": "https://localhost:8080/"
        },
        "id": "clHDefVngxbv",
        "outputId": "4a85cfd7-f30a-489f-8da0-5860e4bc5e27"
      },
      "execution_count": 31,
      "outputs": [
        {
          "output_type": "execute_result",
          "data": {
            "text/plain": [
              "array([0.95530851, 0.46919325, 0.12889731, 0.61496995, 0.68756342,\n",
              "       0.50389774, 0.8333231 , 0.31576738, 0.70226358, 0.48557088,\n",
              "       0.23230052, 0.4623762 , 0.34603713, 0.97544523, 0.54608288,\n",
              "       0.77129237, 0.48477431, 0.04496187, 0.71554121, 0.68992078,\n",
              "       0.56989175, 0.73891072, 0.65956722, 0.2108907 , 0.9314241 ,\n",
              "       0.19336186, 0.92003452, 0.85990299, 0.35276899, 0.6544007 ,\n",
              "       0.94625392, 0.0484775 , 0.88812099, 0.65798254, 0.657662  ,\n",
              "       0.1780746 , 0.84259774, 0.86012087, 0.06341569, 0.17571725])"
            ]
          },
          "metadata": {},
          "execution_count": 31
        }
      ]
    },
    {
      "cell_type": "code",
      "source": [
        "a = [3, 5, 6]\n",
        "b = [1, 2, 3]\n",
        "\n",
        "print(a**b)"
      ],
      "metadata": {
        "colab": {
          "base_uri": "https://localhost:8080/",
          "height": 176
        },
        "id": "hWQ7MEpehIMb",
        "outputId": "564be603-bf2f-4534-dc87-1a4e5fd6facb"
      },
      "execution_count": 32,
      "outputs": [
        {
          "output_type": "error",
          "ename": "TypeError",
          "evalue": "unsupported operand type(s) for ** or pow(): 'list' and 'list'",
          "traceback": [
            "\u001b[0;31m---------------------------------------------------------------------------\u001b[0m",
            "\u001b[0;31mTypeError\u001b[0m                                 Traceback (most recent call last)",
            "\u001b[0;32m<ipython-input-32-014c208c3329>\u001b[0m in \u001b[0;36m<cell line: 4>\u001b[0;34m()\u001b[0m\n\u001b[1;32m      2\u001b[0m \u001b[0mb\u001b[0m \u001b[0;34m=\u001b[0m \u001b[0;34m[\u001b[0m\u001b[0;36m1\u001b[0m\u001b[0;34m,\u001b[0m \u001b[0;36m2\u001b[0m\u001b[0;34m,\u001b[0m \u001b[0;36m3\u001b[0m\u001b[0;34m]\u001b[0m\u001b[0;34m\u001b[0m\u001b[0;34m\u001b[0m\u001b[0m\n\u001b[1;32m      3\u001b[0m \u001b[0;34m\u001b[0m\u001b[0m\n\u001b[0;32m----> 4\u001b[0;31m \u001b[0mprint\u001b[0m\u001b[0;34m(\u001b[0m\u001b[0ma\u001b[0m\u001b[0;34m**\u001b[0m\u001b[0mb\u001b[0m\u001b[0;34m)\u001b[0m\u001b[0;34m\u001b[0m\u001b[0;34m\u001b[0m\u001b[0m\n\u001b[0m",
            "\u001b[0;31mTypeError\u001b[0m: unsupported operand type(s) for ** or pow(): 'list' and 'list'"
          ]
        }
      ]
    },
    {
      "cell_type": "markdown",
      "source": [
        "Need this functionality: Use arrays!\n",
        "Convert the lists to arrays\n",
        "Arrays support \"broadcasting\", i.e., doing operations element-wise"
      ],
      "metadata": {
        "id": "e0_k__zthxRg"
      }
    },
    {
      "cell_type": "code",
      "source": [
        "a = np.array([3, 5, 6])\n",
        "b = np.array([1, 2, 3])\n",
        "\n",
        "print(a**b)\n",
        "print(a+b)\n",
        "print(a*b)"
      ],
      "metadata": {
        "colab": {
          "base_uri": "https://localhost:8080/"
        },
        "id": "PbjaOIp4hmfh",
        "outputId": "3c7e669a-8a88-4186-f2d4-a83f157c647f"
      },
      "execution_count": 35,
      "outputs": [
        {
          "output_type": "stream",
          "name": "stdout",
          "text": [
            "[  3  25 216]\n",
            "[4 7 9]\n",
            "[ 3 10 18]\n"
          ]
        }
      ]
    },
    {
      "cell_type": "code",
      "source": [],
      "metadata": {
        "id": "pPCiFfIyh6Wv"
      },
      "execution_count": null,
      "outputs": []
    },
    {
      "cell_type": "markdown",
      "source": [
        "Arrays can be multidimensional, like instead of a \"vector\", or a 1D array, we can define a \"matrix\", i.e., a 2D array"
      ],
      "metadata": {
        "id": "RFwG76OIiQmj"
      }
    },
    {
      "cell_type": "code",
      "source": [
        "my_list = [[1, 2], [3, 4], [5, 6]]\n",
        "print(my_list)\n",
        "my_array = np.array(my_list)\n",
        "print(my_array)"
      ],
      "metadata": {
        "colab": {
          "base_uri": "https://localhost:8080/"
        },
        "id": "1lwHt9b3iY0w",
        "outputId": "6de53d57-3b30-4d78-aaa7-53cf7b97edfe"
      },
      "execution_count": 36,
      "outputs": [
        {
          "output_type": "stream",
          "name": "stdout",
          "text": [
            "[[1, 2], [3, 4], [5, 6]]\n",
            "[[1 2]\n",
            " [3 4]\n",
            " [5 6]]\n"
          ]
        }
      ]
    },
    {
      "cell_type": "code",
      "source": [
        "print(my_array)\n",
        "print(\" With added 1\")\n",
        "print(my_array + 1)"
      ],
      "metadata": {
        "colab": {
          "base_uri": "https://localhost:8080/"
        },
        "id": "3YstfgR2inWm",
        "outputId": "e3219349-ff2f-4311-8eb4-0f0c74e5740c"
      },
      "execution_count": 38,
      "outputs": [
        {
          "output_type": "stream",
          "name": "stdout",
          "text": [
            "[[1 2]\n",
            " [3 4]\n",
            " [5 6]]\n",
            " With added 1\n",
            "[[2 3]\n",
            " [4 5]\n",
            " [6 7]]\n"
          ]
        }
      ]
    },
    {
      "cell_type": "code",
      "source": [
        "print(my_array)\n",
        "print(\" With raising to the power of 2.65\")\n",
        "print(my_array**2.65)"
      ],
      "metadata": {
        "colab": {
          "base_uri": "https://localhost:8080/"
        },
        "id": "v_OvjpB0i467",
        "outputId": "7df199a3-5734-4c02-f2a4-afc69bb91b02"
      },
      "execution_count": 39,
      "outputs": [
        {
          "output_type": "stream",
          "name": "stdout",
          "text": [
            "[[1 2]\n",
            " [3 4]\n",
            " [5 6]]\n",
            " With raising to the power of 2.65\n",
            "[[  1.           6.27667278]\n",
            " [ 18.38109269  39.39662123]\n",
            " [ 71.16566493 115.3721042 ]]\n"
          ]
        }
      ]
    },
    {
      "cell_type": "code",
      "source": [],
      "metadata": {
        "id": "lou7tSv9jE60"
      },
      "execution_count": null,
      "outputs": []
    },
    {
      "cell_type": "markdown",
      "source": [
        "Two very important arrays of equally spaced numbers: arange and linspace"
      ],
      "metadata": {
        "id": "PA-4G96zjkmA"
      }
    },
    {
      "cell_type": "code",
      "source": [
        "a = np.arange(10)\n",
        "print(a)\n",
        "print(type(a))\n",
        "\n",
        "print (\"equally spaced real numbers\")\n",
        "b = np.linspace(0, 10, 10)\n",
        "print(b)"
      ],
      "metadata": {
        "colab": {
          "base_uri": "https://localhost:8080/"
        },
        "id": "9RDAF8zujpyu",
        "outputId": "f0c56196-0dba-463c-df33-50ed5b9dda45"
      },
      "execution_count": 43,
      "outputs": [
        {
          "output_type": "stream",
          "name": "stdout",
          "text": [
            "[0 1 2 3 4 5 6 7 8 9]\n",
            "<class 'numpy.ndarray'>\n",
            "equally spaced real numbers\n",
            "[ 0.          1.11111111  2.22222222  3.33333333  4.44444444  5.55555556\n",
            "  6.66666667  7.77777778  8.88888889 10.        ]\n"
          ]
        }
      ]
    },
    {
      "cell_type": "code",
      "source": [],
      "metadata": {
        "id": "U2BfYdU2jsa8"
      },
      "execution_count": null,
      "outputs": []
    },
    {
      "cell_type": "markdown",
      "source": [
        "Addressing individual elements of an array can be done as for lists"
      ],
      "metadata": {
        "id": "BTsqvF7MkPlS"
      }
    },
    {
      "cell_type": "code",
      "source": [
        "print(b[3])\n",
        "print(b[-2])\n",
        "print(b[2:5])\n",
        "print(b[0:9:2])"
      ],
      "metadata": {
        "colab": {
          "base_uri": "https://localhost:8080/"
        },
        "id": "-EWWRGNSkTa1",
        "outputId": "00215f62-7524-420e-9d83-119cf2197324"
      },
      "execution_count": 47,
      "outputs": [
        {
          "output_type": "stream",
          "name": "stdout",
          "text": [
            "3.3333333333333335\n",
            "8.88888888888889\n",
            "[2.22222222 3.33333333 4.44444444]\n",
            "[0.         2.22222222 4.44444444 6.66666667 8.88888889]\n"
          ]
        }
      ]
    },
    {
      "cell_type": "code",
      "source": [
        "import matplotlib.pyplot as plt\n"
      ],
      "metadata": {
        "id": "65lfrOd-keIr"
      },
      "execution_count": 48,
      "outputs": []
    },
    {
      "cell_type": "code",
      "source": [
        "x = np.linspace(-2*np.pi, 3*np.pi, 100)\n",
        "y = np.sin(x)  # array broadcasting: np.sin() received an array -> so it returned an array\n",
        "\n",
        "plt.plot(x, y, \".\")\n",
        "plt.plot(x, y)\n",
        "\n",
        "\n",
        "plt.show()\n",
        "#plt.plot(x, y)\n",
        "#plt.show()"
      ],
      "metadata": {
        "colab": {
          "base_uri": "https://localhost:8080/",
          "height": 843
        },
        "id": "ROnDZxRhmCoE",
        "outputId": "13b720a1-a7d7-44d4-833e-1c5e7fd9a33f"
      },
      "execution_count": 56,
      "outputs": [
        {
          "output_type": "display_data",
          "data": {
            "text/plain": [
              "<Figure size 640x480 with 1 Axes>"
            ],
            "image/png": "[encoded data removed]"
          },
          "metadata": {}
        },
        {
          "output_type": "display_data",
          "data": {
            "text/plain": [
              "<Figure size 640x480 with 1 Axes>"
            ],
            "image/png": "[encoded data removed]"
          },
          "metadata": {}
        }
      ]
    },
    {
      "cell_type": "markdown",
      "source": [
        "We should put axis labels, maybe a grid (later we will want to fix the aspect ratio and size too)"
      ],
      "metadata": {
        "id": "UIO_YzhynerZ"
      }
    },
    {
      "cell_type": "code",
      "source": [
        "plt.plot(x, np.sin(x))\n",
        "plt.xlabel(\"x\")\n",
        "plt.ylabel(\"sin(x)\")\n",
        "plt.grid()\n",
        "plt.show()"
      ],
      "metadata": {
        "colab": {
          "base_uri": "https://localhost:8080/",
          "height": 449
        },
        "id": "-rXbLke8mZOq",
        "outputId": "9dfd901f-3bf6-4340-9936-535274097d55"
      },
      "execution_count": 59,
      "outputs": [
        {
          "output_type": "display_data",
          "data": {
            "text/plain": [
              "<Figure size 640x480 with 1 Axes>"
            ],
            "image/png": "[encoded data removed]"
          },
          "metadata": {}
        }
      ]
    },
    {
      "cell_type": "code",
      "source": [],
      "metadata": {
        "id": "jwFzksgGnuMf"
      },
      "execution_count": null,
      "outputs": []
    }
  ]
}