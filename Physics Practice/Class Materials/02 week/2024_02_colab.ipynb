{
  "cells": [
    {
      "cell_type": "code",
      "execution_count": 1,
      "metadata": {
        "colab": {
          "base_uri": "https://localhost:8080/",
          "height": 141
        },
        "id": "jCx1K0t1SWiO",
        "outputId": "797d39b7-633d-4c70-e809-d44ea61c0605"
      },
      "outputs": [
        {
          "ename": "TypeError",
          "evalue": "list expected at most 1 argument, got 3",
          "output_type": "error",
          "traceback": [
            "\u001b[0;31m---------------------------------------------------------------------------\u001b[0m",
            "\u001b[0;31mTypeError\u001b[0m                                 Traceback (most recent call last)",
            "\u001b[0;32m<ipython-input-1-b672df31d998>\u001b[0m in \u001b[0;36m<cell line: 1>\u001b[0;34m()\u001b[0m\n\u001b[0;32m----> 1\u001b[0;31m \u001b[0mlist\u001b[0m\u001b[0;34m(\u001b[0m\u001b[0;36m3\u001b[0m\u001b[0;34m,\u001b[0m\u001b[0;36m4\u001b[0m\u001b[0;34m,\u001b[0m\u001b[0;36m5\u001b[0m\u001b[0;34m)\u001b[0m\u001b[0;34m\u001b[0m\u001b[0;34m\u001b[0m\u001b[0m\n\u001b[0m",
            "\u001b[0;31mTypeError\u001b[0m: list expected at most 1 argument, got 3"
          ]
        }
      ],
      "source": [
        "list(3,4,5)"
      ]
    },
    {
      "cell_type": "code",
      "execution_count": 8,
      "metadata": {
        "colab": {
          "base_uri": "https://localhost:8080/"
        },
        "id": "1sXTuHUKWggm",
        "outputId": "c8650731-61bc-4227-cf6d-ee3283e7d0d8"
      },
      "outputs": [
        {
          "name": "stdout",
          "output_type": "stream",
          "text": [
            "gcd =  16\n"
          ]
        }
      ],
      "source": [
        "a = 16\n",
        "b = 256\n",
        "while a>0:\n",
        "    if a<b:\n",
        "        a, b = b, a   # switch a and be without introducing extra dummy variables (python trick)\n",
        "    a = a-b\n",
        "print(\"gcd = \", b)\n"
      ]
    },
    {
      "cell_type": "markdown",
      "metadata": {
        "id": "_Dwg7xnccImT"
      },
      "source": [
        "Let's turn this into a function!\n"
      ]
    },
    {
      "cell_type": "code",
      "execution_count": 9,
      "metadata": {
        "colab": {
          "base_uri": "https://localhost:8080/"
        },
        "id": "8994mXNdb2K4",
        "outputId": "db766135-402e-4d91-f66a-8e8c531eab91"
      },
      "outputs": [
        {
          "name": "stdout",
          "output_type": "stream",
          "text": [
            "5\n",
            "4\n"
          ]
        }
      ],
      "source": [
        "def gcd(a, b):\n",
        "    while a>0:\n",
        "        if a<b:\n",
        "            a, b = b, a   # switch a and be without introducing extra dummy variables (python trick)\n",
        "        a = a-b\n",
        "    return b\n",
        "print(gcd(15, 25))\n",
        "\n",
        "test_var = gcd(16, 36)\n",
        "\n",
        "print(test_var)"
      ]
    },
    {
      "cell_type": "markdown",
      "metadata": {
        "id": "94fzFSWGc1bc"
      },
      "source": [
        "Let's make it more useful: help string and such"
      ]
    },
    {
      "cell_type": "code",
      "execution_count": 10,
      "metadata": {
        "colab": {
          "base_uri": "https://localhost:8080/"
        },
        "id": "SqVQLPeGcfBd",
        "outputId": "d041eb34-deb1-41ca-8d5f-2a42ec01e55f"
      },
      "outputs": [
        {
          "name": "stdout",
          "output_type": "stream",
          "text": [
            "5\n"
          ]
        }
      ],
      "source": [
        "def gcd(a, b):\n",
        "    \"\"\" Return the greatest common divisor of two positive integers a, b\n",
        "        Please make sure to call this function only with positive integers\n",
        "        For other types of input not tested!\n",
        "    \"\"\"\n",
        "    while a>0:\n",
        "        if a<b:\n",
        "            a, b = b, a   # switch a and be without introducing extra dummy variables (python trick)\n",
        "        a = a-b\n",
        "    return b\n",
        "print(gcd(15, 25))\n"
      ]
    },
    {
      "cell_type": "code",
      "execution_count": 11,
      "metadata": {
        "colab": {
          "base_uri": "https://localhost:8080/"
        },
        "id": "3SxYvWMCdXio",
        "outputId": "2b1409bc-4b45-446d-d584-f578829a36fd"
      },
      "outputs": [
        {
          "data": {
            "text/plain": [
              "15"
            ]
          },
          "execution_count": 11,
          "metadata": {},
          "output_type": "execute_result"
        }
      ],
      "source": [
        "gcd(45, 60)"
      ]
    },
    {
      "cell_type": "markdown",
      "metadata": {
        "id": "9KzcDMwLdsDa"
      },
      "source": [
        "Functions can also do other stuff besides producing a return value."
      ]
    },
    {
      "cell_type": "code",
      "execution_count": 12,
      "metadata": {
        "colab": {
          "base_uri": "https://localhost:8080/"
        },
        "id": "qQR7ZqxBdiuW",
        "outputId": "6dcca634-6cd2-4c11-d42d-1a947dbabc40"
      },
      "outputs": [
        {
          "name": "stdout",
          "output_type": "stream",
          "text": [
            "Hi, enthusiastic student  Janos\n",
            " Please participate actively in the course physics\n"
          ]
        }
      ],
      "source": [
        "def print_welcome_message(my_name, course_name):\n",
        "    print(\"Hi, enthusiastic student \", my_name)\n",
        "    print(\" Please participate actively in the course\", course_name)\n",
        "\n",
        "print_welcome_message(\"Janos\", \"physics\")"
      ]
    },
    {
      "cell_type": "code",
      "execution_count": null,
      "metadata": {
        "id": "Fe_L9_VffJF8"
      },
      "outputs": [],
      "source": []
    },
    {
      "cell_type": "code",
      "execution_count": null,
      "metadata": {
        "id": "Kne4Ln-GfJDI"
      },
      "outputs": [],
      "source": []
    },
    {
      "cell_type": "markdown",
      "metadata": {
        "id": "MTK9E68GezVk"
      },
      "source": [
        "If we want to be more flexible with the order of arguments, we can use named arguments / clarify later\n"
      ]
    },
    {
      "cell_type": "code",
      "execution_count": 13,
      "metadata": {
        "colab": {
          "base_uri": "https://localhost:8080/",
          "height": 176
        },
        "id": "SvBbFyRieF5D",
        "outputId": "b254f20b-4c3f-42bd-8dc0-97f9ce4bde9b"
      },
      "outputs": [
        {
          "ename": "NameError",
          "evalue": "name 'my_name' is not defined",
          "output_type": "error",
          "traceback": [
            "\u001b[0;31m---------------------------------------------------------------------------\u001b[0m",
            "\u001b[0;31mNameError\u001b[0m                                 Traceback (most recent call last)",
            "Cell \u001b[0;32mIn[13], line 1\u001b[0m\n\u001b[0;32m----> 1\u001b[0m \u001b[38;5;28;01mdef\u001b[39;00m \u001b[38;5;21mprint_welcome_message\u001b[39m(name\u001b[38;5;241m=\u001b[39m\u001b[43mmy_name\u001b[49m, course\u001b[38;5;241m=\u001b[39mcourse_name):\n\u001b[1;32m      2\u001b[0m     \u001b[38;5;28mprint\u001b[39m(\u001b[38;5;124m\"\u001b[39m\u001b[38;5;124mHi, enthusiastic student \u001b[39m\u001b[38;5;124m\"\u001b[39m, my_name)\n\u001b[1;32m      3\u001b[0m     \u001b[38;5;28mprint\u001b[39m(\u001b[38;5;124m\"\u001b[39m\u001b[38;5;124m Please participate actively in the course\u001b[39m\u001b[38;5;124m\"\u001b[39m, course_name)\n",
            "\u001b[0;31mNameError\u001b[0m: name 'my_name' is not defined"
          ]
        }
      ],
      "source": [
        "def print_welcome_message(name=my_name, course=course_name):\n",
        "    print(\"Hi, enthusiastic student \", my_name)\n",
        "    print(\" Please participate actively in the course\", course_name)\n"
      ]
    },
    {
      "cell_type": "code",
      "execution_count": null,
      "metadata": {
        "id": "g4Heo7o2e82X"
      },
      "outputs": [],
      "source": []
    },
    {
      "cell_type": "markdown",
      "metadata": {
        "id": "TCj4wbjefMPc"
      },
      "source": [
        "For more serious maths, we use a module called numpy"
      ]
    },
    {
      "cell_type": "code",
      "execution_count": 14,
      "metadata": {
        "colab": {
          "base_uri": "https://localhost:8080/"
        },
        "id": "iVdQ1PUWfPgN",
        "outputId": "5d2ab57b-68a5-478d-c478-7feebd21b9c2"
      },
      "outputs": [
        {
          "name": "stdout",
          "output_type": "stream",
          "text": [
            "1.2246467991473532e-16\n"
          ]
        }
      ],
      "source": [
        "import numpy as np\n",
        "\n",
        "#b = sin(pi)\n",
        "b = np.sin(np.pi)\n",
        "print(b)"
      ]
    },
    {
      "cell_type": "code",
      "execution_count": 15,
      "metadata": {
        "colab": {
          "base_uri": "https://localhost:8080/"
        },
        "id": "w2pSTG2DflxG",
        "outputId": "9adc1292-e8d1-48f9-ca21-7cbf65a6c15b"
      },
      "outputs": [
        {
          "data": {
            "text/plain": [
              "30.0"
            ]
          },
          "execution_count": 15,
          "metadata": {},
          "output_type": "execute_result"
        }
      ],
      "source": [
        "np.arcsin(0.5)/np.pi*180"
      ]
    },
    {
      "cell_type": "code",
      "execution_count": 16,
      "metadata": {
        "id": "E_1sDsvwgV0b"
      },
      "outputs": [],
      "source": [
        "from numpy.random import randint"
      ]
    },
    {
      "cell_type": "code",
      "execution_count": 17,
      "metadata": {
        "colab": {
          "base_uri": "https://localhost:8080/"
        },
        "id": "5hcfHIkWgt9x",
        "outputId": "4c34c598-5453-4f92-b751-ab57fc0ac465"
      },
      "outputs": [
        {
          "name": "stdout",
          "output_type": "stream",
          "text": [
            "6 7 3 2 12 12 9 7 10 10 5 13 3 11 3 12 9 3 9 0 8 14 2 0 9 5 5 12 0 14 14 9 5 4 12 0 14 4 2 6 "
          ]
        }
      ],
      "source": [
        "for j in range(40):\n",
        "    print(randint(15), end=\" \")"
      ]
    },
    {
      "cell_type": "code",
      "execution_count": 18,
      "metadata": {
        "colab": {
          "base_uri": "https://localhost:8080/"
        },
        "id": "clHDefVngxbv",
        "outputId": "4a85cfd7-f30a-489f-8da0-5860e4bc5e27"
      },
      "outputs": [
        {
          "data": {
            "text/plain": [
              "array([0.14400761, 0.8088211 , 0.63784822, 0.35485661, 0.17581482,\n",
              "       0.70731947, 0.53214575, 0.80994896, 0.21043083, 0.93527133,\n",
              "       0.85869958, 0.11431161, 0.60341439, 0.66478351, 0.81917371,\n",
              "       0.55548912, 0.21018646, 0.22495673, 0.95330902, 0.74819243,\n",
              "       0.20950874, 0.84776771, 0.31667699, 0.11888962, 0.39278541,\n",
              "       0.55959347, 0.96029636, 0.84751637, 0.81102089, 0.38328759,\n",
              "       0.47745305, 0.01009797, 0.82193134, 0.54581383, 0.16311279,\n",
              "       0.98761667, 0.25805663, 0.99235195, 0.53307942, 0.80179625])"
            ]
          },
          "execution_count": 18,
          "metadata": {},
          "output_type": "execute_result"
        }
      ],
      "source": [
        "np.random.rand(40)"
      ]
    },
    {
      "cell_type": "code",
      "execution_count": 19,
      "metadata": {
        "colab": {
          "base_uri": "https://localhost:8080/",
          "height": 176
        },
        "id": "hWQ7MEpehIMb",
        "outputId": "564be603-bf2f-4534-dc87-1a4e5fd6facb"
      },
      "outputs": [
        {
          "ename": "TypeError",
          "evalue": "unsupported operand type(s) for ** or pow(): 'list' and 'list'",
          "output_type": "error",
          "traceback": [
            "\u001b[0;31m---------------------------------------------------------------------------\u001b[0m",
            "\u001b[0;31mTypeError\u001b[0m                                 Traceback (most recent call last)",
            "Cell \u001b[0;32mIn[19], line 4\u001b[0m\n\u001b[1;32m      1\u001b[0m a \u001b[38;5;241m=\u001b[39m [\u001b[38;5;241m3\u001b[39m, \u001b[38;5;241m5\u001b[39m, \u001b[38;5;241m6\u001b[39m]\n\u001b[1;32m      2\u001b[0m b \u001b[38;5;241m=\u001b[39m [\u001b[38;5;241m1\u001b[39m, \u001b[38;5;241m2\u001b[39m, \u001b[38;5;241m3\u001b[39m]\n\u001b[0;32m----> 4\u001b[0m \u001b[38;5;28mprint\u001b[39m(\u001b[43ma\u001b[49m\u001b[38;5;241;43m*\u001b[39;49m\u001b[38;5;241;43m*\u001b[39;49m\u001b[43mb\u001b[49m)\n",
            "\u001b[0;31mTypeError\u001b[0m: unsupported operand type(s) for ** or pow(): 'list' and 'list'"
          ]
        }
      ],
      "source": [
        "a = [3, 5, 6]\n",
        "b = [1, 2, 3]\n",
        "\n",
        "print(a**b)"
      ]
    },
    {
      "cell_type": "markdown",
      "metadata": {
        "id": "e0_k__zthxRg"
      },
      "source": [
        "Need this functionality: Use arrays!\n",
        "Convert the lists to arrays\n",
        "Arrays support \"broadcasting\", i.e., doing operations element-wise"
      ]
    },
    {
      "cell_type": "code",
      "execution_count": 20,
      "metadata": {
        "colab": {
          "base_uri": "https://localhost:8080/"
        },
        "id": "PbjaOIp4hmfh",
        "outputId": "3c7e669a-8a88-4186-f2d4-a83f157c647f"
      },
      "outputs": [
        {
          "name": "stdout",
          "output_type": "stream",
          "text": [
            "[  3  25 216]\n",
            "[4 7 9]\n",
            "[ 3 10 18]\n"
          ]
        }
      ],
      "source": [
        "a = np.array([3, 5, 6])\n",
        "b = np.array([1, 2, 3])\n",
        "\n",
        "print(a**b)\n",
        "print(a+b)\n",
        "print(a*b)"
      ]
    },
    {
      "cell_type": "code",
      "execution_count": null,
      "metadata": {
        "id": "pPCiFfIyh6Wv"
      },
      "outputs": [],
      "source": []
    },
    {
      "cell_type": "markdown",
      "metadata": {
        "id": "RFwG76OIiQmj"
      },
      "source": [
        "Arrays can be multidimensional, like instead of a \"vector\", or a 1D array, we can define a \"matrix\", i.e., a 2D array"
      ]
    },
    {
      "cell_type": "code",
      "execution_count": 21,
      "metadata": {
        "colab": {
          "base_uri": "https://localhost:8080/"
        },
        "id": "1lwHt9b3iY0w",
        "outputId": "6de53d57-3b30-4d78-aaa7-53cf7b97edfe"
      },
      "outputs": [
        {
          "name": "stdout",
          "output_type": "stream",
          "text": [
            "[[1, 2], [3, 4], [5, 6]]\n",
            "[[1 2]\n",
            " [3 4]\n",
            " [5 6]]\n"
          ]
        }
      ],
      "source": [
        "my_list = [[1, 2], [3, 4], [5, 6]]\n",
        "print(my_list)\n",
        "my_array = np.array(my_list)\n",
        "print(my_array)"
      ]
    },
    {
      "cell_type": "code",
      "execution_count": 22,
      "metadata": {
        "colab": {
          "base_uri": "https://localhost:8080/"
        },
        "id": "3YstfgR2inWm",
        "outputId": "e3219349-ff2f-4311-8eb4-0f0c74e5740c"
      },
      "outputs": [
        {
          "name": "stdout",
          "output_type": "stream",
          "text": [
            "[[1 2]\n",
            " [3 4]\n",
            " [5 6]]\n",
            " With added 1\n",
            "[[2 3]\n",
            " [4 5]\n",
            " [6 7]]\n"
          ]
        }
      ],
      "source": [
        "print(my_array)\n",
        "print(\" With added 1\")\n",
        "print(my_array + 1)"
      ]
    },
    {
      "cell_type": "code",
      "execution_count": 23,
      "metadata": {
        "colab": {
          "base_uri": "https://localhost:8080/"
        },
        "id": "v_OvjpB0i467",
        "outputId": "7df199a3-5734-4c02-f2a4-afc69bb91b02"
      },
      "outputs": [
        {
          "name": "stdout",
          "output_type": "stream",
          "text": [
            "[[1 2]\n",
            " [3 4]\n",
            " [5 6]]\n",
            " With raising to the power of 2.65\n",
            "[[  1.           6.27667278]\n",
            " [ 18.38109269  39.39662123]\n",
            " [ 71.16566493 115.3721042 ]]\n"
          ]
        }
      ],
      "source": [
        "print(my_array)\n",
        "print(\" With raising to the power of 2.65\")\n",
        "print(my_array**2.65)"
      ]
    },
    {
      "cell_type": "code",
      "execution_count": null,
      "metadata": {
        "id": "lou7tSv9jE60"
      },
      "outputs": [],
      "source": []
    },
    {
      "cell_type": "markdown",
      "metadata": {
        "id": "PA-4G96zjkmA"
      },
      "source": [
        "Two very important arrays of equally spaced numbers: arange and linspace"
      ]
    },
    {
      "cell_type": "code",
      "execution_count": 31,
      "metadata": {
        "colab": {
          "base_uri": "https://localhost:8080/"
        },
        "id": "9RDAF8zujpyu",
        "outputId": "f0c56196-0dba-463c-df33-50ed5b9dda45"
      },
      "outputs": [
        {
          "name": "stdout",
          "output_type": "stream",
          "text": [
            "[0 1 2 3 4 5 6 7 8 9]\n",
            "<class 'numpy.ndarray'>\n",
            "equally spaced real numbers\n",
            "[ 1.          1.64285714  2.28571429  2.92857143  3.57142857  4.21428571\n",
            "  4.85714286  5.5         6.14285714  6.78571429  7.42857143  8.07142857\n",
            "  8.71428571  9.35714286 10.        ]\n"
          ]
        }
      ],
      "source": [
        "a = np.arange(10)\n",
        "print(a)\n",
        "print(type(a))\n",
        "\n",
        "print (\"equally spaced real numbers\")\n",
        "b = np.linspace(1, 10, 15)\n",
        "print(b)"
      ]
    },
    {
      "cell_type": "code",
      "execution_count": null,
      "metadata": {
        "id": "U2BfYdU2jsa8"
      },
      "outputs": [],
      "source": []
    },
    {
      "cell_type": "markdown",
      "metadata": {
        "id": "BTsqvF7MkPlS"
      },
      "source": [
        "Addressing individual elements of an array can be done as for lists"
      ]
    },
    {
      "cell_type": "code",
      "execution_count": 37,
      "metadata": {
        "colab": {
          "base_uri": "https://localhost:8080/"
        },
        "id": "-EWWRGNSkTa1",
        "outputId": "00215f62-7524-420e-9d83-119cf2197324"
      },
      "outputs": [
        {
          "name": "stdout",
          "output_type": "stream",
          "text": [
            "1.0\n",
            "1.6428571428571428\n",
            "2.928571428571429\n",
            "9.357142857142858\n",
            "[2.28571429 2.92857143 3.57142857]\n",
            "[1.         2.28571429 3.57142857 4.85714286 6.14285714]\n"
          ]
        }
      ],
      "source": [
        "print(b[0])\n",
        "print(b[1])\n",
        "print(b[3])\n",
        "print(b[-2])\n",
        "print(b[2:5])\n",
        "print(b[0:9:2])"
      ]
    },
    {
      "cell_type": "code",
      "execution_count": 33,
      "metadata": {
        "id": "65lfrOd-keIr"
      },
      "outputs": [],
      "source": [
        "import matplotlib.pyplot as plt\n"
      ]
    },
    {
      "cell_type": "code",
      "execution_count": 44,
      "metadata": {
        "colab": {
          "base_uri": "https://localhost:8080/",
          "height": 843
        },
        "id": "ROnDZxRhmCoE",
        "outputId": "13b720a1-a7d7-44d4-833e-1c5e7fd9a33f"
      },
      "outputs": [
        {
          "data": {
            "image/png": "[encoded data removed]",
            "text/plain": [
              "<Figure size 640x480 with 1 Axes>"
            ]
          },
          "metadata": {},
          "output_type": "display_data"
        }
      ],
      "source": [
        "x = np.linspace(-2*np.pi, 3*np.pi, 100)\n",
        "y = np.sin(x)  # array broadcasting: np.sin() received an array -> so it returned an array\n",
        "\n",
        "plt.plot(x, y, \".\")\n",
        "plt.plot(x, y)\n",
        "\n",
        "\n",
        "plt.show()\n",
        "#plt.plot(x, y)\n",
        "#plt.show()"
      ]
    },
    {
      "cell_type": "markdown",
      "metadata": {
        "id": "UIO_YzhynerZ"
      },
      "source": [
        "We should put axis labels, maybe a grid (later we will want to fix the aspect ratio and size too)"
      ]
    },
    {
      "cell_type": "code",
      "execution_count": 35,
      "metadata": {
        "colab": {
          "base_uri": "https://localhost:8080/",
          "height": 449
        },
        "id": "-rXbLke8mZOq",
        "outputId": "9dfd901f-3bf6-4340-9936-535274097d55"
      },
      "outputs": [
        {
          "data": {
            "image/png": "[encoded data removed]",
            "text/plain": [
              "<Figure size 640x480 with 1 Axes>"
            ]
          },
          "metadata": {},
          "output_type": "display_data"
        }
      ],
      "source": [
        "plt.plot(x, np.sin(x))\n",
        "plt.xlabel(\"x\")\n",
        "plt.ylabel(\"sin(x)\")\n",
        "plt.grid()\n",
        "plt.show()"
      ]
    },
    {
      "cell_type": "code",
      "execution_count": null,
      "metadata": {
        "id": "jwFzksgGnuMf"
      },
      "outputs": [],
      "source": []
    }
  ],
  "metadata": {
    "colab": {
      "provenance": []
    },
    "kernelspec": {
      "display_name": "Python 3",
      "name": "python3"
    },
    "language_info": {
      "codemirror_mode": {
        "name": "ipython",
        "version": 3
      },
      "file_extension": ".py",
      "mimetype": "text/x-python",
      "name": "python",
      "nbconvert_exporter": "python",
      "pygments_lexer": "ipython3",
      "version": "3.11.5"
    }
  },
  "nbformat": 4,
  "nbformat_minor": 0
}
