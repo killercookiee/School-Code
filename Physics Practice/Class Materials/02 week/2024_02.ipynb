{
 "cells": [
  {
   "cell_type": "markdown",
   "id": "5d0ae391",
   "metadata": {
    "id": "oyqu1vi3McST"
   },
   "source": [
    "# Functions\n",
    "\n",
    "A common practice in programming languages is to wrap algorithms into functions. This can result in shorter and much more easy-to-read code.\n",
    "\n",
    "This is not very different from how this is done in usual mathematics. For example, the function \n",
    "\n",
    "$\\sin(x)$\n",
    "\n",
    "is defined for $0<x<90^\\circ$ as the ratio between two sides of a right-angled triangle. \n",
    "\n",
    "The function \n",
    "\n",
    "$\\arcsin(x)$\n",
    "\n",
    "is defined as the inverse of the sin function. \n",
    "\n",
    "The function \n",
    "\n",
    "gcd($x, y$)\n",
    "\n",
    "is defined as the greatest common divisor.\n",
    "\n",
    "\n",
    "\n"
   ]
  },
  {
   "cell_type": "code",
   "execution_count": 1,
   "id": "aa60228a",
   "metadata": {},
   "outputs": [
    {
     "name": "stdout",
     "output_type": "stream",
     "text": [
      "1.1\n",
      "2.3\n"
     ]
    }
   ],
   "source": [
    "def add_one(x):\n",
    "    return x+1\n",
    "print(add_one(0.1))\n",
    "print(add_one(1.3))\n",
    "\n"
   ]
  },
  {
   "cell_type": "code",
   "execution_count": 2,
   "id": "90385bf2",
   "metadata": {
    "id": "mmF97WfhMcSU"
   },
   "outputs": [],
   "source": [
    "def fibonacci(sequence_length):     # use \"def\" to define a function\n",
    "    \"\"\"Computes and returns the first few elements\n",
    "    of the Fibonacci sequence \"\"\"   # good practice to write help strings\n",
    "    sequence = [0,1]\n",
    "    if 0 < sequence_length < 3:\n",
    "        return sequence[:sequence_length]\n",
    "    for i in range(2,sequence_length):\n",
    "        sequence.append(sequence[i-1]+sequence[i-2])\n",
    "        print(i)\n",
    "    return sequence"
   ]
  },
  {
   "cell_type": "code",
   "execution_count": 3,
   "id": "fa87a8bc",
   "metadata": {},
   "outputs": [
    {
     "name": "stdout",
     "output_type": "stream",
     "text": [
      "2\n",
      "3\n",
      "4\n",
      "5\n",
      "6\n",
      "7\n",
      "8\n",
      "9\n",
      "10\n"
     ]
    }
   ],
   "source": [
    "b = fibonacci(11)"
   ]
  },
  {
   "cell_type": "code",
   "execution_count": 4,
   "id": "d4d32bee",
   "metadata": {},
   "outputs": [
    {
     "name": "stdout",
     "output_type": "stream",
     "text": [
      "[0, 1, 1, 2, 3, 5, 8, 13, 21, 34, 55]\n"
     ]
    }
   ],
   "source": [
    "print(b)"
   ]
  },
  {
   "cell_type": "code",
   "execution_count": 5,
   "id": "1dc9d879",
   "metadata": {},
   "outputs": [
    {
     "name": "stdout",
     "output_type": "stream",
     "text": [
      "2\n",
      "3\n",
      "4\n"
     ]
    }
   ],
   "source": [
    "ll = fibonacci(5)\n",
    "#print(ll)\n",
    "#for j in ll:\n",
    "#    print(j)"
   ]
  },
  {
   "cell_type": "code",
   "execution_count": 6,
   "id": "3af972dd",
   "metadata": {
    "colab": {
     "base_uri": "https://localhost:8080/"
    },
    "id": "cEawI826McSU",
    "outputId": "e969cce2-c9ee-472f-aac7-a6bca72addf8"
   },
   "outputs": [
    {
     "name": "stdout",
     "output_type": "stream",
     "text": [
      "2\n",
      "3\n",
      "4\n"
     ]
    },
    {
     "data": {
      "text/plain": [
       "[0, 1, 1, 2, 3]"
      ]
     },
     "execution_count": 6,
     "metadata": {},
     "output_type": "execute_result"
    }
   ],
   "source": [
    "fibonacci(5)"
   ]
  },
  {
   "cell_type": "markdown",
   "id": "49543e10",
   "metadata": {
    "id": "TY1HWZUyMcSU"
   },
   "source": [
    "Let's go through this! The semicolon and the indentation define the block of the definition of the function.\n",
    "\n",
    "Every well written function should begin with a documentation string, which can be retrieved using the command  **help**:"
   ]
  },
  {
   "cell_type": "code",
   "execution_count": 7,
   "id": "7cd0525e",
   "metadata": {
    "colab": {
     "base_uri": "https://localhost:8080/"
    },
    "id": "Bn2NKGJkMcSU",
    "outputId": "3b2bcb19-09e0-4f51-9d37-e44d86572369"
   },
   "outputs": [
    {
     "name": "stdout",
     "output_type": "stream",
     "text": [
      "Help on function fibonacci in module __main__:\n",
      "\n",
      "fibonacci(sequence_length)\n",
      "    Computes and returns the first few elements\n",
      "    of the Fibonacci sequence\n",
      "\n"
     ]
    }
   ],
   "source": [
    "help(fibonacci)"
   ]
  },
  {
   "cell_type": "markdown",
   "id": "a54e3e44",
   "metadata": {
    "id": "MwjVKLTLMcSU"
   },
   "source": [
    "Not in Google colab, but in a usual jupyter notebook, the docstring can also be accessed via  ? :"
   ]
  },
  {
   "cell_type": "code",
   "execution_count": 8,
   "id": "f6d19d85",
   "metadata": {
    "id": "iyvrOhEZMcSU"
   },
   "outputs": [
    {
     "name": "stdout",
     "output_type": "stream",
     "text": [
      "\u001b[0;31mSignature:\u001b[0m \u001b[0mfibonacci\u001b[0m\u001b[0;34m(\u001b[0m\u001b[0msequence_length\u001b[0m\u001b[0;34m)\u001b[0m\u001b[0;34m\u001b[0m\u001b[0;34m\u001b[0m\u001b[0m\n",
      "\u001b[0;31mDocstring:\u001b[0m\n",
      "Computes and returns the first few elements\n",
      "of the Fibonacci sequence \n",
      "\u001b[0;31mFile:\u001b[0m      /var/folders/dy/crwmhrjj0cqbyz9960bfh8zm0000gn/T/ipykernel_44954/2605666817.py\n",
      "\u001b[0;31mType:\u001b[0m      function"
     ]
    }
   ],
   "source": [
    "?fibonacci"
   ]
  },
  {
   "cell_type": "markdown",
   "id": "998b6cd7",
   "metadata": {
    "id": "3uIwOp_rMcSV"
   },
   "source": [
    "Even better, we can view the `docstring` as a kind of help in `jupyter` by moving the cursor to the function, and pressing SHIFT+TAB. Holding SHIFT pressed, and pressing TAB again and again gives a larger display of the help string, even moving it to a separate window.\n",
    "\n",
    "On Google Colab, this works by \"Ctrl+SPACE\""
   ]
  },
  {
   "cell_type": "code",
   "execution_count": 38,
   "id": "4f40967f",
   "metadata": {
    "id": "D7Xw8e-QMcSV",
    "outputId": "ec1ba851-55ee-45f8-c3a3-af9f2059b7ea"
   },
   "outputs": [
    {
     "name": "stdout",
     "output_type": "stream",
     "text": [
      "2\n"
     ]
    },
    {
     "data": {
      "text/plain": [
       "[0, 1, 1]"
      ]
     },
     "execution_count": 38,
     "metadata": {},
     "output_type": "execute_result"
    }
   ],
   "source": [
    "fibonacci(3)"
   ]
  },
  {
   "cell_type": "markdown",
   "id": "4ac65a16",
   "metadata": {
    "id": "a1PaE9PwMcSV"
   },
   "source": [
    "A function usually returns a value, this is specified by the keyword **`return`**. We can also choose not to have a  **`return`** then our function returns the value **None**. If function is exited without performing the  **`return`**, it also returns with the value **None**. Our function  **fibonacci** returns a list:"
   ]
  },
  {
   "cell_type": "code",
   "execution_count": 37,
   "id": "c9a44df3",
   "metadata": {
    "id": "VqsYHUJ4McSW",
    "outputId": "ddd2424e-a2de-4c97-eb58-b8abc69be5b1"
   },
   "outputs": [
    {
     "name": "stdout",
     "output_type": "stream",
     "text": [
      "2\n",
      "3\n",
      "4\n",
      "5\n",
      "6\n",
      "7\n",
      "8\n",
      "9\n",
      "10\n",
      "11\n",
      "12\n",
      "13\n",
      "14\n",
      "15\n",
      "16\n",
      "17\n",
      "18\n",
      "19\n",
      "20\n",
      "21\n",
      "22\n",
      "23\n",
      "24\n",
      "25\n",
      "26\n",
      "27\n",
      "28\n",
      "29\n",
      "[0, 1, 1, 2, 3, 5, 8, 13, 21, 34, 55, 89, 144, 233, 377, 610, 987, 1597, 2584, 4181, 6765, 10946, 17711, 28657, 46368, 75025, 121393, 196418, 317811, 514229]\n"
     ]
    }
   ],
   "source": [
    "x=fibonacci(30)\n",
    "print(x)"
   ]
  },
  {
   "cell_type": "markdown",
   "id": "6ba6003d",
   "metadata": {
    "id": "ABi4XSLLMcSW"
   },
   "source": [
    "This is a function with no return -- but is does something"
   ]
  },
  {
   "cell_type": "code",
   "execution_count": 39,
   "id": "f0140b5e",
   "metadata": {
    "id": "AqwRAWaOMcSW"
   },
   "outputs": [],
   "source": [
    "def empty_function(x):\n",
    "    print('I am an empty function,\\n no talk,\\n but I run!!')\n",
    "    y=x-2"
   ]
  },
  {
   "cell_type": "markdown",
   "id": "402a4715",
   "metadata": {
    "id": "-4RkUAxuMcSX"
   },
   "source": [
    "This can result in no value for the variable **z**:"
   ]
  },
  {
   "cell_type": "code",
   "execution_count": 13,
   "id": "6cf96b46",
   "metadata": {
    "id": "aWWhjrX-McSX",
    "outputId": "ebc3549c-3c38-4df7-befb-c0bd6774f744"
   },
   "outputs": [
    {
     "name": "stdout",
     "output_type": "stream",
     "text": [
      "I am an empty function,\n",
      " no talk,\n",
      " but I run!!\n",
      "4\n"
     ]
    }
   ],
   "source": [
    "y = 4\n",
    "z = empty_function(3)\n",
    "print(y)"
   ]
  },
  {
   "cell_type": "code",
   "execution_count": 14,
   "id": "3caa6621",
   "metadata": {
    "id": "F-psmBNyMcSX",
    "outputId": "bb376fbb-e243-4a9c-9e8c-a2015a9309ad"
   },
   "outputs": [
    {
     "name": "stdout",
     "output_type": "stream",
     "text": [
      "None\n"
     ]
    }
   ],
   "source": [
    "print(z)"
   ]
  },
  {
   "cell_type": "markdown",
   "id": "076d8a2d",
   "metadata": {
    "id": "WhX00Hd9McSX"
   },
   "source": [
    "A function can have multiple arguments, i.e., variables:"
   ]
  },
  {
   "cell_type": "code",
   "execution_count": 15,
   "id": "24bf5490",
   "metadata": {
    "id": "XdBYqVNYMcSX"
   },
   "outputs": [],
   "source": [
    "def adder(a,b):\n",
    "    return a+b"
   ]
  },
  {
   "cell_type": "code",
   "execution_count": 16,
   "id": "01352467",
   "metadata": {},
   "outputs": [
    {
     "data": {
      "text/plain": [
       "3"
      ]
     },
     "execution_count": 16,
     "metadata": {},
     "output_type": "execute_result"
    }
   ],
   "source": [
    "adder(1, 2)"
   ]
  },
  {
   "cell_type": "markdown",
   "id": "a9be9d3c",
   "metadata": {
    "id": "7QyPp9yIMcSY"
   },
   "source": [
    "A function can return multiple variables. Python allows this too."
   ]
  },
  {
   "cell_type": "code",
   "execution_count": 17,
   "id": "500b63ce",
   "metadata": {
    "id": "nKobfbE6McSY"
   },
   "outputs": [],
   "source": [
    "def plusminus(a,b):\n",
    "    return a+b,a-b"
   ]
  },
  {
   "cell_type": "code",
   "execution_count": 18,
   "id": "0a6fe39f",
   "metadata": {
    "id": "sKzaF8r3McSY",
    "outputId": "8491ddff-5890-4e49-a067-eaac69b6374c"
   },
   "outputs": [
    {
     "name": "stdout",
     "output_type": "stream",
     "text": [
      "5\n",
      "-1\n"
     ]
    }
   ],
   "source": [
    "p,m=plusminus(2,3)\n",
    "print (p)\n",
    "print (m)"
   ]
  },
  {
   "cell_type": "code",
   "execution_count": 19,
   "id": "f796c7bb",
   "metadata": {
    "id": "HsrbpTjSMcSY",
    "outputId": "52225892-c8ab-48ac-e1a1-71f31f4e1eb6"
   },
   "outputs": [
    {
     "name": "stdout",
     "output_type": "stream",
     "text": [
      "(7, -1)\n"
     ]
    }
   ],
   "source": [
    "c = plusminus(3, 4)\n",
    "print(c)"
   ]
  },
  {
   "cell_type": "markdown",
   "id": "4c8e0142",
   "metadata": {
    "id": "IwrPIHw5JNu-"
   },
   "source": [
    "# [Modules]: standing on the shoulders of giants\n",
    "\n",
    "In `Python`, just like in any other modern computer language, we can build our code using many prewritten, highly efficient functions. These are grouped into packages and modules, to be imported using - you guessed it -  `import`.\n",
    "\n",
    "A module is a `Python` file containing definition of functions and classes. This usually has the extension `.py`. A package is a collection of modules, sometimes divided to subpackages. We will now review some useful functions, data types in `numpy`, `matplotlib` and `csv` packages.   \n",
    "\n",
    "The first step is importing."
   ]
  },
  {
   "cell_type": "code",
   "execution_count": 40,
   "id": "808ee145",
   "metadata": {
    "id": "UA_kzXuBJNvB"
   },
   "outputs": [],
   "source": [
    "import numpy as np"
   ]
  },
  {
   "cell_type": "markdown",
   "id": "4240836a",
   "metadata": {
    "id": "KQ97I2-dJNvD"
   },
   "source": [
    "Now we have imported the `numpy` module, short for numerical python, we can use all its functions and data types. We also gave it a shorter name so it is faster to reference. You can use any shorter name you like, but almost always \"np\" is used.\n",
    "\n",
    "\n",
    "Most mathematical functions are part of numpy. For example:"
   ]
  },
  {
   "cell_type": "code",
   "execution_count": 41,
   "id": "3461d77a",
   "metadata": {
    "id": "KJIdNII-JNvD",
    "outputId": "65d1b537-c103-4cc1-dd07-856bf87686d5"
   },
   "outputs": [
    {
     "data": {
      "text/plain": [
       "1.2246467991473532e-16"
      ]
     },
     "execution_count": 41,
     "metadata": {},
     "output_type": "execute_result"
    }
   ],
   "source": [
    "np.sin(np.pi)"
   ]
  },
  {
   "cell_type": "markdown",
   "id": "063b1e20",
   "metadata": {
    "id": "7iUuDmpBJNvE"
   },
   "source": [
    "As illustrated above, when we use functions from a module, we have to specify the module. This is important because different modules can have different implementations of the same function. The syntax is:\n",
    "\n",
    ">```python\n",
    "module_name.function_name(...)\n",
    "```\n",
    "\n",
    "A module can contain predefined constants too."
   ]
  },
  {
   "cell_type": "code",
   "execution_count": 42,
   "id": "d87da8e7",
   "metadata": {
    "id": "_JQXnqesJNvE",
    "outputId": "208eb312-c7c7-48cc-fbe8-9dfa55a6e595"
   },
   "outputs": [
    {
     "name": "stdout",
     "output_type": "stream",
     "text": [
      "e =  2.718281828459045\n",
      "pi = 3.141592653589793115997963468544  --  but not that precise \n",
      "pi = 3.14159265358979323846264338327950288419716939937510\n"
     ]
    }
   ],
   "source": [
    "print(\"e = \", np.e)\n",
    "print(\"pi = %.30f  --  but not that precise \"%np.pi)\n",
    "print(\"pi = 3.14159265358979323846264338327950288419716939937510\")"
   ]
  },
  {
   "cell_type": "markdown",
   "id": "1ec6f234",
   "metadata": {
    "id": "fy-RvrxvJNvF"
   },
   "source": [
    "Some large modules have submodules, to reference as\n",
    ">```python\n",
    "module.submodule.function(...)\n",
    "```\n",
    "\n",
    "For example, `numpy` has random number implementations in the `random` submodule. The cell below generates a random integer between $0$ and $99$, with the function `randint` from the `random` submodule of the `numpy` module of python."
   ]
  },
  {
   "cell_type": "code",
   "execution_count": 43,
   "id": "80671af1",
   "metadata": {
    "id": "hyByCFQ3JNvF",
    "outputId": "bd159510-cbcc-47c0-8e5b-e50fde69f4cd"
   },
   "outputs": [
    {
     "data": {
      "text/plain": [
       "34"
      ]
     },
     "execution_count": 43,
     "metadata": {},
     "output_type": "execute_result"
    }
   ],
   "source": [
    "np.random.randint(100)  # a random integer between 0 and 99 "
   ]
  },
  {
   "cell_type": "markdown",
   "id": "cdf771f4",
   "metadata": {
    "id": "AmENW00WJNvG"
   },
   "source": [
    "You might need just some functions from a module or submodule. You can import these specifically, for example:\n"
   ]
  },
  {
   "cell_type": "code",
   "execution_count": 44,
   "id": "991c296d",
   "metadata": {
    "id": "auIwpmsWJNvG"
   },
   "outputs": [],
   "source": [
    "from numpy.random import randint"
   ]
  },
  {
   "cell_type": "markdown",
   "id": "37faa64b",
   "metadata": {
    "id": "353p2KF_JNvG"
   },
   "source": [
    "Now we can use it without referencing the module:"
   ]
  },
  {
   "cell_type": "code",
   "execution_count": 56,
   "id": "6ceabf69",
   "metadata": {
    "id": "V5R6qu5lJNvG",
    "outputId": "11352bd1-2cd5-4532-b6c8-a782b3b7ba8c"
   },
   "outputs": [
    {
     "name": "stdout",
     "output_type": "stream",
     "text": [
      "3 5 4 9 8 8 3 8 3 0 3 7 1 6 6 8 2 8 1 2 0 6 8 9 7 5 7 9 7 0 \n",
      " or simply \n",
      "[2 5 9 5 2 1 6 2 1 3 2 7 6 5 3 0 2 5 3 4 1 4 4 5 2 9 0 8 9 6]\n"
     ]
    }
   ],
   "source": [
    "for j in range(30):\n",
    "    print(randint(10), end=\" \")\n",
    "print(\"\\n or simply \")\n",
    "print(np.array(randint(0, 10, 30)))"
   ]
  },
  {
   "cell_type": "markdown",
   "id": "75dcb266",
   "metadata": {
    "id": "wI-J7BoxJNvH"
   },
   "source": [
    "You can decide to import all functions and constants of a module. Then you will not need to reference the module whenever calling these functions or constants, thus your code will be easier to write. On the other hand, it will be harder to see which implementation of a function your code is actually calling."
   ]
  },
  {
   "cell_type": "code",
   "execution_count": 57,
   "id": "5400df89",
   "metadata": {
    "id": "EsF9g6RcJNvH",
    "outputId": "d73e10fd-051b-4d2a-c924-879a7d2d34c6"
   },
   "outputs": [
    {
     "name": "stdout",
     "output_type": "stream",
     "text": [
      "pi =  3.141592653589793\n",
      "random floating point number, uniformly distributed between 0 and 1:  0.48513030843787164\n",
      "0.34 =  0.34\n"
     ]
    }
   ],
   "source": [
    "from numpy import *\n",
    "print(\"pi = \", pi)\n",
    "print(\"random floating point number, uniformly distributed between 0 and 1: \",random.rand())\n",
    "print(\"0.34 = \", sin(arcsin(0.34)))"
   ]
  },
  {
   "cell_type": "markdown",
   "id": "077915df",
   "metadata": {
    "id": "VDZsC5ZDJNvH"
   },
   "source": [
    "# Most important data structure for numerics: `array`"
   ]
  },
  {
   "cell_type": "markdown",
   "id": "fcc42548",
   "metadata": {
    "collapsed": true,
    "id": "eDjE2baCJNvH"
   },
   "source": [
    "The most important data structure for numerical work is the `numpy` implementation of an array, called `array`. [further details](https://scipy-lectures.github.io/intro/numpy/array_object.html)\n",
    "\n",
    "An `array` is much like a (nested) `list`, with lots of extra functionality. It is easiest to create by conversion of a (nested) `list`:"
   ]
  },
  {
   "cell_type": "code",
   "execution_count": 92,
   "id": "6268f652",
   "metadata": {
    "id": "ASJf2gQUJNvH",
    "outputId": "ec83eaa1-b57f-4ce3-bc2e-c13b7a32c010"
   },
   "outputs": [
    {
     "name": "stdout",
     "output_type": "stream",
     "text": [
      "[1 2 3]\n",
      "type of vec is  <class 'numpy.ndarray'>   of its elements  <class 'numpy.int64'>\n",
      "[[1 1 3]\n",
      " [4 3 5]\n",
      " [6 2 3]]\n",
      "type of matr is  <class 'numpy.ndarray'>   of its elements  <class 'numpy.int64'>\n",
      "['a' 'b' 'cd']\n",
      "type of b is  <class 'numpy.ndarray'>   of its elements  <class 'numpy.str_'>\n"
     ]
    }
   ],
   "source": [
    "import numpy as np\n",
    "\n",
    "vec = np.array([1, 2, 3])\n",
    "print(vec)\n",
    "print(\"type of vec is \", type(vec), \"  of its elements \",\\\n",
    "      type(vec[0]))\n",
    "matr = np.array([[1, 1, 3], [4, 3, 5], [6, 2, 3]])\n",
    "print(matr)\n",
    "print(\"type of matr is \", type(matr), \"  of its elements \",\\\n",
    "      type(matr[0, 0]))\n",
    "b = np.array(['a', 'b', 'cd'])\n",
    "print(b)\n",
    "print(\"type of b is \", type(b), \"  of its elements \", \\\n",
    "      type(b[0]))\n"
   ]
  },
  {
   "cell_type": "markdown",
   "id": "3cbec2db",
   "metadata": {
    "id": "0K7HYY8BJNvI"
   },
   "source": [
    "## Some useful attributes of and operations on arrays:"
   ]
  },
  {
   "cell_type": "markdown",
   "id": "73618a9e",
   "metadata": {
    "id": "WkyhqcMUJNvI"
   },
   "source": [
    "An n by m by j array has a `shape` (n, m, j). This can be obtained as a so-called attribute:"
   ]
  },
  {
   "cell_type": "code",
   "execution_count": 93,
   "id": "2a26c825",
   "metadata": {
    "id": "oQNcM7OQJNvI",
    "outputId": "fb86c0b0-1272-484d-c4e8-f9bfcef36d68"
   },
   "outputs": [
    {
     "name": "stdout",
     "output_type": "stream",
     "text": [
      "(3,)\n",
      "(3, 3)\n"
     ]
    }
   ],
   "source": [
    "print(vec.shape)\n",
    "print(matr.shape)\n",
    "#print(d.shape)"
   ]
  },
  {
   "cell_type": "markdown",
   "id": "8f366e0a",
   "metadata": {
    "id": "CxrZIdx9JNvI"
   },
   "source": [
    "The number of all the elements in the array is given by `size` attribute:"
   ]
  },
  {
   "cell_type": "code",
   "execution_count": 94,
   "id": "8b8086f8",
   "metadata": {
    "id": "7phBaz95JNvI",
    "outputId": "b6b99d4a-4608-44e5-ddbe-c9bb139b19f2"
   },
   "outputs": [
    {
     "data": {
      "text/plain": [
       "3"
      ]
     },
     "execution_count": 94,
     "metadata": {},
     "output_type": "execute_result"
    }
   ],
   "source": [
    "vec.size"
   ]
  },
  {
   "cell_type": "markdown",
   "id": "aa101f38",
   "metadata": {
    "id": "KZ-ccnPdJNvJ"
   },
   "source": [
    "For statistical analysis it is useful to have some basic numerical characterization of the array elements. Some of these useful functions of arrays can be called as so-called methods of the array."
   ]
  },
  {
   "cell_type": "code",
   "execution_count": 95,
   "id": "6758a53f",
   "metadata": {
    "id": "iDrolFK2JNvJ",
    "outputId": "f4c0ed1d-f3ae-46cb-ca77-ee5321241d41"
   },
   "outputs": [
    {
     "name": "stdout",
     "output_type": "stream",
     "text": [
      "These are all implemented in numpy, much faster and simpler: \n",
      "[1 2 3]\n",
      "min =  1\n",
      "max =  3\n",
      "mean =  2.0\n",
      "standard deviation =  0.816496580927726\n",
      "median =  2.0\n"
     ]
    }
   ],
   "source": [
    "print(\"These are all implemented in numpy, much faster \\\n",
    "and simpler: \")\n",
    "\n",
    "print(vec)\n",
    "\n",
    "print(\"min = \", vec.min())\n",
    "print(\"max = \", vec.max())\n",
    "print(\"mean = \", vec.mean())\n",
    "print(\"standard deviation = \", vec.std())\n",
    "print(\"median = \", np.median(vec))\n",
    "\n"
   ]
  },
  {
   "cell_type": "markdown",
   "id": "229ff1e4",
   "metadata": {
    "id": "zXFoMsoCJNvJ"
   },
   "source": [
    "A very fast way to calculate the sum and product of all elements, or all elements along an axis, is using the `sum`, and `prod` methods of the array:"
   ]
  },
  {
   "cell_type": "code",
   "execution_count": 96,
   "id": "5d576bcb",
   "metadata": {
    "id": "lt1UUj02JNvJ",
    "outputId": "fd3a4a82-e2e3-4495-c7e6-953970177c91"
   },
   "outputs": [
    {
     "name": "stdout",
     "output_type": "stream",
     "text": [
      "[1 2 3]\n",
      "6\n",
      "6\n"
     ]
    }
   ],
   "source": [
    "print(vec)\n",
    "print(vec.sum())\n",
    "print(sum(vec)) # sum over all elements"
   ]
  },
  {
   "cell_type": "markdown",
   "id": "a4a54f9d",
   "metadata": {
    "id": "zXFoMsoCJNvJ"
   },
   "source": [
    "Creating special arrays: create an array of integers up to (but not including) a given number using `arange` instead of `range`:"
   ]
  },
  {
   "cell_type": "code",
   "execution_count": 97,
   "id": "4c670f5a",
   "metadata": {},
   "outputs": [
    {
     "name": "stdout",
     "output_type": "stream",
     "text": [
      "0 1 2 3 4 5 6 7 8 9  \n",
      "[0 1 2 3 4 5 6 7 8 9]\n"
     ]
    }
   ],
   "source": [
    "for j in range(10):\n",
    "    print(j, end=\" \")\n",
    "print(\" \")\n",
    "vv = arange(10)  # is an array of numbers\n",
    "print(vv)\n"
   ]
  },
  {
   "cell_type": "markdown",
   "id": "3a363952",
   "metadata": {
    "id": "iF-sz33gJNvP"
   },
   "source": [
    "Creating special arrays: There are very powerful functions that create special arrays, which are faster than creating a list and then converting it to an array.\n",
    "\n",
    "For an array of eqally spaced numbers, use `linspace()`:"
   ]
  },
  {
   "cell_type": "code",
   "execution_count": 101,
   "id": "0704aa9a",
   "metadata": {
    "id": "0-RcnZiOJNvP",
    "outputId": "48a9a263-f431-4b77-8a73-f54c630b56ee"
   },
   "outputs": [
    {
     "name": "stdout",
     "output_type": "stream",
     "text": [
      "[0.         0.34906585 0.6981317  1.04719755 1.3962634  1.74532925\n",
      " 2.0943951  2.44346095 2.7925268  3.14159265]\n",
      "[ 0.          1.11111111  2.22222222  3.33333333  4.44444444  5.55555556\n",
      "  6.66666667  7.77777778  8.88888889 10.        ]\n",
      "[0. 1. 2. 3. 4. 5. 6. 7. 8. 9.]\n"
     ]
    }
   ],
   "source": [
    "print(linspace(0, pi, 10))\n",
    "print(linspace(0, 10, 10))\n",
    "print(linspace(0, 10, 10, endpoint=None))"
   ]
  },
  {
   "cell_type": "markdown",
   "id": "3a784589",
   "metadata": {
    "id": "tCDi-yh2JNvP"
   },
   "source": [
    "An array of random numbers can be created by giving an argument to `rand()` (equidistributed over [0, 1]), `randn()` (standard normal distributed), or `randint()` (integers)."
   ]
  },
  {
   "cell_type": "code",
   "execution_count": 128,
   "id": "fc7f6fee",
   "metadata": {},
   "outputs": [
    {
     "name": "stdout",
     "output_type": "stream",
     "text": [
      "Note: you may need to restart the kernel to use updated packages.\n"
     ]
    }
   ],
   "source": [
    "%pip install numpy --quiet"
   ]
  },
  {
   "cell_type": "code",
   "execution_count": 129,
   "id": "80abd237",
   "metadata": {},
   "outputs": [],
   "source": [
    "import numpy as np\n",
    "from numpy.random import randn\n",
    "from numpy.random import rand"
   ]
  },
  {
   "cell_type": "code",
   "execution_count": 127,
   "id": "12e32a46",
   "metadata": {
    "id": "Pb__mPz3JNvQ",
    "outputId": "e63a6bd9-f428-4ed1-d8d9-e3a87be54bc1"
   },
   "outputs": [
    {
     "data": {
      "text/plain": [
       "array([[0.03250029, 0.67181412, 0.89745439],\n",
       "       [0.6028762 , 0.51450611, 0.1482171 ]])"
      ]
     },
     "execution_count": 127,
     "metadata": {},
     "output_type": "execute_result"
    }
   ],
   "source": [
    "rand(2, 3) # 2 by 3 array"
   ]
  },
  {
   "cell_type": "code",
   "execution_count": 123,
   "id": "15a3e293",
   "metadata": {
    "id": "-e2n-RBWJNvQ",
    "outputId": "71c1f6ca-2919-4eed-9ab4-b9d341020295"
   },
   "outputs": [
    {
     "data": {
      "text/plain": [
       "array([[[-0.68984917,  0.3177204 , -1.02184412, -0.47226486],\n",
       "        [-0.2432379 , -2.23368291,  0.92506857, -0.22689046],\n",
       "        [ 0.7229164 , -0.59307067,  1.64423954, -0.71509102]],\n",
       "\n",
       "       [[ 0.1684881 , -1.82766049,  0.85804724,  1.08224631],\n",
       "        [ 0.76688044,  0.22776455, -2.03205148, -0.16577549],\n",
       "        [ 0.10719864,  0.04333618,  1.47155898, -0.23343203]]])"
      ]
     },
     "execution_count": 123,
     "metadata": {},
     "output_type": "execute_result"
    }
   ],
   "source": [
    "randn(2, 3, 4) # 3 by 4 by 5 array, standard normal distributed numbers"
   ]
  },
  {
   "cell_type": "code",
   "execution_count": 124,
   "id": "da440854",
   "metadata": {
    "id": "2aQomD2bJNvQ",
    "outputId": "d31e6071-c0b4-4398-f240-e0301f2a7874"
   },
   "outputs": [
    {
     "data": {
      "text/plain": [
       "array([[0, 8, 0, 5, 3, 5, 0, 5, 6, 4, 0, 1, 3],\n",
       "       [1, 5, 2, 7, 2, 7, 5, 8, 5, 4, 6, 8, 3]])"
      ]
     },
     "execution_count": 124,
     "metadata": {},
     "output_type": "execute_result"
    }
   ],
   "source": [
    "randint(0, 9, (2, 13)) # a 2 by 13 array of random integers between 0 and 9 (9 not included)"
   ]
  },
  {
   "cell_type": "markdown",
   "id": "17662b75",
   "metadata": {
    "id": "OtXyo4wnJNvQ"
   },
   "source": [
    "The best feature of arrays of numbers: you can run most numerical functions on them, they will be run element-wise (broadcasted). This also includes adding a number to them, or multiplying them by a number."
   ]
  },
  {
   "cell_type": "code",
   "execution_count": 125,
   "id": "01642e87",
   "metadata": {
    "id": "TL6_yS00JNvQ",
    "outputId": "93512587-48b8-46af-8f59-321eb87e2be9"
   },
   "outputs": [
    {
     "name": "stdout",
     "output_type": "stream",
     "text": [
      "[1 2 3]\n",
      "[ 1.0000000e+00  1.2246468e-16 -1.0000000e+00]\n",
      "[1.5 2.5 3.5]\n",
      "[2 4 6]  - multiplying the array\n",
      "[1, 2, 3, 1, 2, 3]  - multiplying the list \n"
     ]
    }
   ],
   "source": [
    "l1 = [1, 2, 3]\n",
    "v1 = array(l1)\n",
    "print(v1)\n",
    "print(sin(v1*pi/2))\n",
    "print(v1 + 0.5)\n",
    "print(v1*2, \" - multiplying the array\")\n",
    "print(l1*2, \" - multiplying the list \")"
   ]
  },
  {
   "cell_type": "code",
   "execution_count": 126,
   "id": "a31c5c62",
   "metadata": {
    "id": "3M61ie2lJNvQ"
   },
   "outputs": [
    {
     "ename": "SyntaxError",
     "evalue": "invalid syntax (2780154705.py, line 1)",
     "output_type": "error",
     "traceback": [
      "\u001b[0;36m  Cell \u001b[0;32mIn[126], line 1\u001b[0;36m\u001b[0m\n\u001b[0;31m    Operations between arrays of same shape: elementwise (broadcasted)\u001b[0m\n\u001b[0m               ^\u001b[0m\n\u001b[0;31mSyntaxError\u001b[0m\u001b[0;31m:\u001b[0m invalid syntax\n"
     ]
    }
   ],
   "source": [
    "Operations between arrays of same shape: elementwise (broadcasted)"
   ]
  },
  {
   "cell_type": "code",
   "execution_count": 130,
   "id": "565c35ff",
   "metadata": {
    "id": "hcXW4TrqJNvQ",
    "outputId": "88cbfb1a-cfca-42a9-8afa-f1603d250d69"
   },
   "outputs": [
    {
     "name": "stdout",
     "output_type": "stream",
     "text": [
      "[2 6 9]\n",
      "[ 1  8 27]\n"
     ]
    }
   ],
   "source": [
    "v1 = array([1, 2, 3])\n",
    "v2 = array([2, 3, 3])\n",
    "print(v1*v2)\n",
    "print(v1**v2)\n"
   ]
  },
  {
   "cell_type": "markdown",
   "id": "fe080d08",
   "metadata": {
    "id": "AEHVvYrNJNvQ"
   },
   "source": [
    "You can also do this for arrays of booleans: here addition is `or`,  product is `and` :"
   ]
  },
  {
   "cell_type": "markdown",
   "id": "9bc37300",
   "metadata": {
    "id": "pf71GP_VJNvQ"
   },
   "source": [
    "## Indexing an array"
   ]
  },
  {
   "cell_type": "markdown",
   "id": "2402853f",
   "metadata": {
    "id": "cHWkJSa-JNvQ"
   },
   "source": [
    "Very useful: arrays can be filtered according to criteria using indexing"
   ]
  },
  {
   "cell_type": "code",
   "execution_count": 131,
   "id": "6b737c73",
   "metadata": {
    "id": "HghjlszfJNvR"
   },
   "outputs": [
    {
     "name": "stdout",
     "output_type": "stream",
     "text": [
      "[ 0.          1.11111111  2.22222222  3.33333333  4.44444444  5.55555556\n",
      "  6.66666667  7.77777778  8.88888889 10.        ] \n",
      "\n",
      " [0.26870988 0.44663939 0.15356978 0.12993107 0.14498285 0.08347351\n",
      " 0.09740327 0.88258516 0.85558154 0.50214431] \n",
      "\n",
      " [[2 1 2 2 1]\n",
      " [6 3 1 3 4]\n",
      " [1 7 0 0 5]\n",
      " [1 9 7 1 9]\n",
      " [4 4 9 2 1]]\n"
     ]
    }
   ],
   "source": [
    "p1 = linspace(0, 10, 10)\n",
    "p2 = rand(10)\n",
    "\n",
    "p3 = randint(0, 10, (5, 5))\n",
    "\n",
    "print(p1, \"\\n\\n\", p2, \"\\n\\n\", p3)"
   ]
  },
  {
   "cell_type": "markdown",
   "id": "f520902e",
   "metadata": {
    "id": "cRrHezjyJNvR"
   },
   "source": [
    "We can slice arrays, just like lists:"
   ]
  },
  {
   "cell_type": "code",
   "execution_count": 132,
   "id": "16631276",
   "metadata": {
    "id": "glk9Hk_MJNvR",
    "outputId": "cde48ca3-29c8-4437-a0e2-88f2c9be9c10"
   },
   "outputs": [
    {
     "data": {
      "text/plain": [
       "array([0.        , 3.33333333])"
      ]
     },
     "execution_count": 132,
     "metadata": {},
     "output_type": "execute_result"
    }
   ],
   "source": [
    "p1[0:6:3]"
   ]
  },
  {
   "cell_type": "code",
   "execution_count": 133,
   "id": "6a19f09d",
   "metadata": {
    "id": "4OYXqQxkJNvR",
    "outputId": "a3105c64-af4f-408d-bf1d-8c9dd02d7283"
   },
   "outputs": [
    {
     "data": {
      "text/plain": [
       "array([6.66666667, 7.77777778, 8.88888889])"
      ]
     },
     "execution_count": 133,
     "metadata": {},
     "output_type": "execute_result"
    }
   ],
   "source": [
    "p1[-4:-1]"
   ]
  },
  {
   "cell_type": "markdown",
   "id": "a3d19e46",
   "metadata": {
    "id": "8Q4k2a4NJNvR"
   },
   "source": [
    "Or just use a list of indices for indexing (not allowed lists)"
   ]
  },
  {
   "cell_type": "code",
   "execution_count": 134,
   "id": "0c10bd77",
   "metadata": {
    "id": "OSrRpg8FJNvR",
    "outputId": "995c406f-2512-46a4-d948-4d5a143d4560"
   },
   "outputs": [
    {
     "data": {
      "text/plain": [
       "array([3.33333333, 5.55555556, 2.22222222])"
      ]
     },
     "execution_count": 134,
     "metadata": {},
     "output_type": "execute_result"
    }
   ],
   "source": [
    "p1[[3, 5, 2]]"
   ]
  },
  {
   "cell_type": "markdown",
   "id": "663f31f4",
   "metadata": {
    "id": "4nKg2aBDJNvS"
   },
   "source": [
    "# Very short introduction to plotting\n",
    "\n",
    "Among the numerous modules for plotting functions in `Python`, the most widely used is `matplotlib`. We will look at the most basic functions in this module.\n",
    "\n",
    "The single most important plotting function is - you guessed it - called `plot()`. This is in `matplotlib` in the submodule `pyplot`. Its basic usage is `plot(x, y)`, this creates a plot from a sequence of x coordinates and y coordinates, which are two lists or two arrays of numbers -- they have to have equal length. You can even just call it as `plot(y)`, omitting the x coordinates, which are then taken as integers from 0 up.\n",
    "\n",
    "After creating a plot using `matplotlib.pyplot.plot()`, in python you generally need to call the function `matplotlib.pyplot.show()` to show it, i.e., to display it. However, since you are using the jupyter notebook, this is not needed, all you have to do is run the cell. If, however, you want to have more plots in the same cell, then you need to call `show()` after each plot, except the last one.  \n",
    "\n",
    "Maybe you want to save the plot in a file. This can be done using `matplotlib.pyplot.savefig()`. You just supply the extension. \n",
    "\n",
    "Since we already have run the jupyter magic line `%pylab inline`, which imported everything from `matplotlib.pyplot`, we don't even need to reference the module when calling `plot()`. This magic also defined the way in which plots are shown -- inline, i.e., not in a separate window."
   ]
  },
  {
   "cell_type": "code",
   "execution_count": 137,
   "id": "4ace7825",
   "metadata": {
    "id": "QEk0oRGrJNvS",
    "outputId": "bd795f51-acf8-4eeb-9fbc-bdf9d7f07b7f"
   },
   "outputs": [
    {
     "data": {
      "image/png": "[encoded data removed]",
      "text/plain": [
       "<Figure size 640x480 with 1 Axes>"
      ]
     },
     "metadata": {},
     "output_type": "display_data"
    },
    {
     "name": "stdout",
     "output_type": "stream",
     "text": [
      " Or, the same plot in a simpler way:\n"
     ]
    },
    {
     "data": {
      "image/png": "[encoded data removed]",
      "text/plain": [
       "<Figure size 640x480 with 1 Axes>"
      ]
     },
     "metadata": {},
     "output_type": "display_data"
    }
   ],
   "source": [
    "# A simple example:\n",
    "import matplotlib.pyplot as plt\n",
    "x = [0, 1, 2, 3, 4]\n",
    "y = [1, 4, 13, 10, -2.25]\n",
    "\n",
    "plt.plot(x, y)\n",
    "plt.show()\n",
    "\n",
    "print(\" Or, the same plot in a simpler way:\")\n",
    "plt.plot(y)\n",
    "plt.show()"
   ]
  },
  {
   "cell_type": "markdown",
   "id": "007f1b09",
   "metadata": {
    "id": "nPJvGRNBJNvS"
   },
   "source": [
    "If we want to plot a continuous function, the only way to do it in `python` is by generating a discrete sequence of `x` values, evaluate the function, and plot the sequence of function values. If we want to have a smoother plot, we need to take a smaller spacing for the `x` values. Example:"
   ]
  },
  {
   "cell_type": "code",
   "execution_count": 140,
   "id": "04591548",
   "metadata": {
    "id": "OKf0ORQ-JNvS",
    "outputId": "caa11f63-5f4d-491f-87ea-fae0509f9d03"
   },
   "outputs": [
    {
     "data": {
      "image/png": "[encoded data removed]",
      "text/plain": [
       "<Figure size 640x480 with 1 Axes>"
      ]
     },
     "metadata": {},
     "output_type": "display_data"
    },
    {
     "data": {
      "image/png": "[encoded data removed]",
      "text/plain": [
       "<Figure size 640x480 with 1 Axes>"
      ]
     },
     "metadata": {},
     "output_type": "display_data"
    }
   ],
   "source": [
    "x = linspace(-pi/2, 2*pi, 10)\n",
    "plt.plot(x, sin(x))\n",
    "plt.show()\n",
    "x = linspace(-pi/2, 2*pi, 1000)\n",
    "plt.plot(x, sin(x))\n",
    "plt.show()"
   ]
  },
  {
   "cell_type": "markdown",
   "id": "0c19baa8",
   "metadata": {
    "id": "yWwi143kJNvS"
   },
   "source": [
    "If you want to plot curves together, you can do this by calling `plot()` repeatedly, without a `show()` separating them:"
   ]
  },
  {
   "cell_type": "code",
   "execution_count": 141,
   "id": "65869c0f",
   "metadata": {
    "id": "MUv_nnuqJNvS",
    "outputId": "7401904c-2dd7-4ad5-c9d0-6ea15b82ab9c"
   },
   "outputs": [
    {
     "data": {
      "image/png": "[encoded data removed]",
      "text/plain": [
       "<Figure size 640x480 with 1 Axes>"
      ]
     },
     "metadata": {},
     "output_type": "display_data"
    }
   ],
   "source": [
    "plt.plot(x, sin(x))\n",
    "plt.plot(x, cos(x))\n",
    "plt.grid()\n",
    "plt.show()"
   ]
  },
  {
   "cell_type": "markdown",
   "id": "360475e7",
   "metadata": {
    "id": "uXynpzyvJNvS"
   },
   "source": [
    "You can make this plot more beautiful by adding labels to the axis, and to the plots themselves. Labels to the plots are displayed using the command `matplotlib.pyplot.legend()`. Sometimes a grid in the background is also useful, this is added by `grid()`."
   ]
  },
  {
   "cell_type": "code",
   "execution_count": 142,
   "id": "7c92cd5d",
   "metadata": {
    "colab": {
     "base_uri": "https://localhost:8080/",
     "height": 17
    },
    "id": "HQkY2vnQJNvS",
    "outputId": "3a461da7-3b40-4810-c21b-573c56902dfc"
   },
   "outputs": [
    {
     "data": {
      "image/png": "[encoded data removed]",
      "text/plain": [
       "<Figure size 640x480 with 1 Axes>"
      ]
     },
     "metadata": {},
     "output_type": "display_data"
    }
   ],
   "source": [
    "x = linspace(-0.5, 2, 1000)\n",
    "plt.plot(x, sin(pi*x), label=\"sin\")\n",
    "plt.plot(x, cos(pi*x), label=\"cos\")\n",
    "for j in range(1,12):\n",
    "    plt.plot(x, sin(pi*x)+j)\n",
    "plt.xlabel(\" angle x [in units of pi radian]\")\n",
    "plt.ylabel(\" value of the function\")\n",
    "plt.legend()\n",
    "plt.grid()\n",
    "plt.savefig(\"my_plot.pdf\")\n",
    "plt.show()"
   ]
  },
  {
   "cell_type": "markdown",
   "id": "ab5b31ac",
   "metadata": {},
   "source": [
    "Different plotting styles, colors, etc, can be controlled with named (keyword) or unnamed (positional) arguments passed to plot():"
   ]
  },
  {
   "cell_type": "code",
   "execution_count": null,
   "id": "18ca6916",
   "metadata": {},
   "outputs": [],
   "source": []
  }
 ],
 "metadata": {
  "kernelspec": {
   "display_name": "Python 3",
   "language": "python",
   "name": "python3"
  },
  "language_info": {
   "codemirror_mode": {
    "name": "ipython",
    "version": 3
   },
   "file_extension": ".py",
   "mimetype": "text/x-python",
   "name": "python",
   "nbconvert_exporter": "python",
   "pygments_lexer": "ipython3",
   "version": "3.11.5"
  }
 },
 "nbformat": 4,
 "nbformat_minor": 5
}
