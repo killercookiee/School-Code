{
 "cells": [
  {
   "cell_type": "markdown",
   "metadata": {
    "id": "a_TSCZ3fMf73"
   },
   "source": [
    "# First steps in Python, getting to know variables\n",
    "We get to know the syntax of python, and some of the basic data types and structures - we will use these extensively later.\n",
    "\n",
    "---"
   ]
  },
  {
   "cell_type": "markdown",
   "metadata": {
    "id": "b2v6L7miMf77"
   },
   "source": [
    "## Jupyter notebook\n",
    "Handy way to interact with your code, \"Mathematica\" style.\n",
    "\n",
    "Code is divided into cells. You can navigate between them using your mouse.\n",
    "\n",
    "When inside a cell, pressing \"return\" gets you a new line,\n",
    "\"shift+return\" executes the current cell, including output of pictures or text, and moves to the next cell. It also prints the last return value of the cell.\n",
    "\n",
    "Useful buttons in the menu above:\n",
    " -- You can ask for a new cell below the curent one with \"+\"\n",
    " -- Use uparrow and downarrow to navigate\n",
    " -- change the cell type\n"
   ]
  },
  {
   "cell_type": "markdown",
   "metadata": {
    "id": "qNXHugPNMf77"
   },
   "source": [
    "## Comments\n",
    "In python comments begin with a hash ('#'), and last until the end of the line.\n",
    "A comment can be at the beginning of the line, or after a space, a tab. If you write '#' inside a string, however, it will not begin a comment - it will just be a hash."
   ]
  },
  {
   "cell_type": "code",
   "execution_count": 2,
   "metadata": {
    "id": "-BtYcK97Mf78"
   },
   "outputs": [],
   "source": [
    "# first comment\n",
    "spam = 1                 # second comment\n",
    "                         # ... third\n",
    "string = \"# Not a comment, since between quotes\""
   ]
  },
  {
   "cell_type": "markdown",
   "metadata": {
    "id": "E8is8mppMf79"
   },
   "source": [
    "You write comments for people reading your code - this will most likely be you sometime later. It helps the reader understand what the code is trying to achieve. Although you should attempt to write clear, self-documenting code, nevertheless comments can be useful, and save you a lot of time if you come back to a project after a couple of weeks or months.\n",
    "\n",
    "---"
   ]
  },
  {
   "cell_type": "markdown",
   "metadata": {
    "id": "I8AQqSNFMf79"
   },
   "source": [
    "## Python as a calculator\n",
    "\n",
    "A notebook can be used as a calculator, with the usual syntax: +, -, * and/ work in the same way as you would expect. You can use brackets to group stuff."
   ]
  },
  {
   "cell_type": "code",
   "execution_count": 3,
   "metadata": {
    "colab": {
     "base_uri": "https://localhost:8080/",
     "height": 0
    },
    "id": "o8t_79jYMf7-",
    "outputId": "33ffe92b-ac87-408d-be0d-70f65c4dc732"
   },
   "outputs": [
    {
     "data": {
      "text/plain": [
       "4"
      ]
     },
     "execution_count": 3,
     "metadata": {},
     "output_type": "execute_result"
    }
   ],
   "source": [
    "2 + 2"
   ]
  },
  {
   "cell_type": "markdown",
   "metadata": {
    "id": "3uhwxjctMf7_"
   },
   "source": [
    "You can use print() to evaluate and show the outcome of more calculations in one cell"
   ]
  },
  {
   "cell_type": "code",
   "execution_count": 1,
   "metadata": {
    "colab": {
     "base_uri": "https://localhost:8080/",
     "height": 0
    },
    "id": "aikGRieyMf7_",
    "outputId": "15535534-809e-4e7d-ad1b-044fa775a759"
   },
   "outputs": [
    {
     "name": "stdout",
     "output_type": "stream",
     "text": [
      "4\n",
      "12\n"
     ]
    }
   ],
   "source": [
    "print(2+2)\n",
    "print(3*4)"
   ]
  },
  {
   "cell_type": "code",
   "execution_count": 2,
   "metadata": {
    "colab": {
     "base_uri": "https://localhost:8080/",
     "height": 0
    },
    "id": "DmUcdIrnMf8A",
    "outputId": "2537b6c8-ae5a-4a49-beb0-c8123d3141f3"
   },
   "outputs": [
    {
     "data": {
      "text/plain": [
       "20"
      ]
     },
     "execution_count": 2,
     "metadata": {},
     "output_type": "execute_result"
    }
   ],
   "source": [
    "50 - 5*6"
   ]
  },
  {
   "cell_type": "code",
   "execution_count": 3,
   "metadata": {
    "colab": {
     "base_uri": "https://localhost:8080/",
     "height": 0
    },
    "id": "A9zdF2lXMf8A",
    "outputId": "4b5ae379-6de8-43eb-a75d-5cb489f4e13a"
   },
   "outputs": [
    {
     "data": {
      "text/plain": [
       "5.0"
      ]
     },
     "execution_count": 3,
     "metadata": {},
     "output_type": "execute_result"
    }
   ],
   "source": [
    "(50 - 5*6) / 4"
   ]
  },
  {
   "cell_type": "code",
   "execution_count": 4,
   "metadata": {
    "colab": {
     "base_uri": "https://localhost:8080/",
     "height": 0
    },
    "id": "FgqKTwQFMf8A",
    "outputId": "31bb2aea-5c1a-42c6-9629-409cbc8c4787"
   },
   "outputs": [
    {
     "data": {
      "text/plain": [
       "2.0"
      ]
     },
     "execution_count": 4,
     "metadata": {},
     "output_type": "execute_result"
    }
   ],
   "source": [
    "8 / 4  # division of integers gives a float."
   ]
  },
  {
   "cell_type": "markdown",
   "metadata": {
    "id": "IG8eZ5NBMf8B"
   },
   "source": [
    "Integer numbers (e.g., 2, 4, -20) have type **int**, real numbers (e.g., 5.0, 1.614) have type **float**.\n",
    "In python 3, division (/) always returns a float. If we want the division of an integer by an integer, with a remainder, we should use // and %:"
   ]
  },
  {
   "cell_type": "code",
   "execution_count": 8,
   "metadata": {
    "colab": {
     "base_uri": "https://localhost:8080/",
     "height": 0
    },
    "id": "6NHki7pXMf8B",
    "outputId": "3a681f73-439b-4a30-a0b9-cadb9fec1b16"
   },
   "outputs": [
    {
     "data": {
      "text/plain": [
       "5.666666666666667"
      ]
     },
     "execution_count": 8,
     "metadata": {},
     "output_type": "execute_result"
    }
   ],
   "source": [
    "17 / 3  # conventional division"
   ]
  },
  {
   "cell_type": "code",
   "execution_count": 9,
   "metadata": {
    "colab": {
     "base_uri": "https://localhost:8080/",
     "height": 0
    },
    "id": "JSKiFRtyMf8B",
    "outputId": "8756b3d6-b874-45cf-915d-977fbcf7d39f"
   },
   "outputs": [
    {
     "data": {
      "text/plain": [
       "5"
      ]
     },
     "execution_count": 9,
     "metadata": {},
     "output_type": "execute_result"
    }
   ],
   "source": [
    "17 // 3  # integer division"
   ]
  },
  {
   "cell_type": "code",
   "execution_count": 10,
   "metadata": {
    "colab": {
     "base_uri": "https://localhost:8080/",
     "height": 0
    },
    "id": "1Z44OvU4Mf8B",
    "outputId": "4622f648-f5d8-4874-cfb7-f5ebe29dde15"
   },
   "outputs": [
    {
     "data": {
      "text/plain": [
       "2"
      ]
     },
     "execution_count": 10,
     "metadata": {},
     "output_type": "execute_result"
    }
   ],
   "source": [
    "17 % 3  # the remainder of the division (modulo division). Always between 0 and the number"
   ]
  },
  {
   "cell_type": "code",
   "execution_count": 11,
   "metadata": {
    "colab": {
     "base_uri": "https://localhost:8080/",
     "height": 0
    },
    "id": "rJ3Odt_aMf8B",
    "outputId": "6409875c-b6f5-4c1b-84d7-291b2ffface8"
   },
   "outputs": [
    {
     "data": {
      "text/plain": [
       "17"
      ]
     },
     "execution_count": 11,
     "metadata": {},
     "output_type": "execute_result"
    }
   ],
   "source": [
    "5 * 3 + 2  #"
   ]
  },
  {
   "cell_type": "code",
   "execution_count": 12,
   "metadata": {
    "colab": {
     "base_uri": "https://localhost:8080/",
     "height": 0
    },
    "id": "F6X9Z0AwMf8C",
    "outputId": "8f0ba5d5-6a05-4cea-9557-9d3b3b3e89c2"
   },
   "outputs": [
    {
     "data": {
      "text/plain": [
       "-1"
      ]
     },
     "execution_count": 12,
     "metadata": {},
     "output_type": "execute_result"
    }
   ],
   "source": [
    "-1 // 3"
   ]
  },
  {
   "cell_type": "code",
   "execution_count": 13,
   "metadata": {
    "colab": {
     "base_uri": "https://localhost:8080/",
     "height": 0
    },
    "id": "RktwnBVVMf8C",
    "outputId": "4e4a6565-d74c-4da4-bdb4-ecd29b6bfb7c"
   },
   "outputs": [
    {
     "data": {
      "text/plain": [
       "1"
      ]
     },
     "execution_count": 13,
     "metadata": {},
     "output_type": "execute_result"
    }
   ],
   "source": [
    "(-1 // 3) + (-1 % 3)"
   ]
  },
  {
   "cell_type": "markdown",
   "metadata": {
    "id": "_OP5Xdn7Mf8C"
   },
   "source": [
    "To raise something to the power of something, use ** :"
   ]
  },
  {
   "cell_type": "code",
   "execution_count": 14,
   "metadata": {
    "colab": {
     "base_uri": "https://localhost:8080/",
     "height": 0
    },
    "id": "c9UwgGElMf8C",
    "outputId": "9084b1e2-c738-4d36-d34c-6368633ff0e1"
   },
   "outputs": [
    {
     "name": "stdout",
     "output_type": "stream",
     "text": [
      "25\n",
      "25.0\n",
      "5.0\n",
      "0.5\n",
      "4\n",
      "0.25\n"
     ]
    }
   ],
   "source": [
    "print(5 ** 2)\n",
    "print(5.**2.)\n",
    "print(25**0.5)\n",
    "print(4 ** -0.5)\n",
    "print((-2)**2)\n",
    "print((-2)**-2)\n",
    "\n"
   ]
  },
  {
   "cell_type": "markdown",
   "metadata": {
    "id": "S6IJ6vhsMf8C"
   },
   "source": [
    "`Python` prefers floating point numbers to integers: if types are mixed, ints are converted to floats."
   ]
  },
  {
   "cell_type": "code",
   "execution_count": 15,
   "metadata": {
    "colab": {
     "base_uri": "https://localhost:8080/",
     "height": 0
    },
    "id": "0DUTYPDVMf8C",
    "outputId": "63944fe2-ce0c-4602-8b20-ebdb92c07e47"
   },
   "outputs": [
    {
     "data": {
      "text/plain": [
       "7.5"
      ]
     },
     "execution_count": 15,
     "metadata": {},
     "output_type": "execute_result"
    }
   ],
   "source": [
    "3 * 3.75 / 1.5"
   ]
  },
  {
   "cell_type": "code",
   "execution_count": 16,
   "metadata": {
    "colab": {
     "base_uri": "https://localhost:8080/",
     "height": 0
    },
    "id": "6Q0hT31YMf8C",
    "outputId": "5d97057d-86e8-49f8-f687-14017a71b889"
   },
   "outputs": [
    {
     "data": {
      "text/plain": [
       "9.0"
      ]
     },
     "execution_count": 16,
     "metadata": {},
     "output_type": "execute_result"
    }
   ],
   "source": [
    "7.0 + 2"
   ]
  },
  {
   "cell_type": "markdown",
   "metadata": {
    "id": "jhkEknu-Mf8C"
   },
   "source": [
    "Sometimes we need to explicitly convert: use int() and float(). The conversion to integer is by throwing away the fractional part: always rounding down with positive, rounding up with negative numbers."
   ]
  },
  {
   "cell_type": "code",
   "execution_count": null,
   "metadata": {
    "id": "QVKHVzrjMf8C",
    "outputId": "0630fccd-2f76-4f88-9611-99f99a048c33"
   },
   "outputs": [
    {
     "data": {
      "text/plain": [
       "3"
      ]
     },
     "execution_count": 18,
     "metadata": {},
     "output_type": "execute_result"
    }
   ],
   "source": [
    "int(3.615)"
   ]
  },
  {
   "cell_type": "code",
   "execution_count": null,
   "metadata": {
    "id": "thyh6HrgMf8D",
    "outputId": "36e7bf49-cd42-44c9-e982-8cd800aadc9d"
   },
   "outputs": [
    {
     "data": {
      "text/plain": [
       "0"
      ]
     },
     "execution_count": 21,
     "metadata": {},
     "output_type": "execute_result"
    }
   ],
   "source": [
    "int(-0.9)"
   ]
  },
  {
   "cell_type": "code",
   "execution_count": null,
   "metadata": {
    "id": "TUYXfRi7Mf8D",
    "outputId": "fdb40e14-fa6b-4d5d-c07b-4c64b8eccae9"
   },
   "outputs": [
    {
     "data": {
      "text/plain": [
       "42.0"
      ]
     },
     "execution_count": 19,
     "metadata": {},
     "output_type": "execute_result"
    }
   ],
   "source": [
    "float(42)"
   ]
  },
  {
   "cell_type": "markdown",
   "metadata": {
    "id": "fula-Yl-Mf8D"
   },
   "source": [
    "`Python` can handle complex numbers. The imaginary part is denoted by j or J."
   ]
  },
  {
   "cell_type": "code",
   "execution_count": null,
   "metadata": {
    "id": "CEhWfQV4Mf8D",
    "outputId": "ea4be732-d810-4cb6-c154-c7795e1c1dc9"
   },
   "outputs": [
    {
     "data": {
      "text/plain": [
       "(2+0j)"
      ]
     },
     "execution_count": 22,
     "metadata": {},
     "output_type": "execute_result"
    }
   ],
   "source": [
    "(1-1j) * (1+1J)"
   ]
  },
  {
   "cell_type": "code",
   "execution_count": null,
   "metadata": {
    "id": "7-KqXv0LMf8D",
    "outputId": "ca30fe21-0948-4eee-9594-5eaed6a854a7"
   },
   "outputs": [
    {
     "name": "stdout",
     "output_type": "stream",
     "text": [
      "(3+3j)\n",
      "(9+3j)\n",
      "(1.5+0.5j)\n"
     ]
    }
   ],
   "source": [
    "print(3+1j*3)\n",
    "print((3+1j)*3)\n",
    "print( (1+2j)/(1+1j) )"
   ]
  },
  {
   "cell_type": "code",
   "execution_count": null,
   "metadata": {
    "id": "-UM8P3SEMf8D",
    "outputId": "1b49d755-411d-4c98-870d-e0b988b0483f"
   },
   "outputs": [
    {
     "name": "stdout",
     "output_type": "stream",
     "text": [
      "(8.659560562354934e-17+1.4142135623730951j)\n"
     ]
    }
   ],
   "source": [
    "print((-2)**0.5)"
   ]
  },
  {
   "cell_type": "markdown",
   "metadata": {
    "id": "VTCf8-84Mf8D"
   },
   "source": [
    "Complex numbers can have integer or floating point real and imaginary parts. To get these, you should append something to the complex number: if it is 'z', then `z.real` and `z.imag`."
   ]
  },
  {
   "cell_type": "code",
   "execution_count": null,
   "metadata": {
    "id": "erCy5ChxMf8D",
    "outputId": "ff5a76b0-9534-41b8-813b-873cd7417068"
   },
   "outputs": [
    {
     "data": {
      "text/plain": [
       "1.5"
      ]
     },
     "execution_count": 26,
     "metadata": {},
     "output_type": "execute_result"
    }
   ],
   "source": [
    "(1.5+0.5j).real"
   ]
  },
  {
   "cell_type": "code",
   "execution_count": null,
   "metadata": {
    "id": "8JY2A6M0Mf8D",
    "outputId": "2b8d2e2b-fc05-4d22-8f2a-4372600b7a2c"
   },
   "outputs": [
    {
     "data": {
      "text/plain": [
       "0.5"
      ]
     },
     "execution_count": 27,
     "metadata": {},
     "output_type": "execute_result"
    }
   ],
   "source": [
    "(1.5+0.5j).imag"
   ]
  },
  {
   "cell_type": "markdown",
   "metadata": {
    "id": "sfqUm9eJMf8E"
   },
   "source": [
    "Conversion between types (`float()` and `int()`) does not work directly on complex numbers. You can take the absolute value, using `abs(z)`, or convert the real and imaginary parts separately, `z.real` and `z.imag`."
   ]
  },
  {
   "cell_type": "code",
   "execution_count": null,
   "metadata": {
    "id": "RCEWrJu8Mf8E",
    "outputId": "8a49a52d-8941-4965-893d-c974be87cec9"
   },
   "outputs": [
    {
     "ename": "TypeError",
     "evalue": "can't convert complex to float",
     "output_type": "error",
     "traceback": [
      "\u001b[0;31m---------------------------------------------------------------------------\u001b[0m",
      "\u001b[0;31mTypeError\u001b[0m                                 Traceback (most recent call last)",
      "\u001b[0;32m/tmp/ipykernel_173530/3731247557.py\u001b[0m in \u001b[0;36m<module>\u001b[0;34m\u001b[0m\n\u001b[0;32m----> 1\u001b[0;31m \u001b[0mfloat\u001b[0m\u001b[0;34m(\u001b[0m\u001b[0;36m3.0\u001b[0m\u001b[0;34m+\u001b[0m\u001b[0;36m4.0j\u001b[0m\u001b[0;34m)\u001b[0m \u001b[0;31m# returns an error\u001b[0m\u001b[0;34m\u001b[0m\u001b[0;34m\u001b[0m\u001b[0m\n\u001b[0m",
      "\u001b[0;31mTypeError\u001b[0m: can't convert complex to float"
     ]
    }
   ],
   "source": [
    "float(3.0+4.0j) # returns an error"
   ]
  },
  {
   "cell_type": "code",
   "execution_count": 1,
   "metadata": {
    "id": "8yRJXgZXMf8E",
    "outputId": "8251b6c7-aa32-4aa1-de15-8f231af2ccf1"
   },
   "outputs": [
    {
     "data": {
      "text/plain": [
       "(3+4j)"
      ]
     },
     "execution_count": 1,
     "metadata": {},
     "output_type": "execute_result"
    }
   ],
   "source": [
    "int((3.0+4.0j).real)+1j*int((3.0+4.0j).imag)"
   ]
  },
  {
   "cell_type": "markdown",
   "metadata": {
    "id": "IHiNTdAwMf8E"
   },
   "source": [
    "---"
   ]
  },
  {
   "cell_type": "markdown",
   "metadata": {
    "id": "PBrXaoIcMf8K"
   },
   "source": [
    "## Variables\n",
    "\n",
    "Useful information is stored in variables. Their names are usually written using the English alphabet and some other characters. Examples:\n",
    "```python\n",
    "width        # only letters\n",
    "length_of_corridor # use _ to separate words\n",
    "```\n",
    "\n",
    "It is advised to use longer, self-documenting variable names, to make sure your code is more readable.\n",
    "Like in most other programming languages, = is for assigning a value to the variable."
   ]
  },
  {
   "cell_type": "code",
   "execution_count": null,
   "metadata": {
    "id": "MMm8Hlx7Mf8K"
   },
   "outputs": [],
   "source": [
    "width = 20\n",
    "height = 5*9"
   ]
  },
  {
   "cell_type": "markdown",
   "metadata": {
    "id": "hxfP9s9IMf8L"
   },
   "source": [
    "We now have two variables,  `width` and `height`, which we can use for calculation. For example, area:"
   ]
  },
  {
   "cell_type": "code",
   "execution_count": null,
   "metadata": {
    "id": "aIHNLY8yMf8L",
    "outputId": "15841498-2e62-4fa5-ec80-de2f9dec8495"
   },
   "outputs": [
    {
     "data": {
      "text/plain": [
       "900"
      ]
     },
     "execution_count": 32,
     "metadata": {},
     "output_type": "execute_result"
    }
   ],
   "source": [
    "width * height # calculating the area"
   ]
  },
  {
   "cell_type": "markdown",
   "metadata": {
    "id": "vJOHam9AMf8L"
   },
   "source": [
    "If we refer to a variable that is not yet defined (no value assigned to it), we get an error message:"
   ]
  },
  {
   "cell_type": "code",
   "execution_count": null,
   "metadata": {
    "id": "IKGwiJxkMf8L",
    "outputId": "b3d7303e-be75-4fbe-c956-ffc261e72728"
   },
   "outputs": [
    {
     "ename": "NameError",
     "evalue": "name 'n' is not defined",
     "output_type": "error",
     "traceback": [
      "\u001b[0;31m---------------------------------------------------------------------------\u001b[0m",
      "\u001b[0;31mNameError\u001b[0m                                 Traceback (most recent call last)",
      "\u001b[0;32m/tmp/ipykernel_173530/2364756669.py\u001b[0m in \u001b[0;36m<module>\u001b[0;34m\u001b[0m\n\u001b[0;32m----> 1\u001b[0;31m \u001b[0mn\u001b[0m  \u001b[0;31m# Never used yet\u001b[0m\u001b[0;34m\u001b[0m\u001b[0;34m\u001b[0m\u001b[0m\n\u001b[0m",
      "\u001b[0;31mNameError\u001b[0m: name 'n' is not defined"
     ]
    }
   ],
   "source": [
    "n  # Never used yet"
   ]
  },
  {
   "cell_type": "markdown",
   "metadata": {
    "id": "_roCRc1yMf8L"
   },
   "source": [
    "We can access the last printed value using the special variable _ (underscore). This might be useful if we continue calculations, but could also lead to problems if blocks are not executed sequentially."
   ]
  },
  {
   "cell_type": "code",
   "execution_count": 6,
   "metadata": {
    "id": "NfYasZLEMf8L"
   },
   "outputs": [],
   "source": [
    "tax = 12.5 / 100"
   ]
  },
  {
   "cell_type": "code",
   "execution_count": 4,
   "metadata": {
    "id": "-r1S_xT8Mf8L"
   },
   "outputs": [],
   "source": [
    "price = 100.50"
   ]
  },
  {
   "cell_type": "code",
   "execution_count": 7,
   "metadata": {
    "id": "1P9oWUrVMf8L",
    "outputId": "e7bab2c2-194b-4df4-e178-70ee7644e64e"
   },
   "outputs": [
    {
     "data": {
      "text/plain": [
       "12.5625"
      ]
     },
     "execution_count": 7,
     "metadata": {},
     "output_type": "execute_result"
    }
   ],
   "source": [
    "price * tax"
   ]
  },
  {
   "cell_type": "code",
   "execution_count": 8,
   "metadata": {
    "id": "_iaUoAHWMf8L",
    "outputId": "16e9d7a3-68c2-474e-fdc8-22d829ac9a70"
   },
   "outputs": [
    {
     "data": {
      "text/plain": [
       "113.0625"
      ]
     },
     "execution_count": 8,
     "metadata": {},
     "output_type": "execute_result"
    }
   ],
   "source": [
    "price + _"
   ]
  },
  {
   "cell_type": "code",
   "execution_count": 9,
   "metadata": {
    "id": "VY3guQeLMf8M",
    "outputId": "2b4f9bce-1e6f-4e0d-8630-b2dabf986c57"
   },
   "outputs": [
    {
     "data": {
      "text/plain": [
       "113.06"
      ]
     },
     "execution_count": 9,
     "metadata": {},
     "output_type": "execute_result"
    }
   ],
   "source": [
    "round(_, 2) # rounding to 2 digits"
   ]
  },
  {
   "cell_type": "markdown",
   "metadata": {
    "id": "ydd25S0bMf8M"
   },
   "source": [
    "You should not assign a value to `_` - this creates a variable with that name, and you thereby lose its special functionality. This is like creating a local variable with a name used by a global variable: local overrides global."
   ]
  },
  {
   "cell_type": "markdown",
   "metadata": {
    "id": "xaq9MAiXMf8M"
   },
   "source": [
    "We can also refer to the return values of previous cells"
   ]
  },
  {
   "cell_type": "code",
   "execution_count": 11,
   "metadata": {
    "id": "6JBrqXkoMf8M",
    "outputId": "0ae677d9-4683-4833-8c1b-eacc3fd75332"
   },
   "outputs": [
    {
     "ename": "KeyError",
     "evalue": "2",
     "output_type": "error",
     "traceback": [
      "\u001b[0;31m---------------------------------------------------------------------------\u001b[0m",
      "\u001b[0;31mKeyError\u001b[0m                                  Traceback (most recent call last)",
      "Cell \u001b[0;32mIn[11], line 1\u001b[0m\n\u001b[0;32m----> 1\u001b[0m \u001b[43mOut\u001b[49m\u001b[43m[\u001b[49m\u001b[38;5;241;43m2\u001b[39;49m\u001b[43m]\u001b[49m\n",
      "\u001b[0;31mKeyError\u001b[0m: 2"
     ]
    }
   ],
   "source": [
    "Out[2]"
   ]
  },
  {
   "cell_type": "markdown",
   "metadata": {
    "id": "l_8LMiz-Mf8M"
   },
   "source": [
    "---"
   ]
  },
  {
   "cell_type": "markdown",
   "metadata": {
    "id": "_JSgo024Mf8M"
   },
   "source": [
    "## Logical (Boolean) variables and conditionals\n",
    "To react to the input, we will need control statements. Think of the formula for the root of a quadratic equation! Depending on the value of the discriminant, there will or will not be (real valued) roots. We thus are driven to logical variables (e.g., is the discriminant positive), which can be  *True* or *False*. Such variables have the type **boolean** (after Boole). (Not **int** or **float**)"
   ]
  },
  {
   "cell_type": "markdown",
   "metadata": {
    "id": "tURbyj50Mf8M"
   },
   "source": [
    "Asking whether two things are equal is by two equal signs, the operator == ."
   ]
  },
  {
   "cell_type": "code",
   "execution_count": null,
   "metadata": {
    "id": "FY7PbtzAMf8M",
    "outputId": "b43c33b4-d9ac-446e-9b3e-ad5dc4289422"
   },
   "outputs": [
    {
     "data": {
      "text/plain": [
       "True"
      ]
     },
     "execution_count": 43,
     "metadata": {},
     "output_type": "execute_result"
    }
   ],
   "source": [
    "1 == 1  # is 1 1?"
   ]
  },
  {
   "cell_type": "code",
   "execution_count": null,
   "metadata": {
    "id": "JbFENXuWMf8M",
    "outputId": "6ecf5c61-0161-407d-f2b3-4eb380727f06"
   },
   "outputs": [
    {
     "data": {
      "text/plain": [
       "False"
      ]
     },
     "execution_count": 44,
     "metadata": {},
     "output_type": "execute_result"
    }
   ],
   "source": [
    "1 == 2 # is 1 2?"
   ]
  },
  {
   "cell_type": "markdown",
   "metadata": {
    "id": "jVEXNkvGMf8M"
   },
   "source": [
    "We can also test `not equal`, using != :"
   ]
  },
  {
   "cell_type": "code",
   "execution_count": null,
   "metadata": {
    "id": "TWJFX8wUMf8N",
    "outputId": "30018489-58fd-4834-d664-14e0ca0e8997"
   },
   "outputs": [
    {
     "data": {
      "text/plain": [
       "True"
      ]
     },
     "execution_count": 45,
     "metadata": {},
     "output_type": "execute_result"
    }
   ],
   "source": [
    "1!=2 #  is 1 not 2 ?"
   ]
  },
  {
   "cell_type": "markdown",
   "metadata": {
    "id": "xj5FSGZNMf8N"
   },
   "source": [
    "Of course, to find out which number is bigger, we can use <,> :"
   ]
  },
  {
   "cell_type": "code",
   "execution_count": null,
   "metadata": {
    "id": "U_hq1mWlMf8N",
    "outputId": "3ff55f83-aeb2-485f-b248-10ad7ea1572e"
   },
   "outputs": [
    {
     "data": {
      "text/plain": [
       "False"
      ]
     },
     "execution_count": 46,
     "metadata": {},
     "output_type": "execute_result"
    }
   ],
   "source": [
    "1>2"
   ]
  },
  {
   "cell_type": "code",
   "execution_count": null,
   "metadata": {
    "id": "9Jo_9wDFMf8N",
    "outputId": "cf7c7199-9e9e-47a0-8a63-29122b2e49b4"
   },
   "outputs": [
    {
     "data": {
      "text/plain": [
       "True"
      ]
     },
     "execution_count": 49,
     "metadata": {},
     "output_type": "execute_result"
    }
   ],
   "source": [
    "1<=2"
   ]
  },
  {
   "cell_type": "code",
   "execution_count": null,
   "metadata": {
    "id": "gD0awNdiMf8N",
    "outputId": "7ca12bf9-d62e-4c89-e2fc-1ff30ae603a4"
   },
   "outputs": [
    {
     "ename": "TypeError",
     "evalue": "'>' not supported between instances of 'complex' and 'int'",
     "output_type": "error",
     "traceback": [
      "\u001b[0;31m---------------------------------------------------------------------------\u001b[0m",
      "\u001b[0;31mTypeError\u001b[0m                                 Traceback (most recent call last)",
      "\u001b[0;32m/tmp/ipykernel_173530/3431435589.py\u001b[0m in \u001b[0;36m<module>\u001b[0;34m\u001b[0m\n\u001b[0;32m----> 1\u001b[0;31m \u001b[0;36m1j\u001b[0m\u001b[0;34m+\u001b[0m\u001b[0;36m3\u001b[0m\u001b[0;34m>\u001b[0m\u001b[0;36m2\u001b[0m \u001b[0;31m# this does not make sense for complex numbers\u001b[0m\u001b[0;34m\u001b[0m\u001b[0;34m\u001b[0m\u001b[0m\n\u001b[0m",
      "\u001b[0;31mTypeError\u001b[0m: '>' not supported between instances of 'complex' and 'int'"
     ]
    }
   ],
   "source": [
    "1j+3>2 # this does not make sense for complex numbers"
   ]
  },
  {
   "cell_type": "markdown",
   "metadata": {
    "id": "U6xMbKKiMf8N"
   },
   "source": [
    "We can store a boolean in a variable:"
   ]
  },
  {
   "cell_type": "code",
   "execution_count": null,
   "metadata": {
    "id": "2hi_rekwMf8N"
   },
   "outputs": [],
   "source": [
    "true_or_false = 2*2==5"
   ]
  },
  {
   "cell_type": "code",
   "execution_count": null,
   "metadata": {
    "id": "bkpETRqmMf8N",
    "outputId": "28c44e27-208e-4403-b165-56f47e3f1308"
   },
   "outputs": [
    {
     "data": {
      "text/plain": [
       "False"
      ]
     },
     "execution_count": 53,
     "metadata": {},
     "output_type": "execute_result"
    }
   ],
   "source": [
    "true_or_false"
   ]
  },
  {
   "cell_type": "markdown",
   "metadata": {
    "id": "WbGt1ENLMf8N"
   },
   "source": [
    "We can create longer logical formulas using **and**, **or** and **not** ."
   ]
  },
  {
   "cell_type": "code",
   "execution_count": null,
   "metadata": {
    "id": "zxW3WV8xMf8N",
    "outputId": "e42e7b09-de08-4d22-83df-f94a5994fbc3"
   },
   "outputs": [
    {
     "data": {
      "text/plain": [
       "True"
      ]
     },
     "execution_count": 58,
     "metadata": {},
     "output_type": "execute_result"
    }
   ],
   "source": [
    "not 2*2==5"
   ]
  },
  {
   "cell_type": "markdown",
   "metadata": {
    "id": "T_MvGAW1Mf8O"
   },
   "source": [
    "These **and**, **or**, and **not** will be evaluated after the relation signs (they have lower precedence).\n",
    "Among the three, **not** is evaluated first (highest precedence), and **or** last.\n"
   ]
  },
  {
   "cell_type": "code",
   "execution_count": null,
   "metadata": {
    "id": "uUxGQrVNMf8O",
    "outputId": "107a3a73-7a85-4b7a-f602-15382d07dfcf"
   },
   "outputs": [
    {
     "data": {
      "text/plain": [
       "True"
      ]
     },
     "execution_count": 59,
     "metadata": {},
     "output_type": "execute_result"
    }
   ],
   "source": [
    "b=3\n",
    "((1==2) and (3==4)) or (b==3)"
   ]
  },
  {
   "cell_type": "code",
   "execution_count": null,
   "metadata": {
    "id": "dtWZgT6WMf8O",
    "outputId": "b1737f87-df17-49e1-bc57-5fe2e76fccd3"
   },
   "outputs": [
    {
     "data": {
      "text/plain": [
       "True"
      ]
     },
     "execution_count": 61,
     "metadata": {},
     "output_type": "execute_result"
    }
   ],
   "source": [
    "1==2 and 3==4 or not b!=3"
   ]
  },
  {
   "cell_type": "code",
   "execution_count": null,
   "metadata": {
    "id": "7groa_gOMf8O",
    "outputId": "cafb1b25-34c8-45a5-fdde-3f9b022fd826"
   },
   "outputs": [
    {
     "data": {
      "text/plain": [
       "False"
      ]
     },
     "execution_count": 62,
     "metadata": {},
     "output_type": "execute_result"
    }
   ],
   "source": [
    "1==2 and (3==4 or not b!=3)"
   ]
  },
  {
   "cell_type": "markdown",
   "metadata": {
    "id": "_d1Au19uMf8O"
   },
   "source": [
    "## Strings (of characters)\n",
    "\n",
    "Python is a great tool for manipulating strings of characters, such as words. We can use simple quotes ('...')  or double (\"...\") -- there is no significant difference. We can use the backslash (`\\`) to protect quotes:"
   ]
  },
  {
   "cell_type": "code",
   "execution_count": null,
   "metadata": {
    "id": "T2pHq8_mMf8O",
    "outputId": "95f55f30-52fd-4f4f-fce5-e9f529e2647c"
   },
   "outputs": [
    {
     "data": {
      "text/plain": [
       "'spam eggs'"
      ]
     },
     "execution_count": 77,
     "metadata": {},
     "output_type": "execute_result"
    }
   ],
   "source": [
    "'spam eggs'"
   ]
  },
  {
   "cell_type": "code",
   "execution_count": null,
   "metadata": {
    "id": "h4-Lxs2WMf8O",
    "outputId": "15c8fb30-8ad7-4a81-9ad6-94668dcc5f7e"
   },
   "outputs": [
    {
     "data": {
      "text/plain": [
       "\"doesn't\""
      ]
     },
     "execution_count": 78,
     "metadata": {},
     "output_type": "execute_result"
    }
   ],
   "source": [
    "'doesn\\'t'"
   ]
  },
  {
   "cell_type": "code",
   "execution_count": null,
   "metadata": {
    "id": "KvoblCh5Mf8O",
    "outputId": "cc9890f5-55bf-4a94-9606-a4433ee2720b"
   },
   "outputs": [
    {
     "data": {
      "text/plain": [
       "\"doesn't\""
      ]
     },
     "execution_count": 65,
     "metadata": {},
     "output_type": "execute_result"
    }
   ],
   "source": [
    "\"doesn't\""
   ]
  },
  {
   "cell_type": "code",
   "execution_count": null,
   "metadata": {
    "id": "YQqN_5VUMf8O",
    "outputId": "6f05bd5c-3f77-429a-de39-1e14dfb79629"
   },
   "outputs": [
    {
     "data": {
      "text/plain": [
       "'\"Yes,\" he said.'"
      ]
     },
     "execution_count": 66,
     "metadata": {},
     "output_type": "execute_result"
    }
   ],
   "source": [
    "'\"Yes,\" he said.'"
   ]
  },
  {
   "cell_type": "code",
   "execution_count": null,
   "metadata": {
    "id": "LWM_fRvPMf8O",
    "outputId": "ab832bbf-6115-45a9-ef87-d9e22aa3c47d"
   },
   "outputs": [
    {
     "data": {
      "text/plain": [
       "'\"Yes,\" he said.'"
      ]
     },
     "execution_count": 67,
     "metadata": {},
     "output_type": "execute_result"
    }
   ],
   "source": [
    "\"\\\"Yes,\\\" he said.\""
   ]
  },
  {
   "cell_type": "code",
   "execution_count": null,
   "metadata": {
    "id": "4a7ldqQaMf8O",
    "outputId": "1dcab2e9-3886-4581-ff5c-976b64df3a2f"
   },
   "outputs": [
    {
     "data": {
      "text/plain": [
       "'\"Isn\\'t,\" she said.'"
      ]
     },
     "execution_count": 68,
     "metadata": {},
     "output_type": "execute_result"
    }
   ],
   "source": [
    "'\"Isn\\'t,\" she said.'"
   ]
  },
  {
   "cell_type": "markdown",
   "metadata": {
    "id": "3smjLnm8Mf8P"
   },
   "source": [
    "When the return value is a character string, it is displayed between `'` characters, which can result in an ugly output. Using print() will be prettier."
   ]
  },
  {
   "cell_type": "code",
   "execution_count": null,
   "metadata": {
    "id": "eYari4t9Mf8P",
    "outputId": "3e11100b-6e82-45a4-d72e-4ed287a1e55e"
   },
   "outputs": [
    {
     "name": "stdout",
     "output_type": "stream",
     "text": [
      "\"Isn't,\" she said.\n"
     ]
    }
   ],
   "source": [
    "print('\"Isn\\'t,\" she said.')"
   ]
  },
  {
   "cell_type": "code",
   "execution_count": null,
   "metadata": {
    "id": "Lqr5ssgRMf8P"
   },
   "outputs": [],
   "source": [
    "s = 'First line.\\nSecond line.'  # \\n is short for \"new line\""
   ]
  },
  {
   "cell_type": "code",
   "execution_count": null,
   "metadata": {
    "id": "ucTp5o88Mf8P",
    "outputId": "54a5f077-3455-4916-d4c0-ca89eb35f39f"
   },
   "outputs": [
    {
     "data": {
      "text/plain": [
       "'First line.\\nSecond line.'"
      ]
     },
     "execution_count": 81,
     "metadata": {},
     "output_type": "execute_result"
    }
   ],
   "source": [
    "s  # if we don't use print(), the \\n will be printed explicitly"
   ]
  },
  {
   "cell_type": "code",
   "execution_count": null,
   "metadata": {
    "id": "fOdmS0OQMf8P",
    "outputId": "84b901ec-d778-4bb7-bd0f-0ad4955a59f5"
   },
   "outputs": [
    {
     "name": "stdout",
     "output_type": "stream",
     "text": [
      "First line.\n",
      "Second line.\n"
     ]
    }
   ],
   "source": [
    "print(s)  # print()-tel az \\n újsort hoz létre"
   ]
  },
  {
   "cell_type": "markdown",
   "metadata": {
    "id": "8VBC623WMf8P"
   },
   "source": [
    "If you need \\n to be not interpreted as a newline, you can place an `r` in front of the beginning of the string:"
   ]
  },
  {
   "cell_type": "code",
   "execution_count": null,
   "metadata": {
    "id": "cf_1pf93Mf8P",
    "outputId": "cc517f8f-eae2-466f-e995-00f7237404bb"
   },
   "outputs": [
    {
     "name": "stdout",
     "output_type": "stream",
     "text": [
      "C:\\some\n",
      "ame\n"
     ]
    }
   ],
   "source": [
    "print('C:\\some\\name')  # \\n is interpreted as newline"
   ]
  },
  {
   "cell_type": "code",
   "execution_count": null,
   "metadata": {
    "id": "1wcck8j_Mf8P",
    "outputId": "9e3fa6a2-12ad-44cc-dd6b-f69641de02a2"
   },
   "outputs": [
    {
     "name": "stdout",
     "output_type": "stream",
     "text": [
      "C:\\some\\name\n"
     ]
    }
   ],
   "source": [
    "print(r'C:\\some\\name')  # r before the string"
   ]
  },
  {
   "cell_type": "markdown",
   "metadata": {
    "id": "bdrOZ36QMf8P"
   },
   "source": [
    "Character strings can span several lines. A possibility here is to use three quotation marks: \"\"\"...\"\"\" or  '''...'''. Here line breaks will be parts of the string, but this can be avoided if the line is ended by \\\\."
   ]
  },
  {
   "cell_type": "code",
   "execution_count": null,
   "metadata": {
    "id": "vLaGnFeNMf8P",
    "outputId": "f2b8cf2c-de65-48c2-f63e-b1beccc82f3f"
   },
   "outputs": [
    {
     "name": "stdout",
     "output_type": "stream",
     "text": [
      "Usage: thingy [OPTIONS]\n",
      "     -h                        Display this usage message\n",
      "     -H hostname               Hostname to connect to\n",
      "\n"
     ]
    }
   ],
   "source": [
    "print(\"\"\"\\\n",
    "Usage: thingy [OPTIONS]\n",
    "     -h                        Display this usage message\n",
    "     -H hostname               Hostname to connect \\\n",
    "to\n",
    "\"\"\")"
   ]
  },
  {
   "cell_type": "markdown",
   "metadata": {
    "id": "ui4TK-SdMf8P"
   },
   "source": [
    "Operations on character strings: addition is concatenation, multiplication by a number is repetition"
   ]
  },
  {
   "cell_type": "code",
   "execution_count": null,
   "metadata": {
    "id": "p2H2Er3iMf8Q",
    "outputId": "599c59eb-209f-4823-8a90-d44df9a927ea"
   },
   "outputs": [
    {
     "data": {
      "text/plain": [
       "'unununium'"
      ]
     },
     "execution_count": 88,
     "metadata": {},
     "output_type": "execute_result"
    }
   ],
   "source": [
    "3 * 'un' + 'ium'"
   ]
  },
  {
   "cell_type": "markdown",
   "metadata": {
    "id": "EwtjPOf-Mf8Q"
   },
   "source": [
    "Using just a space between two strings is also concatenation,\n",
    "But only with literal strings, not with variables."
   ]
  },
  {
   "cell_type": "code",
   "execution_count": null,
   "metadata": {
    "id": "6kHlZRDaMf8Q",
    "outputId": "7daf35f2-db59-4a68-ea9a-d9bc0bdfcbb3"
   },
   "outputs": [
    {
     "name": "stdout",
     "output_type": "stream",
     "text": [
      "Python\n"
     ]
    }
   ],
   "source": [
    "print ('Py' 'thon')\n"
   ]
  },
  {
   "cell_type": "code",
   "execution_count": null,
   "metadata": {
    "id": "m1UiltWUMf8Q",
    "outputId": "b0584427-bfb3-4500-d87b-10f32fe69ea0"
   },
   "outputs": [
    {
     "ename": "SyntaxError",
     "evalue": "invalid syntax (70677406.py, line 2)",
     "output_type": "error",
     "traceback": [
      "\u001b[0;36m  File \u001b[0;32m\"/tmp/ipykernel_173530/70677406.py\"\u001b[0;36m, line \u001b[0;32m2\u001b[0m\n\u001b[0;31m    print(prefix 'thon')  # cannot interpret this\u001b[0m\n\u001b[0m                      ^\u001b[0m\n\u001b[0;31mSyntaxError\u001b[0m\u001b[0;31m:\u001b[0m invalid syntax\n"
     ]
    }
   ],
   "source": [
    "prefix = 'Py'\n",
    "print(prefix 'thon')  # cannot interpret this"
   ]
  },
  {
   "cell_type": "markdown",
   "metadata": {
    "id": "t8AbU-NqMf8Q"
   },
   "source": [
    "Using `+` to concatenate strings works all the time:"
   ]
  },
  {
   "cell_type": "code",
   "execution_count": null,
   "metadata": {
    "id": "5cuCRNrVMf8Q",
    "outputId": "0430fde3-4190-4b3a-b300-c4e028774957"
   },
   "outputs": [
    {
     "data": {
      "text/plain": [
       "'Python'"
      ]
     },
     "execution_count": 98,
     "metadata": {},
     "output_type": "execute_result"
    }
   ],
   "source": [
    "prefix = 'Py'\n",
    "prefix + 'thon'"
   ]
  },
  {
   "cell_type": "markdown",
   "metadata": {
    "id": "c4ki73DWMf8Q"
   },
   "source": [
    "You can also use several spaces between literal strings, to concatenate them:"
   ]
  },
  {
   "cell_type": "code",
   "execution_count": null,
   "metadata": {
    "id": "IYGK2gSYMf8Q",
    "outputId": "2fee0b4b-a4ac-405f-e940-790be0dbbc43"
   },
   "outputs": [
    {
     "data": {
      "text/plain": [
       "'Text that is too long to practically handle, can be divided using newlines.'"
      ]
     },
     "execution_count": 121,
     "metadata": {},
     "output_type": "execute_result"
    }
   ],
   "source": [
    "text = ('Text that is too long to practically handle, '\n",
    "            'can be divided using newlines.')\n",
    "text"
   ]
  },
  {
   "cell_type": "markdown",
   "metadata": {
    "id": "hc7hANc-Mf8Q"
   },
   "source": [
    "Within a string, the characters making up the string can be referenced by their index. The first character has index 0, the second, 1, etc. (like in C)"
   ]
  },
  {
   "cell_type": "code",
   "execution_count": null,
   "metadata": {
    "id": "UH2vU1WBMf8Q",
    "outputId": "e1433745-689a-433a-fc19-40787288ef2d"
   },
   "outputs": [
    {
     "name": "stdout",
     "output_type": "stream",
     "text": [
      "P\n",
      "n\n"
     ]
    }
   ],
   "source": [
    "szo = 'Python'\n",
    "print(szo[0])\n",
    "print(szo[5])\n"
   ]
  },
  {
   "cell_type": "markdown",
   "metadata": {
    "id": "Ib3NW6i1Mf8Q"
   },
   "source": [
    "An index can be negative, then it is counted towards the left:"
   ]
  },
  {
   "cell_type": "code",
   "execution_count": null,
   "metadata": {
    "id": "tQSN55flMf8S",
    "outputId": "cadd9f18-2909-4bfc-a81e-278647dd6427"
   },
   "outputs": [
    {
     "name": "stdout",
     "output_type": "stream",
     "text": [
      "n\n",
      "o\n",
      "P\n"
     ]
    }
   ],
   "source": [
    "print(szo[-1])  # last\n",
    "print(szo[-2])  # before last\n",
    "print(szo[-6])"
   ]
  },
  {
   "cell_type": "markdown",
   "metadata": {
    "id": "KZwbGS66Mf8S"
   },
   "source": [
    "You can also reference a slice (part) of the string, using the operator `:`. Here, `[from:to]` means: starting with index `from`, up to, but not including index `to`. If `from < to` is not true, the returned string will be empty. Bear in mind that negative values of `from` and `to` are also allowed, they will be counted to the left."
   ]
  },
  {
   "cell_type": "code",
   "execution_count": null,
   "metadata": {
    "id": "-oxil3wOMf8S",
    "outputId": "4d4703ed-ac29-4d66-fb3e-a45767671d3e"
   },
   "outputs": [
    {
     "name": "stdout",
     "output_type": "stream",
     "text": [
      "Py\n",
      "tho\n",
      "Empty string: \n",
      "Not empty string: ytho\n",
      "Not empty string: th\n"
     ]
    }
   ],
   "source": [
    "print(szo[0:2])  # starting with 0, ending up to, but not including, 2\n",
    "print(szo[2:5])\n",
    "print(\"Empty string:\", szo[5:2])\n",
    "print(\"Not empty string:\", szo[-5:5])\n",
    "print(\"Not empty string:\", szo[2:-2])\n"
   ]
  },
  {
   "cell_type": "markdown",
   "metadata": {
    "id": "yrLAo_8vMf8T"
   },
   "source": [
    "Slicing: you can omit either `from` or `to`, then your slice will go all the way. Having the asymmetric definition of the from:to makes `s=s[:i] + s[i:]` hold for any i"
   ]
  },
  {
   "cell_type": "code",
   "execution_count": null,
   "metadata": {
    "id": "Oybaga9jMf8T",
    "outputId": "912079ad-a381-43d0-b235-581aef683b23"
   },
   "outputs": [
    {
     "data": {
      "text/plain": [
       "'Python'"
      ]
     },
     "execution_count": 108,
     "metadata": {},
     "output_type": "execute_result"
    }
   ],
   "source": [
    "szo[:2] + szo[2:]"
   ]
  },
  {
   "cell_type": "code",
   "execution_count": null,
   "metadata": {
    "id": "kBvxwQSjMf8T",
    "outputId": "8e397131-9953-476b-8be8-ad099c03f871"
   },
   "outputs": [
    {
     "data": {
      "text/plain": [
       "'Python'"
      ]
     },
     "execution_count": 109,
     "metadata": {},
     "output_type": "execute_result"
    }
   ],
   "source": [
    "szo[:4] + szo[4:]"
   ]
  },
  {
   "cell_type": "code",
   "execution_count": null,
   "metadata": {
    "id": "z8ZWf1IGMf8T",
    "outputId": "42e94f24-692f-40fc-97b1-55f518b959fc"
   },
   "outputs": [
    {
     "data": {
      "text/plain": [
       "'on'"
      ]
     },
     "execution_count": 74,
     "metadata": {},
     "output_type": "execute_result"
    }
   ],
   "source": [
    "szo[-2:] # last 3 characters"
   ]
  },
  {
   "cell_type": "code",
   "execution_count": null,
   "metadata": {
    "id": "QZI7gCNoMf8T",
    "outputId": "c7978add-42ac-4bc4-e5bb-a0914d421cb7"
   },
   "outputs": [
    {
     "data": {
      "text/plain": [
       "'P'"
      ]
     },
     "execution_count": 112,
     "metadata": {},
     "output_type": "execute_result"
    }
   ],
   "source": [
    "szo[-0]  # since -0 and 0 are the same"
   ]
  },
  {
   "cell_type": "markdown",
   "metadata": {
    "id": "bCKSh_nsMf8T"
   },
   "source": [
    "For an index too large, positive or negative, we obtain an error:"
   ]
  },
  {
   "cell_type": "code",
   "execution_count": null,
   "metadata": {
    "id": "Dr8oJLZyMf8T",
    "outputId": "6ca477af-de9f-45ae-baeb-576144a3b28d"
   },
   "outputs": [
    {
     "ename": "IndexError",
     "evalue": "string index out of range",
     "output_type": "error",
     "traceback": [
      "\u001b[0;31m---------------------------------------------------------------------------\u001b[0m",
      "\u001b[0;31mIndexError\u001b[0m                                Traceback (most recent call last)",
      "\u001b[0;32m/tmp/ipykernel_173530/434175380.py\u001b[0m in \u001b[0;36m<module>\u001b[0;34m\u001b[0m\n\u001b[0;32m----> 1\u001b[0;31m \u001b[0mszo\u001b[0m\u001b[0;34m[\u001b[0m\u001b[0;36m42\u001b[0m\u001b[0;34m]\u001b[0m  \u001b[0;31m# a szó csak 7 karakteres\u001b[0m\u001b[0;34m\u001b[0m\u001b[0;34m\u001b[0m\u001b[0m\n\u001b[0m",
      "\u001b[0;31mIndexError\u001b[0m: string index out of range"
     ]
    }
   ],
   "source": [
    "szo[42]  # our \"szo\" has 7 characters"
   ]
  },
  {
   "cell_type": "markdown",
   "metadata": {
    "id": "U5NGXaMWMf8T"
   },
   "source": [
    "Strings are so-called \"immutable\" in python, meaning, their characters cannot be changed:"
   ]
  },
  {
   "cell_type": "code",
   "execution_count": null,
   "metadata": {
    "id": "k6Jl9YCDMf8T",
    "outputId": "f8ab18f9-2a5a-4a5e-e92d-992e05930829"
   },
   "outputs": [
    {
     "ename": "TypeError",
     "evalue": "'str' object does not support item assignment",
     "output_type": "error",
     "traceback": [
      "\u001b[0;31m---------------------------------------------------------------------------\u001b[0m",
      "\u001b[0;31mTypeError\u001b[0m                                 Traceback (most recent call last)",
      "\u001b[0;32m/tmp/ipykernel_173530/4089608235.py\u001b[0m in \u001b[0;36m<module>\u001b[0;34m\u001b[0m\n\u001b[0;32m----> 1\u001b[0;31m \u001b[0mszo\u001b[0m\u001b[0;34m[\u001b[0m\u001b[0;36m0\u001b[0m\u001b[0;34m]\u001b[0m \u001b[0;34m=\u001b[0m \u001b[0;34m'J'\u001b[0m\u001b[0;34m\u001b[0m\u001b[0;34m\u001b[0m\u001b[0m\n\u001b[0m",
      "\u001b[0;31mTypeError\u001b[0m: 'str' object does not support item assignment"
     ]
    }
   ],
   "source": [
    "szo[0] = 'J'"
   ]
  },
  {
   "cell_type": "markdown",
   "metadata": {
    "id": "DjCSxk2oMf8U"
   },
   "source": [
    "But we can always create a new string with a different content:"
   ]
  },
  {
   "cell_type": "code",
   "execution_count": null,
   "metadata": {
    "id": "Gp0z7qvdMf8U",
    "outputId": "f7700b21-5d19-40a2-d287-60aa8bac773c"
   },
   "outputs": [
    {
     "name": "stdout",
     "output_type": "stream",
     "text": [
      "Jython\n"
     ]
    }
   ],
   "source": [
    "new_szo = 'J' + szo[1:]\n",
    "print (new_szo)"
   ]
  },
  {
   "cell_type": "markdown",
   "metadata": {
    "id": "w9EjuhIbMf8U"
   },
   "source": [
    "The length of a string is obtained by the built-in function len() :"
   ]
  },
  {
   "cell_type": "code",
   "execution_count": null,
   "metadata": {
    "id": "z_AvPKNvMf8U",
    "outputId": "4c1a9354-a33e-47e0-be23-227f914815d7"
   },
   "outputs": [
    {
     "data": {
      "text/plain": [
       "58"
      ]
     },
     "execution_count": 175,
     "metadata": {},
     "output_type": "execute_result"
    }
   ],
   "source": [
    "s = 'Llanfairpwllgwyngyllgogerychwyrndrobwllllantysiliogogogoch'\n",
    "len(s)"
   ]
  },
  {
   "cell_type": "markdown",
   "metadata": {
    "id": "EoGrc6gjMf8U"
   },
   "source": [
    "---"
   ]
  },
  {
   "cell_type": "markdown",
   "metadata": {
    "id": "r3bhSxcWMf8U"
   },
   "source": [
    "## Lists -- strings are immutable lists of characters"
   ]
  },
  {
   "cell_type": "markdown",
   "metadata": {
    "id": "tDDh1qAqMf8U"
   },
   "source": [
    "Python has many data structures where we can group together variables. The most often used, most versatile is the list. The elements of a list are separated by commas, and entered between square brackets.\n",
    "\n",
    "Elements of a list don't need to have the same type."
   ]
  },
  {
   "cell_type": "code",
   "execution_count": null,
   "metadata": {
    "id": "b0mfs1vbMf8U",
    "outputId": "178a7a33-52f4-4480-f9a0-f8593f5a7c19"
   },
   "outputs": [
    {
     "name": "stdout",
     "output_type": "stream",
     "text": [
      "['spam', 3.5, 100, 1234]\n",
      "spam 1234\n"
     ]
    }
   ],
   "source": [
    "a = ['spam', 3.5, 100, 1234]\n",
    "print(a)\n",
    "print(a[0], a[3])\n"
   ]
  },
  {
   "cell_type": "markdown",
   "metadata": {
    "id": "o_k6I_h_Mf8U"
   },
   "source": [
    "Slicing works for lists in the same way as for strings:"
   ]
  },
  {
   "cell_type": "code",
   "execution_count": null,
   "metadata": {
    "id": "2X2PpczuMf8U",
    "outputId": "41aae830-8953-4c40-d32e-6c11f6e4a073"
   },
   "outputs": [
    {
     "data": {
      "text/plain": [
       "[3.5, 100]"
      ]
     },
     "execution_count": 133,
     "metadata": {},
     "output_type": "execute_result"
    }
   ],
   "source": [
    "a[1:-1]   # returns a new list"
   ]
  },
  {
   "cell_type": "markdown",
   "metadata": {
    "id": "A0ZxzsB5Mf8U"
   },
   "source": [
    "Operations on lists are the same as for strings. Actually, strings are special cases of lists (immutable lists of characters)."
   ]
  },
  {
   "cell_type": "code",
   "execution_count": null,
   "metadata": {
    "id": "d0zzy-97Mf8V",
    "outputId": "864f51e3-c521-411d-b7d3-9ad292595bcb"
   },
   "outputs": [
    {
     "name": "stdout",
     "output_type": "stream",
     "text": [
      "['spam', 3.5, 'ham', 4]\n",
      "['spam', 3.5, 100, 'spam', 3.5, 100, 'spam', 3.5, 100, 'Boe!']\n",
      "length of string is  4\n"
     ]
    }
   ],
   "source": [
    "print(a[:2] + ['ham', 2*2])\n",
    "print(3*a[:3] + ['Boe!'])\n",
    "print(\"length of string is \", len(a))"
   ]
  },
  {
   "cell_type": "markdown",
   "metadata": {
    "id": "JcotrGEPMf8V"
   },
   "source": [
    "Lists can be edited: unlike strings, they are not immutable."
   ]
  },
  {
   "cell_type": "code",
   "execution_count": null,
   "metadata": {
    "id": "TDWvJ-3ZMf8V",
    "outputId": "3b059eb5-c257-4d13-a2d1-6435748e8c90"
   },
   "outputs": [
    {
     "name": "stdout",
     "output_type": "stream",
     "text": [
      "['spam', 3.5, 100, 1234]\n",
      "['spam', 3.5, 123, 1234]\n",
      "[1, 12, 123, 1234]\n"
     ]
    }
   ],
   "source": [
    "print(a)\n",
    "a[2] = a[2] + 23\n",
    "print(a)\n",
    "a[0:2] = [1, 12] # Pár elem átírása:\n",
    "print(a)"
   ]
  },
  {
   "cell_type": "markdown",
   "metadata": {
    "id": "dQmYI9jSMf8V"
   },
   "source": [
    "We can also change the number of elements of a string by editing:"
   ]
  },
  {
   "cell_type": "code",
   "execution_count": null,
   "metadata": {
    "id": "bk0HQSGAMf8V",
    "outputId": "c7f83847-0c6b-46d0-dfbb-60180ff6c7d3"
   },
   "outputs": [
    {
     "name": "stdout",
     "output_type": "stream",
     "text": [
      "[123, 'bletch', 'xyzzy', 1234, 1, 12, 123, 1234, 123, 'bletch', 'xyzzy', 1234, 1, 12, 123, 1234]\n",
      "['xyzzy', 1234, 1, 12, 123, 1234, 123, 'bletch', 'xyzzy', 1234, 1, 12, 123, 1234]\n",
      "['xyzzy', 'bletch', 'xyzzy', 1234, 1, 12, 123, 1234, 123, 'bletch', 'xyzzy', 1234, 1, 12, 123, 1234]\n",
      "['xyzzy', 'bletch', 'xyzzy', 1234, 1, 12, 123, 1234, 123, 'bletch', 'xyzzy', 1234, 1, 12, 123, 1234, 'xyzzy', 'bletch', 'xyzzy', 1234, 1, 12, 123, 1234, 123, 'bletch', 'xyzzy', 1234, 1, 12, 123, 1234]\n"
     ]
    }
   ],
   "source": [
    "a = 2*a\n",
    "print(a)\n",
    "a[0:2] = []\n",
    "print(a)\n",
    "a[1:1] = ['bletch', 'xyzzy'] # Pár elem beszúrása:\n",
    "print(a)\n",
    "a[:0] = a     # Inserts a copy of a to the beginning\n",
    "print(a)"
   ]
  },
  {
   "cell_type": "markdown",
   "metadata": {
    "id": "IiPR6liGMf8V"
   },
   "source": [
    "We often need to add things to a list. We can do this by the methods append() and extend():\n"
   ]
  },
  {
   "cell_type": "code",
   "execution_count": null,
   "metadata": {
    "id": "var8aDG3Mf8V",
    "outputId": "2cf23ca9-a55e-448e-bf2b-7a6bed07eb6e"
   },
   "outputs": [
    {
     "name": "stdout",
     "output_type": "stream",
     "text": [
      "[1, 2, 4]\n",
      "[1, 2, 4, 5, 8]\n",
      "[1, 2, 4, 5, 8, 10, 12]\n"
     ]
    }
   ],
   "source": [
    "b = [1, 2, 4]\n",
    "print(b)\n",
    "b.append(5)\n",
    "b.append(8)\n",
    "print(b)\n",
    "b.extend([10, 12])\n",
    "print(b)"
   ]
  },
  {
   "cell_type": "markdown",
   "metadata": {
    "id": "yOSo172aMf8V"
   },
   "source": [
    "Lists can also be elements of lists:"
   ]
  },
  {
   "cell_type": "code",
   "execution_count": null,
   "metadata": {
    "id": "urQPrXm5Mf8V",
    "outputId": "0eee872b-7da9-4593-aaef-084f603cbf98"
   },
   "outputs": [
    {
     "data": {
      "text/plain": [
       "[['a', 'b', 'c'], [1, 2, 3]]"
      ]
     },
     "execution_count": 139,
     "metadata": {},
     "output_type": "execute_result"
    }
   ],
   "source": [
    "a = ['a', 'b', 'c']\n",
    "n = [1, 2, 3]\n",
    "x = [a, n]\n",
    "x"
   ]
  },
  {
   "cell_type": "code",
   "execution_count": null,
   "metadata": {
    "id": "NObGDAckMf8V",
    "outputId": "653063ab-6f4e-42ef-c257-f352963af285"
   },
   "outputs": [
    {
     "data": {
      "text/plain": [
       "['a', 'b', 'c']"
      ]
     },
     "execution_count": 140,
     "metadata": {},
     "output_type": "execute_result"
    }
   ],
   "source": [
    "x[0]"
   ]
  },
  {
   "cell_type": "code",
   "execution_count": null,
   "metadata": {
    "id": "0xkrc9DKMf8V",
    "outputId": "c4858fbe-c58a-44ce-e339-329c407dd539"
   },
   "outputs": [
    {
     "data": {
      "text/plain": [
       "'b'"
      ]
     },
     "execution_count": 141,
     "metadata": {},
     "output_type": "execute_result"
    }
   ],
   "source": [
    "x[0][1]"
   ]
  },
  {
   "cell_type": "code",
   "execution_count": null,
   "metadata": {
    "id": "UBgl-rpiMf8V",
    "outputId": "2166da33-db26-4865-f363-107c064bdc36"
   },
   "outputs": [
    {
     "data": {
      "text/plain": [
       "'b'"
      ]
     },
     "execution_count": 142,
     "metadata": {},
     "output_type": "execute_result"
    }
   ],
   "source": [
    "x[0][1]"
   ]
  },
  {
   "cell_type": "markdown",
   "metadata": {
    "id": "J3t53zDuMf8W"
   },
   "source": [
    "If you want to know the order of an element in the list, use `.index()` method. For example:"
   ]
  },
  {
   "cell_type": "code",
   "execution_count": null,
   "metadata": {
    "id": "IftfSP9oMf8W"
   },
   "outputs": [],
   "source": [
    "cars = ['skoda', 'vw', 'mercedes', 'mazda', 'skoda']"
   ]
  },
  {
   "cell_type": "code",
   "execution_count": null,
   "metadata": {
    "id": "Dtt7xZbSMf8W",
    "outputId": "85184b15-f923-4dbd-d5f5-6df126f9fadd"
   },
   "outputs": [
    {
     "name": "stdout",
     "output_type": "stream",
     "text": [
      "2\n",
      "0\n"
     ]
    },
    {
     "ename": "ValueError",
     "evalue": "'honda' is not in list",
     "output_type": "error",
     "traceback": [
      "\u001b[0;31m---------------------------------------------------------------------------\u001b[0m",
      "\u001b[0;31mValueError\u001b[0m                                Traceback (most recent call last)",
      "\u001b[0;32m/tmp/ipykernel_173530/1385244117.py\u001b[0m in \u001b[0;36m<module>\u001b[0;34m\u001b[0m\n\u001b[1;32m      1\u001b[0m \u001b[0mprint\u001b[0m\u001b[0;34m(\u001b[0m\u001b[0mcars\u001b[0m\u001b[0;34m.\u001b[0m\u001b[0mindex\u001b[0m\u001b[0;34m(\u001b[0m\u001b[0;34m'mercedes'\u001b[0m\u001b[0;34m)\u001b[0m\u001b[0;34m)\u001b[0m\u001b[0;34m\u001b[0m\u001b[0;34m\u001b[0m\u001b[0m\n\u001b[1;32m      2\u001b[0m \u001b[0mprint\u001b[0m\u001b[0;34m(\u001b[0m\u001b[0mcars\u001b[0m\u001b[0;34m.\u001b[0m\u001b[0mindex\u001b[0m\u001b[0;34m(\u001b[0m\u001b[0;34m'skoda'\u001b[0m\u001b[0;34m)\u001b[0m\u001b[0;34m)\u001b[0m\u001b[0;34m\u001b[0m\u001b[0;34m\u001b[0m\u001b[0m\n\u001b[0;32m----> 3\u001b[0;31m \u001b[0mprint\u001b[0m\u001b[0;34m(\u001b[0m\u001b[0mcars\u001b[0m\u001b[0;34m.\u001b[0m\u001b[0mindex\u001b[0m\u001b[0;34m(\u001b[0m\u001b[0;34m'honda'\u001b[0m\u001b[0;34m)\u001b[0m\u001b[0;34m)\u001b[0m\u001b[0;34m\u001b[0m\u001b[0;34m\u001b[0m\u001b[0m\n\u001b[0m",
      "\u001b[0;31mValueError\u001b[0m: 'honda' is not in list"
     ]
    }
   ],
   "source": [
    "print(cars.index('mercedes'))\n",
    "print(cars.index('skoda'))\n",
    "print(cars.index('honda'))"
   ]
  },
  {
   "cell_type": "markdown",
   "metadata": {
    "id": "8H9pMfczMf8W"
   },
   "source": [
    "This method, `.index()` also exists for strings:"
   ]
  },
  {
   "cell_type": "code",
   "execution_count": null,
   "metadata": {
    "id": "YxMytNP1Mf8W"
   },
   "outputs": [],
   "source": [
    "my_string = 'abcdef'"
   ]
  },
  {
   "cell_type": "code",
   "execution_count": null,
   "metadata": {
    "id": "NvVwR5-NMf8W",
    "outputId": "31212961-23d2-4534-d9d2-0fec8ef55f01"
   },
   "outputs": [
    {
     "data": {
      "text/plain": [
       "4"
      ]
     },
     "execution_count": 149,
     "metadata": {},
     "output_type": "execute_result"
    }
   ],
   "source": [
    "my_string.index('e')"
   ]
  },
  {
   "cell_type": "markdown",
   "metadata": {
    "id": "BDgvZQefMf8W"
   },
   "source": [
    "To decide, if something is in a list or not, use **in**:"
   ]
  },
  {
   "cell_type": "code",
   "execution_count": null,
   "metadata": {
    "id": "TETzfVLCMf8W"
   },
   "outputs": [],
   "source": [
    "Tage_der_Woche = ['Montag','Dienstag','Mittwoch','Donnerstag','Freitag','Samstag','Sonntag']"
   ]
  },
  {
   "cell_type": "code",
   "execution_count": null,
   "metadata": {
    "id": "UyPSh5SZMf8W",
    "outputId": "3d2fbb74-d94b-4a64-f842-ac3301f0bbff"
   },
   "outputs": [
    {
     "data": {
      "text/plain": [
       "False"
      ]
     },
     "execution_count": 152,
     "metadata": {},
     "output_type": "execute_result"
    }
   ],
   "source": [
    "'Monday' in Tage_der_Woche"
   ]
  },
  {
   "cell_type": "code",
   "execution_count": null,
   "metadata": {
    "id": "dfntiJlkMf8W",
    "outputId": "65101f82-72ac-4ba2-8094-2ee07f1be95b"
   },
   "outputs": [
    {
     "data": {
      "text/plain": [
       "True"
      ]
     },
     "execution_count": 153,
     "metadata": {},
     "output_type": "execute_result"
    }
   ],
   "source": [
    "'Montag' in Tage_der_Woche"
   ]
  },
  {
   "cell_type": "markdown",
   "metadata": {
    "id": "lHhc-esGMf8W"
   },
   "source": [
    "---"
   ]
  },
  {
   "cell_type": "markdown",
   "metadata": {
    "id": "4hADm9O7Mf8X"
   },
   "source": [
    "### Tuples (=immutable strings)\n",
    "You will sometimes encounter immutable strings, so-called \"tuples\". These have elements between brackets"
   ]
  },
  {
   "cell_type": "code",
   "execution_count": null,
   "metadata": {
    "id": "zZoosKyGMf8X",
    "outputId": "ce39a900-2118-4bdf-8394-39532fcd5a70"
   },
   "outputs": [
    {
     "name": "stdout",
     "output_type": "stream",
     "text": [
      "(6,)\n"
     ]
    },
    {
     "ename": "TypeError",
     "evalue": "'tuple' object does not support item assignment",
     "output_type": "error",
     "traceback": [
      "\u001b[0;31m---------------------------------------------------------------------------\u001b[0m",
      "\u001b[0;31mTypeError\u001b[0m                                 Traceback (most recent call last)",
      "\u001b[0;32m/tmp/ipykernel_173530/2696922906.py\u001b[0m in \u001b[0;36m<module>\u001b[0;34m\u001b[0m\n\u001b[1;32m      1\u001b[0m \u001b[0mb\u001b[0m \u001b[0;34m=\u001b[0m \u001b[0;34m(\u001b[0m\u001b[0;36m4\u001b[0m\u001b[0;34m,\u001b[0m \u001b[0;36m5\u001b[0m\u001b[0;34m,\u001b[0m \u001b[0;36m6\u001b[0m\u001b[0;34m,\u001b[0m \u001b[0;34m\"hi\"\u001b[0m\u001b[0;34m)\u001b[0m\u001b[0;34m\u001b[0m\u001b[0;34m\u001b[0m\u001b[0m\n\u001b[1;32m      2\u001b[0m \u001b[0mprint\u001b[0m\u001b[0;34m(\u001b[0m\u001b[0mb\u001b[0m\u001b[0;34m[\u001b[0m\u001b[0;36m2\u001b[0m\u001b[0;34m:\u001b[0m\u001b[0;34m-\u001b[0m\u001b[0;36m1\u001b[0m\u001b[0;34m]\u001b[0m\u001b[0;34m)\u001b[0m\u001b[0;34m\u001b[0m\u001b[0;34m\u001b[0m\u001b[0m\n\u001b[0;32m----> 3\u001b[0;31m \u001b[0mb\u001b[0m\u001b[0;34m[\u001b[0m\u001b[0;36m0\u001b[0m\u001b[0;34m]\u001b[0m\u001b[0;34m=\u001b[0m\u001b[0;36m0\u001b[0m\u001b[0;34m\u001b[0m\u001b[0;34m\u001b[0m\u001b[0m\n\u001b[0m",
      "\u001b[0;31mTypeError\u001b[0m: 'tuple' object does not support item assignment"
     ]
    }
   ],
   "source": [
    "b = (4, 5, 6, \"hi\")\n",
    "print(b[2:-1])\n",
    "b[0]=0"
   ]
  },
  {
   "cell_type": "markdown",
   "metadata": {
    "id": "Cso4OPfQMf8X"
   },
   "source": [
    "### Dictionaries (Sometimes useful)"
   ]
  },
  {
   "cell_type": "markdown",
   "metadata": {
    "id": "NC8srIq8Mf8X"
   },
   "source": [
    "Sometimes we want to index data by keywords, not by numbers. For example, in an English-Hungarian dictionary, English words are indexed by Hungarian words. Or, specifying a car, we can have\n",
    "\n",
    "- color red\n",
    "- made in 1976\n",
    "- length 3 m\n",
    "- license plate AOK-621\n",
    "\n",
    "These specify the car regardless of their order.\n",
    "\n",
    "Python has a type, dictionary, which is useful in these cases."
   ]
  },
  {
   "cell_type": "code",
   "execution_count": null,
   "metadata": {
    "id": "exwMBkJQMf8X",
    "outputId": "a85ca00e-625a-4996-c6d4-224c53ddd076"
   },
   "outputs": [
    {
     "data": {
      "text/plain": [
       "{'John': 4098, 'Claire': 4139}"
      ]
     },
     "execution_count": 154,
     "metadata": {},
     "output_type": "execute_result"
    }
   ],
   "source": [
    "tel = {'John': 4098, 'Claire': 4139}\n",
    "tel"
   ]
  },
  {
   "cell_type": "code",
   "execution_count": null,
   "metadata": {
    "id": "78U5cJIZMf8X",
    "outputId": "84794147-721d-4939-c677-0f0105777039"
   },
   "outputs": [
    {
     "data": {
      "text/plain": [
       "4098"
      ]
     },
     "execution_count": 155,
     "metadata": {},
     "output_type": "execute_result"
    }
   ],
   "source": [
    "tel['John']"
   ]
  },
  {
   "cell_type": "markdown",
   "metadata": {
    "id": "QrqyEcVsMf8X"
   },
   "source": [
    "Adding new elements by keyword:"
   ]
  },
  {
   "cell_type": "code",
   "execution_count": null,
   "metadata": {
    "id": "BskebUVjMf8X",
    "outputId": "916fbfd8-4527-4f74-ea34-5afaf59159eb"
   },
   "outputs": [
    {
     "data": {
      "text/plain": [
       "{'John': 4098, 'Claire': 4139, 'Helen': 4127}"
      ]
     },
     "execution_count": 156,
     "metadata": {},
     "output_type": "execute_result"
    }
   ],
   "source": [
    "tel['Helen'] = 4127\n",
    "tel"
   ]
  },
  {
   "cell_type": "markdown",
   "metadata": {
    "id": "PNlED-bSMf8X"
   },
   "source": [
    "Keywords or elements don't need to have the same type:"
   ]
  },
  {
   "cell_type": "code",
   "execution_count": null,
   "metadata": {
    "id": "Z79unQOpMf8X",
    "outputId": "7b133743-fd58-4667-b0f8-818c36e5606c"
   },
   "outputs": [
    {
     "data": {
      "text/plain": [
       "{'John': 4098, 'Claire': 4139, 'Helen': 4127, 'Brünhilda': \"Don't know\"}"
      ]
     },
     "execution_count": 157,
     "metadata": {},
     "output_type": "execute_result"
    }
   ],
   "source": [
    "tel['Brünhilda']='Don\\'t know'\n",
    "tel"
   ]
  },
  {
   "cell_type": "markdown",
   "metadata": {
    "id": "4GEr6qihMf8X"
   },
   "source": [
    "We can delete someone"
   ]
  },
  {
   "cell_type": "code",
   "execution_count": null,
   "metadata": {
    "id": "bK01qTqFMf8X",
    "outputId": "7971d745-e222-42f1-d831-24b62ea27156"
   },
   "outputs": [
    {
     "data": {
      "text/plain": [
       "{'Claire': 4139, 'Helen': 4127, 'Brünhilda': \"Don't know\"}"
      ]
     },
     "execution_count": 159,
     "metadata": {},
     "output_type": "execute_result"
    }
   ],
   "source": [
    "del tel['John']\n",
    "tel"
   ]
  },
  {
   "cell_type": "code",
   "execution_count": null,
   "metadata": {
    "id": "1dcUXwhBMf8Y",
    "outputId": "e4ebeab6-e3f0-433a-8d10-9e1d4d14dd5b"
   },
   "outputs": [
    {
     "data": {
      "text/plain": [
       "dict_keys(['Claire', 'Helen', 'Brünhilda'])"
      ]
     },
     "execution_count": 161,
     "metadata": {},
     "output_type": "execute_result"
    }
   ],
   "source": [
    "tel.keys()"
   ]
  },
  {
   "cell_type": "markdown",
   "metadata": {
    "id": "FS3VyyriMf8Y"
   },
   "source": [
    "It is often useful to convert the output of the above command to a list, using `list()`:"
   ]
  },
  {
   "cell_type": "code",
   "execution_count": null,
   "metadata": {
    "id": "e0AIJ_K1Mf8Y",
    "outputId": "1242ea58-b7c2-44c2-bd77-580b7b59b28e"
   },
   "outputs": [
    {
     "data": {
      "text/plain": [
       "['Claire', 'Helen', 'Brünhilda']"
      ]
     },
     "execution_count": 162,
     "metadata": {},
     "output_type": "execute_result"
    }
   ],
   "source": [
    "list(tel.keys())"
   ]
  },
  {
   "cell_type": "code",
   "execution_count": null,
   "metadata": {
    "id": "EuartZlXMf8Y",
    "outputId": "e4e48560-0099-424d-e94d-6224f1d613f2"
   },
   "outputs": [
    {
     "name": "stdout",
     "output_type": "stream",
     "text": [
      "False True\n"
     ]
    }
   ],
   "source": [
    "print('Géza' in tel, 'Helen' in tel)"
   ]
  },
  {
   "cell_type": "markdown",
   "metadata": {
    "id": "qxwvcegoMf8Y"
   },
   "source": [
    "*Megjegyzés:* Nyilván attól, mert Brünhilda benne van a telefonkönyvben, nem biztos, hogy tudjuk a telefonszámát:"
   ]
  },
  {
   "cell_type": "code",
   "execution_count": null,
   "metadata": {
    "id": "2aancBIaMf8Y",
    "outputId": "223922ef-5793-4d3f-fe9f-9f0e215fdda3"
   },
   "outputs": [
    {
     "name": "stdout",
     "output_type": "stream",
     "text": [
      "True\n",
      "Don't know\n"
     ]
    }
   ],
   "source": [
    "print('Brünhilda' in tel)\n",
    "print(tel['Brünhilda'])"
   ]
  },
  {
   "cell_type": "markdown",
   "metadata": {
    "id": "n_uY-pxeMf8Y"
   },
   "source": [
    "A handy way of defining a dictionary is using the function **dict**. This will be useful for using functions with many variables, and for the package `plotly`."
   ]
  },
  {
   "cell_type": "code",
   "execution_count": null,
   "metadata": {
    "id": "NVFJ41BSMf8Y",
    "outputId": "9a597064-97fc-464a-fa65-850b5b490ce8"
   },
   "outputs": [
    {
     "data": {
      "text/plain": [
       "{'Ica': 1234, 'Maca': 4321, 'Dada': 5567}"
      ]
     },
     "execution_count": 165,
     "metadata": {},
     "output_type": "execute_result"
    }
   ],
   "source": [
    "tel2 = dict(Ica=1234, Maca=4321, Dada=5567)\n",
    "tel2"
   ]
  },
  {
   "cell_type": "markdown",
   "metadata": {
    "id": "ZgzL4-DKMf8Y"
   },
   "source": [
    "---"
   ]
  },
  {
   "cell_type": "markdown",
   "metadata": {
    "id": "wYTymyKGMf8Y"
   },
   "source": [
    "## Boolean variables and other variables\n",
    "We can convert objects to Boolean variables, using the function **bool()**.\n",
    "\n",
    "This typically returns \"True\", except for 3 special cases: the number 0 (int or float), the empty character string, and an empty list."
   ]
  },
  {
   "cell_type": "code",
   "execution_count": null,
   "metadata": {
    "id": "9lMN5tD1Mf8Y",
    "outputId": "b915b5d6-7d6c-418b-8873-6f81c0b5cad7"
   },
   "outputs": [
    {
     "name": "stdout",
     "output_type": "stream",
     "text": [
      "True\n",
      "True\n",
      "True\n",
      "True\n",
      "False\n",
      "True\n"
     ]
    }
   ],
   "source": [
    "print(bool(1.0))\n",
    "print(bool(1.1))\n",
    "print(bool(-2.3))\n",
    "print(bool('any text'))\n",
    "print(bool(0.))\n",
    "print(bool([1, 'b']))"
   ]
  },
  {
   "cell_type": "code",
   "execution_count": null,
   "metadata": {
    "id": "TVGwuHH8Mf8Y",
    "outputId": "f3ed21e9-f978-497f-c8b0-80d2d360613c"
   },
   "outputs": [
    {
     "data": {
      "text/plain": [
       "False"
      ]
     },
     "execution_count": 172,
     "metadata": {},
     "output_type": "execute_result"
    }
   ],
   "source": [
    "bool('')"
   ]
  },
  {
   "cell_type": "code",
   "execution_count": 1,
   "metadata": {
    "colab": {
     "base_uri": "https://localhost:8080/",
     "height": 0
    },
    "id": "eVL83EUUMf8Y",
    "outputId": "152cdbbd-b1db-4f07-fac8-384b02edc0f7"
   },
   "outputs": [
    {
     "data": {
      "text/plain": [
       "False"
      ]
     },
     "execution_count": 1,
     "metadata": {},
     "output_type": "execute_result"
    }
   ],
   "source": [
    "bool([])\n"
   ]
  },
  {
   "cell_type": "code",
   "execution_count": null,
   "metadata": {
    "id": "YgDVRvr7c3zI"
   },
   "outputs": [],
   "source": []
  },
  {
   "cell_type": "markdown",
   "metadata": {
    "id": "3KqMb2N_McSI"
   },
   "source": [
    "# Basic control  structures\n",
    "\n",
    "Algorithms contain not only commands, but also connection between these commands. These are proveided by control structures. The most basic ones are \"if\" and \"for\"."
   ]
  },
  {
   "cell_type": "markdown",
   "metadata": {
    "id": "8J6GrviGMcSK"
   },
   "source": [
    "##  `if`\n"
   ]
  },
  {
   "cell_type": "code",
   "execution_count": null,
   "metadata": {
    "id": "WM8Z1Z0gMcSL",
    "outputId": "892bb108-2fa6-4ae9-a80d-0a5099e2d532"
   },
   "outputs": [
    {
     "name": "stdout",
     "output_type": "stream",
     "text": [
      "Maths still works\n"
     ]
    }
   ],
   "source": [
    "if 2+2==4:\n",
    "    print('Maths still works')\n"
   ]
  },
  {
   "cell_type": "markdown",
   "metadata": {
    "id": "ZKjDL9IlMcSN"
   },
   "source": [
    "<p style=\"color:darkred;\"> <b>Attention, we indented the second line!</b>\n",
    "    Indenting is the python way of grouping commands.  </p>\n",
    "    \n",
    "    The usual choice is to indent by 4 spaces for a group. Thus, for two nested **`if`** commands, the second one will be followed by an indent of 8 spaces. This is the default for `jupyter` notebooks, and happens automatically: after a `:`, pressing \"return\" indents by 4, further newlines as well. We can use backspace and tab to go up/down in the indent hierarchy. Note that unlike in C, C++, Java, no curly braces {} are required in python:\n"
   ]
  },
  {
   "cell_type": "code",
   "execution_count": null,
   "metadata": {
    "id": "SkZU20j5McSN",
    "outputId": "7c5d1375-0a12-4449-ff9d-2b4fd7e67801"
   },
   "outputs": [
    {
     "name": "stdout",
     "output_type": "stream",
     "text": [
      "Python is fun\n"
     ]
    }
   ],
   "source": [
    "today='Monday';\n",
    "time='12:00';\n",
    "if today=='Monday':\n",
    "    if time=='12:00':\n",
    "        print('Python is fun')"
   ]
  },
  {
   "cell_type": "markdown",
   "metadata": {
    "id": "IUILrK1BMcSO"
   },
   "source": [
    "**`if`** can be combined with **`else`** and **`elif`**  -- this latter is short for \"else if\""
   ]
  },
  {
   "cell_type": "code",
   "execution_count": null,
   "metadata": {
    "id": "nkJy6b89McSO",
    "outputId": "e86623c4-a82a-44bb-c8a7-dd5a8f980052"
   },
   "outputs": [
    {
     "name": "stdout",
     "output_type": "stream",
     "text": [
      "One\n"
     ]
    }
   ],
   "source": [
    "x = 1\n",
    "if x < 0:\n",
    "    x = 0\n",
    "    print('Negative, changed to 0')\n",
    "elif x == 0:\n",
    "    print('Zero')\n",
    "elif x == 1:\n",
    "    print('One')\n",
    "else:\n",
    "    print('Many')"
   ]
  },
  {
   "cell_type": "markdown",
   "metadata": {
    "id": "w9H4A1FUMcSO"
   },
   "source": [
    "**`elif`** is useful to avoid too many indents. Use **`if`** ...**`elif`** ... **`elif`** ... instead of `switch` and `case`."
   ]
  },
  {
   "cell_type": "markdown",
   "metadata": {
    "id": "tGJgUILQMcSP"
   },
   "source": [
    "## **`for`** and `while`\n"
   ]
  },
  {
   "cell_type": "code",
   "execution_count": null,
   "metadata": {
    "id": "si9C4bt-McSP"
   },
   "outputs": [],
   "source": [
    "days_of_the_week = [\"Sunday\",\"Monday\",\"Tuesday\",\"Wednesday\",\"Thursday\",\"Friday\",\"Saturday\"]"
   ]
  },
  {
   "cell_type": "code",
   "execution_count": null,
   "metadata": {
    "id": "xUxB3pwcMcSP",
    "outputId": "c7ca8c04-0b91-4859-a670-ea8bef04b307"
   },
   "outputs": [
    {
     "name": "stdout",
     "output_type": "stream",
     "text": [
      "Sunday\n",
      "Monday\n",
      "Tuesday\n",
      "Wednesday\n",
      "Thursday\n",
      "Friday\n",
      "Saturday\n"
     ]
    }
   ],
   "source": [
    "for day in days_of_the_week:\n",
    "    print(day)"
   ]
  },
  {
   "cell_type": "code",
   "execution_count": null,
   "metadata": {
    "id": "ETwUn6enMcSQ",
    "outputId": "dcdc3104-bdb6-4ddd-a2d7-ac351720b580"
   },
   "outputs": [
    {
     "name": "stdout",
     "output_type": "stream",
     "text": [
      "Sunday\n",
      "Monday\n",
      "Tuesday\n",
      "Wednesday\n",
      "Thursday\n",
      "Friday\n",
      "Saturday\n"
     ]
    }
   ],
   "source": [
    "# of course, we can give any name to the dummy variable used in the cycle:\n",
    "for jjj in days_of_the_week:\n",
    "    print(jjj)"
   ]
  },
  {
   "cell_type": "markdown",
   "metadata": {
    "id": "aJPdAR2CMcSQ"
   },
   "source": [
    "In a cycle we can have many things:"
   ]
  },
  {
   "cell_type": "code",
   "execution_count": null,
   "metadata": {
    "id": "svW3eISHMcSQ",
    "outputId": "93eec947-b9d9-492b-c74a-a310f8fac36e"
   },
   "outputs": [
    {
     "name": "stdout",
     "output_type": "stream",
     "text": [
      "Today is Sunday\n",
      "Today is Monday\n",
      "Today is Tuesday\n",
      "Today is Wednesday\n",
      "Today is Thursday\n",
      "Today is Friday\n",
      "Today is Saturday\n"
     ]
    }
   ],
   "source": [
    "for day in days_of_the_week:\n",
    "    statement = \"Today is \" + day\n",
    "    print(statement)"
   ]
  },
  {
   "cell_type": "markdown",
   "metadata": {
    "id": "bXqa-xnTMcSQ"
   },
   "source": [
    "The command **`range()`** returns a so-called iterable, a sequence of numbers. Practical in combination with **`for`**:"
   ]
  },
  {
   "cell_type": "code",
   "execution_count": null,
   "metadata": {
    "id": "KzhBY-ANMcSQ",
    "outputId": "fe4bb825-02eb-4b09-a1ab-cf32f977319b"
   },
   "outputs": [
    {
     "name": "stdout",
     "output_type": "stream",
     "text": [
      "0  times  0  is  0\n",
      "1  times  1  is  1\n",
      "2  times  2  is  4\n",
      "3  times  3  is  9\n",
      "4  times  4  is  16\n",
      "5  times  5  is  25\n",
      "6  times  6  is  36\n",
      "7  times  7  is  49\n",
      "8  times  8  is  64\n",
      "9  times  9  is  81\n",
      "10  times  10  is  100\n",
      "11  times  11  is  121\n",
      "12  times  12  is  144\n",
      "13  times  13  is  169\n",
      "14  times  14  is  196\n",
      "15  times  15  is  225\n",
      "16  times  16  is  256\n",
      "17  times  17  is  289\n",
      "18  times  18  is  324\n",
      "19  times  19  is  361\n"
     ]
    }
   ],
   "source": [
    "for i in range(20):\n",
    "    print(i,\" times \",i ,\" is \",i*i)"
   ]
  },
  {
   "cell_type": "code",
   "execution_count": null,
   "metadata": {
    "colab": {
     "base_uri": "https://localhost:8080/"
    },
    "id": "v_Dy14ZhQQtq",
    "outputId": "b69f37ff-4443-418c-9fe4-0936d7cc28e5"
   },
   "outputs": [
    {
     "name": "stdout",
     "output_type": "stream",
     "text": [
      "a_ 1  =  2\n",
      "a_ 2  =  4\n",
      "a_ 3  =  8\n",
      "a_ 4  =  16\n",
      "a_ 5  =  32\n",
      "a_ 6  =  64\n",
      "a_ 7  =  128\n",
      "a_ 8  =  256\n",
      "a_ 9  =  512\n",
      "a_ 10  =  1024\n",
      "a_ 11  =  2048\n",
      "a_ 12  =  4096\n",
      "a_ 13  =  8192\n",
      "a_ 14  =  16384\n",
      "a_ 15  =  32768\n",
      "a_ 16  =  65536\n",
      "a_ 17  =  131072\n",
      "a_ 18  =  262144\n",
      "a_ 19  =  524288\n"
     ]
    }
   ],
   "source": [
    "a_prev=1 # show in lab\n",
    "for i in range(1,20):\n",
    "    a=2*a_prev\n",
    "    print(\"a_\", i, \" = \", a)\n",
    "    a_prev=a"
   ]
  },
  {
   "cell_type": "code",
   "execution_count": null,
   "metadata": {
    "id": "b6gRsxbuPft9"
   },
   "outputs": [],
   "source": [
    "\n",
    "fibonacci_sequence = 1\n",
    "for i in range(20):\n",
    "    fibonacci_sum += i\n",
    "    print(,\" times \",i ,\" is \",i*i)"
   ]
  },
  {
   "cell_type": "markdown",
   "metadata": {
    "id": "wH28m_vGMcSR"
   },
   "source": [
    "The sequence returned by **`range()`**  can be converted into a list for slicing"
   ]
  },
  {
   "cell_type": "code",
   "execution_count": null,
   "metadata": {
    "id": "rnpIYAtCMcSR",
    "outputId": "5ce0a3da-12a3-4646-bde8-26f7238544fa"
   },
   "outputs": [
    {
     "name": "stdout",
     "output_type": "stream",
     "text": [
      "[2, 3, 4, 5, 6, 7, 8, 9]\n",
      "range(2, 10)\n"
     ]
    }
   ],
   "source": [
    "b = range(20)\n",
    "print(list(b)[2:10])\n",
    "print(b[2:10])"
   ]
  },
  {
   "cell_type": "markdown",
   "metadata": {
    "id": "fQ853LVSMcSR"
   },
   "source": [
    "A more complex example:"
   ]
  },
  {
   "cell_type": "code",
   "execution_count": null,
   "metadata": {
    "id": "6k1PASv_McSR",
    "outputId": "d42165c6-9c2a-4320-bcec-c7658e9a4bed"
   },
   "outputs": [
    {
     "name": "stdout",
     "output_type": "stream",
     "text": [
      "Today is Sunday   -->  \n",
      "   Sleep in\n",
      "Today is Monday   -->  \n",
      "   Go to work\n",
      "Today is Tuesday   -->  \n",
      "   Go to work\n",
      "Today is Wednesday   -->  \n",
      "   Go to work\n",
      "Today is Thursday   -->  \n",
      "   Go to work\n",
      "Today is Friday   -->  \n",
      "   Go to work\n",
      "Today is Saturday   -->  \n",
      "   Do chores\n"
     ]
    }
   ],
   "source": [
    "for day in days_of_the_week:\n",
    "    statement = \"Today is \" + day\n",
    "    print(statement, \"  -->  \")\n",
    "    if day == \"Sunday\":\n",
    "        print (\"   Sleep in\")\n",
    "    elif day == \"Saturday\":\n",
    "        print (\"   Do chores\")\n",
    "    else:\n",
    "        print (\"   Go to work\")"
   ]
  },
  {
   "cell_type": "markdown",
   "metadata": {
    "id": "R2NfbelUMcSR"
   },
   "source": [
    "We can also use `while`:"
   ]
  },
  {
   "cell_type": "code",
   "execution_count": null,
   "metadata": {
    "id": "W1epm_KcMcSS",
    "outputId": "366582db-59ca-43f1-b69f-111df7189970"
   },
   "outputs": [
    {
     "name": "stdout",
     "output_type": "stream",
     "text": [
      "0\n",
      "1\n",
      "2\n",
      "3\n",
      "4\n",
      "5\n",
      "6\n",
      "7\n",
      "8\n",
      "9\n"
     ]
    }
   ],
   "source": [
    "i=0\n",
    "while i<10:\n",
    "    print(i)\n",
    "    i+=1"
   ]
  },
  {
   "cell_type": "markdown",
   "metadata": {
    "id": "kgngjw4uMcSS"
   },
   "source": [
    "*Attention*:  `while` can easily result in an infinite cycle, which we can only exit by stopping the kernel, using the Kernel menu Interrupt command (or pressing `I` twice). Example:\n",
    "```python\n",
    "while 1==1:\n",
    "    print('Too much!!')\n",
    "```"
   ]
  },
  {
   "cell_type": "markdown",
   "metadata": {
    "id": "wu-bL0B9McSS"
   },
   "source": [
    "We can exit a loop using the command `break` — similarly to other languages. Note, however, this could result in a code that is harder to read."
   ]
  },
  {
   "cell_type": "code",
   "execution_count": null,
   "metadata": {
    "id": "BEylPlj3McSS",
    "outputId": "5c728d7c-ec72-4235-f3b8-5fbef8b04ed9"
   },
   "outputs": [
    {
     "name": "stdout",
     "output_type": "stream",
     "text": [
      "3 is prime.\n",
      "4 is composite: 2 * 2\n",
      "5 is prime.\n",
      "5 is prime.\n",
      "5 is prime.\n",
      "6 is composite: 2 * 3\n",
      "7 is prime.\n",
      "7 is prime.\n",
      "7 is prime.\n",
      "7 is prime.\n",
      "7 is prime.\n",
      "8 is composite: 2 * 4\n",
      "9 is prime.\n",
      "9 is composite: 3 * 3\n"
     ]
    }
   ],
   "source": [
    "for n in range(2, 10):\n",
    "    for x in range(2, n):\n",
    "        if n % x == 0:\n",
    "            print(n, 'is composite:', x, '*', n//x)\n",
    "            break\n",
    "        else:\n",
    "            print(n, 'is prime.')"
   ]
  },
  {
   "cell_type": "markdown",
   "metadata": {
    "id": "9mw7Xi-sMcST"
   },
   "source": [
    "## An example: the Fibbonacci sequence\n",
    "The [Fibonacci](http://en.wikipedia.org/wiki/Fibonacci_number) sequence is fun to calculate by hand, easier by computer:\n"
   ]
  },
  {
   "cell_type": "code",
   "execution_count": null,
   "metadata": {
    "id": "tHy6Fy4sMcST",
    "outputId": "457b1aea-98eb-48e6-dda2-b8b3582d2eac"
   },
   "outputs": [
    {
     "name": "stdout",
     "output_type": "stream",
     "text": [
      "[0, 1, 1, 2, 3, 5, 8, 13, 21, 34]\n"
     ]
    }
   ],
   "source": [
    "n = 10 #  number of elements\n",
    "sequence = [0, 1] # first two elements to be specified\n",
    "for i in range(2, n): # n should be larger than 1!\n",
    "    sequence.append(sequence[i-1] + sequence[i-2])\n",
    "print (sequence)"
   ]
  },
  {
   "cell_type": "markdown",
   "metadata": {
    "id": "8CpwfR4OMcST"
   },
   "source": [
    "Let's go through this! First $n$ is set, the length of the sequence, to 10. The Fibonacci sequence is named **`sequence`**, and *initialized* with its first two elements. This was \"by hand\", but now the computer can do its job, namely, iterate.\n",
    "\n",
    "Iteration begins with 2 (because of starting the indexing with 0, this is actually the 3rd element), and goes to $n$.\n",
    "\n",
    "In each iteration we make the list longer, by appending the sum of the last two elements.\n",
    "\n",
    "A faster solution, using **`while`**:"
   ]
  },
  {
   "cell_type": "code",
   "execution_count": null,
   "metadata": {
    "id": "NC1pBU65McST",
    "outputId": "4344bac6-967a-4c75-9666-96e21a68f4cd"
   },
   "outputs": [
    {
     "name": "stdout",
     "output_type": "stream",
     "text": [
      "[0, 1, 1, 2, 3, 5, 8, 13, 21, 34]\n"
     ]
    }
   ],
   "source": [
    "sequence = [0,1]\n",
    "while len(sequence) < 10:\n",
    "    sequence.append(sequence[-1]+sequence[-2])\n",
    "print (sequence)"
   ]
  },
  {
   "cell_type": "markdown",
   "metadata": {
    "id": "oyqu1vi3McST"
   },
   "source": [
    "# Functions\n",
    "\n",
    "A common practice in programming languages is to wrap algorithms into functions. This can result in shorter and much more easy-to-read code.\n",
    "\n",
    "## Example: Fibonacci function\n"
   ]
  },
  {
   "cell_type": "code",
   "execution_count": 14,
   "metadata": {
    "id": "mmF97WfhMcSU"
   },
   "outputs": [],
   "source": [
    "def fibonacci(sequence_length):     # use \"def\" to define a function\n",
    "    \"\"\"Computes and returns the first few elements\n",
    "    of the Fibonacci sequence \"\"\"   # good practice to write help strings\n",
    "    sequence = [0,1]\n",
    "    if 0 < sequence_length < 3:\n",
    "        return sequence[:sequence_length]\n",
    "    for i in range(2,sequence_length):\n",
    "        sequence.append(sequence[i-1]+sequence[i-2])\n",
    "        print(i)\n",
    "    return sequence"
   ]
  },
  {
   "cell_type": "code",
   "execution_count": 16,
   "metadata": {},
   "outputs": [
    {
     "name": "stdout",
     "output_type": "stream",
     "text": [
      "2\n",
      "3\n",
      "4\n"
     ]
    }
   ],
   "source": [
    "ll = fibonacci(5)\n",
    "#print(ll)\n",
    "#for j in ll:\n",
    "#    print(j)"
   ]
  },
  {
   "cell_type": "code",
   "execution_count": 17,
   "metadata": {
    "colab": {
     "base_uri": "https://localhost:8080/"
    },
    "id": "cEawI826McSU",
    "outputId": "e969cce2-c9ee-472f-aac7-a6bca72addf8"
   },
   "outputs": [
    {
     "name": "stdout",
     "output_type": "stream",
     "text": [
      "2\n",
      "3\n",
      "4\n"
     ]
    },
    {
     "data": {
      "text/plain": [
       "[0, 1, 1, 2, 3]"
      ]
     },
     "execution_count": 17,
     "metadata": {},
     "output_type": "execute_result"
    }
   ],
   "source": [
    "fibonacci(5)"
   ]
  },
  {
   "cell_type": "markdown",
   "metadata": {
    "id": "TY1HWZUyMcSU"
   },
   "source": [
    "Let's go through this! The semicolon and the indentation define the block of the definition of the function.\n",
    "\n",
    "Every well written function should begin with a documentation string, which can be retrieved using the command  **help**:"
   ]
  },
  {
   "cell_type": "code",
   "execution_count": 18,
   "metadata": {
    "colab": {
     "base_uri": "https://localhost:8080/"
    },
    "id": "Bn2NKGJkMcSU",
    "outputId": "3b2bcb19-09e0-4f51-9d37-e44d86572369"
   },
   "outputs": [
    {
     "name": "stdout",
     "output_type": "stream",
     "text": [
      "Help on function fibonacci in module __main__:\n",
      "\n",
      "fibonacci(sequence_length)\n",
      "    Computes and returns the first few elements\n",
      "    of the Fibonacci sequence\n",
      "\n"
     ]
    }
   ],
   "source": [
    "help(fibonacci)"
   ]
  },
  {
   "cell_type": "markdown",
   "metadata": {
    "id": "MwjVKLTLMcSU"
   },
   "source": [
    "Not in Google colab, but in a usual jupyter notebook, the docstring can also be accessed via  ? :"
   ]
  },
  {
   "cell_type": "code",
   "execution_count": 4,
   "metadata": {
    "id": "iyvrOhEZMcSU"
   },
   "outputs": [],
   "source": [
    "?fibonacci"
   ]
  },
  {
   "cell_type": "markdown",
   "metadata": {
    "id": "3uIwOp_rMcSV"
   },
   "source": [
    "Even better, we can view the `docstring` as a kind of help in `jupyter` by moving the cursor to the function, and pressing SHIFT+TAB. Holding SHIFT pressed, and pressing TAB again and again gives a larger display of the help string, even moving it to a separate window.\n",
    "\n",
    "On Google Colab, this works by \"Ctrl+SPACE\""
   ]
  },
  {
   "cell_type": "code",
   "execution_count": 5,
   "metadata": {
    "id": "D7Xw8e-QMcSV",
    "outputId": "ec1ba851-55ee-45f8-c3a3-af9f2059b7ea"
   },
   "outputs": [
    {
     "ename": "TypeError",
     "evalue": "fibonacci() missing 1 required positional argument: 'sequence_length'",
     "output_type": "error",
     "traceback": [
      "\u001b[0;31m---------------------------------------------------------------------------\u001b[0m",
      "\u001b[0;31mTypeError\u001b[0m                                 Traceback (most recent call last)",
      "\u001b[0;32m/tmp/ipykernel_320656/1219468151.py\u001b[0m in \u001b[0;36m<module>\u001b[0;34m\u001b[0m\n\u001b[0;32m----> 1\u001b[0;31m \u001b[0mfibonacci\u001b[0m\u001b[0;34m(\u001b[0m\u001b[0;34m)\u001b[0m\u001b[0;34m\u001b[0m\u001b[0;34m\u001b[0m\u001b[0m\n\u001b[0m",
      "\u001b[0;31mTypeError\u001b[0m: fibonacci() missing 1 required positional argument: 'sequence_length'"
     ]
    }
   ],
   "source": [
    "fibonacci()"
   ]
  },
  {
   "cell_type": "markdown",
   "metadata": {
    "id": "a1PaE9PwMcSV"
   },
   "source": [
    "A function usually returns a value, this is specified by the keyword **`return`**. We can also choose not to have a  **`return`** then our function returns the value **None**. If function is exited without performing the  **`return`**, it also returns with the value **None**. Our function  **fibonacci** returns a list:"
   ]
  },
  {
   "cell_type": "code",
   "execution_count": 6,
   "metadata": {
    "id": "VqsYHUJ4McSW",
    "outputId": "ddd2424e-a2de-4c97-eb58-b8abc69be5b1"
   },
   "outputs": [
    {
     "name": "stdout",
     "output_type": "stream",
     "text": [
      "[0, 1, 1, 2, 3, 5, 8, 13, 21, 34, 55, 89, 144, 233, 377, 610, 987, 1597, 2584, 4181, 6765, 10946, 17711, 28657, 46368, 75025, 121393, 196418, 317811, 514229]\n"
     ]
    }
   ],
   "source": [
    "x=fibonacci(30)\n",
    "print(x)"
   ]
  },
  {
   "cell_type": "markdown",
   "metadata": {
    "id": "ABi4XSLLMcSW"
   },
   "source": [
    "This is a function with no return -- but is does something"
   ]
  },
  {
   "cell_type": "code",
   "execution_count": 19,
   "metadata": {
    "id": "AqwRAWaOMcSW"
   },
   "outputs": [],
   "source": [
    "def empty_function(x):\n",
    "    print('I am an empty function,\\n no talk,\\n but I run!!')\n",
    "    y=x-2;"
   ]
  },
  {
   "cell_type": "markdown",
   "metadata": {
    "id": "-4RkUAxuMcSX"
   },
   "source": [
    "This can result in no value for the variable **z**:"
   ]
  },
  {
   "cell_type": "code",
   "execution_count": 20,
   "metadata": {
    "id": "aWWhjrX-McSX",
    "outputId": "ebc3549c-3c38-4df7-befb-c0bd6774f744"
   },
   "outputs": [
    {
     "name": "stdout",
     "output_type": "stream",
     "text": [
      "I am an empty function,\n",
      " no talk,\n",
      " but I run!!\n",
      "4\n"
     ]
    }
   ],
   "source": [
    "y = 4\n",
    "z = empty_function(3)\n",
    "print(y)"
   ]
  },
  {
   "cell_type": "code",
   "execution_count": 9,
   "metadata": {
    "id": "F-psmBNyMcSX",
    "outputId": "bb376fbb-e243-4a9c-9e8c-a2015a9309ad"
   },
   "outputs": [
    {
     "name": "stdout",
     "output_type": "stream",
     "text": [
      "None\n"
     ]
    }
   ],
   "source": [
    "print(z)"
   ]
  },
  {
   "cell_type": "markdown",
   "metadata": {
    "id": "WhX00Hd9McSX"
   },
   "source": [
    "A function can have multiple variables:"
   ]
  },
  {
   "cell_type": "code",
   "execution_count": 21,
   "metadata": {
    "id": "XdBYqVNYMcSX"
   },
   "outputs": [],
   "source": [
    "def adder(a,b):\n",
    "    return a+b"
   ]
  },
  {
   "cell_type": "code",
   "execution_count": 22,
   "metadata": {},
   "outputs": [
    {
     "data": {
      "text/plain": [
       "3"
      ]
     },
     "execution_count": 22,
     "metadata": {},
     "output_type": "execute_result"
    }
   ],
   "source": [
    "adder(1, 2)"
   ]
  },
  {
   "cell_type": "markdown",
   "metadata": {
    "id": "7QyPp9yIMcSY"
   },
   "source": [
    "A function can return multiple variables. Python allows this too."
   ]
  },
  {
   "cell_type": "code",
   "execution_count": null,
   "metadata": {
    "id": "nKobfbE6McSY"
   },
   "outputs": [],
   "source": [
    "def plusminus(a,b):\n",
    "    return a+b,a-b"
   ]
  },
  {
   "cell_type": "code",
   "execution_count": null,
   "metadata": {
    "id": "sKzaF8r3McSY",
    "outputId": "8491ddff-5890-4e49-a067-eaac69b6374c"
   },
   "outputs": [
    {
     "name": "stdout",
     "output_type": "stream",
     "text": [
      "5\n",
      "-1\n"
     ]
    }
   ],
   "source": [
    "p,m=plusminus(2,3)\n",
    "print (p)\n",
    "print (m)"
   ]
  },
  {
   "cell_type": "code",
   "execution_count": null,
   "metadata": {
    "id": "HsrbpTjSMcSY",
    "outputId": "52225892-c8ab-48ac-e1a1-71f31f4e1eb6"
   },
   "outputs": [
    {
     "name": "stdout",
     "output_type": "stream",
     "text": [
      "(7, -1)\n"
     ]
    }
   ],
   "source": [
    "c = plusminus(3, 4)\n",
    "print(c)"
   ]
  },
  {
   "cell_type": "code",
   "execution_count": null,
   "metadata": {
    "id": "mGLh5Z_piwTh"
   },
   "outputs": [],
   "source": []
  }
 ],
 "metadata": {
  "anaconda-cloud": {},
  "colab": {
   "provenance": []
  },
  "hide_input": false,
  "kernelspec": {
   "display_name": "Python 3",
   "language": "python",
   "name": "python3"
  },
  "language_info": {
   "codemirror_mode": {
    "name": "ipython",
    "version": 3
   },
   "file_extension": ".py",
   "mimetype": "text/x-python",
   "name": "python",
   "nbconvert_exporter": "python",
   "pygments_lexer": "ipython3",
   "version": "3.11.5"
  },
  "latex_envs": {
   "bibliofile": "biblio.bib",
   "cite_by": "apalike",
   "current_citInitial": 1,
   "eqLabelWithNumbers": true,
   "eqNumInitial": 0
  },
  "name": "python-bevezeto.ipynb"
 },
 "nbformat": 4,
 "nbformat_minor": 1
}
