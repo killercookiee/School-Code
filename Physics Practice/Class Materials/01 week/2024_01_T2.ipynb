{
  "cells": [
    {
      "cell_type": "markdown",
      "id": "fcc8f638",
      "metadata": {
        "id": "fcc8f638"
      },
      "source": [
        "# Exercises for class, 1st week, Course T2"
      ]
    },
    {
      "cell_type": "code",
      "execution_count": null,
      "id": "578b40de",
      "metadata": {
        "id": "578b40de"
      },
      "outputs": [],
      "source": [
        "print(\"Hello, \" + \"World\")\n",
        "print(\"Hello, \", \"World\")"
      ]
    },
    {
      "cell_type": "code",
      "execution_count": null,
      "id": "1305611a",
      "metadata": {
        "id": "1305611a"
      },
      "outputs": [],
      "source": [
        "for j in [1, 2, 3]:\n",
        "    for l in [1, 2, 3]:\n",
        "        print(j)\n"
      ]
    },
    {
      "cell_type": "code",
      "execution_count": null,
      "id": "e709e28e",
      "metadata": {
        "id": "e709e28e"
      },
      "outputs": [],
      "source": [
        "a = 2\n",
        "for j in range(3):\n",
        "    a = j*a\n",
        "print(a)"
      ]
    },
    {
      "cell_type": "markdown",
      "id": "nGLC1QPeaoup",
      "metadata": {
        "id": "nGLC1QPeaoup"
      },
      "source": [
        "## \"Infinite\" sums/products"
      ]
    },
    {
      "cell_type": "markdown",
      "id": "ax_yp554as5e",
      "metadata": {
        "id": "ax_yp554as5e"
      },
      "source": [
        "### Simplest sum\n",
        "What is the sum\n",
        "$$1+\\frac{1}{2}+\\frac{1}{4}+\\frac{1}{8}+\\frac{1}{16}+\\ldots = ?$$\n",
        "\n",
        "Calculate the truncated sum, i.e.,\n",
        "$$ \\sum_{k=0}^{n}2^{-k}$$"
      ]
    },
    {
      "cell_type": "code",
      "execution_count": null,
      "id": "21PBsl24bKZe",
      "metadata": {
        "id": "21PBsl24bKZe"
      },
      "outputs": [],
      "source": [
        "my_sum = 0\n",
        "for k in range(50):\n",
        "    my_sum = my_sum + 2**-k\n",
        "    print(F\"k={k:02}: {my_sum:.10g}\")\n",
        "    #print(k, my_sum)\n",
        "    #print(\"k = %2d  sum = %.20f\"%(k, my_sum))"
      ]
    },
    {
      "cell_type": "code",
      "execution_count": null,
      "id": "kNC2oNA1Bxik",
      "metadata": {
        "id": "kNC2oNA1Bxik"
      },
      "outputs": [],
      "source": [
        "# we can also save the list of new terms in the list while summing\n",
        "powers = []\n",
        "for k in range(40):\n",
        "    powers.append((1/4)**k)\n",
        "    print(F\"k={k:02}: {sum(powers):.25g}\", powers)\n",
        "\n",
        "#print(F\"evaluated directly:\\n      {4/3:.25g}\")"
      ]
    },
    {
      "cell_type": "code",
      "execution_count": null,
      "id": "suVuKCQSHKPo",
      "metadata": {
        "id": "suVuKCQSHKPo"
      },
      "outputs": [],
      "source": [
        "# let us make this code more universal by introducing a new variable\n",
        "q=2/3\n",
        "s=0\n",
        "for k in range(20):\n",
        "    s+=q**k\n",
        "    print(F\"k={k:02}: {s:.25g}\")\n",
        "\n",
        "print(F\"evaluated directly:\\n      {1/(1-q):.25g}\")"
      ]
    },
    {
      "cell_type": "markdown",
      "id": "3MQYB2AFxlHo",
      "metadata": {
        "id": "3MQYB2AFxlHo"
      },
      "source": [
        "### Approximations of $\\pi$\n",
        "We look at series that can be used to [approximate](https://en.wikipedia.org/wiki/Approximations_of_pi) the irrational number $\\pi$.\n",
        "\n",
        "\n",
        "$$\n",
        "\\pi = \\lim_{n\\to\\infty}\n",
        "\\sum_{k=0}^n \\frac{(-1)^k}{4^k} \\left(\n",
        "\\frac{2}{4k+1} + \\frac{2}{4k+2} + \\frac{1}{4k+3}\n",
        "\\right)\n",
        "$$\n",
        "\n",
        "\n",
        "$$\n",
        "\\pi = \\lim_{n\\to\\infty}\n",
        "\\sum_{k=0}^n \\frac{1}{16^k} \\left(\n",
        "\\frac{4}{8k+1} - \\frac{2}{8k+4} - \\frac{1}{8k+5} - \\frac{1}{8k+6}\n",
        "\\right)\n",
        "$$\n",
        "\n",
        "$$\n",
        "2 \\pi = \\lim_{n\\to\\infty}\n",
        "\\sum_{k=0}^n \\frac{1}{16^k} \\left(\n",
        "\\frac{8}{8k+2} + \\frac{4}{8k+3} + \\frac{4}{8k+4} - \\frac{1}{8k+7}\n",
        "\\right)\n",
        "$$\n",
        "\n",
        "$$\n",
        "\\frac{\\pi^2}{6} = \\lim_{n\\to\\infty} \\sum_{k=1}^n \\frac{1}{k^2}\n",
        "$$\n",
        "\n",
        "$$\n",
        "\\frac{\\pi^4}{90} = \\lim_{n\\to\\infty} \\sum_{k=1}^n \\frac{1}{k^4}\n",
        "$$\n",
        "\n",
        "\n",
        "\n",
        "Your task is to evaluate these sums for small values of $n$, and observing whether the estimate obtained from them converges to $\\pi$, and if so, how fast.\n",
        "\n",
        "The value of $\\pi$ up to 20 decimals is 3.141592653589793115997963468544.\n",
        "However, python uses so-called \"double precision\" numbers which are precise up to 16 digits.\n",
        "\n",
        "A little help, on outputting the difference between the estimate pi_1 and the supposed limit pi:\n",
        "```\n",
        "    print(pi_1, \"{:+.0e}\".format(pi-pi_1))\n",
        "```"
      ]
    },
    {
      "cell_type": "code",
      "source": [
        "# prompt: generate pi**4 using infinite sum\n",
        "\n",
        "import math\n",
        "\n",
        "def pi_fourth_sum(n):\n",
        "  \"\"\"Calculates an approximation of pi^4/90 using the infinite sum.\"\"\"\n",
        "  total = 0\n",
        "  for k in range(1, n + 1):\n",
        "    total += 1 / (k ** 4)\n",
        "  return total * 90\n",
        "\n",
        "# Calculate the approximation for a few values of n\n",
        "for n in [10, 100, 1000, 10000]:\n",
        "  result = pi_fourth_sum(n)\n",
        "  pi_approx = math.sqrt(result * 6)  # Calculate pi from pi^4/90\n",
        "  print(f\"n = {n}, pi^4/90 = {result:.10f}, pi approximation = {pi_approx:.10f}\")\n"
      ],
      "metadata": {
        "collapsed": true,
        "id": "h1-HKU66KaEf"
      },
      "id": "h1-HKU66KaEf",
      "execution_count": null,
      "outputs": []
    },
    {
      "cell_type": "code",
      "execution_count": null,
      "id": "GRKsK1eVklmm",
      "metadata": {
        "id": "GRKsK1eVklmm"
      },
      "outputs": [],
      "source": [
        "# 4th formula: print the square root of 6*sum to compare it to pi\n",
        "my_sum = 0\n",
        "for k in range(1, 201):\n",
        "    my_sum += k**-2\n",
        "    # we need many terms so only every 20th truncated sum is printed\n",
        "    if k % 20 == 0:\n",
        "        print(F\"k={k:02}: {(6*my_sum)**.5:.25g}\")\n",
        "        print(\"k={:2d}:  {:.25g}\".format(k, (6*my_sum)**0.5))\n",
        "        print(\"k=%2d: %.25g\"%(k, (6*my_sum)**0.5))\n",
        "\n",
        "# print(F\"evaluated directly:\\n      {4/3:.25g}\")"
      ]
    },
    {
      "cell_type": "markdown",
      "id": "9rdh9W1Si-EL",
      "metadata": {
        "id": "9rdh9W1Si-EL"
      },
      "source": []
    },
    {
      "cell_type": "code",
      "execution_count": null,
      "id": "1ff330d6",
      "metadata": {
        "id": "1ff330d6"
      },
      "outputs": [],
      "source": [
        "pi = 3.141592653589793115997963468544\n",
        "print(\"{:+.20f}\".format(pi))\n",
        "\n",
        "max_iter = 20\n",
        "\n",
        "print(\" Sum 1: \")\n",
        "\n",
        "pi_1 = 0\n",
        "for k in range(max_iter):\n",
        "    pi_1 += (-1)**k / 4**k * (2/(4*k+1) + 2/(4*k+2) + 1/(4*k+3))\n",
        "    print(\"k={:02}\".format(k), pi_1, \"{:+.0e}\".format(pi-pi_1))\n",
        "\n",
        "print(\" \")\n",
        "print(\" Sum 2, Plouffe: \")\n",
        "\n",
        "pi_1 = 0\n",
        "for k in range(max_iter):\n",
        "    pi_1 += 1 / 16**k * (4/(8*k+1) - 2/(8*k+4) - 1/(8*k+5) - 1/(8*k+6))\n",
        "    print(\"k={:02}\".format(k), pi_1, \"{:+.0e}\".format(pi-pi_1))\n",
        "\n",
        "print(\" \")\n",
        "print(\" Sum 3: \")\n",
        "\n",
        "pi_1 = 0\n",
        "for k in range(max_iter):\n",
        "    pi_1 += 0.5 / 16**k * (8/(8*k+2) + 4/(8*k+3) + 4/(8*k+4) - 1/(8*k+7))\n",
        "    print(\"k={:02}\".format(k), pi_1, \"{:+.0e}\".format(pi-pi_1))\n",
        "\n",
        "print(\" \")\n",
        "print(\" 1/k^2: \")\n",
        "\n",
        "sum_1 = 0\n",
        "for k in range(1, max_iter+1):\n",
        "    sum_1 += 1/(k*k)\n",
        "    pi_1 = (6*sum_1)**0.5\n",
        "    print(\"k={:02}\".format(k), pi_1, \"{:+.0e}\".format(pi-pi_1))\n",
        "\n",
        "print(\" \")\n",
        "print(\" 1/k^4: \")\n",
        "\n",
        "sum_1 = 0\n",
        "for k in range(1, max_iter+1):\n",
        "    sum_1 += 1/(k*k*k*k)\n",
        "    pi_1 = (90*sum_1)**0.25\n",
        "    print(\"k={:02}\".format(k), pi_1, \"{:+.0e}\".format(pi-pi_1))\n",
        "\n"
      ]
    },
    {
      "cell_type": "markdown",
      "id": "d-OaeFj1VrFK",
      "metadata": {
        "id": "d-OaeFj1VrFK"
      },
      "source": [
        "### EXTRA: Wallis product to calculate $\\pi$\n",
        "\n",
        "Modify the above code to calculate $\\pi$ as a product (see [Wallis product](https://en.wikipedia.org/wiki/Wallis_product)):\n",
        "$$\\pi=2\\prod_{n=1}^\\infty \\frac{4n^2}{4n^2-1}$$"
      ]
    },
    {
      "cell_type": "code",
      "execution_count": null,
      "id": "Rz-BN5cVaU__",
      "metadata": {
        "id": "Rz-BN5cVaU__"
      },
      "outputs": [],
      "source": [
        "# product is initialized by 1\n",
        "wallis_product = 1\n",
        "for k in range(1,40):\n",
        "    wallis_product *= 4*k*k / (4*k*k-1)\n",
        "    print(F\"k={k:02}: {2*wallis_product:.25g}\")"
      ]
    },
    {
      "cell_type": "markdown",
      "id": "s-ml3tJTaLhW",
      "metadata": {
        "id": "s-ml3tJTaLhW"
      },
      "source": [
        "## Iterations and conditions"
      ]
    },
    {
      "cell_type": "markdown",
      "id": "z9GUAuGxPX8z",
      "metadata": {
        "id": "z9GUAuGxPX8z"
      },
      "source": [
        "### [Collatz conjecture](https://en.wikipedia.org/wiki/Collatz_conjecture).\n",
        "\n",
        "The Collatz conjecture is one of the most famous unsolved problems in mathematics. The conjecture asks whether repeating two simple arithmetic operations will eventually transform every positive integer into 1. It concerns sequences of integers in which each term is obtained from the previous term as follows: if the previous term is even, the next term is one half of the previous term. If the previous term is odd, the next term is 3 times the previous term plus 1. The conjecture is that these sequences always reach 1, no matter which positive integer is chosen to start the sequence.\n",
        "\n",
        "Write a python function that prints the sequence up to at most 1000 terms, for any integer used as a starting number."
      ]
    },
    {
      "cell_type": "code",
      "execution_count": null,
      "id": "vvxZv-t6PdFO",
      "metadata": {
        "id": "vvxZv-t6PdFO"
      },
      "outputs": [],
      "source": [
        "# this is a definition of a function\n",
        "def collatz(number):\n",
        "    print(number)\n",
        "    i=0\n",
        "    i_max=1000\n",
        "    while i<i_max and number!=1:\n",
        "        if number%2==0: number=number//2\n",
        "        else: number = 3*number+1\n",
        "        print(number)\n",
        "        i+=1\n",
        "    if (i==i_max):\n",
        "        print(f\"Hey, we have still not landed on 'i' after {i_max} steps!\")\n",
        "\n",
        "collatz(121)"
      ]
    },
    {
      "cell_type": "code",
      "source": [
        "# prompt: cenerate numbers  with collatz conjecture\n",
        "\n",
        "def collatz(number):\n",
        "    print(number)\n",
        "    i = 0\n",
        "    i_max = 1000\n",
        "    while i < i_max and number != 1:\n",
        "        if number % 2 == 0:\n",
        "            number = number // 2\n",
        "        else:\n",
        "            number = 3 * number + 1\n",
        "        print(number)\n",
        "        i += 1\n",
        "    if (i == i_max):\n",
        "        print(f\"Hey, we have still not landed on 'i' after {i_max} steps!\")\n",
        "\n",
        "collatz(121)\n"
      ],
      "metadata": {
        "id": "_QXQb8qgQ26B"
      },
      "id": "_QXQb8qgQ26B",
      "execution_count": null,
      "outputs": []
    },
    {
      "cell_type": "markdown",
      "id": "K6ZpMG88XsrF",
      "metadata": {
        "id": "K6ZpMG88XsrF"
      },
      "source": [
        "### Primes"
      ]
    },
    {
      "cell_type": "markdown",
      "id": "iCJ1Kh6-ki7l",
      "metadata": {
        "id": "iCJ1Kh6-ki7l"
      },
      "source": [
        "How to check if number $a$ is a prime?"
      ]
    },
    {
      "cell_type": "code",
      "execution_count": null,
      "id": "fuqYYMaCXrZI",
      "metadata": {
        "id": "fuqYYMaCXrZI"
      },
      "outputs": [],
      "source": [
        "a=127\n",
        "divisor_found=False             # divisor is not found yet\n",
        "for i in range(2,1+round(a**.5)):   # it is enough to check divisors up to the square root of 'a' with some \"safety overhead\"\n",
        "  if a%i==0:\n",
        "    divisor_found=True\n",
        "    break   # this will break out of the \"for\" cycle at once a divisor is found\n",
        "\n",
        "if divisor_found:\n",
        "  print(F\"{a} is not a prime: {i} divides it.\")\n",
        "else:\n",
        "  print(F\"{a} is a prime.\")\n"
      ]
    },
    {
      "cell_type": "markdown",
      "id": "GPYrNK-6ktIP",
      "metadata": {
        "id": "GPYrNK-6ktIP"
      },
      "source": [
        "Let us plug the above code into another larger 'for' cycle over $a$\n"
      ]
    },
    {
      "cell_type": "code",
      "execution_count": null,
      "id": "yerC-xLjin2A",
      "metadata": {
        "id": "yerC-xLjin2A"
      },
      "outputs": [],
      "source": [
        "for a in range(2,12):\n",
        "  divisor_found=False             # divisor is not found yet\n",
        "  for i in range(2,1+round(a**.5)):   # it is enough to check divisors up to the square root of 'a' with some \"safety overhead\"\n",
        "    if a%i==0:\n",
        "      divisor_found=True\n",
        "      break   # this will break out of the \"for\" cycle at once a divisor is found\n",
        "\n",
        "  if divisor_found:\n",
        "    print(F\"{a} is not a prime: {i} divides it.\")\n",
        "  else:\n",
        "    print(F\"{a} is a prime.\")"
      ]
    },
    {
      "cell_type": "markdown",
      "id": "kC8CMAsGk5Me",
      "metadata": {
        "id": "kC8CMAsGk5Me"
      },
      "source": [
        "Let us search & list twin primes. We could in principle use the same code but let us rather **define a function** to check if a number is a prime."
      ]
    },
    {
      "cell_type": "code",
      "execution_count": null,
      "id": "lswtaWL-jYaw",
      "metadata": {
        "id": "lswtaWL-jYaw"
      },
      "outputs": [],
      "source": [
        "# input should be integer (we do not check it)\n",
        "# output is bool: True if num is prime\n",
        "def is_prime(num):\n",
        "  if num < 2: # by def 0,1 are not prime\n",
        "    return False\n",
        "  divisor_found=False             # divisor is not found yet\n",
        "  for i in range(2,1+round(num**.5)):   # it is enough to check divisors up to the square root of 'a' with some \"safety overhead\"\n",
        "    if num%i==0:\n",
        "      divisor_found=True\n",
        "      break   # this will break out of the \"for\" cycle at once a divisor is found\n",
        "\n",
        "  return not divisor_found\n",
        "\n",
        "for a in range(25):\n",
        "  if not is_prime(a):\n",
        "    print(F\"{a} is not a prime.\")\n",
        "  else:\n",
        "    print(F\"{a} is a prime.\")"
      ]
    },
    {
      "cell_type": "markdown",
      "id": "vrmxIknBmvUG",
      "metadata": {
        "id": "vrmxIknBmvUG"
      },
      "source": [
        "Once defined, the same `is_prime()` function can be reused anywhere. The same list can be printed in a more concise way using [Python's ternary if-else operator](https://www.geeksforgeeks.org/ternary-operator-in-python/)."
      ]
    },
    {
      "cell_type": "code",
      "execution_count": null,
      "id": "-YkFHLjZjClm",
      "metadata": {
        "id": "-YkFHLjZjClm"
      },
      "outputs": [],
      "source": [
        "for a in range(25):\n",
        "  print(F\"{a} is {'' if is_prime(a) else 'not'} a prime.\")"
      ]
    },
    {
      "cell_type": "markdown",
      "id": "GybRYepHoZen",
      "metadata": {
        "id": "GybRYepHoZen"
      },
      "source": [
        "Now we can easily find & list **twin primes**. We know that we need to check neighboring odd numbers so the simplest (but by far not the most optimal) solution is:"
      ]
    },
    {
      "cell_type": "code",
      "execution_count": null,
      "id": "5b3Yg_6CnoNo",
      "metadata": {
        "id": "5b3Yg_6CnoNo"
      },
      "outputs": [],
      "source": [
        "for a in range(3,400,2): # we search over only odd numbers\n",
        "  if is_prime(a) and is_prime(a+2): print(F\"Twin primes found: {a}, {a+2}\")"
      ]
    }
  ],
  "metadata": {
    "colab": {
      "provenance": [],
      "collapsed_sections": [
        "d-OaeFj1VrFK"
      ]
    },
    "kernelspec": {
      "display_name": "Python 3 (ipykernel)",
      "language": "python",
      "name": "python3"
    },
    "language_info": {
      "codemirror_mode": {
        "name": "ipython",
        "version": 3
      },
      "file_extension": ".py",
      "mimetype": "text/x-python",
      "name": "python",
      "nbconvert_exporter": "python",
      "pygments_lexer": "ipython3",
      "version": "3.7.3"
    }
  },
  "nbformat": 4,
  "nbformat_minor": 5
}