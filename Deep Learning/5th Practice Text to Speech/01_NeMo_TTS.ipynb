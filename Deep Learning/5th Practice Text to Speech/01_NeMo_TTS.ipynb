{
 "cells": [
  {
   "cell_type": "markdown",
   "metadata": {
    "id": "UFjxB7vK2Prz",
    "pycharm": {
     "name": "#%% md\n"
    }
   },
   "source": [
    "# 0.&nbsp;Copyright\n",
    "\n",
    "This notebook is used as part of the \"Deep learning / VITMMA19\" class at\n",
    "Budapest University of Technology and Economics, Hungary,\n",
    "https://portal.vik.bme.hu/kepzes/targyak/VITMMA19.\n",
    "The goal is that you try the basics of text-to-speech synthesis (TTS) in practice, i.e. how deep learning models are used within TTS.\n",
    "\n",
    "Originally, it is from NVIDIA (NeMo toolkit), with a few minor modifications.\n",
    "\n",
    "Source: https://github.com/NVIDIA/NeMo/blob/stable/tutorials/tts/NeMo_TTS_Primer.ipynb"
   ]
  },
  {
   "cell_type": "markdown",
   "metadata": {
    "id": "Z4bVU3ejgrDV"
   },
   "source": [
    "# 1.&nbsp;Setup"
   ]
  },
  {
   "cell_type": "code",
   "execution_count": 9,
   "metadata": {
    "id": "ysLvHZRO4uN2",
    "pycharm": {
     "name": "#%%\n"
    }
   },
   "outputs": [
    {
     "name": "stdout",
     "output_type": "stream",
     "text": [
      "\u001b[33mDEPRECATION: git+https://github.com/NVIDIA/NeMo.git@r1.21.0#egg=nemo_toolkit[all] contains an egg fragment with a non-PEP 508 name pip 25.0 will enforce this behaviour change. A possible replacement is to use the req @ url syntax, and remove the egg fragment. Discussion can be found at https://github.com/pypa/pip/issues/11617\u001b[0m\u001b[33m\n",
      "\u001b[0mCollecting nemo_toolkit (from nemo_toolkit[all])\n",
      "  Cloning https://github.com/NVIDIA/NeMo.git (to revision r1.21.0) to /private/var/folders/dy/crwmhrjj0cqbyz9960bfh8zm0000gn/T/pip-install-7vg9xjnv/nemo-toolkit_ded0596884444b5184b2611e01061aa6\n",
      "  Running command git clone --filter=blob:none --quiet https://github.com/NVIDIA/NeMo.git /private/var/folders/dy/crwmhrjj0cqbyz9960bfh8zm0000gn/T/pip-install-7vg9xjnv/nemo-toolkit_ded0596884444b5184b2611e01061aa6\n",
      "  Running command git checkout -b r1.21.0 --track origin/r1.21.0\n",
      "  Switched to a new branch 'r1.21.0'\n",
      "  branch 'r1.21.0' set up to track 'origin/r1.21.0'.\n",
      "  Resolved https://github.com/NVIDIA/NeMo.git to commit c0022aec9c8fedd59458935f0378a775b28d0444\n",
      "  Installing build dependencies ... \u001b[?25ldone\n",
      "\u001b[?25h  Getting requirements to build wheel ... \u001b[?25ldone\n",
      "\u001b[?25h  Preparing metadata (pyproject.toml) ... \u001b[?25ldone\n",
      "\u001b[?25hRequirement already satisfied: huggingface-hub in /Library/Frameworks/Python.framework/Versions/3.11/lib/python3.11/site-packages (from nemo_toolkit->nemo_toolkit[all]) (0.23.2)\n",
      "Collecting numba (from nemo_toolkit->nemo_toolkit[all])\n",
      "  Using cached numba-0.60.0-cp311-cp311-macosx_11_0_arm64.whl.metadata (2.7 kB)\n",
      "Collecting numpy<1.24,>=1.22 (from nemo_toolkit->nemo_toolkit[all])\n",
      "  Using cached numpy-1.23.5-cp311-cp311-macosx_11_0_arm64.whl.metadata (2.3 kB)\n",
      "Collecting onnx>=1.7.0 (from nemo_toolkit->nemo_toolkit[all])\n",
      "  Using cached onnx-1.17.0-cp311-cp311-macosx_12_0_universal2.whl.metadata (16 kB)\n",
      "Requirement already satisfied: python-dateutil in /Library/Frameworks/Python.framework/Versions/3.11/lib/python3.11/site-packages (from nemo_toolkit->nemo_toolkit[all]) (2.9.0.post0)\n",
      "Collecting ruamel.yaml (from nemo_toolkit->nemo_toolkit[all])\n",
      "  Using cached ruamel.yaml-0.18.6-py3-none-any.whl.metadata (23 kB)\n",
      "Requirement already satisfied: scikit-learn in /Library/Frameworks/Python.framework/Versions/3.11/lib/python3.11/site-packages (from nemo_toolkit->nemo_toolkit[all]) (1.5.2)\n",
      "Collecting setuptools>=65.5.1 (from nemo_toolkit->nemo_toolkit[all])\n",
      "  Using cached setuptools-75.5.0-py3-none-any.whl.metadata (6.8 kB)\n",
      "Requirement already satisfied: tensorboard in /Library/Frameworks/Python.framework/Versions/3.11/lib/python3.11/site-packages (from nemo_toolkit->nemo_toolkit[all]) (2.17.1)\n",
      "Collecting text-unidecode (from nemo_toolkit->nemo_toolkit[all])\n",
      "  Using cached text_unidecode-1.3-py2.py3-none-any.whl.metadata (2.4 kB)\n",
      "Requirement already satisfied: torch in /Library/Frameworks/Python.framework/Versions/3.11/lib/python3.11/site-packages (from nemo_toolkit->nemo_toolkit[all]) (2.4.1)\n",
      "Requirement already satisfied: tqdm>=4.41.0 in /Library/Frameworks/Python.framework/Versions/3.11/lib/python3.11/site-packages (from nemo_toolkit->nemo_toolkit[all]) (4.66.5)\n",
      "Requirement already satisfied: wget in /Library/Frameworks/Python.framework/Versions/3.11/lib/python3.11/site-packages (from nemo_toolkit->nemo_toolkit[all]) (3.2)\n",
      "Requirement already satisfied: wrapt in /Library/Frameworks/Python.framework/Versions/3.11/lib/python3.11/site-packages (from nemo_toolkit->nemo_toolkit[all]) (1.16.0)\n",
      "Collecting black==19.10b0 (from nemo_toolkit->nemo_toolkit[all])\n",
      "  Using cached black-19.10b0-py36-none-any.whl.metadata (58 kB)\n",
      "Collecting click==8.0.2 (from nemo_toolkit->nemo_toolkit[all])\n",
      "  Using cached click-8.0.2-py3-none-any.whl.metadata (3.2 kB)\n",
      "Collecting isort<6.0.0,>5.1.0 (from nemo_toolkit->nemo_toolkit[all])\n",
      "  Using cached isort-5.13.2-py3-none-any.whl.metadata (12 kB)\n",
      "Collecting parameterized (from nemo_toolkit->nemo_toolkit[all])\n",
      "  Using cached parameterized-0.9.0-py2.py3-none-any.whl.metadata (18 kB)\n",
      "Collecting pytest (from nemo_toolkit->nemo_toolkit[all])\n",
      "  Using cached pytest-8.3.3-py3-none-any.whl.metadata (7.5 kB)\n",
      "Collecting pytest-runner (from nemo_toolkit->nemo_toolkit[all])\n",
      "  Using cached pytest_runner-6.0.1-py3-none-any.whl.metadata (7.3 kB)\n",
      "Collecting sphinx (from nemo_toolkit->nemo_toolkit[all])\n",
      "  Using cached sphinx-8.1.3-py3-none-any.whl.metadata (6.4 kB)\n",
      "Collecting sphinxcontrib-bibtex (from nemo_toolkit->nemo_toolkit[all])\n",
      "  Using cached sphinxcontrib_bibtex-2.6.3-py3-none-any.whl.metadata (6.3 kB)\n",
      "Requirement already satisfied: wandb in /Library/Frameworks/Python.framework/Versions/3.11/lib/python3.11/site-packages (from nemo_toolkit->nemo_toolkit[all]) (0.18.7)\n",
      "Collecting hydra-core<=1.3.2,>1.3 (from nemo_toolkit->nemo_toolkit[all])\n",
      "  Using cached hydra_core-1.3.2-py3-none-any.whl.metadata (5.5 kB)\n",
      "Collecting omegaconf<=2.3 (from nemo_toolkit->nemo_toolkit[all])\n",
      "  Using cached omegaconf-2.3.0-py3-none-any.whl.metadata (3.9 kB)\n",
      "Collecting pytorch-lightning<=2.0.7,>=2.0 (from nemo_toolkit->nemo_toolkit[all])\n",
      "  Using cached pytorch_lightning-2.0.7-py3-none-any.whl.metadata (23 kB)\n",
      "Requirement already satisfied: torchmetrics>=0.11.0 in /Library/Frameworks/Python.framework/Versions/3.11/lib/python3.11/site-packages (from nemo_toolkit->nemo_toolkit[all]) (1.4.2)\n",
      "Collecting transformers<=4.33.3,>=4.0.1 (from nemo_toolkit->nemo_toolkit[all])\n",
      "  Using cached transformers-4.33.3-py3-none-any.whl.metadata (119 kB)\n",
      "Collecting webdataset<=0.1.62,>=0.1.48 (from nemo_toolkit->nemo_toolkit[all])\n",
      "  Using cached webdataset-0.1.62-py3-none-any.whl.metadata (5.7 kB)\n",
      "Collecting inflect (from nemo_toolkit->nemo_toolkit[all])\n",
      "  Using cached inflect-7.4.0-py3-none-any.whl.metadata (21 kB)\n",
      "Requirement already satisfied: pandas in /Library/Frameworks/Python.framework/Versions/3.11/lib/python3.11/site-packages (from nemo_toolkit->nemo_toolkit[all]) (2.2.3)\n",
      "Collecting pydantic<2 (from nemo_toolkit->nemo_toolkit[all])\n",
      "  Using cached pydantic-1.10.19-cp311-cp311-macosx_11_0_arm64.whl.metadata (152 kB)\n",
      "Collecting sacremoses>=0.0.43 (from nemo_toolkit->nemo_toolkit[all])\n",
      "  Using cached sacremoses-0.1.1-py3-none-any.whl.metadata (8.3 kB)\n",
      "Collecting sentencepiece<1.0.0 (from nemo_toolkit->nemo_toolkit[all])\n",
      "  Using cached sentencepiece-0.2.0-cp311-cp311-macosx_11_0_arm64.whl.metadata (7.7 kB)\n",
      "Collecting youtokentome>=1.0.5 (from nemo_toolkit->nemo_toolkit[all])\n",
      "  Using cached youtokentome-1.0.6.tar.gz (86 kB)\n",
      "  Preparing metadata (setup.py) ... \u001b[?25lerror\n",
      "  \u001b[1;31merror\u001b[0m: \u001b[1msubprocess-exited-with-error\u001b[0m\n",
      "  \n",
      "  \u001b[31m×\u001b[0m \u001b[32mpython setup.py egg_info\u001b[0m did not run successfully.\n",
      "  \u001b[31m│\u001b[0m exit code: \u001b[1;36m1\u001b[0m\n",
      "  \u001b[31m╰─>\u001b[0m \u001b[31m[6 lines of output]\u001b[0m\n",
      "  \u001b[31m   \u001b[0m Traceback (most recent call last):\n",
      "  \u001b[31m   \u001b[0m   File \"<string>\", line 2, in <module>\n",
      "  \u001b[31m   \u001b[0m   File \"<pip-setuptools-caller>\", line 34, in <module>\n",
      "  \u001b[31m   \u001b[0m   File \"/private/var/folders/dy/crwmhrjj0cqbyz9960bfh8zm0000gn/T/pip-install-7vg9xjnv/youtokentome_8ceff4b23add489e871c8a8159e41dee/setup.py\", line 5, in <module>\n",
      "  \u001b[31m   \u001b[0m     from Cython.Build import cythonize\n",
      "  \u001b[31m   \u001b[0m ModuleNotFoundError: No module named 'Cython'\n",
      "  \u001b[31m   \u001b[0m \u001b[31m[end of output]\u001b[0m\n",
      "  \n",
      "  \u001b[1;35mnote\u001b[0m: This error originates from a subprocess, and is likely not a problem with pip.\n",
      "\u001b[?25h\u001b[1;31merror\u001b[0m: \u001b[1mmetadata-generation-failed\u001b[0m\n",
      "\n",
      "\u001b[31m×\u001b[0m Encountered error while generating package metadata.\n",
      "\u001b[31m╰─>\u001b[0m See above for output.\n",
      "\n",
      "\u001b[1;35mnote\u001b[0m: This is an issue with the package mentioned above, not pip.\n",
      "\u001b[1;36mhint\u001b[0m: See above for details.\n"
     ]
    }
   ],
   "source": [
    "# this will take a few minutes to install, so start doing it, and after that, you can start reading Chapter 2.\n",
    "\n",
    "# Install NeMo library.\n",
    "BRANCH = 'r1.21.0'\n",
    "!pip install 'git+https://github.com/NVIDIA/NeMo.git@r1.21.0#egg=nemo_toolkit[all]'"
   ]
  },
  {
   "cell_type": "code",
   "execution_count": 8,
   "metadata": {
    "id": "O-HRFHBb_RDH",
    "pycharm": {
     "name": "#%%\n"
    }
   },
   "outputs": [
    {
     "name": "stdout",
     "output_type": "stream",
     "text": [
      "fatal: destination path 'nemo' already exists and is not an empty directory.\n"
     ]
    }
   ],
   "source": [
    "# Download local version of NeMo scripts. If you are running locally and want to use your own local NeMo code,\n",
    "# comment out the below lines and set NEMO_DIR to your local path.\n",
    "NEMO_DIR = 'nemo'\n",
    "!git clone https://github.com/NVIDIA/NeMo.git $NEMO_DIR"
   ]
  },
  {
   "cell_type": "markdown",
   "metadata": {
    "id": "sgqwl2ycC1Sh",
    "pycharm": {
     "name": "#%% md\n"
    }
   },
   "source": [
    "# 2.&nbsp;Introduction to TTS"
   ]
  },
  {
   "cell_type": "markdown",
   "metadata": {
    "id": "UYHRrdrXHe28",
    "pycharm": {
     "name": "#%% md\n"
    }
   },
   "source": [
    "This notebook provides a high level overview of text-to-speech (TTS). It will cover high level concepts and discuss each component in a standard TTS pipeline, providing relevant examples and code snippets using [NeMo](https://github.com/NVIDIA/NeMo)."
   ]
  },
  {
   "cell_type": "markdown",
   "metadata": {
    "id": "8meIFtgWHmxt",
    "pycharm": {
     "name": "#%% md\n"
    }
   },
   "source": [
    "# 3.&nbsp;What is TTS?"
   ]
  },
  {
   "cell_type": "markdown",
   "metadata": {
    "id": "6t8rK7L2HpZd",
    "pycharm": {
     "name": "#%% md\n"
    }
   },
   "source": [
    "**Text-to-speech**, also known as **TTS** or **speech synthesis**, refers to a system by which a computer reads text aloud. Typically the synthesized audio resembles a realistic human voice.\n",
    "\n",
    "Most TTS models sound like the voice of the speaker whose audio it is trained on. Though some more recently developed algorithms have the potential to sound like real speakers they were not trained on, or sound like entirely new voices.\n"
   ]
  },
  {
   "cell_type": "markdown",
   "metadata": {
    "id": "MC9oz1kiHqsW",
    "pycharm": {
     "name": "#%% md\n"
    }
   },
   "source": [
    "# 4.&nbsp;The TTS pipeline"
   ]
  },
  {
   "cell_type": "markdown",
   "metadata": {
    "id": "ODp1OnA0SYdF",
    "pycharm": {
     "name": "#%% md\n"
    }
   },
   "source": [
    "Modern TTS systems are fairly complex, with an end to end pipeline consisting of several components that each require their own model or heuristics.\n",
    "\n",
    "A standard pipeline might look like:\n",
    "\n",
    "1.   **Text Normalization**: Converting raw text to spoken text (eg. \"Mr.\" &rarr; \"mister\").<br>\n",
    "2.   **Grapheme to Phoneme conversion (G2P)**: Convert basic units of text (ie. graphemes/characters) to basic units of spoken language (ie. phonemes).\n",
    "3.   **Spectrogram Synthesis**: Convert text/phonemes into a spectrogram.\n",
    "4.   **Audio Synthesis**: Convert spectrogram into audio. Also known as **spectrogram inversion**. Models which do this are called **vocoders**.\n",
    "\n",
    "While this is the most common structure, there may be fewer or additional steps depending on the use case. For example, some languages do not require G2P and can instead rely on the model to convert raw text/graphemes to spectrogram.\n",
    "\n",
    "<div>\n",
    "<img src=\"https://raw.githubusercontent.com/NVIDIA/NeMo/stable/tutorials/tts/images/tts_pipeline.png\" width=\"500\", height=\"500\"/>\n",
    "</div>"
   ]
  },
  {
   "cell_type": "markdown",
   "metadata": {
    "id": "XRWiZq5PgNCK",
    "pycharm": {
     "name": "#%% md\n"
    }
   },
   "source": [
    "# 5.&nbsp;Text Normalization (TN)"
   ]
  },
  {
   "cell_type": "markdown",
   "metadata": {
    "id": "YFJdiLaPgQAD",
    "pycharm": {
     "name": "#%% md\n"
    }
   },
   "source": [
    "The first step is to pre-process the raw input text into a standardized form. Some examples of processing steps could include:\n",
    "\n",
    "<table>\n",
    "  <tr>\n",
    "    <th>Normalization Type</th>\n",
    "    <th>Input</th>\n",
    "    <th>Output</th>\n",
    "  </tr>\n",
    "  <tr>\n",
    "    <td>Abbreviations</td>\n",
    "    <td>Mr.</td>\n",
    "    <td>mister<td>\n",
    "  </tr>\n",
    "  <tr>\n",
    "    <td>Acronyms</td>\n",
    "    <td>TTS</td>\n",
    "    <td>text to speech<td>\n",
    "  </tr>\n",
    "  <tr>\n",
    "    <td>Numbers</td>\n",
    "    <td>42</td>\n",
    "    <td>forty two</td>\n",
    "  </tr>\n",
    "  <tr>\n",
    "    <td>Decimals</td>\n",
    "    <td>1.2</td>\n",
    "    <td>one point two</td>\n",
    "  </tr>\n",
    "  <tr>\n",
    "    <td>Roman Numerals</td>\n",
    "    <td>VII</td>\n",
    "    <td>seventh</td>\n",
    "  </tr>\n",
    "  <tr>\n",
    "    <td>Cardinal Directions</td>\n",
    "    <td>N E S W</td>\n",
    "    <td>north east south west</td>\n",
    "  </tr>\n",
    "  <tr>\n",
    "    <td>URL</td>\n",
    "    <td>www.github.com</td>\n",
    "    <td>w w w dot github dot com</td>\n",
    "  </tr>\n",
    "</table>\n",
    "\n",
    "The above examples may be slightly different than the output of the NeMo text normalization code. More details on NeMo text normalization can be found in the [TN documentation](https://docs.nvidia.com/deeplearning/nemo/user-guide/docs/en/stable/nlp/text_normalization/intro.html).\n",
    "\n",
    "A more comprehensive list of text normalization rules, examples, and languages are available in the [code](https://github.com/NVIDIA/NeMo-text-processing/tree/main/nemo_text_processing/text_normalization).\n",
    "\n"
   ]
  },
  {
   "cell_type": "markdown",
   "metadata": {
    "id": "e_vqDYu9yVFT",
    "pycharm": {
     "name": "#%% md\n"
    }
   },
   "source": [
    "## 5.1&nbsp;TN example"
   ]
  },
  {
   "cell_type": "markdown",
   "metadata": {
    "id": "EptHrRZeBH46",
    "pycharm": {
     "name": "#%% md\n"
    }
   },
   "source": [
    "After installing NeMo, we can do text normalization with just a few lines of code."
   ]
  },
  {
   "cell_type": "code",
   "execution_count": 2,
   "metadata": {
    "id": "pQw-3Elg-AJg",
    "pycharm": {
     "name": "#%%\n"
    }
   },
   "outputs": [
    {
     "name": "stderr",
     "output_type": "stream",
     "text": [
      " NeMo-text-processing :: INFO     :: Creating ClassifyFst grammars.\n"
     ]
    }
   ],
   "source": [
    "try:\n",
    "    from nemo_text_processing.text_normalization.normalize import Normalizer\n",
    "except ModuleNotFoundError:\n",
    "    raise ModuleNotFoundError(\n",
    "        \"The package `nemo_text_processing` was not installed in this environment. Please refer to\"\n",
    "        \" https://github.com/NVIDIA/NeMo-text-processing and install this package before using \"\n",
    "        \"this script\"\n",
    "    )\n",
    "\n",
    "text_normalizer = Normalizer(input_case=\"cased\", lang=\"en\")"
   ]
  },
  {
   "cell_type": "code",
   "execution_count": 3,
   "metadata": {
    "colab": {
     "base_uri": "https://localhost:8080/"
    },
    "id": "SPMVhS8qrFCI",
    "outputId": "576921df-b426-4d7f-d3a7-cb44d965fc87",
    "pycharm": {
     "name": "#%%\n"
    }
   },
   "outputs": [
    {
     "name": "stdout",
     "output_type": "stream",
     "text": [
      "Mr. Johnson is turning 35 years old on 04-15-2023.\n",
      "mister Johnson is turning thirty five years old on april fifteenth twenty twenty three.\n"
     ]
    }
   ],
   "source": [
    "text = \"Mr. Johnson is turning 35 years old on 04-15-2023.\"\n",
    "normalized_text = text_normalizer.normalize(text)\n",
    "\n",
    "print(text)\n",
    "print(normalized_text)"
   ]
  },
  {
   "cell_type": "code",
   "execution_count": null,
   "metadata": {
    "id": "SXj8tDh8n0Tv"
   },
   "outputs": [],
   "source": [
    "### YOUR TASK: test text normalization with several other examples.\n",
    "# add a sentence with common abbreviations, like 'etc.', 'e.g.', 'ASAP', 'RSVP', ...\n",
    "# extend the sentence with dates in various formats (e.g. month with numbers / abbreviated)\n",
    "# extend the sentence with numbers including decimals\n",
    "# extend the sentence with special characters, like €, $, @,\n",
    "# ---> and see, which of these are noramlized well. did you find any issues in the text normalization part?"
   ]
  },
  {
   "cell_type": "code",
   "execution_count": null,
   "metadata": {
    "id": "C9c42Nc8TO2_"
   },
   "outputs": [],
   "source": [
    "### YOUR SOLUTION"
   ]
  },
  {
   "cell_type": "markdown",
   "metadata": {
    "id": "8KxovRNsyZdr",
    "pycharm": {
     "name": "#%% md\n"
    }
   },
   "source": [
    "## 5.2&nbsp;TN approach"
   ]
  },
  {
   "cell_type": "markdown",
   "metadata": {
    "id": "OrRZejiGte90",
    "pycharm": {
     "name": "#%% md\n"
    }
   },
   "source": [
    "Today text normalization is typically a very manual process involving lots of rules, heuristics, and regular expressions.\n",
    "\n",
    "It is difficult to train a machine learning model to automate this step due to lack of labeled data. To get ground truth data one would need to manually annotate the entire dataset. The resulting model would then have strictly worse performance than the manual system producing the labels, making it better to use the original labeling system rather than the model."
   ]
  },
  {
   "cell_type": "markdown",
   "metadata": {
    "id": "_kVLSOCeyFCL",
    "pycharm": {
     "name": "#%% md\n"
    }
   },
   "source": [
    "**Dataset Preparation**\n",
    "\n",
    "Most common public datasets for TTS modeling are already normalized before they are uploaded, allowing users to skip this step entirely.\n",
    "\n",
    "When preparing new datasets for training, individuals will often rely on open source libraries for normalization, manually adding new logic into the system as they find situations in their datasets not covered by the pre-existing logic.\n",
    "\n",
    "This logic is also hard to generalize across *languages*, making scaling TTS to multiple languages very challenging. Enterprises often find it necessary to hire linguists for every language they operate in, whose responsibility is to manually develop and improve the text processing and normalization for their specific languages and users."
   ]
  },
  {
   "cell_type": "markdown",
   "metadata": {
    "id": "CPh9zYO71Pih",
    "pycharm": {
     "name": "#%% md\n"
    }
   },
   "source": [
    "# 6.&nbsp;Grapheme to Phoneme (G2P)"
   ]
  },
  {
   "cell_type": "markdown",
   "metadata": {
    "id": "rXij0PkxIqrj",
    "pycharm": {
     "name": "#%% md\n"
    }
   },
   "source": [
    "Next we convert the written text into **phonemes**, the most basic unit of human speech.\n",
    "\n",
    "For example (using [ARPABET](https://en.wikipedia.org/wiki/ARPABET)): *Hello World &rarr; HH, AH0, L, OW1, ,W, ER1, L, D*\n",
    "\n",
    "Some languages, such as Spanish and German, are *phonetic*, meaning their written characters/graphemes are always pronounced the same. For such languages G2P is unnecessary.\n",
    "\n",
    "However English is not Phonetic because:\n",
    "*   Characters change pronunciation depending on what word they are in.\n",
    "*   Some phonemes are represented by multiple characters (eg. \"ch\", \"th\", \"ph\")\n",
    "*   Some words are [Heteronyms](https://en.wikipedia.org/wiki/Heteronym_(linguistics%29#English), which are words with the same spelling but different pronunciation or meaning.\n",
    "  * For example, \"read\" is pronounced differently depending on whether it is present tense or past tense.\n",
    "  * Some heteronyms can be disambiguated based on what part of speech they are. But some, such as bass (fish or instrument), can only be disambiguated based on meaning/context.\n",
    "\n",
    "For non-phonetic languages like English it is still possible to train a TTS model directly on the graphemes. But doing so will make the pronunciation of some words less accurate.\n",
    "\n",
    "Details on how NeMo G2P works can be found in our [G2P documentation](https://docs.nvidia.com/deeplearning/nemo/user-guide/docs/en/stable/tts/g2p.html)."
   ]
  },
  {
   "cell_type": "markdown",
   "metadata": {
    "id": "KFytLD_hOt7F",
    "pycharm": {
     "name": "#%% md\n"
    }
   },
   "source": [
    "## 6.1&nbsp;Phonetic Alphabets"
   ]
  },
  {
   "cell_type": "markdown",
   "metadata": {
    "id": "ZaejnPZ5Otbm",
    "pycharm": {
     "name": "#%% md\n"
    }
   },
   "source": [
    "There are several different alphabets that can be used to represent the phonetic pronunciation of a sentence.\n",
    "\n",
    "The most common phonetic alphabet is the **International Phonetic Alphabet (IPA)**, which provides a common set of phonemes for all languages.\n",
    "\n",
    "For English, **ARPABET** is also very common. Largely due to the popularity of the [CMU Pronouncing Dictionary](http://www.speech.cs.cmu.edu/cgi-bin/cmudict)."
   ]
  },
  {
   "cell_type": "markdown",
   "metadata": {
    "id": "gEUUBp5ePuEv",
    "pycharm": {
     "name": "#%% md\n"
    }
   },
   "source": [
    "## 6.2&nbsp;G2P example"
   ]
  },
  {
   "cell_type": "markdown",
   "metadata": {
    "id": "xKttt_w6cc6w",
    "pycharm": {
     "name": "#%% md\n"
    }
   },
   "source": [
    "We will show how to do both IPA and ARPABET G2P using NeMo.\n"
   ]
  },
  {
   "cell_type": "code",
   "execution_count": 5,
   "metadata": {},
   "outputs": [
    {
     "name": "stdout",
     "output_type": "stream",
     "text": [
      "Collecting numpy==1.19.5\n",
      "  Downloading numpy-1.19.5.zip (7.3 MB)\n",
      "\u001b[2K     \u001b[90m━━━━━━━━━━━━━━━━━━━━━━━━━━━━━━━━━━━━━━━━\u001b[0m \u001b[32m7.3/7.3 MB\u001b[0m \u001b[31m18.5 MB/s\u001b[0m eta \u001b[36m0:00:00\u001b[0ma \u001b[36m0:00:01\u001b[0m\n",
      "\u001b[?25h  Installing build dependencies ... \u001b[?25ldone\n",
      "\u001b[?25h  Getting requirements to build wheel ... \u001b[?25ldone\n",
      "\u001b[?25h  Preparing metadata (pyproject.toml) ... \u001b[?25ldone\n",
      "\u001b[?25hBuilding wheels for collected packages: numpy\n",
      "  Building wheel for numpy (pyproject.toml) ... \u001b[?25lerror\n",
      "  \u001b[1;31merror\u001b[0m: \u001b[1msubprocess-exited-with-error\u001b[0m\n",
      "  \n",
      "  \u001b[31m×\u001b[0m \u001b[32mBuilding wheel for numpy \u001b[0m\u001b[1;32m(\u001b[0m\u001b[32mpyproject.toml\u001b[0m\u001b[1;32m)\u001b[0m did not run successfully.\n",
      "  \u001b[31m│\u001b[0m exit code: \u001b[1;36m1\u001b[0m\n",
      "  \u001b[31m╰─>\u001b[0m \u001b[31m[1048 lines of output]\u001b[0m\n",
      "  \u001b[31m   \u001b[0m setup.py:67: RuntimeWarning: NumPy 1.19.5 may not yet support Python 3.11.\n",
      "  \u001b[31m   \u001b[0m   warnings.warn(\n",
      "  \u001b[31m   \u001b[0m Running from numpy source directory.\n",
      "  \u001b[31m   \u001b[0m Cythonizing sources\n",
      "  \u001b[31m   \u001b[0m numpy/random/_bounded_integers.pxd.in has not changed\n",
      "  \u001b[31m   \u001b[0m numpy/random/_philox.pyx has not changed\n",
      "  \u001b[31m   \u001b[0m numpy/random/_bounded_integers.pyx.in has not changed\n",
      "  \u001b[31m   \u001b[0m numpy/random/_sfc64.pyx has not changed\n",
      "  \u001b[31m   \u001b[0m numpy/random/_mt19937.pyx has not changed\n",
      "  \u001b[31m   \u001b[0m numpy/random/bit_generator.pyx has not changed\n",
      "  \u001b[31m   \u001b[0m Processing numpy/random/_bounded_integers.pyx\n",
      "  \u001b[31m   \u001b[0m numpy/random/mtrand.pyx has not changed\n",
      "  \u001b[31m   \u001b[0m numpy/random/_generator.pyx has not changed\n",
      "  \u001b[31m   \u001b[0m numpy/random/_pcg64.pyx has not changed\n",
      "  \u001b[31m   \u001b[0m numpy/random/_common.pyx has not changed\n",
      "  \u001b[31m   \u001b[0m blas_opt_info:\n",
      "  \u001b[31m   \u001b[0m blas_mkl_info:\n",
      "  \u001b[31m   \u001b[0m customize UnixCCompiler\n",
      "  \u001b[31m   \u001b[0m   libraries mkl_rt not found in ['/Library/Frameworks/Python.framework/Versions/3.11/lib', '/usr/lib']\n",
      "  \u001b[31m   \u001b[0m   NOT AVAILABLE\n",
      "  \u001b[31m   \u001b[0m \n",
      "  \u001b[31m   \u001b[0m blis_info:\n",
      "  \u001b[31m   \u001b[0m   libraries blis not found in ['/Library/Frameworks/Python.framework/Versions/3.11/lib', '/usr/lib']\n",
      "  \u001b[31m   \u001b[0m   NOT AVAILABLE\n",
      "  \u001b[31m   \u001b[0m \n",
      "  \u001b[31m   \u001b[0m openblas_info:\n",
      "  \u001b[31m   \u001b[0m   libraries openblas not found in ['/Library/Frameworks/Python.framework/Versions/3.11/lib', '/usr/lib']\n",
      "  \u001b[31m   \u001b[0m   NOT AVAILABLE\n",
      "  \u001b[31m   \u001b[0m \n",
      "  \u001b[31m   \u001b[0m atlas_3_10_blas_threads_info:\n",
      "  \u001b[31m   \u001b[0m Setting PTATLAS=ATLAS\n",
      "  \u001b[31m   \u001b[0m   libraries tatlas not found in ['/Library/Frameworks/Python.framework/Versions/3.11/lib', '/usr/lib']\n",
      "  \u001b[31m   \u001b[0m   NOT AVAILABLE\n",
      "  \u001b[31m   \u001b[0m \n",
      "  \u001b[31m   \u001b[0m atlas_3_10_blas_info:\n",
      "  \u001b[31m   \u001b[0m   libraries satlas not found in ['/Library/Frameworks/Python.framework/Versions/3.11/lib', '/usr/lib']\n",
      "  \u001b[31m   \u001b[0m   NOT AVAILABLE\n",
      "  \u001b[31m   \u001b[0m \n",
      "  \u001b[31m   \u001b[0m atlas_blas_threads_info:\n",
      "  \u001b[31m   \u001b[0m Setting PTATLAS=ATLAS\n",
      "  \u001b[31m   \u001b[0m   libraries ptf77blas,ptcblas,atlas not found in ['/Library/Frameworks/Python.framework/Versions/3.11/lib', '/usr/lib']\n",
      "  \u001b[31m   \u001b[0m   NOT AVAILABLE\n",
      "  \u001b[31m   \u001b[0m \n",
      "  \u001b[31m   \u001b[0m atlas_blas_info:\n",
      "  \u001b[31m   \u001b[0m   libraries f77blas,cblas,atlas not found in ['/Library/Frameworks/Python.framework/Versions/3.11/lib', '/usr/lib']\n",
      "  \u001b[31m   \u001b[0m   NOT AVAILABLE\n",
      "  \u001b[31m   \u001b[0m \n",
      "  \u001b[31m   \u001b[0m accelerate_info:\n",
      "  \u001b[31m   \u001b[0m   libraries accelerate not found in ['/Library/Frameworks/Python.framework/Versions/3.11/lib', '/usr/lib']\n",
      "  \u001b[31m   \u001b[0m Library accelerate was not found. Ignoring\n",
      "  \u001b[31m   \u001b[0m   libraries veclib not found in ['/Library/Frameworks/Python.framework/Versions/3.11/lib', '/usr/lib']\n",
      "  \u001b[31m   \u001b[0m Library veclib was not found. Ignoring\n",
      "  \u001b[31m   \u001b[0m   FOUND:\n",
      "  \u001b[31m   \u001b[0m     extra_compile_args = ['-faltivec', '-I/System/Library/Frameworks/vecLib.framework/Headers']\n",
      "  \u001b[31m   \u001b[0m     extra_link_args = ['-Wl,-framework', '-Wl,Accelerate']\n",
      "  \u001b[31m   \u001b[0m     define_macros = [('NO_ATLAS_INFO', 3), ('HAVE_CBLAS', None)]\n",
      "  \u001b[31m   \u001b[0m \n",
      "  \u001b[31m   \u001b[0m   FOUND:\n",
      "  \u001b[31m   \u001b[0m     extra_compile_args = ['-faltivec', '-I/System/Library/Frameworks/vecLib.framework/Headers']\n",
      "  \u001b[31m   \u001b[0m     extra_link_args = ['-Wl,-framework', '-Wl,Accelerate']\n",
      "  \u001b[31m   \u001b[0m     define_macros = [('NO_ATLAS_INFO', 3), ('HAVE_CBLAS', None)]\n",
      "  \u001b[31m   \u001b[0m \n",
      "  \u001b[31m   \u001b[0m non-existing path in 'numpy/distutils': 'site.cfg'\n",
      "  \u001b[31m   \u001b[0m lapack_opt_info:\n",
      "  \u001b[31m   \u001b[0m lapack_mkl_info:\n",
      "  \u001b[31m   \u001b[0m   libraries mkl_rt not found in ['/Library/Frameworks/Python.framework/Versions/3.11/lib', '/usr/lib']\n",
      "  \u001b[31m   \u001b[0m   NOT AVAILABLE\n",
      "  \u001b[31m   \u001b[0m \n",
      "  \u001b[31m   \u001b[0m openblas_lapack_info:\n",
      "  \u001b[31m   \u001b[0m   libraries openblas not found in ['/Library/Frameworks/Python.framework/Versions/3.11/lib', '/usr/lib']\n",
      "  \u001b[31m   \u001b[0m   NOT AVAILABLE\n",
      "  \u001b[31m   \u001b[0m \n",
      "  \u001b[31m   \u001b[0m openblas_clapack_info:\n",
      "  \u001b[31m   \u001b[0m   libraries openblas,lapack not found in ['/Library/Frameworks/Python.framework/Versions/3.11/lib', '/usr/lib']\n",
      "  \u001b[31m   \u001b[0m   NOT AVAILABLE\n",
      "  \u001b[31m   \u001b[0m \n",
      "  \u001b[31m   \u001b[0m flame_info:\n",
      "  \u001b[31m   \u001b[0m   libraries flame not found in ['/Library/Frameworks/Python.framework/Versions/3.11/lib', '/usr/lib']\n",
      "  \u001b[31m   \u001b[0m   NOT AVAILABLE\n",
      "  \u001b[31m   \u001b[0m \n",
      "  \u001b[31m   \u001b[0m atlas_3_10_threads_info:\n",
      "  \u001b[31m   \u001b[0m Setting PTATLAS=ATLAS\n",
      "  \u001b[31m   \u001b[0m   libraries lapack_atlas not found in /Library/Frameworks/Python.framework/Versions/3.11/lib\n",
      "  \u001b[31m   \u001b[0m   libraries tatlas,tatlas not found in /Library/Frameworks/Python.framework/Versions/3.11/lib\n",
      "  \u001b[31m   \u001b[0m   libraries lapack_atlas not found in /usr/lib\n",
      "  \u001b[31m   \u001b[0m   libraries tatlas,tatlas not found in /usr/lib\n",
      "  \u001b[31m   \u001b[0m <class 'numpy.distutils.system_info.atlas_3_10_threads_info'>\n",
      "  \u001b[31m   \u001b[0m   NOT AVAILABLE\n",
      "  \u001b[31m   \u001b[0m \n",
      "  \u001b[31m   \u001b[0m atlas_3_10_info:\n",
      "  \u001b[31m   \u001b[0m   libraries lapack_atlas not found in /Library/Frameworks/Python.framework/Versions/3.11/lib\n",
      "  \u001b[31m   \u001b[0m   libraries satlas,satlas not found in /Library/Frameworks/Python.framework/Versions/3.11/lib\n",
      "  \u001b[31m   \u001b[0m   libraries lapack_atlas not found in /usr/lib\n",
      "  \u001b[31m   \u001b[0m   libraries satlas,satlas not found in /usr/lib\n",
      "  \u001b[31m   \u001b[0m <class 'numpy.distutils.system_info.atlas_3_10_info'>\n",
      "  \u001b[31m   \u001b[0m   NOT AVAILABLE\n",
      "  \u001b[31m   \u001b[0m \n",
      "  \u001b[31m   \u001b[0m atlas_threads_info:\n",
      "  \u001b[31m   \u001b[0m Setting PTATLAS=ATLAS\n",
      "  \u001b[31m   \u001b[0m   libraries lapack_atlas not found in /Library/Frameworks/Python.framework/Versions/3.11/lib\n",
      "  \u001b[31m   \u001b[0m   libraries ptf77blas,ptcblas,atlas not found in /Library/Frameworks/Python.framework/Versions/3.11/lib\n",
      "  \u001b[31m   \u001b[0m   libraries lapack_atlas not found in /usr/lib\n",
      "  \u001b[31m   \u001b[0m   libraries ptf77blas,ptcblas,atlas not found in /usr/lib\n",
      "  \u001b[31m   \u001b[0m <class 'numpy.distutils.system_info.atlas_threads_info'>\n",
      "  \u001b[31m   \u001b[0m   NOT AVAILABLE\n",
      "  \u001b[31m   \u001b[0m \n",
      "  \u001b[31m   \u001b[0m atlas_info:\n",
      "  \u001b[31m   \u001b[0m   libraries lapack_atlas not found in /Library/Frameworks/Python.framework/Versions/3.11/lib\n",
      "  \u001b[31m   \u001b[0m   libraries f77blas,cblas,atlas not found in /Library/Frameworks/Python.framework/Versions/3.11/lib\n",
      "  \u001b[31m   \u001b[0m   libraries lapack_atlas not found in /usr/lib\n",
      "  \u001b[31m   \u001b[0m   libraries f77blas,cblas,atlas not found in /usr/lib\n",
      "  \u001b[31m   \u001b[0m <class 'numpy.distutils.system_info.atlas_info'>\n",
      "  \u001b[31m   \u001b[0m   NOT AVAILABLE\n",
      "  \u001b[31m   \u001b[0m \n",
      "  \u001b[31m   \u001b[0m   FOUND:\n",
      "  \u001b[31m   \u001b[0m     extra_compile_args = ['-faltivec', '-I/System/Library/Frameworks/vecLib.framework/Headers']\n",
      "  \u001b[31m   \u001b[0m     extra_link_args = ['-Wl,-framework', '-Wl,Accelerate']\n",
      "  \u001b[31m   \u001b[0m     define_macros = [('NO_ATLAS_INFO', 3), ('HAVE_CBLAS', None)]\n",
      "  \u001b[31m   \u001b[0m \n",
      "  \u001b[31m   \u001b[0m /private/var/folders/dy/crwmhrjj0cqbyz9960bfh8zm0000gn/T/pip-build-env-afaiqdge/overlay/lib/python3.11/site-packages/setuptools/_distutils/dist.py:275: UserWarning: Unknown distribution option: 'define_macros'\n",
      "  \u001b[31m   \u001b[0m   warnings.warn(msg)\n",
      "  \u001b[31m   \u001b[0m running bdist_wheel\n",
      "  \u001b[31m   \u001b[0m running build\n",
      "  \u001b[31m   \u001b[0m running config_cc\n",
      "  \u001b[31m   \u001b[0m unifing config_cc, config, build_clib, build_ext, build commands --compiler options\n",
      "  \u001b[31m   \u001b[0m running config_fc\n",
      "  \u001b[31m   \u001b[0m unifing config_fc, config, build_clib, build_ext, build commands --fcompiler options\n",
      "  \u001b[31m   \u001b[0m running build_src\n",
      "  \u001b[31m   \u001b[0m build_src\n",
      "  \u001b[31m   \u001b[0m building py_modules sources\n",
      "  \u001b[31m   \u001b[0m building library \"npymath\" sources\n",
      "  \u001b[31m   \u001b[0m Could not locate executable gfortran\n",
      "  \u001b[31m   \u001b[0m Could not locate executable f95\n",
      "  \u001b[31m   \u001b[0m Could not locate executable f90\n",
      "  \u001b[31m   \u001b[0m Could not locate executable f77\n",
      "  \u001b[31m   \u001b[0m Could not locate executable xlf90\n",
      "  \u001b[31m   \u001b[0m Could not locate executable xlf\n",
      "  \u001b[31m   \u001b[0m Could not locate executable ifort\n",
      "  \u001b[31m   \u001b[0m Could not locate executable ifc\n",
      "  \u001b[31m   \u001b[0m Could not locate executable g77\n",
      "  \u001b[31m   \u001b[0m Could not locate executable g95\n",
      "  \u001b[31m   \u001b[0m Could not locate executable pgfortran\n",
      "  \u001b[31m   \u001b[0m don't know how to compile Fortran code on platform 'posix'\n",
      "  \u001b[31m   \u001b[0m   adding 'build/src.macosx-10.9-universal2-3.11/numpy/core/src/npymath' to include_dirs.\n",
      "  \u001b[31m   \u001b[0m None - nothing done with h_files = ['build/src.macosx-10.9-universal2-3.11/numpy/core/src/npymath/npy_math_internal.h']\n",
      "  \u001b[31m   \u001b[0m building library \"npysort\" sources\n",
      "  \u001b[31m   \u001b[0m   adding 'build/src.macosx-10.9-universal2-3.11/numpy/core/src/common' to include_dirs.\n",
      "  \u001b[31m   \u001b[0m None - nothing done with h_files = ['build/src.macosx-10.9-universal2-3.11/numpy/core/src/common/npy_sort.h', 'build/src.macosx-10.9-universal2-3.11/numpy/core/src/common/npy_partition.h', 'build/src.macosx-10.9-universal2-3.11/numpy/core/src/common/npy_binsearch.h']\n",
      "  \u001b[31m   \u001b[0m building library \"npyrandom\" sources\n",
      "  \u001b[31m   \u001b[0m building extension \"numpy.core._multiarray_tests\" sources\n",
      "  \u001b[31m   \u001b[0m building extension \"numpy.core._multiarray_umath\" sources\n",
      "  \u001b[31m   \u001b[0m   adding 'build/src.macosx-10.9-universal2-3.11/numpy/core/src/umath' to include_dirs.\n",
      "  \u001b[31m   \u001b[0m   adding 'build/src.macosx-10.9-universal2-3.11/numpy/core/src/npymath' to include_dirs.\n",
      "  \u001b[31m   \u001b[0m   adding 'build/src.macosx-10.9-universal2-3.11/numpy/core/src/common' to include_dirs.\n",
      "  \u001b[31m   \u001b[0m numpy.core - nothing done with h_files = ['build/src.macosx-10.9-universal2-3.11/numpy/core/src/umath/funcs.inc', 'build/src.macosx-10.9-universal2-3.11/numpy/core/src/umath/simd.inc', 'build/src.macosx-10.9-universal2-3.11/numpy/core/src/umath/loops.h', 'build/src.macosx-10.9-universal2-3.11/numpy/core/src/umath/matmul.h', 'build/src.macosx-10.9-universal2-3.11/numpy/core/src/umath/clip.h', 'build/src.macosx-10.9-universal2-3.11/numpy/core/src/npymath/npy_math_internal.h', 'build/src.macosx-10.9-universal2-3.11/numpy/core/src/common/templ_common.h', 'build/src.macosx-10.9-universal2-3.11/numpy/core/include/numpy/config.h', 'build/src.macosx-10.9-universal2-3.11/numpy/core/include/numpy/_numpyconfig.h', 'build/src.macosx-10.9-universal2-3.11/numpy/core/include/numpy/__multiarray_api.h', 'build/src.macosx-10.9-universal2-3.11/numpy/core/include/numpy/__ufunc_api.h']\n",
      "  \u001b[31m   \u001b[0m building extension \"numpy.core._umath_tests\" sources\n",
      "  \u001b[31m   \u001b[0m building extension \"numpy.core._rational_tests\" sources\n",
      "  \u001b[31m   \u001b[0m building extension \"numpy.core._struct_ufunc_tests\" sources\n",
      "  \u001b[31m   \u001b[0m building extension \"numpy.core._operand_flag_tests\" sources\n",
      "  \u001b[31m   \u001b[0m building extension \"numpy.fft._pocketfft_internal\" sources\n",
      "  \u001b[31m   \u001b[0m building extension \"numpy.linalg.lapack_lite\" sources\n",
      "  \u001b[31m   \u001b[0m building extension \"numpy.linalg._umath_linalg\" sources\n",
      "  \u001b[31m   \u001b[0m building extension \"numpy.random._mt19937\" sources\n",
      "  \u001b[31m   \u001b[0m building extension \"numpy.random._philox\" sources\n",
      "  \u001b[31m   \u001b[0m building extension \"numpy.random._pcg64\" sources\n",
      "  \u001b[31m   \u001b[0m building extension \"numpy.random._sfc64\" sources\n",
      "  \u001b[31m   \u001b[0m building extension \"numpy.random._common\" sources\n",
      "  \u001b[31m   \u001b[0m building extension \"numpy.random.bit_generator\" sources\n",
      "  \u001b[31m   \u001b[0m building extension \"numpy.random._generator\" sources\n",
      "  \u001b[31m   \u001b[0m building extension \"numpy.random._bounded_integers\" sources\n",
      "  \u001b[31m   \u001b[0m building extension \"numpy.random.mtrand\" sources\n",
      "  \u001b[31m   \u001b[0m building data_files sources\n",
      "  \u001b[31m   \u001b[0m build_src: building npy-pkg config files\n",
      "  \u001b[31m   \u001b[0m running build_py\n",
      "  \u001b[31m   \u001b[0m creating build/lib.macosx-10.9-universal2-3.11\n",
      "  \u001b[31m   \u001b[0m creating build/lib.macosx-10.9-universal2-3.11/numpy\n",
      "  \u001b[31m   \u001b[0m copying numpy/conftest.py -> build/lib.macosx-10.9-universal2-3.11/numpy\n",
      "  \u001b[31m   \u001b[0m copying numpy/version.py -> build/lib.macosx-10.9-universal2-3.11/numpy\n",
      "  \u001b[31m   \u001b[0m copying numpy/_globals.py -> build/lib.macosx-10.9-universal2-3.11/numpy\n",
      "  \u001b[31m   \u001b[0m copying numpy/__init__.py -> build/lib.macosx-10.9-universal2-3.11/numpy\n",
      "  \u001b[31m   \u001b[0m copying numpy/dual.py -> build/lib.macosx-10.9-universal2-3.11/numpy\n",
      "  \u001b[31m   \u001b[0m copying numpy/_distributor_init.py -> build/lib.macosx-10.9-universal2-3.11/numpy\n",
      "  \u001b[31m   \u001b[0m copying numpy/setup.py -> build/lib.macosx-10.9-universal2-3.11/numpy\n",
      "  \u001b[31m   \u001b[0m copying numpy/ctypeslib.py -> build/lib.macosx-10.9-universal2-3.11/numpy\n",
      "  \u001b[31m   \u001b[0m copying numpy/matlib.py -> build/lib.macosx-10.9-universal2-3.11/numpy\n",
      "  \u001b[31m   \u001b[0m copying numpy/_pytesttester.py -> build/lib.macosx-10.9-universal2-3.11/numpy\n",
      "  \u001b[31m   \u001b[0m copying build/src.macosx-10.9-universal2-3.11/numpy/__config__.py -> build/lib.macosx-10.9-universal2-3.11/numpy\n",
      "  \u001b[31m   \u001b[0m creating build/lib.macosx-10.9-universal2-3.11/numpy/compat\n",
      "  \u001b[31m   \u001b[0m copying numpy/compat/py3k.py -> build/lib.macosx-10.9-universal2-3.11/numpy/compat\n",
      "  \u001b[31m   \u001b[0m copying numpy/compat/__init__.py -> build/lib.macosx-10.9-universal2-3.11/numpy/compat\n",
      "  \u001b[31m   \u001b[0m copying numpy/compat/setup.py -> build/lib.macosx-10.9-universal2-3.11/numpy/compat\n",
      "  \u001b[31m   \u001b[0m copying numpy/compat/_inspect.py -> build/lib.macosx-10.9-universal2-3.11/numpy/compat\n",
      "  \u001b[31m   \u001b[0m creating build/lib.macosx-10.9-universal2-3.11/numpy/compat/tests\n",
      "  \u001b[31m   \u001b[0m copying numpy/compat/tests/__init__.py -> build/lib.macosx-10.9-universal2-3.11/numpy/compat/tests\n",
      "  \u001b[31m   \u001b[0m copying numpy/compat/tests/test_compat.py -> build/lib.macosx-10.9-universal2-3.11/numpy/compat/tests\n",
      "  \u001b[31m   \u001b[0m creating build/lib.macosx-10.9-universal2-3.11/numpy/core\n",
      "  \u001b[31m   \u001b[0m copying numpy/core/umath.py -> build/lib.macosx-10.9-universal2-3.11/numpy/core\n",
      "  \u001b[31m   \u001b[0m copying numpy/core/fromnumeric.py -> build/lib.macosx-10.9-universal2-3.11/numpy/core\n",
      "  \u001b[31m   \u001b[0m copying numpy/core/_dtype.py -> build/lib.macosx-10.9-universal2-3.11/numpy/core\n",
      "  \u001b[31m   \u001b[0m copying numpy/core/_add_newdocs.py -> build/lib.macosx-10.9-universal2-3.11/numpy/core\n",
      "  \u001b[31m   \u001b[0m copying numpy/core/_methods.py -> build/lib.macosx-10.9-universal2-3.11/numpy/core\n",
      "  \u001b[31m   \u001b[0m copying numpy/core/_internal.py -> build/lib.macosx-10.9-universal2-3.11/numpy/core\n",
      "  \u001b[31m   \u001b[0m copying numpy/core/_string_helpers.py -> build/lib.macosx-10.9-universal2-3.11/numpy/core\n",
      "  \u001b[31m   \u001b[0m copying numpy/core/multiarray.py -> build/lib.macosx-10.9-universal2-3.11/numpy/core\n",
      "  \u001b[31m   \u001b[0m copying numpy/core/_asarray.py -> build/lib.macosx-10.9-universal2-3.11/numpy/core\n",
      "  \u001b[31m   \u001b[0m copying numpy/core/records.py -> build/lib.macosx-10.9-universal2-3.11/numpy/core\n",
      "  \u001b[31m   \u001b[0m copying numpy/core/__init__.py -> build/lib.macosx-10.9-universal2-3.11/numpy/core\n",
      "  \u001b[31m   \u001b[0m copying numpy/core/setup_common.py -> build/lib.macosx-10.9-universal2-3.11/numpy/core\n",
      "  \u001b[31m   \u001b[0m copying numpy/core/memmap.py -> build/lib.macosx-10.9-universal2-3.11/numpy/core\n",
      "  \u001b[31m   \u001b[0m copying numpy/core/overrides.py -> build/lib.macosx-10.9-universal2-3.11/numpy/core\n",
      "  \u001b[31m   \u001b[0m copying numpy/core/getlimits.py -> build/lib.macosx-10.9-universal2-3.11/numpy/core\n",
      "  \u001b[31m   \u001b[0m copying numpy/core/_dtype_ctypes.py -> build/lib.macosx-10.9-universal2-3.11/numpy/core\n",
      "  \u001b[31m   \u001b[0m copying numpy/core/defchararray.py -> build/lib.macosx-10.9-universal2-3.11/numpy/core\n",
      "  \u001b[31m   \u001b[0m copying numpy/core/shape_base.py -> build/lib.macosx-10.9-universal2-3.11/numpy/core\n",
      "  \u001b[31m   \u001b[0m copying numpy/core/machar.py -> build/lib.macosx-10.9-universal2-3.11/numpy/core\n",
      "  \u001b[31m   \u001b[0m copying numpy/core/setup.py -> build/lib.macosx-10.9-universal2-3.11/numpy/core\n",
      "  \u001b[31m   \u001b[0m copying numpy/core/numeric.py -> build/lib.macosx-10.9-universal2-3.11/numpy/core\n",
      "  \u001b[31m   \u001b[0m copying numpy/core/function_base.py -> build/lib.macosx-10.9-universal2-3.11/numpy/core\n",
      "  \u001b[31m   \u001b[0m copying numpy/core/einsumfunc.py -> build/lib.macosx-10.9-universal2-3.11/numpy/core\n",
      "  \u001b[31m   \u001b[0m copying numpy/core/umath_tests.py -> build/lib.macosx-10.9-universal2-3.11/numpy/core\n",
      "  \u001b[31m   \u001b[0m copying numpy/core/_ufunc_config.py -> build/lib.macosx-10.9-universal2-3.11/numpy/core\n",
      "  \u001b[31m   \u001b[0m copying numpy/core/_exceptions.py -> build/lib.macosx-10.9-universal2-3.11/numpy/core\n",
      "  \u001b[31m   \u001b[0m copying numpy/core/numerictypes.py -> build/lib.macosx-10.9-universal2-3.11/numpy/core\n",
      "  \u001b[31m   \u001b[0m copying numpy/core/_type_aliases.py -> build/lib.macosx-10.9-universal2-3.11/numpy/core\n",
      "  \u001b[31m   \u001b[0m copying numpy/core/cversions.py -> build/lib.macosx-10.9-universal2-3.11/numpy/core\n",
      "  \u001b[31m   \u001b[0m copying numpy/core/arrayprint.py -> build/lib.macosx-10.9-universal2-3.11/numpy/core\n",
      "  \u001b[31m   \u001b[0m copying numpy/core/code_generators/generate_numpy_api.py -> build/lib.macosx-10.9-universal2-3.11/numpy/core\n",
      "  \u001b[31m   \u001b[0m creating build/lib.macosx-10.9-universal2-3.11/numpy/core/tests\n",
      "  \u001b[31m   \u001b[0m copying numpy/core/tests/test_numerictypes.py -> build/lib.macosx-10.9-universal2-3.11/numpy/core/tests\n",
      "  \u001b[31m   \u001b[0m copying numpy/core/tests/test_scalar_methods.py -> build/lib.macosx-10.9-universal2-3.11/numpy/core/tests\n",
      "  \u001b[31m   \u001b[0m copying numpy/core/tests/test_scalarmath.py -> build/lib.macosx-10.9-universal2-3.11/numpy/core/tests\n",
      "  \u001b[31m   \u001b[0m copying numpy/core/tests/test_item_selection.py -> build/lib.macosx-10.9-universal2-3.11/numpy/core/tests\n",
      "  \u001b[31m   \u001b[0m copying numpy/core/tests/test_machar.py -> build/lib.macosx-10.9-universal2-3.11/numpy/core/tests\n",
      "  \u001b[31m   \u001b[0m copying numpy/core/tests/test_unicode.py -> build/lib.macosx-10.9-universal2-3.11/numpy/core/tests\n",
      "  \u001b[31m   \u001b[0m copying numpy/core/tests/test_arrayprint.py -> build/lib.macosx-10.9-universal2-3.11/numpy/core/tests\n",
      "  \u001b[31m   \u001b[0m copying numpy/core/tests/test_scalarbuffer.py -> build/lib.macosx-10.9-universal2-3.11/numpy/core/tests\n",
      "  \u001b[31m   \u001b[0m copying numpy/core/tests/test_indexerrors.py -> build/lib.macosx-10.9-universal2-3.11/numpy/core/tests\n",
      "  \u001b[31m   \u001b[0m copying numpy/core/tests/test_print.py -> build/lib.macosx-10.9-universal2-3.11/numpy/core/tests\n",
      "  \u001b[31m   \u001b[0m copying numpy/core/tests/test_half.py -> build/lib.macosx-10.9-universal2-3.11/numpy/core/tests\n",
      "  \u001b[31m   \u001b[0m copying numpy/core/tests/test_mem_overlap.py -> build/lib.macosx-10.9-universal2-3.11/numpy/core/tests\n",
      "  \u001b[31m   \u001b[0m copying numpy/core/tests/test_shape_base.py -> build/lib.macosx-10.9-universal2-3.11/numpy/core/tests\n",
      "  \u001b[31m   \u001b[0m copying numpy/core/tests/test_deprecations.py -> build/lib.macosx-10.9-universal2-3.11/numpy/core/tests\n",
      "  \u001b[31m   \u001b[0m copying numpy/core/tests/__init__.py -> build/lib.macosx-10.9-universal2-3.11/numpy/core/tests\n",
      "  \u001b[31m   \u001b[0m copying numpy/core/tests/test_errstate.py -> build/lib.macosx-10.9-universal2-3.11/numpy/core/tests\n",
      "  \u001b[31m   \u001b[0m copying numpy/core/tests/test_records.py -> build/lib.macosx-10.9-universal2-3.11/numpy/core/tests\n",
      "  \u001b[31m   \u001b[0m copying numpy/core/tests/test_scalarinherit.py -> build/lib.macosx-10.9-universal2-3.11/numpy/core/tests\n",
      "  \u001b[31m   \u001b[0m copying numpy/core/tests/test_indexing.py -> build/lib.macosx-10.9-universal2-3.11/numpy/core/tests\n",
      "  \u001b[31m   \u001b[0m copying numpy/core/tests/test_umath.py -> build/lib.macosx-10.9-universal2-3.11/numpy/core/tests\n",
      "  \u001b[31m   \u001b[0m copying numpy/core/tests/test_numeric.py -> build/lib.macosx-10.9-universal2-3.11/numpy/core/tests\n",
      "  \u001b[31m   \u001b[0m copying numpy/core/tests/test_function_base.py -> build/lib.macosx-10.9-universal2-3.11/numpy/core/tests\n",
      "  \u001b[31m   \u001b[0m copying numpy/core/tests/test_datetime.py -> build/lib.macosx-10.9-universal2-3.11/numpy/core/tests\n",
      "  \u001b[31m   \u001b[0m copying numpy/core/tests/test__exceptions.py -> build/lib.macosx-10.9-universal2-3.11/numpy/core/tests\n",
      "  \u001b[31m   \u001b[0m copying numpy/core/tests/test_extint128.py -> build/lib.macosx-10.9-universal2-3.11/numpy/core/tests\n",
      "  \u001b[31m   \u001b[0m copying numpy/core/tests/test_umath_complex.py -> build/lib.macosx-10.9-universal2-3.11/numpy/core/tests\n",
      "  \u001b[31m   \u001b[0m copying numpy/core/tests/_locales.py -> build/lib.macosx-10.9-universal2-3.11/numpy/core/tests\n",
      "  \u001b[31m   \u001b[0m copying numpy/core/tests/test_defchararray.py -> build/lib.macosx-10.9-universal2-3.11/numpy/core/tests\n",
      "  \u001b[31m   \u001b[0m copying numpy/core/tests/test_conversion_utils.py -> build/lib.macosx-10.9-universal2-3.11/numpy/core/tests\n",
      "  \u001b[31m   \u001b[0m copying numpy/core/tests/test_scalarprint.py -> build/lib.macosx-10.9-universal2-3.11/numpy/core/tests\n",
      "  \u001b[31m   \u001b[0m copying numpy/core/tests/test_abc.py -> build/lib.macosx-10.9-universal2-3.11/numpy/core/tests\n",
      "  \u001b[31m   \u001b[0m copying numpy/core/tests/test_ufunc.py -> build/lib.macosx-10.9-universal2-3.11/numpy/core/tests\n",
      "  \u001b[31m   \u001b[0m copying numpy/core/tests/test_dtype.py -> build/lib.macosx-10.9-universal2-3.11/numpy/core/tests\n",
      "  \u001b[31m   \u001b[0m copying numpy/core/tests/test_umath_accuracy.py -> build/lib.macosx-10.9-universal2-3.11/numpy/core/tests\n",
      "  \u001b[31m   \u001b[0m copying numpy/core/tests/test_getlimits.py -> build/lib.macosx-10.9-universal2-3.11/numpy/core/tests\n",
      "  \u001b[31m   \u001b[0m copying numpy/core/tests/test_einsum.py -> build/lib.macosx-10.9-universal2-3.11/numpy/core/tests\n",
      "  \u001b[31m   \u001b[0m copying numpy/core/tests/test_api.py -> build/lib.macosx-10.9-universal2-3.11/numpy/core/tests\n",
      "  \u001b[31m   \u001b[0m copying numpy/core/tests/test_longdouble.py -> build/lib.macosx-10.9-universal2-3.11/numpy/core/tests\n",
      "  \u001b[31m   \u001b[0m copying numpy/core/tests/test_overrides.py -> build/lib.macosx-10.9-universal2-3.11/numpy/core/tests\n",
      "  \u001b[31m   \u001b[0m copying numpy/core/tests/test_scalar_ctors.py -> build/lib.macosx-10.9-universal2-3.11/numpy/core/tests\n",
      "  \u001b[31m   \u001b[0m copying numpy/core/tests/test_multiarray.py -> build/lib.macosx-10.9-universal2-3.11/numpy/core/tests\n",
      "  \u001b[31m   \u001b[0m copying numpy/core/tests/test_memmap.py -> build/lib.macosx-10.9-universal2-3.11/numpy/core/tests\n",
      "  \u001b[31m   \u001b[0m copying numpy/core/tests/test_nditer.py -> build/lib.macosx-10.9-universal2-3.11/numpy/core/tests\n",
      "  \u001b[31m   \u001b[0m copying numpy/core/tests/test_cpu_features.py -> build/lib.macosx-10.9-universal2-3.11/numpy/core/tests\n",
      "  \u001b[31m   \u001b[0m copying numpy/core/tests/test_protocols.py -> build/lib.macosx-10.9-universal2-3.11/numpy/core/tests\n",
      "  \u001b[31m   \u001b[0m copying numpy/core/tests/test_regression.py -> build/lib.macosx-10.9-universal2-3.11/numpy/core/tests\n",
      "  \u001b[31m   \u001b[0m creating build/lib.macosx-10.9-universal2-3.11/numpy/distutils\n",
      "  \u001b[31m   \u001b[0m copying numpy/distutils/unixccompiler.py -> build/lib.macosx-10.9-universal2-3.11/numpy/distutils\n",
      "  \u001b[31m   \u001b[0m copying numpy/distutils/numpy_distribution.py -> build/lib.macosx-10.9-universal2-3.11/numpy/distutils\n",
      "  \u001b[31m   \u001b[0m copying numpy/distutils/conv_template.py -> build/lib.macosx-10.9-universal2-3.11/numpy/distutils\n",
      "  \u001b[31m   \u001b[0m copying numpy/distutils/cpuinfo.py -> build/lib.macosx-10.9-universal2-3.11/numpy/distutils\n",
      "  \u001b[31m   \u001b[0m copying numpy/distutils/ccompiler.py -> build/lib.macosx-10.9-universal2-3.11/numpy/distutils\n",
      "  \u001b[31m   \u001b[0m copying numpy/distutils/msvc9compiler.py -> build/lib.macosx-10.9-universal2-3.11/numpy/distutils\n",
      "  \u001b[31m   \u001b[0m copying numpy/distutils/npy_pkg_config.py -> build/lib.macosx-10.9-universal2-3.11/numpy/distutils\n",
      "  \u001b[31m   \u001b[0m copying numpy/distutils/misc_util.py -> build/lib.macosx-10.9-universal2-3.11/numpy/distutils\n",
      "  \u001b[31m   \u001b[0m copying numpy/distutils/log.py -> build/lib.macosx-10.9-universal2-3.11/numpy/distutils\n",
      "  \u001b[31m   \u001b[0m copying numpy/distutils/line_endings.py -> build/lib.macosx-10.9-universal2-3.11/numpy/distutils\n",
      "  \u001b[31m   \u001b[0m copying numpy/distutils/lib2def.py -> build/lib.macosx-10.9-universal2-3.11/numpy/distutils\n",
      "  \u001b[31m   \u001b[0m copying numpy/distutils/pathccompiler.py -> build/lib.macosx-10.9-universal2-3.11/numpy/distutils\n",
      "  \u001b[31m   \u001b[0m copying numpy/distutils/system_info.py -> build/lib.macosx-10.9-universal2-3.11/numpy/distutils\n",
      "  \u001b[31m   \u001b[0m copying numpy/distutils/__init__.py -> build/lib.macosx-10.9-universal2-3.11/numpy/distutils\n",
      "  \u001b[31m   \u001b[0m copying numpy/distutils/core.py -> build/lib.macosx-10.9-universal2-3.11/numpy/distutils\n",
      "  \u001b[31m   \u001b[0m copying numpy/distutils/exec_command.py -> build/lib.macosx-10.9-universal2-3.11/numpy/distutils\n",
      "  \u001b[31m   \u001b[0m copying numpy/distutils/from_template.py -> build/lib.macosx-10.9-universal2-3.11/numpy/distutils\n",
      "  \u001b[31m   \u001b[0m copying numpy/distutils/mingw32ccompiler.py -> build/lib.macosx-10.9-universal2-3.11/numpy/distutils\n",
      "  \u001b[31m   \u001b[0m copying numpy/distutils/setup.py -> build/lib.macosx-10.9-universal2-3.11/numpy/distutils\n",
      "  \u001b[31m   \u001b[0m copying numpy/distutils/extension.py -> build/lib.macosx-10.9-universal2-3.11/numpy/distutils\n",
      "  \u001b[31m   \u001b[0m copying numpy/distutils/msvccompiler.py -> build/lib.macosx-10.9-universal2-3.11/numpy/distutils\n",
      "  \u001b[31m   \u001b[0m copying numpy/distutils/intelccompiler.py -> build/lib.macosx-10.9-universal2-3.11/numpy/distutils\n",
      "  \u001b[31m   \u001b[0m copying numpy/distutils/_shell_utils.py -> build/lib.macosx-10.9-universal2-3.11/numpy/distutils\n",
      "  \u001b[31m   \u001b[0m copying build/src.macosx-10.9-universal2-3.11/numpy/distutils/__config__.py -> build/lib.macosx-10.9-universal2-3.11/numpy/distutils\n",
      "  \u001b[31m   \u001b[0m creating build/lib.macosx-10.9-universal2-3.11/numpy/distutils/command\n",
      "  \u001b[31m   \u001b[0m copying numpy/distutils/command/build.py -> build/lib.macosx-10.9-universal2-3.11/numpy/distutils/command\n",
      "  \u001b[31m   \u001b[0m copying numpy/distutils/command/config_compiler.py -> build/lib.macosx-10.9-universal2-3.11/numpy/distutils/command\n",
      "  \u001b[31m   \u001b[0m copying numpy/distutils/command/build_ext.py -> build/lib.macosx-10.9-universal2-3.11/numpy/distutils/command\n",
      "  \u001b[31m   \u001b[0m copying numpy/distutils/command/config.py -> build/lib.macosx-10.9-universal2-3.11/numpy/distutils/command\n",
      "  \u001b[31m   \u001b[0m copying numpy/distutils/command/install_headers.py -> build/lib.macosx-10.9-universal2-3.11/numpy/distutils/command\n",
      "  \u001b[31m   \u001b[0m copying numpy/distutils/command/build_py.py -> build/lib.macosx-10.9-universal2-3.11/numpy/distutils/command\n",
      "  \u001b[31m   \u001b[0m copying numpy/distutils/command/build_src.py -> build/lib.macosx-10.9-universal2-3.11/numpy/distutils/command\n",
      "  \u001b[31m   \u001b[0m copying numpy/distutils/command/__init__.py -> build/lib.macosx-10.9-universal2-3.11/numpy/distutils/command\n",
      "  \u001b[31m   \u001b[0m copying numpy/distutils/command/sdist.py -> build/lib.macosx-10.9-universal2-3.11/numpy/distutils/command\n",
      "  \u001b[31m   \u001b[0m copying numpy/distutils/command/build_scripts.py -> build/lib.macosx-10.9-universal2-3.11/numpy/distutils/command\n",
      "  \u001b[31m   \u001b[0m copying numpy/distutils/command/bdist_rpm.py -> build/lib.macosx-10.9-universal2-3.11/numpy/distutils/command\n",
      "  \u001b[31m   \u001b[0m copying numpy/distutils/command/install_clib.py -> build/lib.macosx-10.9-universal2-3.11/numpy/distutils/command\n",
      "  \u001b[31m   \u001b[0m copying numpy/distutils/command/build_clib.py -> build/lib.macosx-10.9-universal2-3.11/numpy/distutils/command\n",
      "  \u001b[31m   \u001b[0m copying numpy/distutils/command/autodist.py -> build/lib.macosx-10.9-universal2-3.11/numpy/distutils/command\n",
      "  \u001b[31m   \u001b[0m copying numpy/distutils/command/egg_info.py -> build/lib.macosx-10.9-universal2-3.11/numpy/distutils/command\n",
      "  \u001b[31m   \u001b[0m copying numpy/distutils/command/install.py -> build/lib.macosx-10.9-universal2-3.11/numpy/distutils/command\n",
      "  \u001b[31m   \u001b[0m copying numpy/distutils/command/develop.py -> build/lib.macosx-10.9-universal2-3.11/numpy/distutils/command\n",
      "  \u001b[31m   \u001b[0m copying numpy/distutils/command/install_data.py -> build/lib.macosx-10.9-universal2-3.11/numpy/distutils/command\n",
      "  \u001b[31m   \u001b[0m creating build/lib.macosx-10.9-universal2-3.11/numpy/distutils/fcompiler\n",
      "  \u001b[31m   \u001b[0m copying numpy/distutils/fcompiler/gnu.py -> build/lib.macosx-10.9-universal2-3.11/numpy/distutils/fcompiler\n",
      "  \u001b[31m   \u001b[0m copying numpy/distutils/fcompiler/compaq.py -> build/lib.macosx-10.9-universal2-3.11/numpy/distutils/fcompiler\n",
      "  \u001b[31m   \u001b[0m copying numpy/distutils/fcompiler/intel.py -> build/lib.macosx-10.9-universal2-3.11/numpy/distutils/fcompiler\n",
      "  \u001b[31m   \u001b[0m copying numpy/distutils/fcompiler/none.py -> build/lib.macosx-10.9-universal2-3.11/numpy/distutils/fcompiler\n",
      "  \u001b[31m   \u001b[0m copying numpy/distutils/fcompiler/nag.py -> build/lib.macosx-10.9-universal2-3.11/numpy/distutils/fcompiler\n",
      "  \u001b[31m   \u001b[0m copying numpy/distutils/fcompiler/pg.py -> build/lib.macosx-10.9-universal2-3.11/numpy/distutils/fcompiler\n",
      "  \u001b[31m   \u001b[0m copying numpy/distutils/fcompiler/ibm.py -> build/lib.macosx-10.9-universal2-3.11/numpy/distutils/fcompiler\n",
      "  \u001b[31m   \u001b[0m copying numpy/distutils/fcompiler/sun.py -> build/lib.macosx-10.9-universal2-3.11/numpy/distutils/fcompiler\n",
      "  \u001b[31m   \u001b[0m copying numpy/distutils/fcompiler/nv.py -> build/lib.macosx-10.9-universal2-3.11/numpy/distutils/fcompiler\n",
      "  \u001b[31m   \u001b[0m copying numpy/distutils/fcompiler/lahey.py -> build/lib.macosx-10.9-universal2-3.11/numpy/distutils/fcompiler\n",
      "  \u001b[31m   \u001b[0m copying numpy/distutils/fcompiler/__init__.py -> build/lib.macosx-10.9-universal2-3.11/numpy/distutils/fcompiler\n",
      "  \u001b[31m   \u001b[0m copying numpy/distutils/fcompiler/g95.py -> build/lib.macosx-10.9-universal2-3.11/numpy/distutils/fcompiler\n",
      "  \u001b[31m   \u001b[0m copying numpy/distutils/fcompiler/mips.py -> build/lib.macosx-10.9-universal2-3.11/numpy/distutils/fcompiler\n",
      "  \u001b[31m   \u001b[0m copying numpy/distutils/fcompiler/hpux.py -> build/lib.macosx-10.9-universal2-3.11/numpy/distutils/fcompiler\n",
      "  \u001b[31m   \u001b[0m copying numpy/distutils/fcompiler/environment.py -> build/lib.macosx-10.9-universal2-3.11/numpy/distutils/fcompiler\n",
      "  \u001b[31m   \u001b[0m copying numpy/distutils/fcompiler/pathf95.py -> build/lib.macosx-10.9-universal2-3.11/numpy/distutils/fcompiler\n",
      "  \u001b[31m   \u001b[0m copying numpy/distutils/fcompiler/absoft.py -> build/lib.macosx-10.9-universal2-3.11/numpy/distutils/fcompiler\n",
      "  \u001b[31m   \u001b[0m copying numpy/distutils/fcompiler/vast.py -> build/lib.macosx-10.9-universal2-3.11/numpy/distutils/fcompiler\n",
      "  \u001b[31m   \u001b[0m creating build/lib.macosx-10.9-universal2-3.11/numpy/distutils/tests\n",
      "  \u001b[31m   \u001b[0m copying numpy/distutils/tests/test_system_info.py -> build/lib.macosx-10.9-universal2-3.11/numpy/distutils/tests\n",
      "  \u001b[31m   \u001b[0m copying numpy/distutils/tests/test_mingw32ccompiler.py -> build/lib.macosx-10.9-universal2-3.11/numpy/distutils/tests\n",
      "  \u001b[31m   \u001b[0m copying numpy/distutils/tests/test_from_template.py -> build/lib.macosx-10.9-universal2-3.11/numpy/distutils/tests\n",
      "  \u001b[31m   \u001b[0m copying numpy/distutils/tests/__init__.py -> build/lib.macosx-10.9-universal2-3.11/numpy/distutils/tests\n",
      "  \u001b[31m   \u001b[0m copying numpy/distutils/tests/test_fcompiler_intel.py -> build/lib.macosx-10.9-universal2-3.11/numpy/distutils/tests\n",
      "  \u001b[31m   \u001b[0m copying numpy/distutils/tests/test_misc_util.py -> build/lib.macosx-10.9-universal2-3.11/numpy/distutils/tests\n",
      "  \u001b[31m   \u001b[0m copying numpy/distutils/tests/test_fcompiler.py -> build/lib.macosx-10.9-universal2-3.11/numpy/distutils/tests\n",
      "  \u001b[31m   \u001b[0m copying numpy/distutils/tests/test_shell_utils.py -> build/lib.macosx-10.9-universal2-3.11/numpy/distutils/tests\n",
      "  \u001b[31m   \u001b[0m copying numpy/distutils/tests/test_exec_command.py -> build/lib.macosx-10.9-universal2-3.11/numpy/distutils/tests\n",
      "  \u001b[31m   \u001b[0m copying numpy/distutils/tests/test_npy_pkg_config.py -> build/lib.macosx-10.9-universal2-3.11/numpy/distutils/tests\n",
      "  \u001b[31m   \u001b[0m copying numpy/distutils/tests/test_fcompiler_nagfor.py -> build/lib.macosx-10.9-universal2-3.11/numpy/distutils/tests\n",
      "  \u001b[31m   \u001b[0m copying numpy/distutils/tests/test_fcompiler_gnu.py -> build/lib.macosx-10.9-universal2-3.11/numpy/distutils/tests\n",
      "  \u001b[31m   \u001b[0m creating build/lib.macosx-10.9-universal2-3.11/numpy/doc\n",
      "  \u001b[31m   \u001b[0m copying numpy/doc/misc.py -> build/lib.macosx-10.9-universal2-3.11/numpy/doc\n",
      "  \u001b[31m   \u001b[0m copying numpy/doc/internals.py -> build/lib.macosx-10.9-universal2-3.11/numpy/doc\n",
      "  \u001b[31m   \u001b[0m copying numpy/doc/creation.py -> build/lib.macosx-10.9-universal2-3.11/numpy/doc\n",
      "  \u001b[31m   \u001b[0m copying numpy/doc/dispatch.py -> build/lib.macosx-10.9-universal2-3.11/numpy/doc\n",
      "  \u001b[31m   \u001b[0m copying numpy/doc/constants.py -> build/lib.macosx-10.9-universal2-3.11/numpy/doc\n",
      "  \u001b[31m   \u001b[0m copying numpy/doc/ufuncs.py -> build/lib.macosx-10.9-universal2-3.11/numpy/doc\n",
      "  \u001b[31m   \u001b[0m copying numpy/doc/__init__.py -> build/lib.macosx-10.9-universal2-3.11/numpy/doc\n",
      "  \u001b[31m   \u001b[0m copying numpy/doc/broadcasting.py -> build/lib.macosx-10.9-universal2-3.11/numpy/doc\n",
      "  \u001b[31m   \u001b[0m copying numpy/doc/basics.py -> build/lib.macosx-10.9-universal2-3.11/numpy/doc\n",
      "  \u001b[31m   \u001b[0m copying numpy/doc/subclassing.py -> build/lib.macosx-10.9-universal2-3.11/numpy/doc\n",
      "  \u001b[31m   \u001b[0m copying numpy/doc/indexing.py -> build/lib.macosx-10.9-universal2-3.11/numpy/doc\n",
      "  \u001b[31m   \u001b[0m copying numpy/doc/byteswapping.py -> build/lib.macosx-10.9-universal2-3.11/numpy/doc\n",
      "  \u001b[31m   \u001b[0m copying numpy/doc/structured_arrays.py -> build/lib.macosx-10.9-universal2-3.11/numpy/doc\n",
      "  \u001b[31m   \u001b[0m copying numpy/doc/glossary.py -> build/lib.macosx-10.9-universal2-3.11/numpy/doc\n",
      "  \u001b[31m   \u001b[0m creating build/lib.macosx-10.9-universal2-3.11/numpy/f2py\n",
      "  \u001b[31m   \u001b[0m copying numpy/f2py/cfuncs.py -> build/lib.macosx-10.9-universal2-3.11/numpy/f2py\n",
      "  \u001b[31m   \u001b[0m copying numpy/f2py/common_rules.py -> build/lib.macosx-10.9-universal2-3.11/numpy/f2py\n",
      "  \u001b[31m   \u001b[0m copying numpy/f2py/crackfortran.py -> build/lib.macosx-10.9-universal2-3.11/numpy/f2py\n",
      "  \u001b[31m   \u001b[0m copying numpy/f2py/cb_rules.py -> build/lib.macosx-10.9-universal2-3.11/numpy/f2py\n",
      "  \u001b[31m   \u001b[0m copying numpy/f2py/__init__.py -> build/lib.macosx-10.9-universal2-3.11/numpy/f2py\n",
      "  \u001b[31m   \u001b[0m copying numpy/f2py/rules.py -> build/lib.macosx-10.9-universal2-3.11/numpy/f2py\n",
      "  \u001b[31m   \u001b[0m copying numpy/f2py/f2py2e.py -> build/lib.macosx-10.9-universal2-3.11/numpy/f2py\n",
      "  \u001b[31m   \u001b[0m copying numpy/f2py/func2subr.py -> build/lib.macosx-10.9-universal2-3.11/numpy/f2py\n",
      "  \u001b[31m   \u001b[0m copying numpy/f2py/__version__.py -> build/lib.macosx-10.9-universal2-3.11/numpy/f2py\n",
      "  \u001b[31m   \u001b[0m copying numpy/f2py/diagnose.py -> build/lib.macosx-10.9-universal2-3.11/numpy/f2py\n",
      "  \u001b[31m   \u001b[0m copying numpy/f2py/setup.py -> build/lib.macosx-10.9-universal2-3.11/numpy/f2py\n",
      "  \u001b[31m   \u001b[0m copying numpy/f2py/capi_maps.py -> build/lib.macosx-10.9-universal2-3.11/numpy/f2py\n",
      "  \u001b[31m   \u001b[0m copying numpy/f2py/f90mod_rules.py -> build/lib.macosx-10.9-universal2-3.11/numpy/f2py\n",
      "  \u001b[31m   \u001b[0m copying numpy/f2py/f2py_testing.py -> build/lib.macosx-10.9-universal2-3.11/numpy/f2py\n",
      "  \u001b[31m   \u001b[0m copying numpy/f2py/use_rules.py -> build/lib.macosx-10.9-universal2-3.11/numpy/f2py\n",
      "  \u001b[31m   \u001b[0m copying numpy/f2py/auxfuncs.py -> build/lib.macosx-10.9-universal2-3.11/numpy/f2py\n",
      "  \u001b[31m   \u001b[0m copying numpy/f2py/__main__.py -> build/lib.macosx-10.9-universal2-3.11/numpy/f2py\n",
      "  \u001b[31m   \u001b[0m creating build/lib.macosx-10.9-universal2-3.11/numpy/f2py/tests\n",
      "  \u001b[31m   \u001b[0m copying numpy/f2py/tests/test_mixed.py -> build/lib.macosx-10.9-universal2-3.11/numpy/f2py/tests\n",
      "  \u001b[31m   \u001b[0m copying numpy/f2py/tests/test_return_logical.py -> build/lib.macosx-10.9-universal2-3.11/numpy/f2py/tests\n",
      "  \u001b[31m   \u001b[0m copying numpy/f2py/tests/test_assumed_shape.py -> build/lib.macosx-10.9-universal2-3.11/numpy/f2py/tests\n",
      "  \u001b[31m   \u001b[0m copying numpy/f2py/tests/test_common.py -> build/lib.macosx-10.9-universal2-3.11/numpy/f2py/tests\n",
      "  \u001b[31m   \u001b[0m copying numpy/f2py/tests/test_kind.py -> build/lib.macosx-10.9-universal2-3.11/numpy/f2py/tests\n",
      "  \u001b[31m   \u001b[0m copying numpy/f2py/tests/test_array_from_pyobj.py -> build/lib.macosx-10.9-universal2-3.11/numpy/f2py/tests\n",
      "  \u001b[31m   \u001b[0m copying numpy/f2py/tests/test_return_real.py -> build/lib.macosx-10.9-universal2-3.11/numpy/f2py/tests\n",
      "  \u001b[31m   \u001b[0m copying numpy/f2py/tests/util.py -> build/lib.macosx-10.9-universal2-3.11/numpy/f2py/tests\n",
      "  \u001b[31m   \u001b[0m copying numpy/f2py/tests/test_size.py -> build/lib.macosx-10.9-universal2-3.11/numpy/f2py/tests\n",
      "  \u001b[31m   \u001b[0m copying numpy/f2py/tests/test_callback.py -> build/lib.macosx-10.9-universal2-3.11/numpy/f2py/tests\n",
      "  \u001b[31m   \u001b[0m copying numpy/f2py/tests/test_string.py -> build/lib.macosx-10.9-universal2-3.11/numpy/f2py/tests\n",
      "  \u001b[31m   \u001b[0m copying numpy/f2py/tests/__init__.py -> build/lib.macosx-10.9-universal2-3.11/numpy/f2py/tests\n",
      "  \u001b[31m   \u001b[0m copying numpy/f2py/tests/test_quoted_character.py -> build/lib.macosx-10.9-universal2-3.11/numpy/f2py/tests\n",
      "  \u001b[31m   \u001b[0m copying numpy/f2py/tests/test_parameter.py -> build/lib.macosx-10.9-universal2-3.11/numpy/f2py/tests\n",
      "  \u001b[31m   \u001b[0m copying numpy/f2py/tests/test_semicolon_split.py -> build/lib.macosx-10.9-universal2-3.11/numpy/f2py/tests\n",
      "  \u001b[31m   \u001b[0m copying numpy/f2py/tests/test_compile_function.py -> build/lib.macosx-10.9-universal2-3.11/numpy/f2py/tests\n",
      "  \u001b[31m   \u001b[0m copying numpy/f2py/tests/test_block_docstring.py -> build/lib.macosx-10.9-universal2-3.11/numpy/f2py/tests\n",
      "  \u001b[31m   \u001b[0m copying numpy/f2py/tests/test_return_integer.py -> build/lib.macosx-10.9-universal2-3.11/numpy/f2py/tests\n",
      "  \u001b[31m   \u001b[0m copying numpy/f2py/tests/test_return_character.py -> build/lib.macosx-10.9-universal2-3.11/numpy/f2py/tests\n",
      "  \u001b[31m   \u001b[0m copying numpy/f2py/tests/test_return_complex.py -> build/lib.macosx-10.9-universal2-3.11/numpy/f2py/tests\n",
      "  \u001b[31m   \u001b[0m copying numpy/f2py/tests/test_crackfortran.py -> build/lib.macosx-10.9-universal2-3.11/numpy/f2py/tests\n",
      "  \u001b[31m   \u001b[0m copying numpy/f2py/tests/test_regression.py -> build/lib.macosx-10.9-universal2-3.11/numpy/f2py/tests\n",
      "  \u001b[31m   \u001b[0m creating build/lib.macosx-10.9-universal2-3.11/numpy/fft\n",
      "  \u001b[31m   \u001b[0m copying numpy/fft/__init__.py -> build/lib.macosx-10.9-universal2-3.11/numpy/fft\n",
      "  \u001b[31m   \u001b[0m copying numpy/fft/setup.py -> build/lib.macosx-10.9-universal2-3.11/numpy/fft\n",
      "  \u001b[31m   \u001b[0m copying numpy/fft/helper.py -> build/lib.macosx-10.9-universal2-3.11/numpy/fft\n",
      "  \u001b[31m   \u001b[0m copying numpy/fft/_pocketfft.py -> build/lib.macosx-10.9-universal2-3.11/numpy/fft\n",
      "  \u001b[31m   \u001b[0m creating build/lib.macosx-10.9-universal2-3.11/numpy/fft/tests\n",
      "  \u001b[31m   \u001b[0m copying numpy/fft/tests/test_pocketfft.py -> build/lib.macosx-10.9-universal2-3.11/numpy/fft/tests\n",
      "  \u001b[31m   \u001b[0m copying numpy/fft/tests/test_helper.py -> build/lib.macosx-10.9-universal2-3.11/numpy/fft/tests\n",
      "  \u001b[31m   \u001b[0m copying numpy/fft/tests/__init__.py -> build/lib.macosx-10.9-universal2-3.11/numpy/fft/tests\n",
      "  \u001b[31m   \u001b[0m creating build/lib.macosx-10.9-universal2-3.11/numpy/lib\n",
      "  \u001b[31m   \u001b[0m copying numpy/lib/_iotools.py -> build/lib.macosx-10.9-universal2-3.11/numpy/lib\n",
      "  \u001b[31m   \u001b[0m copying numpy/lib/mixins.py -> build/lib.macosx-10.9-universal2-3.11/numpy/lib\n",
      "  \u001b[31m   \u001b[0m copying numpy/lib/nanfunctions.py -> build/lib.macosx-10.9-universal2-3.11/numpy/lib\n",
      "  \u001b[31m   \u001b[0m copying numpy/lib/recfunctions.py -> build/lib.macosx-10.9-universal2-3.11/numpy/lib\n",
      "  \u001b[31m   \u001b[0m copying numpy/lib/histograms.py -> build/lib.macosx-10.9-universal2-3.11/numpy/lib\n",
      "  \u001b[31m   \u001b[0m copying numpy/lib/scimath.py -> build/lib.macosx-10.9-universal2-3.11/numpy/lib\n",
      "  \u001b[31m   \u001b[0m copying numpy/lib/_version.py -> build/lib.macosx-10.9-universal2-3.11/numpy/lib\n",
      "  \u001b[31m   \u001b[0m copying numpy/lib/user_array.py -> build/lib.macosx-10.9-universal2-3.11/numpy/lib\n",
      "  \u001b[31m   \u001b[0m copying numpy/lib/__init__.py -> build/lib.macosx-10.9-universal2-3.11/numpy/lib\n",
      "  \u001b[31m   \u001b[0m copying numpy/lib/format.py -> build/lib.macosx-10.9-universal2-3.11/numpy/lib\n",
      "  \u001b[31m   \u001b[0m copying numpy/lib/twodim_base.py -> build/lib.macosx-10.9-universal2-3.11/numpy/lib\n",
      "  \u001b[31m   \u001b[0m copying numpy/lib/financial.py -> build/lib.macosx-10.9-universal2-3.11/numpy/lib\n",
      "  \u001b[31m   \u001b[0m copying numpy/lib/index_tricks.py -> build/lib.macosx-10.9-universal2-3.11/numpy/lib\n",
      "  \u001b[31m   \u001b[0m copying numpy/lib/npyio.py -> build/lib.macosx-10.9-universal2-3.11/numpy/lib\n",
      "  \u001b[31m   \u001b[0m copying numpy/lib/shape_base.py -> build/lib.macosx-10.9-universal2-3.11/numpy/lib\n",
      "  \u001b[31m   \u001b[0m copying numpy/lib/setup.py -> build/lib.macosx-10.9-universal2-3.11/numpy/lib\n",
      "  \u001b[31m   \u001b[0m copying numpy/lib/stride_tricks.py -> build/lib.macosx-10.9-universal2-3.11/numpy/lib\n",
      "  \u001b[31m   \u001b[0m copying numpy/lib/utils.py -> build/lib.macosx-10.9-universal2-3.11/numpy/lib\n",
      "  \u001b[31m   \u001b[0m copying numpy/lib/arrayterator.py -> build/lib.macosx-10.9-universal2-3.11/numpy/lib\n",
      "  \u001b[31m   \u001b[0m copying numpy/lib/function_base.py -> build/lib.macosx-10.9-universal2-3.11/numpy/lib\n",
      "  \u001b[31m   \u001b[0m copying numpy/lib/arraysetops.py -> build/lib.macosx-10.9-universal2-3.11/numpy/lib\n",
      "  \u001b[31m   \u001b[0m copying numpy/lib/arraypad.py -> build/lib.macosx-10.9-universal2-3.11/numpy/lib\n",
      "  \u001b[31m   \u001b[0m copying numpy/lib/type_check.py -> build/lib.macosx-10.9-universal2-3.11/numpy/lib\n",
      "  \u001b[31m   \u001b[0m copying numpy/lib/polynomial.py -> build/lib.macosx-10.9-universal2-3.11/numpy/lib\n",
      "  \u001b[31m   \u001b[0m copying numpy/lib/_datasource.py -> build/lib.macosx-10.9-universal2-3.11/numpy/lib\n",
      "  \u001b[31m   \u001b[0m copying numpy/lib/ufunclike.py -> build/lib.macosx-10.9-universal2-3.11/numpy/lib\n",
      "  \u001b[31m   \u001b[0m creating build/lib.macosx-10.9-universal2-3.11/numpy/lib/tests\n",
      "  \u001b[31m   \u001b[0m copying numpy/lib/tests/test_type_check.py -> build/lib.macosx-10.9-universal2-3.11/numpy/lib/tests\n",
      "  \u001b[31m   \u001b[0m copying numpy/lib/tests/test_utils.py -> build/lib.macosx-10.9-universal2-3.11/numpy/lib/tests\n",
      "  \u001b[31m   \u001b[0m copying numpy/lib/tests/test_twodim_base.py -> build/lib.macosx-10.9-universal2-3.11/numpy/lib/tests\n",
      "  \u001b[31m   \u001b[0m copying numpy/lib/tests/test_polynomial.py -> build/lib.macosx-10.9-universal2-3.11/numpy/lib/tests\n",
      "  \u001b[31m   \u001b[0m copying numpy/lib/tests/test__iotools.py -> build/lib.macosx-10.9-universal2-3.11/numpy/lib/tests\n",
      "  \u001b[31m   \u001b[0m copying numpy/lib/tests/test_shape_base.py -> build/lib.macosx-10.9-universal2-3.11/numpy/lib/tests\n",
      "  \u001b[31m   \u001b[0m copying numpy/lib/tests/test_ufunclike.py -> build/lib.macosx-10.9-universal2-3.11/numpy/lib/tests\n",
      "  \u001b[31m   \u001b[0m copying numpy/lib/tests/test_index_tricks.py -> build/lib.macosx-10.9-universal2-3.11/numpy/lib/tests\n",
      "  \u001b[31m   \u001b[0m copying numpy/lib/tests/__init__.py -> build/lib.macosx-10.9-universal2-3.11/numpy/lib/tests\n",
      "  \u001b[31m   \u001b[0m copying numpy/lib/tests/test_arrayterator.py -> build/lib.macosx-10.9-universal2-3.11/numpy/lib/tests\n",
      "  \u001b[31m   \u001b[0m copying numpy/lib/tests/test__version.py -> build/lib.macosx-10.9-universal2-3.11/numpy/lib/tests\n",
      "  \u001b[31m   \u001b[0m copying numpy/lib/tests/test_io.py -> build/lib.macosx-10.9-universal2-3.11/numpy/lib/tests\n",
      "  \u001b[31m   \u001b[0m copying numpy/lib/tests/test_arraysetops.py -> build/lib.macosx-10.9-universal2-3.11/numpy/lib/tests\n",
      "  \u001b[31m   \u001b[0m copying numpy/lib/tests/test_function_base.py -> build/lib.macosx-10.9-universal2-3.11/numpy/lib/tests\n",
      "  \u001b[31m   \u001b[0m copying numpy/lib/tests/test_arraypad.py -> build/lib.macosx-10.9-universal2-3.11/numpy/lib/tests\n",
      "  \u001b[31m   \u001b[0m copying numpy/lib/tests/test_mixins.py -> build/lib.macosx-10.9-universal2-3.11/numpy/lib/tests\n",
      "  \u001b[31m   \u001b[0m copying numpy/lib/tests/test_packbits.py -> build/lib.macosx-10.9-universal2-3.11/numpy/lib/tests\n",
      "  \u001b[31m   \u001b[0m copying numpy/lib/tests/test__datasource.py -> build/lib.macosx-10.9-universal2-3.11/numpy/lib/tests\n",
      "  \u001b[31m   \u001b[0m copying numpy/lib/tests/test_stride_tricks.py -> build/lib.macosx-10.9-universal2-3.11/numpy/lib/tests\n",
      "  \u001b[31m   \u001b[0m copying numpy/lib/tests/test_financial.py -> build/lib.macosx-10.9-universal2-3.11/numpy/lib/tests\n",
      "  \u001b[31m   \u001b[0m copying numpy/lib/tests/test_recfunctions.py -> build/lib.macosx-10.9-universal2-3.11/numpy/lib/tests\n",
      "  \u001b[31m   \u001b[0m copying numpy/lib/tests/test_nanfunctions.py -> build/lib.macosx-10.9-universal2-3.11/numpy/lib/tests\n",
      "  \u001b[31m   \u001b[0m copying numpy/lib/tests/test_format.py -> build/lib.macosx-10.9-universal2-3.11/numpy/lib/tests\n",
      "  \u001b[31m   \u001b[0m copying numpy/lib/tests/test_histograms.py -> build/lib.macosx-10.9-universal2-3.11/numpy/lib/tests\n",
      "  \u001b[31m   \u001b[0m copying numpy/lib/tests/test_regression.py -> build/lib.macosx-10.9-universal2-3.11/numpy/lib/tests\n",
      "  \u001b[31m   \u001b[0m creating build/lib.macosx-10.9-universal2-3.11/numpy/linalg\n",
      "  \u001b[31m   \u001b[0m copying numpy/linalg/__init__.py -> build/lib.macosx-10.9-universal2-3.11/numpy/linalg\n",
      "  \u001b[31m   \u001b[0m copying numpy/linalg/setup.py -> build/lib.macosx-10.9-universal2-3.11/numpy/linalg\n",
      "  \u001b[31m   \u001b[0m copying numpy/linalg/linalg.py -> build/lib.macosx-10.9-universal2-3.11/numpy/linalg\n",
      "  \u001b[31m   \u001b[0m creating build/lib.macosx-10.9-universal2-3.11/numpy/linalg/tests\n",
      "  \u001b[31m   \u001b[0m copying numpy/linalg/tests/test_linalg.py -> build/lib.macosx-10.9-universal2-3.11/numpy/linalg/tests\n",
      "  \u001b[31m   \u001b[0m copying numpy/linalg/tests/test_deprecations.py -> build/lib.macosx-10.9-universal2-3.11/numpy/linalg/tests\n",
      "  \u001b[31m   \u001b[0m copying numpy/linalg/tests/__init__.py -> build/lib.macosx-10.9-universal2-3.11/numpy/linalg/tests\n",
      "  \u001b[31m   \u001b[0m copying numpy/linalg/tests/test_build.py -> build/lib.macosx-10.9-universal2-3.11/numpy/linalg/tests\n",
      "  \u001b[31m   \u001b[0m copying numpy/linalg/tests/test_regression.py -> build/lib.macosx-10.9-universal2-3.11/numpy/linalg/tests\n",
      "  \u001b[31m   \u001b[0m creating build/lib.macosx-10.9-universal2-3.11/numpy/ma\n",
      "  \u001b[31m   \u001b[0m copying numpy/ma/extras.py -> build/lib.macosx-10.9-universal2-3.11/numpy/ma\n",
      "  \u001b[31m   \u001b[0m copying numpy/ma/testutils.py -> build/lib.macosx-10.9-universal2-3.11/numpy/ma\n",
      "  \u001b[31m   \u001b[0m copying numpy/ma/__init__.py -> build/lib.macosx-10.9-universal2-3.11/numpy/ma\n",
      "  \u001b[31m   \u001b[0m copying numpy/ma/core.py -> build/lib.macosx-10.9-universal2-3.11/numpy/ma\n",
      "  \u001b[31m   \u001b[0m copying numpy/ma/bench.py -> build/lib.macosx-10.9-universal2-3.11/numpy/ma\n",
      "  \u001b[31m   \u001b[0m copying numpy/ma/setup.py -> build/lib.macosx-10.9-universal2-3.11/numpy/ma\n",
      "  \u001b[31m   \u001b[0m copying numpy/ma/timer_comparison.py -> build/lib.macosx-10.9-universal2-3.11/numpy/ma\n",
      "  \u001b[31m   \u001b[0m copying numpy/ma/mrecords.py -> build/lib.macosx-10.9-universal2-3.11/numpy/ma\n",
      "  \u001b[31m   \u001b[0m creating build/lib.macosx-10.9-universal2-3.11/numpy/ma/tests\n",
      "  \u001b[31m   \u001b[0m copying numpy/ma/tests/test_old_ma.py -> build/lib.macosx-10.9-universal2-3.11/numpy/ma/tests\n",
      "  \u001b[31m   \u001b[0m copying numpy/ma/tests/test_core.py -> build/lib.macosx-10.9-universal2-3.11/numpy/ma/tests\n",
      "  \u001b[31m   \u001b[0m copying numpy/ma/tests/test_deprecations.py -> build/lib.macosx-10.9-universal2-3.11/numpy/ma/tests\n",
      "  \u001b[31m   \u001b[0m copying numpy/ma/tests/__init__.py -> build/lib.macosx-10.9-universal2-3.11/numpy/ma/tests\n",
      "  \u001b[31m   \u001b[0m copying numpy/ma/tests/test_subclassing.py -> build/lib.macosx-10.9-universal2-3.11/numpy/ma/tests\n",
      "  \u001b[31m   \u001b[0m copying numpy/ma/tests/test_extras.py -> build/lib.macosx-10.9-universal2-3.11/numpy/ma/tests\n",
      "  \u001b[31m   \u001b[0m copying numpy/ma/tests/test_mrecords.py -> build/lib.macosx-10.9-universal2-3.11/numpy/ma/tests\n",
      "  \u001b[31m   \u001b[0m copying numpy/ma/tests/test_regression.py -> build/lib.macosx-10.9-universal2-3.11/numpy/ma/tests\n",
      "  \u001b[31m   \u001b[0m creating build/lib.macosx-10.9-universal2-3.11/numpy/matrixlib\n",
      "  \u001b[31m   \u001b[0m copying numpy/matrixlib/__init__.py -> build/lib.macosx-10.9-universal2-3.11/numpy/matrixlib\n",
      "  \u001b[31m   \u001b[0m copying numpy/matrixlib/setup.py -> build/lib.macosx-10.9-universal2-3.11/numpy/matrixlib\n",
      "  \u001b[31m   \u001b[0m copying numpy/matrixlib/defmatrix.py -> build/lib.macosx-10.9-universal2-3.11/numpy/matrixlib\n",
      "  \u001b[31m   \u001b[0m creating build/lib.macosx-10.9-universal2-3.11/numpy/matrixlib/tests\n",
      "  \u001b[31m   \u001b[0m copying numpy/matrixlib/tests/test_matrix_linalg.py -> build/lib.macosx-10.9-universal2-3.11/numpy/matrixlib/tests\n",
      "  \u001b[31m   \u001b[0m copying numpy/matrixlib/tests/test_defmatrix.py -> build/lib.macosx-10.9-universal2-3.11/numpy/matrixlib/tests\n",
      "  \u001b[31m   \u001b[0m copying numpy/matrixlib/tests/__init__.py -> build/lib.macosx-10.9-universal2-3.11/numpy/matrixlib/tests\n",
      "  \u001b[31m   \u001b[0m copying numpy/matrixlib/tests/test_interaction.py -> build/lib.macosx-10.9-universal2-3.11/numpy/matrixlib/tests\n",
      "  \u001b[31m   \u001b[0m copying numpy/matrixlib/tests/test_numeric.py -> build/lib.macosx-10.9-universal2-3.11/numpy/matrixlib/tests\n",
      "  \u001b[31m   \u001b[0m copying numpy/matrixlib/tests/test_masked_matrix.py -> build/lib.macosx-10.9-universal2-3.11/numpy/matrixlib/tests\n",
      "  \u001b[31m   \u001b[0m copying numpy/matrixlib/tests/test_multiarray.py -> build/lib.macosx-10.9-universal2-3.11/numpy/matrixlib/tests\n",
      "  \u001b[31m   \u001b[0m copying numpy/matrixlib/tests/test_regression.py -> build/lib.macosx-10.9-universal2-3.11/numpy/matrixlib/tests\n",
      "  \u001b[31m   \u001b[0m creating build/lib.macosx-10.9-universal2-3.11/numpy/polynomial\n",
      "  \u001b[31m   \u001b[0m copying numpy/polynomial/laguerre.py -> build/lib.macosx-10.9-universal2-3.11/numpy/polynomial\n",
      "  \u001b[31m   \u001b[0m copying numpy/polynomial/_polybase.py -> build/lib.macosx-10.9-universal2-3.11/numpy/polynomial\n",
      "  \u001b[31m   \u001b[0m copying numpy/polynomial/polyutils.py -> build/lib.macosx-10.9-universal2-3.11/numpy/polynomial\n",
      "  \u001b[31m   \u001b[0m copying numpy/polynomial/__init__.py -> build/lib.macosx-10.9-universal2-3.11/numpy/polynomial\n",
      "  \u001b[31m   \u001b[0m copying numpy/polynomial/setup.py -> build/lib.macosx-10.9-universal2-3.11/numpy/polynomial\n",
      "  \u001b[31m   \u001b[0m copying numpy/polynomial/hermite_e.py -> build/lib.macosx-10.9-universal2-3.11/numpy/polynomial\n",
      "  \u001b[31m   \u001b[0m copying numpy/polynomial/chebyshev.py -> build/lib.macosx-10.9-universal2-3.11/numpy/polynomial\n",
      "  \u001b[31m   \u001b[0m copying numpy/polynomial/polynomial.py -> build/lib.macosx-10.9-universal2-3.11/numpy/polynomial\n",
      "  \u001b[31m   \u001b[0m copying numpy/polynomial/legendre.py -> build/lib.macosx-10.9-universal2-3.11/numpy/polynomial\n",
      "  \u001b[31m   \u001b[0m copying numpy/polynomial/hermite.py -> build/lib.macosx-10.9-universal2-3.11/numpy/polynomial\n",
      "  \u001b[31m   \u001b[0m creating build/lib.macosx-10.9-universal2-3.11/numpy/polynomial/tests\n",
      "  \u001b[31m   \u001b[0m copying numpy/polynomial/tests/test_chebyshev.py -> build/lib.macosx-10.9-universal2-3.11/numpy/polynomial/tests\n",
      "  \u001b[31m   \u001b[0m copying numpy/polynomial/tests/test_hermite_e.py -> build/lib.macosx-10.9-universal2-3.11/numpy/polynomial/tests\n",
      "  \u001b[31m   \u001b[0m copying numpy/polynomial/tests/test_polynomial.py -> build/lib.macosx-10.9-universal2-3.11/numpy/polynomial/tests\n",
      "  \u001b[31m   \u001b[0m copying numpy/polynomial/tests/__init__.py -> build/lib.macosx-10.9-universal2-3.11/numpy/polynomial/tests\n",
      "  \u001b[31m   \u001b[0m copying numpy/polynomial/tests/test_laguerre.py -> build/lib.macosx-10.9-universal2-3.11/numpy/polynomial/tests\n",
      "  \u001b[31m   \u001b[0m copying numpy/polynomial/tests/test_legendre.py -> build/lib.macosx-10.9-universal2-3.11/numpy/polynomial/tests\n",
      "  \u001b[31m   \u001b[0m copying numpy/polynomial/tests/test_printing.py -> build/lib.macosx-10.9-universal2-3.11/numpy/polynomial/tests\n",
      "  \u001b[31m   \u001b[0m copying numpy/polynomial/tests/test_hermite.py -> build/lib.macosx-10.9-universal2-3.11/numpy/polynomial/tests\n",
      "  \u001b[31m   \u001b[0m copying numpy/polynomial/tests/test_classes.py -> build/lib.macosx-10.9-universal2-3.11/numpy/polynomial/tests\n",
      "  \u001b[31m   \u001b[0m copying numpy/polynomial/tests/test_polyutils.py -> build/lib.macosx-10.9-universal2-3.11/numpy/polynomial/tests\n",
      "  \u001b[31m   \u001b[0m creating build/lib.macosx-10.9-universal2-3.11/numpy/random\n",
      "  \u001b[31m   \u001b[0m copying numpy/random/_pickle.py -> build/lib.macosx-10.9-universal2-3.11/numpy/random\n",
      "  \u001b[31m   \u001b[0m copying numpy/random/__init__.py -> build/lib.macosx-10.9-universal2-3.11/numpy/random\n",
      "  \u001b[31m   \u001b[0m copying numpy/random/setup.py -> build/lib.macosx-10.9-universal2-3.11/numpy/random\n",
      "  \u001b[31m   \u001b[0m creating build/lib.macosx-10.9-universal2-3.11/numpy/random/tests\n",
      "  \u001b[31m   \u001b[0m copying numpy/random/tests/test_generator_mt19937.py -> build/lib.macosx-10.9-universal2-3.11/numpy/random/tests\n",
      "  \u001b[31m   \u001b[0m copying numpy/random/tests/test_randomstate.py -> build/lib.macosx-10.9-universal2-3.11/numpy/random/tests\n",
      "  \u001b[31m   \u001b[0m copying numpy/random/tests/test_direct.py -> build/lib.macosx-10.9-universal2-3.11/numpy/random/tests\n",
      "  \u001b[31m   \u001b[0m copying numpy/random/tests/test_extending.py -> build/lib.macosx-10.9-universal2-3.11/numpy/random/tests\n",
      "  \u001b[31m   \u001b[0m copying numpy/random/tests/__init__.py -> build/lib.macosx-10.9-universal2-3.11/numpy/random/tests\n",
      "  \u001b[31m   \u001b[0m copying numpy/random/tests/test_smoke.py -> build/lib.macosx-10.9-universal2-3.11/numpy/random/tests\n",
      "  \u001b[31m   \u001b[0m copying numpy/random/tests/test_randomstate_regression.py -> build/lib.macosx-10.9-universal2-3.11/numpy/random/tests\n",
      "  \u001b[31m   \u001b[0m copying numpy/random/tests/test_seed_sequence.py -> build/lib.macosx-10.9-universal2-3.11/numpy/random/tests\n",
      "  \u001b[31m   \u001b[0m copying numpy/random/tests/test_generator_mt19937_regressions.py -> build/lib.macosx-10.9-universal2-3.11/numpy/random/tests\n",
      "  \u001b[31m   \u001b[0m copying numpy/random/tests/test_random.py -> build/lib.macosx-10.9-universal2-3.11/numpy/random/tests\n",
      "  \u001b[31m   \u001b[0m copying numpy/random/tests/test_regression.py -> build/lib.macosx-10.9-universal2-3.11/numpy/random/tests\n",
      "  \u001b[31m   \u001b[0m creating build/lib.macosx-10.9-universal2-3.11/numpy/testing\n",
      "  \u001b[31m   \u001b[0m copying numpy/testing/__init__.py -> build/lib.macosx-10.9-universal2-3.11/numpy/testing\n",
      "  \u001b[31m   \u001b[0m copying numpy/testing/setup.py -> build/lib.macosx-10.9-universal2-3.11/numpy/testing\n",
      "  \u001b[31m   \u001b[0m copying numpy/testing/utils.py -> build/lib.macosx-10.9-universal2-3.11/numpy/testing\n",
      "  \u001b[31m   \u001b[0m copying numpy/testing/print_coercion_tables.py -> build/lib.macosx-10.9-universal2-3.11/numpy/testing\n",
      "  \u001b[31m   \u001b[0m creating build/lib.macosx-10.9-universal2-3.11/numpy/testing/_private\n",
      "  \u001b[31m   \u001b[0m copying numpy/testing/_private/nosetester.py -> build/lib.macosx-10.9-universal2-3.11/numpy/testing/_private\n",
      "  \u001b[31m   \u001b[0m copying numpy/testing/_private/__init__.py -> build/lib.macosx-10.9-universal2-3.11/numpy/testing/_private\n",
      "  \u001b[31m   \u001b[0m copying numpy/testing/_private/noseclasses.py -> build/lib.macosx-10.9-universal2-3.11/numpy/testing/_private\n",
      "  \u001b[31m   \u001b[0m copying numpy/testing/_private/utils.py -> build/lib.macosx-10.9-universal2-3.11/numpy/testing/_private\n",
      "  \u001b[31m   \u001b[0m copying numpy/testing/_private/parameterized.py -> build/lib.macosx-10.9-universal2-3.11/numpy/testing/_private\n",
      "  \u001b[31m   \u001b[0m copying numpy/testing/_private/decorators.py -> build/lib.macosx-10.9-universal2-3.11/numpy/testing/_private\n",
      "  \u001b[31m   \u001b[0m creating build/lib.macosx-10.9-universal2-3.11/numpy/testing/tests\n",
      "  \u001b[31m   \u001b[0m copying numpy/testing/tests/test_utils.py -> build/lib.macosx-10.9-universal2-3.11/numpy/testing/tests\n",
      "  \u001b[31m   \u001b[0m copying numpy/testing/tests/test_decorators.py -> build/lib.macosx-10.9-universal2-3.11/numpy/testing/tests\n",
      "  \u001b[31m   \u001b[0m copying numpy/testing/tests/__init__.py -> build/lib.macosx-10.9-universal2-3.11/numpy/testing/tests\n",
      "  \u001b[31m   \u001b[0m copying numpy/testing/tests/test_doctesting.py -> build/lib.macosx-10.9-universal2-3.11/numpy/testing/tests\n",
      "  \u001b[31m   \u001b[0m creating build/lib.macosx-10.9-universal2-3.11/numpy/tests\n",
      "  \u001b[31m   \u001b[0m copying numpy/tests/test_warnings.py -> build/lib.macosx-10.9-universal2-3.11/numpy/tests\n",
      "  \u001b[31m   \u001b[0m copying numpy/tests/test_matlib.py -> build/lib.macosx-10.9-universal2-3.11/numpy/tests\n",
      "  \u001b[31m   \u001b[0m copying numpy/tests/test_ctypeslib.py -> build/lib.macosx-10.9-universal2-3.11/numpy/tests\n",
      "  \u001b[31m   \u001b[0m copying numpy/tests/test_numpy_version.py -> build/lib.macosx-10.9-universal2-3.11/numpy/tests\n",
      "  \u001b[31m   \u001b[0m copying numpy/tests/__init__.py -> build/lib.macosx-10.9-universal2-3.11/numpy/tests\n",
      "  \u001b[31m   \u001b[0m copying numpy/tests/test_reloading.py -> build/lib.macosx-10.9-universal2-3.11/numpy/tests\n",
      "  \u001b[31m   \u001b[0m copying numpy/tests/test_public_api.py -> build/lib.macosx-10.9-universal2-3.11/numpy/tests\n",
      "  \u001b[31m   \u001b[0m copying numpy/tests/test_scripts.py -> build/lib.macosx-10.9-universal2-3.11/numpy/tests\n",
      "  \u001b[31m   \u001b[0m running build_clib\n",
      "  \u001b[31m   \u001b[0m customize UnixCCompiler\n",
      "  \u001b[31m   \u001b[0m customize UnixCCompiler using new_build_clib\n",
      "  \u001b[31m   \u001b[0m building 'npymath' library\n",
      "  \u001b[31m   \u001b[0m compiling C sources\n",
      "  \u001b[31m   \u001b[0m C compiler: clang -Wsign-compare -Wunreachable-code -fno-common -dynamic -DNDEBUG -g -fwrapv -O3 -Wall -arch arm64 -arch x86_64 -g\n",
      "  \u001b[31m   \u001b[0m \n",
      "  \u001b[31m   \u001b[0m creating build/temp.macosx-10.9-universal2-3.11\n",
      "  \u001b[31m   \u001b[0m creating build/temp.macosx-10.9-universal2-3.11/numpy\n",
      "  \u001b[31m   \u001b[0m creating build/temp.macosx-10.9-universal2-3.11/numpy/core\n",
      "  \u001b[31m   \u001b[0m creating build/temp.macosx-10.9-universal2-3.11/numpy/core/src\n",
      "  \u001b[31m   \u001b[0m creating build/temp.macosx-10.9-universal2-3.11/numpy/core/src/npymath\n",
      "  \u001b[31m   \u001b[0m creating build/temp.macosx-10.9-universal2-3.11/build\n",
      "  \u001b[31m   \u001b[0m creating build/temp.macosx-10.9-universal2-3.11/build/src.macosx-10.9-universal2-3.11\n",
      "  \u001b[31m   \u001b[0m creating build/temp.macosx-10.9-universal2-3.11/build/src.macosx-10.9-universal2-3.11/numpy\n",
      "  \u001b[31m   \u001b[0m creating build/temp.macosx-10.9-universal2-3.11/build/src.macosx-10.9-universal2-3.11/numpy/core\n",
      "  \u001b[31m   \u001b[0m creating build/temp.macosx-10.9-universal2-3.11/build/src.macosx-10.9-universal2-3.11/numpy/core/src\n",
      "  \u001b[31m   \u001b[0m creating build/temp.macosx-10.9-universal2-3.11/build/src.macosx-10.9-universal2-3.11/numpy/core/src/npymath\n",
      "  \u001b[31m   \u001b[0m compile options: '-Ibuild/src.macosx-10.9-universal2-3.11/numpy/core/src/npymath -Inumpy/core/include -Ibuild/src.macosx-10.9-universal2-3.11/numpy/core/include/numpy -Inumpy/core/src/common -Inumpy/core/src -Inumpy/core -Inumpy/core/src/npymath -Inumpy/core/src/multiarray -Inumpy/core/src/umath -Inumpy/core/src/npysort -I/Library/Frameworks/Python.framework/Versions/3.11/include/python3.11 -Ibuild/src.macosx-10.9-universal2-3.11/numpy/core/src/common -Ibuild/src.macosx-10.9-universal2-3.11/numpy/core/src/npymath -c'\n",
      "  \u001b[31m   \u001b[0m clang: numpy/core/src/npymath/npy_math.cclang: build/src.macosx-10.9-universal2-3.11/numpy/core/src/npymath/ieee754.c\n",
      "  \u001b[31m   \u001b[0m clang: build/src.macosx-10.9-universal2-3.11/numpy/core/src/npymath/npy_math_complex.c\n",
      "  \u001b[31m   \u001b[0m \n",
      "  \u001b[31m   \u001b[0m clang: numpy/core/src/npymath/halffloat.c\n",
      "  \u001b[31m   \u001b[0m xcrun: adding 4 object files to build/temp.macosx-10.9-universal2-3.11/libnpymath.a\n",
      "  \u001b[31m   \u001b[0m warning: /Library/Developer/CommandLineTools/usr/bin/ranlib: archive library: build/temp.macosx-10.9-universal2-3.11/libnpymath.a will be fat and ar(1) will not be able to operate on it\n",
      "  \u001b[31m   \u001b[0m ranlib:@ build/temp.macosx-10.9-universal2-3.11/libnpymath.a\n",
      "  \u001b[31m   \u001b[0m building 'npysort' library\n",
      "  \u001b[31m   \u001b[0m compiling C sources\n",
      "  \u001b[31m   \u001b[0m C compiler: clang -Wsign-compare -Wunreachable-code -fno-common -dynamic -DNDEBUG -g -fwrapv -O3 -Wall -arch arm64 -arch x86_64 -g\n",
      "  \u001b[31m   \u001b[0m \n",
      "  \u001b[31m   \u001b[0m creating build/temp.macosx-10.9-universal2-3.11/build/src.macosx-10.9-universal2-3.11/numpy/core/src/npysort\n",
      "  \u001b[31m   \u001b[0m compile options: '-Ibuild/src.macosx-10.9-universal2-3.11/numpy/core/src/common -Inumpy/core/include -Ibuild/src.macosx-10.9-universal2-3.11/numpy/core/include/numpy -Inumpy/core/src/common -Inumpy/core/src -Inumpy/core -Inumpy/core/src/npymath -Inumpy/core/src/multiarray -Inumpy/core/src/umath -Inumpy/core/src/npysort -I/Library/Frameworks/Python.framework/Versions/3.11/include/python3.11 -Ibuild/src.macosx-10.9-universal2-3.11/numpy/core/src/common -Ibuild/src.macosx-10.9-universal2-3.11/numpy/core/src/npymath -c'\n",
      "  \u001b[31m   \u001b[0m clang: build/src.macosx-10.9-universal2-3.11/numpy/core/src/npysort/quicksort.c\n",
      "  \u001b[31m   \u001b[0m clang: build/src.macosx-10.9-universal2-3.11/numpy/core/src/npysort/heapsort.cclang: build/src.macosx-10.9-universal2-3.11/numpy/core/src/npysort/radixsort.c\n",
      "  \u001b[31m   \u001b[0m clang: build/src.macosx-10.9-universal2-3.11/numpy/core/src/npysort/timsort.c\n",
      "  \u001b[31m   \u001b[0m clang: build/src.macosx-10.9-universal2-3.11/numpy/core/src/npysort/mergesort.c\n",
      "  \u001b[31m   \u001b[0m \n",
      "  \u001b[31m   \u001b[0m clang: build/src.macosx-10.9-universal2-3.11/numpy/core/src/npysort/binsearch.cclang: build/src.macosx-10.9-universal2-3.11/numpy/core/src/npysort/selection.c\n",
      "  \u001b[31m   \u001b[0m \n",
      "  \u001b[31m   \u001b[0m numpy/core/src/npysort/selection.c.src:328:9: warning: code will never be executed [-Wunreachable-code]\n",
      "  \u001b[31m   \u001b[0m         npy_intp k;\n",
      "  \u001b[31m   \u001b[0m         ^~~~~~~~~~~\n",
      "  \u001b[31m   \u001b[0m numpy/core/src/npysort/selection.c.src:326:14: note: silence by adding parentheses to mark code as explicitly dead\n",
      "  \u001b[31m   \u001b[0m     else if (0 && kth == num - 1) {\n",
      "  \u001b[31m   \u001b[0m              ^\n",
      "  \u001b[31m   \u001b[0m              /* DISABLES CODE */ ( )\n",
      "  \u001b[31m   \u001b[0m numpy/core/src/npysort/selection.c.src:328:9: warning: code will never be executed [-Wunreachable-code]\n",
      "  \u001b[31m   \u001b[0m         npy_intp k;\n",
      "  \u001b[31m   \u001b[0m         ^~~~~~~~~~~\n",
      "  \u001b[31m   \u001b[0m numpy/core/src/npysort/selection.c.src:326:14: note: silence by adding parentheses to mark code as explicitly dead\n",
      "  \u001b[31m   \u001b[0m     else if (0 && kth == num - 1) {\n",
      "  \u001b[31m   \u001b[0m              ^\n",
      "  \u001b[31m   \u001b[0m              /* DISABLES CODE */ ( )\n",
      "  \u001b[31m   \u001b[0m numpy/core/src/npysort/selection.c.src:328:9: warning: code will never be executed [-Wunreachable-code]\n",
      "  \u001b[31m   \u001b[0m         npy_intp k;\n",
      "  \u001b[31m   \u001b[0m         ^~~~~~~~~~~\n",
      "  \u001b[31m   \u001b[0m numpy/core/src/npysort/selection.c.src:326:14: note: silence by adding parentheses to mark code as explicitly dead\n",
      "  \u001b[31m   \u001b[0m     else if (0 && kth == num - 1) {\n",
      "  \u001b[31m   \u001b[0m              ^\n",
      "  \u001b[31m   \u001b[0m              /* DISABLES CODE */ ( )\n",
      "  \u001b[31m   \u001b[0m numpy/core/src/npysort/selection.c.src:328:9: warning: code will never be executed [-Wunreachable-code]\n",
      "  \u001b[31m   \u001b[0m         npy_intp k;\n",
      "  \u001b[31m   \u001b[0m         ^~~~~~~~~~~\n",
      "  \u001b[31m   \u001b[0m numpy/core/src/npysort/selection.c.src:326:14: note: silence by adding parentheses to mark code as explicitly dead\n",
      "  \u001b[31m   \u001b[0m     else if (0 && kth == num - 1) {\n",
      "  \u001b[31m   \u001b[0m              ^\n",
      "  \u001b[31m   \u001b[0m              /* DISABLES CODE */ ( )\n",
      "  \u001b[31m   \u001b[0m numpy/core/src/npysort/selection.c.src:328:9: warning: code will never be executed [-Wunreachable-code]\n",
      "  \u001b[31m   \u001b[0m         npy_intp k;\n",
      "  \u001b[31m   \u001b[0m         ^~~~~~~~~~~\n",
      "  \u001b[31m   \u001b[0m numpy/core/src/npysort/selection.c.src:326:14: note: silence by adding parentheses to mark code as explicitly dead\n",
      "  \u001b[31m   \u001b[0m     else if (0 && kth == num - 1) {\n",
      "  \u001b[31m   \u001b[0m              ^\n",
      "  \u001b[31m   \u001b[0m              /* DISABLES CODE */ ( )\n",
      "  \u001b[31m   \u001b[0m numpy/core/src/npysort/selection.c.src:328:9: warning: code will never be executed [-Wunreachable-code]\n",
      "  \u001b[31m   \u001b[0m         npy_intp k;\n",
      "  \u001b[31m   \u001b[0m         ^~~~~~~~~~~\n",
      "  \u001b[31m   \u001b[0m numpy/core/src/npysort/selection.c.src:326:14: note: silence by adding parentheses to mark code as explicitly dead\n",
      "  \u001b[31m   \u001b[0m     else if (0 && kth == num - 1) {\n",
      "  \u001b[31m   \u001b[0m              ^\n",
      "  \u001b[31m   \u001b[0m              /* DISABLES CODE */ ( )\n",
      "  \u001b[31m   \u001b[0m numpy/core/src/npysort/selection.c.src:328:9: warning: code will never be executed [-Wunreachable-code]\n",
      "  \u001b[31m   \u001b[0m         npy_intp k;\n",
      "  \u001b[31m   \u001b[0m         ^~~~~~~~~~~\n",
      "  \u001b[31m   \u001b[0m numpy/core/src/npysort/selection.c.src:326:14: note: silence by adding parentheses to mark code as explicitly dead\n",
      "  \u001b[31m   \u001b[0m     else if (0 && kth == num - 1) {\n",
      "  \u001b[31m   \u001b[0m              ^\n",
      "  \u001b[31m   \u001b[0m              /* DISABLES CODE */ ( )\n",
      "  \u001b[31m   \u001b[0m numpy/core/src/npysort/selection.c.src:328:9: warning: code will never be executed [-Wunreachable-code]\n",
      "  \u001b[31m   \u001b[0m         npy_intp k;\n",
      "  \u001b[31m   \u001b[0m         ^~~~~~~~~~~\n",
      "  \u001b[31m   \u001b[0m numpy/core/src/npysort/selection.c.src:326:14: note: silence by adding parentheses to mark code as explicitly dead\n",
      "  \u001b[31m   \u001b[0m     else if (0 && kth == num - 1) {\n",
      "  \u001b[31m   \u001b[0m              ^\n",
      "  \u001b[31m   \u001b[0m              /* DISABLES CODE */ ( )\n",
      "  \u001b[31m   \u001b[0m numpy/core/src/npysort/selection.c.src:328:9: warning: code will never be executed [-Wunreachable-code]\n",
      "  \u001b[31m   \u001b[0m         npy_intp k;\n",
      "  \u001b[31m   \u001b[0m         ^~~~~~~~~~~\n",
      "  \u001b[31m   \u001b[0m numpy/core/src/npysort/selection.c.src:326:14: note: silence by adding parentheses to mark code as explicitly dead\n",
      "  \u001b[31m   \u001b[0m     else if (0 && kth == num - 1) {\n",
      "  \u001b[31m   \u001b[0m              ^\n",
      "  \u001b[31m   \u001b[0m              /* DISABLES CODE */ ( )\n",
      "  \u001b[31m   \u001b[0m numpy/core/src/npysort/selection.c.src:328:9: warning: code will never be executed [-Wunreachable-code]\n",
      "  \u001b[31m   \u001b[0m         npy_intp k;\n",
      "  \u001b[31m   \u001b[0m         ^~~~~~~~~~~\n",
      "  \u001b[31m   \u001b[0m numpy/core/src/npysort/selection.c.src:326:14: note: silence by adding parentheses to mark code as explicitly dead\n",
      "  \u001b[31m   \u001b[0m     else if (0 && kth == num - 1) {\n",
      "  \u001b[31m   \u001b[0m              ^\n",
      "  \u001b[31m   \u001b[0m              /* DISABLES CODE */ ( )\n",
      "  \u001b[31m   \u001b[0m numpy/core/src/npysort/selection.c.src:328:9: warning: code will never be executed [-Wunreachable-code]\n",
      "  \u001b[31m   \u001b[0m         npy_intp k;\n",
      "  \u001b[31m   \u001b[0m         ^~~~~~~~~~~\n",
      "  \u001b[31m   \u001b[0m numpy/core/src/npysort/selection.c.src:326:14: note: silence by adding parentheses to mark code as explicitly dead\n",
      "  \u001b[31m   \u001b[0m     else if (0 && kth == num - 1) {\n",
      "  \u001b[31m   \u001b[0m              ^\n",
      "  \u001b[31m   \u001b[0m              /* DISABLES CODE */ ( )\n",
      "  \u001b[31m   \u001b[0m numpy/core/src/npysort/selection.c.src:328:9: warning: code will never be executed [-Wunreachable-code]\n",
      "  \u001b[31m   \u001b[0m         npy_intp k;\n",
      "  \u001b[31m   \u001b[0m         ^~~~~~~~~~~\n",
      "  \u001b[31m   \u001b[0m numpy/core/src/npysort/selection.c.src:326:14: note: silence by adding parentheses to mark code as explicitly dead\n",
      "  \u001b[31m   \u001b[0m     else if (0 && kth == num - 1) {\n",
      "  \u001b[31m   \u001b[0m              ^\n",
      "  \u001b[31m   \u001b[0m              /* DISABLES CODE */ ( )\n",
      "  \u001b[31m   \u001b[0m numpy/core/src/npysort/selection.c.src:328:9: warning: code will never be executed [-Wunreachable-code]\n",
      "  \u001b[31m   \u001b[0m         npy_intp k;\n",
      "  \u001b[31m   \u001b[0m         ^~~~~~~~~~~\n",
      "  \u001b[31m   \u001b[0m numpy/core/src/npysort/selection.c.src:326:14: note: silence by adding parentheses to mark code as explicitly dead\n",
      "  \u001b[31m   \u001b[0m     else if (0 && kth == num - 1) {\n",
      "  \u001b[31m   \u001b[0m              ^\n",
      "  \u001b[31m   \u001b[0m              /* DISABLES CODE */ ( )\n",
      "  \u001b[31m   \u001b[0m numpy/core/src/npysort/selection.c.src:328:9: warning: code will never be executed [-Wunreachable-code]\n",
      "  \u001b[31m   \u001b[0m         npy_intp k;\n",
      "  \u001b[31m   \u001b[0m         ^~~~~~~~~~~\n",
      "  \u001b[31m   \u001b[0m numpy/core/src/npysort/selection.c.src:326:14: note: silence by adding parentheses to mark code as explicitly dead\n",
      "  \u001b[31m   \u001b[0m     else if (0 && kth == num - 1) {\n",
      "  \u001b[31m   \u001b[0m              ^\n",
      "  \u001b[31m   \u001b[0m              /* DISABLES CODE */ ( )\n",
      "  \u001b[31m   \u001b[0m numpy/core/src/npysort/selection.c.src:328:9: warning: code will never be executed [-Wunreachable-code]\n",
      "  \u001b[31m   \u001b[0m         npy_intp k;\n",
      "  \u001b[31m   \u001b[0m         ^~~~~~~~~~~\n",
      "  \u001b[31m   \u001b[0m numpy/core/src/npysort/selection.c.src:326:14: note: silence by adding parentheses to mark code as explicitly dead\n",
      "  \u001b[31m   \u001b[0m     else if (0 && kth == num - 1) {\n",
      "  \u001b[31m   \u001b[0m              ^\n",
      "  \u001b[31m   \u001b[0m              /* DISABLES CODE */ ( )\n",
      "  \u001b[31m   \u001b[0m numpy/core/src/npysort/selection.c.src:328:9: warning: code will never be executed [-Wunreachable-code]\n",
      "  \u001b[31m   \u001b[0m         npy_intp k;\n",
      "  \u001b[31m   \u001b[0m         ^~~~~~~~~~~\n",
      "  \u001b[31m   \u001b[0m numpy/core/src/npysort/selection.c.src:326:14: note: silence by adding parentheses to mark code as explicitly dead\n",
      "  \u001b[31m   \u001b[0m     else if (0 && kth == num - 1) {\n",
      "  \u001b[31m   \u001b[0m              ^\n",
      "  \u001b[31m   \u001b[0m              /* DISABLES CODE */ ( )\n",
      "  \u001b[31m   \u001b[0m numpy/core/src/npysort/selection.c.src:328:9: warning: code will never be executed [-Wunreachable-code]\n",
      "  \u001b[31m   \u001b[0m         npy_intp k;\n",
      "  \u001b[31m   \u001b[0m         ^~~~~~~~~~~\n",
      "  \u001b[31m   \u001b[0m numpy/core/src/npysort/selection.c.src:326:14: note: silence by adding parentheses to mark code as explicitly dead\n",
      "  \u001b[31m   \u001b[0m     else if (0 && kth == num - 1) {\n",
      "  \u001b[31m   \u001b[0m              ^\n",
      "  \u001b[31m   \u001b[0m              /* DISABLES CODE */ ( )\n",
      "  \u001b[31m   \u001b[0m numpy/core/src/npysort/selection.c.src:328:9: warning: code will never be executed [-Wunreachable-code]\n",
      "  \u001b[31m   \u001b[0m         npy_intp k;\n",
      "  \u001b[31m   \u001b[0m         ^~~~~~~~~~~\n",
      "  \u001b[31m   \u001b[0m numpy/core/src/npysort/selection.c.src:326:14: note: silence by adding parentheses to mark code as explicitly dead\n",
      "  \u001b[31m   \u001b[0m     else if (0 && kth == num - 1) {\n",
      "  \u001b[31m   \u001b[0m              ^\n",
      "  \u001b[31m   \u001b[0m              /* DISABLES CODE */ ( )\n",
      "  \u001b[31m   \u001b[0m numpy/core/src/npysort/selection.c.src:328:9: warning: code will never be executed [-Wunreachable-code]\n",
      "  \u001b[31m   \u001b[0m         npy_intp k;\n",
      "  \u001b[31m   \u001b[0m         ^~~~~~~~~~~\n",
      "  \u001b[31m   \u001b[0m numpy/core/src/npysort/selection.c.src:326:14: note: silence by adding parentheses to mark code as explicitly dead\n",
      "  \u001b[31m   \u001b[0m     else if (0 && kth == num - 1) {\n",
      "  \u001b[31m   \u001b[0m              ^\n",
      "  \u001b[31m   \u001b[0m              /* DISABLES CODE */ ( )\n",
      "  \u001b[31m   \u001b[0m numpy/core/src/npysort/selection.c.src:328:9: warning: code will never be executed [-Wunreachable-code]\n",
      "  \u001b[31m   \u001b[0m         npy_intp k;\n",
      "  \u001b[31m   \u001b[0m         ^~~~~~~~~~~\n",
      "  \u001b[31m   \u001b[0m numpy/core/src/npysort/selection.c.src:326:14: note: silence by adding parentheses to mark code as explicitly dead\n",
      "  \u001b[31m   \u001b[0m     else if (0 && kth == num - 1) {\n",
      "  \u001b[31m   \u001b[0m              ^\n",
      "  \u001b[31m   \u001b[0m              /* DISABLES CODE */ ( )\n",
      "  \u001b[31m   \u001b[0m numpy/core/src/npysort/selection.c.src:328:9: warning: code will never be executed [-Wunreachable-code]\n",
      "  \u001b[31m   \u001b[0m         npy_intp k;\n",
      "  \u001b[31m   \u001b[0m         ^~~~~~~~~~~\n",
      "  \u001b[31m   \u001b[0m numpy/core/src/npysort/selection.c.src:326:14: note: silence by adding parentheses to mark code as explicitly dead\n",
      "  \u001b[31m   \u001b[0m     else if (0 && kth == num - 1) {\n",
      "  \u001b[31m   \u001b[0m              ^\n",
      "  \u001b[31m   \u001b[0m              /* DISABLES CODE */ ( )\n",
      "  \u001b[31m   \u001b[0m numpy/core/src/npysort/selection.c.src:328:9: warning: code will never be executed [-Wunreachable-code]\n",
      "  \u001b[31m   \u001b[0m         npy_intp k;\n",
      "  \u001b[31m   \u001b[0m         ^~~~~~~~~~~\n",
      "  \u001b[31m   \u001b[0m numpy/core/src/npysort/selection.c.src:326:14: note: silence by adding parentheses to mark code as explicitly dead\n",
      "  \u001b[31m   \u001b[0m     else if (0 && kth == num - 1) {\n",
      "  \u001b[31m   \u001b[0m              ^\n",
      "  \u001b[31m   \u001b[0m              /* DISABLES CODE */ ( )\n",
      "  \u001b[31m   \u001b[0m 22 warnings generated.\n",
      "  \u001b[31m   \u001b[0m numpy/core/src/npysort/selection.c.src:328:9: warning: code will never be executed [-Wunreachable-code]\n",
      "  \u001b[31m   \u001b[0m         npy_intp k;\n",
      "  \u001b[31m   \u001b[0m         ^~~~~~~~~~~\n",
      "  \u001b[31m   \u001b[0m numpy/core/src/npysort/selection.c.src:326:14: note: silence by adding parentheses to mark code as explicitly dead\n",
      "  \u001b[31m   \u001b[0m     else if (0 && kth == num - 1) {\n",
      "  \u001b[31m   \u001b[0m              ^\n",
      "  \u001b[31m   \u001b[0m              /* DISABLES CODE */ ( )\n",
      "  \u001b[31m   \u001b[0m numpy/core/src/npysort/selection.c.src:328:9: warning: code will never be executed [-Wunreachable-code]\n",
      "  \u001b[31m   \u001b[0m         npy_intp k;\n",
      "  \u001b[31m   \u001b[0m         ^~~~~~~~~~~\n",
      "  \u001b[31m   \u001b[0m numpy/core/src/npysort/selection.c.src:326:14: note: silence by adding parentheses to mark code as explicitly dead\n",
      "  \u001b[31m   \u001b[0m     else if (0 && kth == num - 1) {\n",
      "  \u001b[31m   \u001b[0m              ^\n",
      "  \u001b[31m   \u001b[0m              /* DISABLES CODE */ ( )\n",
      "  \u001b[31m   \u001b[0m numpy/core/src/npysort/selection.c.src:328:9: warning: code will never be executed [-Wunreachable-code]\n",
      "  \u001b[31m   \u001b[0m         npy_intp k;\n",
      "  \u001b[31m   \u001b[0m         ^~~~~~~~~~~\n",
      "  \u001b[31m   \u001b[0m numpy/core/src/npysort/selection.c.src:326:14: note: silence by adding parentheses to mark code as explicitly dead\n",
      "  \u001b[31m   \u001b[0m     else if (0 && kth == num - 1) {\n",
      "  \u001b[31m   \u001b[0m              ^\n",
      "  \u001b[31m   \u001b[0m              /* DISABLES CODE */ ( )\n",
      "  \u001b[31m   \u001b[0m numpy/core/src/npysort/selection.c.src:328:9: warning: code will never be executed [-Wunreachable-code]\n",
      "  \u001b[31m   \u001b[0m         npy_intp k;\n",
      "  \u001b[31m   \u001b[0m         ^~~~~~~~~~~\n",
      "  \u001b[31m   \u001b[0m numpy/core/src/npysort/selection.c.src:326:14: note: silence by adding parentheses to mark code as explicitly dead\n",
      "  \u001b[31m   \u001b[0m     else if (0 && kth == num - 1) {\n",
      "  \u001b[31m   \u001b[0m              ^\n",
      "  \u001b[31m   \u001b[0m              /* DISABLES CODE */ ( )\n",
      "  \u001b[31m   \u001b[0m numpy/core/src/npysort/selection.c.src:328:9: warning: code will never be executed [-Wunreachable-code]\n",
      "  \u001b[31m   \u001b[0m         npy_intp k;\n",
      "  \u001b[31m   \u001b[0m         ^~~~~~~~~~~\n",
      "  \u001b[31m   \u001b[0m numpy/core/src/npysort/selection.c.src:326:14: note: silence by adding parentheses to mark code as explicitly dead\n",
      "  \u001b[31m   \u001b[0m     else if (0 && kth == num - 1) {\n",
      "  \u001b[31m   \u001b[0m              ^\n",
      "  \u001b[31m   \u001b[0m              /* DISABLES CODE */ ( )\n",
      "  \u001b[31m   \u001b[0m numpy/core/src/npysort/selection.c.src:328:9: warning: code will never be executed [-Wunreachable-code]\n",
      "  \u001b[31m   \u001b[0m         npy_intp k;\n",
      "  \u001b[31m   \u001b[0m         ^~~~~~~~~~~\n",
      "  \u001b[31m   \u001b[0m numpy/core/src/npysort/selection.c.src:326:14: note: silence by adding parentheses to mark code as explicitly dead\n",
      "  \u001b[31m   \u001b[0m     else if (0 && kth == num - 1) {\n",
      "  \u001b[31m   \u001b[0m              ^\n",
      "  \u001b[31m   \u001b[0m              /* DISABLES CODE */ ( )\n",
      "  \u001b[31m   \u001b[0m numpy/core/src/npysort/selection.c.src:328:9: warning: code will never be executed [-Wunreachable-code]\n",
      "  \u001b[31m   \u001b[0m         npy_intp k;\n",
      "  \u001b[31m   \u001b[0m         ^~~~~~~~~~~\n",
      "  \u001b[31m   \u001b[0m numpy/core/src/npysort/selection.c.src:326:14: note: silence by adding parentheses to mark code as explicitly dead\n",
      "  \u001b[31m   \u001b[0m     else if (0 && kth == num - 1) {\n",
      "  \u001b[31m   \u001b[0m              ^\n",
      "  \u001b[31m   \u001b[0m              /* DISABLES CODE */ ( )\n",
      "  \u001b[31m   \u001b[0m numpy/core/src/npysort/selection.c.src:328:9: warning: code will never be executed [-Wunreachable-code]\n",
      "  \u001b[31m   \u001b[0m         npy_intp k;\n",
      "  \u001b[31m   \u001b[0m         ^~~~~~~~~~~\n",
      "  \u001b[31m   \u001b[0m numpy/core/src/npysort/selection.c.src:326:14: note: silence by adding parentheses to mark code as explicitly dead\n",
      "  \u001b[31m   \u001b[0m     else if (0 && kth == num - 1) {\n",
      "  \u001b[31m   \u001b[0m              ^\n",
      "  \u001b[31m   \u001b[0m              /* DISABLES CODE */ ( )\n",
      "  \u001b[31m   \u001b[0m numpy/core/src/npysort/selection.c.src:328:9: warning: code will never be executed [-Wunreachable-code]\n",
      "  \u001b[31m   \u001b[0m         npy_intp k;\n",
      "  \u001b[31m   \u001b[0m         ^~~~~~~~~~~\n",
      "  \u001b[31m   \u001b[0m numpy/core/src/npysort/selection.c.src:326:14: note: silence by adding parentheses to mark code as explicitly dead\n",
      "  \u001b[31m   \u001b[0m     else if (0 && kth == num - 1) {\n",
      "  \u001b[31m   \u001b[0m              ^\n",
      "  \u001b[31m   \u001b[0m              /* DISABLES CODE */ ( )\n",
      "  \u001b[31m   \u001b[0m numpy/core/src/npysort/selection.c.src:328:9: warning: code will never be executed [-Wunreachable-code]\n",
      "  \u001b[31m   \u001b[0m         npy_intp k;\n",
      "  \u001b[31m   \u001b[0m         ^~~~~~~~~~~\n",
      "  \u001b[31m   \u001b[0m numpy/core/src/npysort/selection.c.src:326:14: note: silence by adding parentheses to mark code as explicitly dead\n",
      "  \u001b[31m   \u001b[0m     else if (0 && kth == num - 1) {\n",
      "  \u001b[31m   \u001b[0m              ^\n",
      "  \u001b[31m   \u001b[0m              /* DISABLES CODE */ ( )\n",
      "  \u001b[31m   \u001b[0m numpy/core/src/npysort/selection.c.src:328:9: warning: code will never be executed [-Wunreachable-code]\n",
      "  \u001b[31m   \u001b[0m         npy_intp k;\n",
      "  \u001b[31m   \u001b[0m         ^~~~~~~~~~~\n",
      "  \u001b[31m   \u001b[0m numpy/core/src/npysort/selection.c.src:326:14: note: silence by adding parentheses to mark code as explicitly dead\n",
      "  \u001b[31m   \u001b[0m     else if (0 && kth == num - 1) {\n",
      "  \u001b[31m   \u001b[0m              ^\n",
      "  \u001b[31m   \u001b[0m              /* DISABLES CODE */ ( )\n",
      "  \u001b[31m   \u001b[0m numpy/core/src/npysort/selection.c.src:328:9: warning: code will never be executed [-Wunreachable-code]\n",
      "  \u001b[31m   \u001b[0m         npy_intp k;\n",
      "  \u001b[31m   \u001b[0m         ^~~~~~~~~~~\n",
      "  \u001b[31m   \u001b[0m numpy/core/src/npysort/selection.c.src:326:14: note: silence by adding parentheses to mark code as explicitly dead\n",
      "  \u001b[31m   \u001b[0m     else if (0 && kth == num - 1) {\n",
      "  \u001b[31m   \u001b[0m              ^\n",
      "  \u001b[31m   \u001b[0m              /* DISABLES CODE */ ( )\n",
      "  \u001b[31m   \u001b[0m numpy/core/src/npysort/selection.c.src:328:9: warning: code will never be executed [-Wunreachable-code]\n",
      "  \u001b[31m   \u001b[0m         npy_intp k;\n",
      "  \u001b[31m   \u001b[0m         ^~~~~~~~~~~\n",
      "  \u001b[31m   \u001b[0m numpy/core/src/npysort/selection.c.src:326:14: note: silence by adding parentheses to mark code as explicitly dead\n",
      "  \u001b[31m   \u001b[0m     else if (0 && kth == num - 1) {\n",
      "  \u001b[31m   \u001b[0m              ^\n",
      "  \u001b[31m   \u001b[0m              /* DISABLES CODE */ ( )\n",
      "  \u001b[31m   \u001b[0m numpy/core/src/npysort/selection.c.src:328:9: warning: code will never be executed [-Wunreachable-code]\n",
      "  \u001b[31m   \u001b[0m         npy_intp k;\n",
      "  \u001b[31m   \u001b[0m         ^~~~~~~~~~~\n",
      "  \u001b[31m   \u001b[0m numpy/core/src/npysort/selection.c.src:326:14: note: silence by adding parentheses to mark code as explicitly dead\n",
      "  \u001b[31m   \u001b[0m     else if (0 && kth == num - 1) {\n",
      "  \u001b[31m   \u001b[0m              ^\n",
      "  \u001b[31m   \u001b[0m              /* DISABLES CODE */ ( )\n",
      "  \u001b[31m   \u001b[0m numpy/core/src/npysort/selection.c.src:328:9: warning: code will never be executed [-Wunreachable-code]\n",
      "  \u001b[31m   \u001b[0m         npy_intp k;\n",
      "  \u001b[31m   \u001b[0m         ^~~~~~~~~~~\n",
      "  \u001b[31m   \u001b[0m numpy/core/src/npysort/selection.c.src:326:14: note: silence by adding parentheses to mark code as explicitly dead\n",
      "  \u001b[31m   \u001b[0m     else if (0 && kth == num - 1) {\n",
      "  \u001b[31m   \u001b[0m              ^\n",
      "  \u001b[31m   \u001b[0m              /* DISABLES CODE */ ( )\n",
      "  \u001b[31m   \u001b[0m numpy/core/src/npysort/selection.c.src:328:9: warning: code will never be executed [-Wunreachable-code]\n",
      "  \u001b[31m   \u001b[0m         npy_intp k;\n",
      "  \u001b[31m   \u001b[0m         ^~~~~~~~~~~\n",
      "  \u001b[31m   \u001b[0m numpy/core/src/npysort/selection.c.src:326:14: note: silence by adding parentheses to mark code as explicitly dead\n",
      "  \u001b[31m   \u001b[0m     else if (0 && kth == num - 1) {\n",
      "  \u001b[31m   \u001b[0m              ^\n",
      "  \u001b[31m   \u001b[0m              /* DISABLES CODE */ ( )\n",
      "  \u001b[31m   \u001b[0m numpy/core/src/npysort/selection.c.src:328:9: warning: code will never be executed [-Wunreachable-code]\n",
      "  \u001b[31m   \u001b[0m         npy_intp k;\n",
      "  \u001b[31m   \u001b[0m         ^~~~~~~~~~~\n",
      "  \u001b[31m   \u001b[0m numpy/core/src/npysort/selection.c.src:326:14: note: silence by adding parentheses to mark code as explicitly dead\n",
      "  \u001b[31m   \u001b[0m     else if (0 && kth == num - 1) {\n",
      "  \u001b[31m   \u001b[0m              ^\n",
      "  \u001b[31m   \u001b[0m              /* DISABLES CODE */ ( )\n",
      "  \u001b[31m   \u001b[0m numpy/core/src/npysort/selection.c.src:328:9: warning: code will never be executed [-Wunreachable-code]\n",
      "  \u001b[31m   \u001b[0m         npy_intp k;\n",
      "  \u001b[31m   \u001b[0m         ^~~~~~~~~~~\n",
      "  \u001b[31m   \u001b[0m numpy/core/src/npysort/selection.c.src:326:14: note: silence by adding parentheses to mark code as explicitly dead\n",
      "  \u001b[31m   \u001b[0m     else if (0 && kth == num - 1) {\n",
      "  \u001b[31m   \u001b[0m              ^\n",
      "  \u001b[31m   \u001b[0m              /* DISABLES CODE */ ( )\n",
      "  \u001b[31m   \u001b[0m numpy/core/src/npysort/selection.c.src:328:9: warning: code will never be executed [-Wunreachable-code]\n",
      "  \u001b[31m   \u001b[0m         npy_intp k;\n",
      "  \u001b[31m   \u001b[0m         ^~~~~~~~~~~\n",
      "  \u001b[31m   \u001b[0m numpy/core/src/npysort/selection.c.src:326:14: note: silence by adding parentheses to mark code as explicitly dead\n",
      "  \u001b[31m   \u001b[0m     else if (0 && kth == num - 1) {\n",
      "  \u001b[31m   \u001b[0m              ^\n",
      "  \u001b[31m   \u001b[0m              /* DISABLES CODE */ ( )\n",
      "  \u001b[31m   \u001b[0m numpy/core/src/npysort/selection.c.src:328:9: warning: code will never be executed [-Wunreachable-code]\n",
      "  \u001b[31m   \u001b[0m         npy_intp k;\n",
      "  \u001b[31m   \u001b[0m         ^~~~~~~~~~~\n",
      "  \u001b[31m   \u001b[0m numpy/core/src/npysort/selection.c.src:326:14: note: silence by adding parentheses to mark code as explicitly dead\n",
      "  \u001b[31m   \u001b[0m     else if (0 && kth == num - 1) {\n",
      "  \u001b[31m   \u001b[0m              ^\n",
      "  \u001b[31m   \u001b[0m              /* DISABLES CODE */ ( )\n",
      "  \u001b[31m   \u001b[0m numpy/core/src/npysort/selection.c.src:328:9: warning: code will never be executed [-Wunreachable-code]\n",
      "  \u001b[31m   \u001b[0m         npy_intp k;\n",
      "  \u001b[31m   \u001b[0m         ^~~~~~~~~~~\n",
      "  \u001b[31m   \u001b[0m numpy/core/src/npysort/selection.c.src:326:14: note: silence by adding parentheses to mark code as explicitly dead\n",
      "  \u001b[31m   \u001b[0m     else if (0 && kth == num - 1) {\n",
      "  \u001b[31m   \u001b[0m              ^\n",
      "  \u001b[31m   \u001b[0m              /* DISABLES CODE */ ( )\n",
      "  \u001b[31m   \u001b[0m numpy/core/src/npysort/selection.c.src:328:9: warning: code will never be executed [-Wunreachable-code]\n",
      "  \u001b[31m   \u001b[0m         npy_intp k;\n",
      "  \u001b[31m   \u001b[0m         ^~~~~~~~~~~\n",
      "  \u001b[31m   \u001b[0m numpy/core/src/npysort/selection.c.src:326:14: note: silence by adding parentheses to mark code as explicitly dead\n",
      "  \u001b[31m   \u001b[0m     else if (0 && kth == num - 1) {\n",
      "  \u001b[31m   \u001b[0m              ^\n",
      "  \u001b[31m   \u001b[0m              /* DISABLES CODE */ ( )\n",
      "  \u001b[31m   \u001b[0m 22 warnings generated.\n",
      "  \u001b[31m   \u001b[0m xcrun: adding 7 object files to build/temp.macosx-10.9-universal2-3.11/libnpysort.a\n",
      "  \u001b[31m   \u001b[0m warning: /Library/Developer/CommandLineTools/usr/bin/ranlib: archive library: build/temp.macosx-10.9-universal2-3.11/libnpysort.a will be fat and ar(1) will not be able to operate on it\n",
      "  \u001b[31m   \u001b[0m ranlib:@ build/temp.macosx-10.9-universal2-3.11/libnpysort.a\n",
      "  \u001b[31m   \u001b[0m building 'npyrandom' library\n",
      "  \u001b[31m   \u001b[0m compiling C sources\n",
      "  \u001b[31m   \u001b[0m C compiler: clang -Wsign-compare -Wunreachable-code -fno-common -dynamic -DNDEBUG -g -fwrapv -O3 -Wall -arch arm64 -arch x86_64 -g\n",
      "  \u001b[31m   \u001b[0m \n",
      "  \u001b[31m   \u001b[0m creating build/temp.macosx-10.9-universal2-3.11/numpy/random\n",
      "  \u001b[31m   \u001b[0m creating build/temp.macosx-10.9-universal2-3.11/numpy/random/src\n",
      "  \u001b[31m   \u001b[0m creating build/temp.macosx-10.9-universal2-3.11/numpy/random/src/distributions\n",
      "  \u001b[31m   \u001b[0m compile options: '-Inumpy/core/include -Ibuild/src.macosx-10.9-universal2-3.11/numpy/core/include/numpy -Inumpy/core/src/common -Inumpy/core/src -Inumpy/core -Inumpy/core/src/npymath -Inumpy/core/src/multiarray -Inumpy/core/src/umath -Inumpy/core/src/npysort -I/Library/Frameworks/Python.framework/Versions/3.11/include/python3.11 -Ibuild/src.macosx-10.9-universal2-3.11/numpy/core/src/common -Ibuild/src.macosx-10.9-universal2-3.11/numpy/core/src/npymath -c'\n",
      "  \u001b[31m   \u001b[0m clang: numpy/random/src/distributions/distributions.c\n",
      "  \u001b[31m   \u001b[0m clang: numpy/random/src/distributions/random_hypergeometric.cclang: numpy/random/src/distributions/random_mvhg_count.c\n",
      "  \u001b[31m   \u001b[0m clang: numpy/random/src/distributions/random_mvhg_marginals.c\n",
      "  \u001b[31m   \u001b[0m clang: numpy/random/src/distributions/logfactorial.c\n",
      "  \u001b[31m   \u001b[0m \n",
      "  \u001b[31m   \u001b[0m xcrun: adding 5 object files to build/temp.macosx-10.9-universal2-3.11/libnpyrandom.a\n",
      "  \u001b[31m   \u001b[0m warning: /Library/Developer/CommandLineTools/usr/bin/ranlib: archive library: build/temp.macosx-10.9-universal2-3.11/libnpyrandom.a will be fat and ar(1) will not be able to operate on it\n",
      "  \u001b[31m   \u001b[0m ranlib:@ build/temp.macosx-10.9-universal2-3.11/libnpyrandom.a\n",
      "  \u001b[31m   \u001b[0m running build_ext\n",
      "  \u001b[31m   \u001b[0m customize UnixCCompiler\n",
      "  \u001b[31m   \u001b[0m customize UnixCCompiler using new_build_ext\n",
      "  \u001b[31m   \u001b[0m building 'numpy.core._multiarray_tests' extension\n",
      "  \u001b[31m   \u001b[0m compiling C sources\n",
      "  \u001b[31m   \u001b[0m C compiler: clang -Wsign-compare -Wunreachable-code -fno-common -dynamic -DNDEBUG -g -fwrapv -O3 -Wall -arch arm64 -arch x86_64 -g\n",
      "  \u001b[31m   \u001b[0m \n",
      "  \u001b[31m   \u001b[0m creating build/temp.macosx-10.9-universal2-3.11/build/src.macosx-10.9-universal2-3.11/numpy/core/src/multiarray\n",
      "  \u001b[31m   \u001b[0m creating build/temp.macosx-10.9-universal2-3.11/numpy/core/src/common\n",
      "  \u001b[31m   \u001b[0m compile options: '-DNPY_INTERNAL_BUILD=1 -DHAVE_NPY_CONFIG_H=1 -D_FILE_OFFSET_BITS=64 -D_LARGEFILE_SOURCE=1 -D_LARGEFILE64_SOURCE=1 -Inumpy/core/include -Ibuild/src.macosx-10.9-universal2-3.11/numpy/core/include/numpy -Inumpy/core/src/common -Inumpy/core/src -Inumpy/core -Inumpy/core/src/npymath -Inumpy/core/src/multiarray -Inumpy/core/src/umath -Inumpy/core/src/npysort -I/Library/Frameworks/Python.framework/Versions/3.11/include/python3.11 -Ibuild/src.macosx-10.9-universal2-3.11/numpy/core/src/common -Ibuild/src.macosx-10.9-universal2-3.11/numpy/core/src/npymath -c'\n",
      "  \u001b[31m   \u001b[0m clang: build/src.macosx-10.9-universal2-3.11/numpy/core/src/multiarray/_multiarray_tests.cclang: numpy/core/src/common/mem_overlap.c\n",
      "  \u001b[31m   \u001b[0m \n",
      "  \u001b[31m   \u001b[0m clang -bundle -undefined dynamic_lookup -arch arm64 -arch x86_64 -g build/temp.macosx-10.9-universal2-3.11/build/src.macosx-10.9-universal2-3.11/numpy/core/src/multiarray/_multiarray_tests.o build/temp.macosx-10.9-universal2-3.11/numpy/core/src/common/mem_overlap.o -Lbuild/temp.macosx-10.9-universal2-3.11 -lnpymath -o build/lib.macosx-10.9-universal2-3.11/numpy/core/_multiarray_tests.cpython-311-darwin.so\n",
      "  \u001b[31m   \u001b[0m building 'numpy.core._multiarray_umath' extension\n",
      "  \u001b[31m   \u001b[0m compiling C sources\n",
      "  \u001b[31m   \u001b[0m C compiler: clang -Wsign-compare -Wunreachable-code -fno-common -dynamic -DNDEBUG -g -fwrapv -O3 -Wall -arch arm64 -arch x86_64 -g\n",
      "  \u001b[31m   \u001b[0m \n",
      "  \u001b[31m   \u001b[0m creating build/temp.macosx-10.9-universal2-3.11/numpy/core/src/multiarray\n",
      "  \u001b[31m   \u001b[0m creating build/temp.macosx-10.9-universal2-3.11/numpy/core/src/umath\n",
      "  \u001b[31m   \u001b[0m creating build/temp.macosx-10.9-universal2-3.11/build/src.macosx-10.9-universal2-3.11/numpy/core/src/umath\n",
      "  \u001b[31m   \u001b[0m creating build/temp.macosx-10.9-universal2-3.11/build/src.macosx-10.9-universal2-3.11/numpy/core/src/common\n",
      "  \u001b[31m   \u001b[0m creating build/temp.macosx-10.9-universal2-3.11/private\n",
      "  \u001b[31m   \u001b[0m creating build/temp.macosx-10.9-universal2-3.11/private/var\n",
      "  \u001b[31m   \u001b[0m creating build/temp.macosx-10.9-universal2-3.11/private/var/folders\n",
      "  \u001b[31m   \u001b[0m creating build/temp.macosx-10.9-universal2-3.11/private/var/folders/dy\n",
      "  \u001b[31m   \u001b[0m creating build/temp.macosx-10.9-universal2-3.11/private/var/folders/dy/crwmhrjj0cqbyz9960bfh8zm0000gn\n",
      "  \u001b[31m   \u001b[0m creating build/temp.macosx-10.9-universal2-3.11/private/var/folders/dy/crwmhrjj0cqbyz9960bfh8zm0000gn/T\n",
      "  \u001b[31m   \u001b[0m creating build/temp.macosx-10.9-universal2-3.11/private/var/folders/dy/crwmhrjj0cqbyz9960bfh8zm0000gn/T/pip-install-q_7ktrpo\n",
      "  \u001b[31m   \u001b[0m creating build/temp.macosx-10.9-universal2-3.11/private/var/folders/dy/crwmhrjj0cqbyz9960bfh8zm0000gn/T/pip-install-q_7ktrpo/numpy_0a8205bb73804bb981ee2c0c4f98037a\n",
      "  \u001b[31m   \u001b[0m creating build/temp.macosx-10.9-universal2-3.11/private/var/folders/dy/crwmhrjj0cqbyz9960bfh8zm0000gn/T/pip-install-q_7ktrpo/numpy_0a8205bb73804bb981ee2c0c4f98037a/numpy\n",
      "  \u001b[31m   \u001b[0m creating build/temp.macosx-10.9-universal2-3.11/private/var/folders/dy/crwmhrjj0cqbyz9960bfh8zm0000gn/T/pip-install-q_7ktrpo/numpy_0a8205bb73804bb981ee2c0c4f98037a/numpy/_build_utils\n",
      "  \u001b[31m   \u001b[0m creating build/temp.macosx-10.9-universal2-3.11/private/var/folders/dy/crwmhrjj0cqbyz9960bfh8zm0000gn/T/pip-install-q_7ktrpo/numpy_0a8205bb73804bb981ee2c0c4f98037a/numpy/_build_utils/src\n",
      "  \u001b[31m   \u001b[0m compile options: '-DNPY_INTERNAL_BUILD=1 -DHAVE_NPY_CONFIG_H=1 -D_FILE_OFFSET_BITS=64 -D_LARGEFILE_SOURCE=1 -D_LARGEFILE64_SOURCE=1 -DNO_ATLAS_INFO=3 -DHAVE_CBLAS -Ibuild/src.macosx-10.9-universal2-3.11/numpy/core/src/umath -Ibuild/src.macosx-10.9-universal2-3.11/numpy/core/src/npymath -Ibuild/src.macosx-10.9-universal2-3.11/numpy/core/src/common -Inumpy/core/include -Ibuild/src.macosx-10.9-universal2-3.11/numpy/core/include/numpy -Inumpy/core/src/common -Inumpy/core/src -Inumpy/core -Inumpy/core/src/npymath -Inumpy/core/src/multiarray -Inumpy/core/src/umath -Inumpy/core/src/npysort -I/Library/Frameworks/Python.framework/Versions/3.11/include/python3.11 -Ibuild/src.macosx-10.9-universal2-3.11/numpy/core/src/common -Ibuild/src.macosx-10.9-universal2-3.11/numpy/core/src/npymath -c'\n",
      "  \u001b[31m   \u001b[0m extra options: '-faltivec -I/System/Library/Frameworks/vecLib.framework/Headers'\n",
      "  \u001b[31m   \u001b[0m clang: numpy/core/src/multiarray/alloc.c\n",
      "  \u001b[31m   \u001b[0m clang: numpy/core/src/multiarray/array_assign_scalar.c\n",
      "  \u001b[31m   \u001b[0m clang: numpy/core/src/multiarray/buffer.c\n",
      "  \u001b[31m   \u001b[0m clang: numpy/core/src/multiarray/common.cclang: numpy/core/src/multiarray/conversion_utils.c\n",
      "  \u001b[31m   \u001b[0m clang: numpy/core/src/multiarray/datetime_strings.c\n",
      "  \u001b[31m   \u001b[0m \n",
      "  \u001b[31m   \u001b[0m clang: numpy/core/src/multiarray/descriptor.c\n",
      "  \u001b[31m   \u001b[0m clang: build/src.macosx-10.9-universal2-3.11/numpy/core/src/multiarray/einsum.c\n",
      "  \u001b[31m   \u001b[0m clang: error: the clang compiler does not support 'faltivec', please use -maltivec and include altivec.h explicitly\n",
      "  \u001b[31m   \u001b[0m clang: error: the clang compiler does not support 'faltivec', please use -maltivec and include altivec.h explicitly\n",
      "  \u001b[31m   \u001b[0m clang: error: the clang compiler does not support 'faltivec', please use -maltivec and include altivec.h explicitly\n",
      "  \u001b[31m   \u001b[0m clang: error: the clang compiler does not support 'faltivec', please use -maltivec and include altivec.h explicitly\n",
      "  \u001b[31m   \u001b[0m clang: numpy/core/src/multiarray/hashdescr.c\n",
      "  \u001b[31m   \u001b[0m clang: error: the clang compiler does not support 'faltivec', please use -maltivec and include altivec.h explicitly\n",
      "  \u001b[31m   \u001b[0m clang: error: the clang compiler does not support 'faltivec', please use -maltivec and include altivec.h explicitly\n",
      "  \u001b[31m   \u001b[0m clang: error: the clang compiler does not support 'faltivec', please use -maltivec and include altivec.h explicitly\n",
      "  \u001b[31m   \u001b[0m clang: error: the clang compiler does not support 'faltivec', please use -maltivec and include altivec.h explicitly\n",
      "  \u001b[31m   \u001b[0m clang: build/src.macosx-10.9-universal2-3.11/numpy/core/src/multiarray/lowlevel_strided_loops.c\n",
      "  \u001b[31m   \u001b[0m clang: numpy/core/src/multiarray/multiarraymodule.c\n",
      "  \u001b[31m   \u001b[0m clang: error: the clang compiler does not support 'faltivec', please use -maltivec and include altivec.h explicitly\n",
      "  \u001b[31m   \u001b[0m clang: error: the clang compiler does not support 'faltivec', please use -maltivec and include altivec.h explicitly\n",
      "  \u001b[31m   \u001b[0m clang: numpy/core/src/multiarray/nditer_constr.c\n",
      "  \u001b[31m   \u001b[0m clang: numpy/core/src/multiarray/refcount.cclang: error: the clang compiler does not support 'faltivec', please use -maltivec and include altivec.h explicitly\n",
      "  \u001b[31m   \u001b[0m clang: error: the clang compiler does not support 'faltivec', please use -maltivec and include altivec.h explicitly\n",
      "  \u001b[31m   \u001b[0m \n",
      "  \u001b[31m   \u001b[0m clang: error: the clang compiler does not support 'faltivec', please use -maltivec and include altivec.h explicitly\n",
      "  \u001b[31m   \u001b[0m clang: error: the clang compiler does not support 'faltivec', please use -maltivec and include altivec.h explicitly\n",
      "  \u001b[31m   \u001b[0m clang: numpy/core/src/multiarray/scalarapi.c\n",
      "  \u001b[31m   \u001b[0m clang: error: the clang compiler does not support 'faltivec', please use -maltivec and include altivec.h explicitly\n",
      "  \u001b[31m   \u001b[0m clang: error: the clang compiler does not support 'faltivec', please use -maltivec and include altivec.h explicitly\n",
      "  \u001b[31m   \u001b[0m clang: numpy/core/src/multiarray/vdot.c\n",
      "  \u001b[31m   \u001b[0m clang: numpy/core/src/multiarray/temp_elide.c\n",
      "  \u001b[31m   \u001b[0m clang: error: the clang compiler does not support 'faltivec', please use -maltivec and include altivec.h explicitly\n",
      "  \u001b[31m   \u001b[0m clang: error: the clang compiler does not support 'faltivec', please use -maltivec and include altivec.h explicitly\n",
      "  \u001b[31m   \u001b[0m clang: error: the clang compiler does not support 'faltivec', please use -maltivec and include altivec.h explicitly\n",
      "  \u001b[31m   \u001b[0m clang: error: the clang compiler does not support 'faltivec', please use -maltivec and include altivec.h explicitly\n",
      "  \u001b[31m   \u001b[0m clang: build/src.macosx-10.9-universal2-3.11/numpy/core/src/umath/loops.c\n",
      "  \u001b[31m   \u001b[0m clang: numpy/core/src/umath/ufunc_object.c\n",
      "  \u001b[31m   \u001b[0m clang: error: the clang compiler does not support 'faltivec', please use -maltivec and include altivec.h explicitly\n",
      "  \u001b[31m   \u001b[0m clang: error: the clang compiler does not support 'faltivec', please use -maltivec and include altivec.h explicitly\n",
      "  \u001b[31m   \u001b[0m clang: numpy/core/src/umath/ufunc_type_resolution.c\n",
      "  \u001b[31m   \u001b[0m clang: error: the clang compiler does not support 'faltivec', please use -maltivec and include altivec.h explicitly\n",
      "  \u001b[31m   \u001b[0m clang: error: the clang compiler does not support 'faltivec', please use -maltivec and include altivec.h explicitly\n",
      "  \u001b[31m   \u001b[0m clang: error: the clang compiler does not support 'faltivec', please use -maltivec and include altivec.h explicitly\n",
      "  \u001b[31m   \u001b[0m clang: error: the clang compiler does not support 'faltivec', please use -maltivec and include altivec.h explicitly\n",
      "  \u001b[31m   \u001b[0m clang: build/src.macosx-10.9-universal2-3.11/numpy/core/src/npymath/ieee754.c\n",
      "  \u001b[31m   \u001b[0m clang: error: the clang compiler does not support 'faltivec', please use -maltivec and include altivec.h explicitly\n",
      "  \u001b[31m   \u001b[0m clang: error: the clang compiler does not support 'faltivec', please use -maltivec and include altivec.h explicitly\n",
      "  \u001b[31m   \u001b[0m clang: numpy/core/src/common/array_assign.c\n",
      "  \u001b[31m   \u001b[0m clang: error: the clang compiler does not support 'faltivec', please use -maltivec and include altivec.h explicitly\n",
      "  \u001b[31m   \u001b[0m clang: error: the clang compiler does not support 'faltivec', please use -maltivec and include altivec.h explicitly\n",
      "  \u001b[31m   \u001b[0m clang: error: the clang compiler does not support 'faltivec', please use -maltivec and include altivec.h explicitly\n",
      "  \u001b[31m   \u001b[0m clang: error: the clang compiler does not support 'faltivec', please use -maltivec and include altivec.h explicitly\n",
      "  \u001b[31m   \u001b[0m clang: numpy/core/src/common/ucsnarrow.c\n",
      "  \u001b[31m   \u001b[0m clang: /private/var/folders/dy/crwmhrjj0cqbyz9960bfh8zm0000gn/T/pip-install-q_7ktrpo/numpy_0a8205bb73804bb981ee2c0c4f98037a/numpy/_build_utils/src/apple_sgemv_fix.c\n",
      "  \u001b[31m   \u001b[0m clang: build/src.macosx-10.9-universal2-3.11/numpy/core/src/common/npy_cpu_features.c\n",
      "  \u001b[31m   \u001b[0m clang: error: the clang compiler does not support 'faltivec', please use -maltivec and include altivec.h explicitly\n",
      "  \u001b[31m   \u001b[0m clang: error: the clang compiler does not support 'faltivec', please use -maltivec and include altivec.h explicitly\n",
      "  \u001b[31m   \u001b[0m clang: error: the clang compiler does not support 'faltivec', please use -maltivec and include altivec.h explicitly\n",
      "  \u001b[31m   \u001b[0m clang: error: the clang compiler does not support 'faltivec', please use -maltivec and include altivec.h explicitly\n",
      "  \u001b[31m   \u001b[0m clang: error: the clang compiler does not support 'faltivec', please use -maltivec and include altivec.h explicitly\n",
      "  \u001b[31m   \u001b[0m clang: error: the clang compiler does not support 'faltivec', please use -maltivec and include altivec.h explicitly\n",
      "  \u001b[31m   \u001b[0m clang: error: the clang compiler does not support 'faltivec', please use -maltivec and include altivec.h explicitly\n",
      "  \u001b[31m   \u001b[0m clang: error: the clang compiler does not support 'faltivec', please use -maltivec and include altivec.h explicitly\n",
      "  \u001b[31m   \u001b[0m clang: error: the clang compiler does not support 'faltivec', please use -maltivec and include altivec.h explicitly\n",
      "  \u001b[31m   \u001b[0m clang: error: the clang compiler does not support 'faltivec', please use -maltivec and include altivec.h explicitly\n",
      "  \u001b[31m   \u001b[0m clang: error: the clang compiler does not support 'faltivec', please use -maltivec and include altivec.h explicitly\n",
      "  \u001b[31m   \u001b[0m clang: error: the clang compiler does not support 'faltivec', please use -maltivec and include altivec.h explicitly\n",
      "  \u001b[31m   \u001b[0m clang: error: the clang compiler does not support 'faltivec', please use -maltivec and include altivec.h explicitly\n",
      "  \u001b[31m   \u001b[0m clang: error: the clang compiler does not support 'faltivec', please use -maltivec and include altivec.h explicitly\n",
      "  \u001b[31m   \u001b[0m clang: error: the clang compiler does not support 'faltivec', please use -maltivec and include altivec.h explicitly\n",
      "  \u001b[31m   \u001b[0m clang: error: the clang compiler does not support 'faltivec', please use -maltivec and include altivec.h explicitly\n",
      "  \u001b[31m   \u001b[0m error: Command \"clang -Wsign-compare -Wunreachable-code -fno-common -dynamic -DNDEBUG -g -fwrapv -O3 -Wall -arch arm64 -arch x86_64 -g -DNPY_INTERNAL_BUILD=1 -DHAVE_NPY_CONFIG_H=1 -D_FILE_OFFSET_BITS=64 -D_LARGEFILE_SOURCE=1 -D_LARGEFILE64_SOURCE=1 -DNO_ATLAS_INFO=3 -DHAVE_CBLAS -Ibuild/src.macosx-10.9-universal2-3.11/numpy/core/src/umath -Ibuild/src.macosx-10.9-universal2-3.11/numpy/core/src/npymath -Ibuild/src.macosx-10.9-universal2-3.11/numpy/core/src/common -Inumpy/core/include -Ibuild/src.macosx-10.9-universal2-3.11/numpy/core/include/numpy -Inumpy/core/src/common -Inumpy/core/src -Inumpy/core -Inumpy/core/src/npymath -Inumpy/core/src/multiarray -Inumpy/core/src/umath -Inumpy/core/src/npysort -I/Library/Frameworks/Python.framework/Versions/3.11/include/python3.11 -Ibuild/src.macosx-10.9-universal2-3.11/numpy/core/src/common -Ibuild/src.macosx-10.9-universal2-3.11/numpy/core/src/npymath -c numpy/core/src/multiarray/buffer.c -o build/temp.macosx-10.9-universal2-3.11/numpy/core/src/multiarray/buffer.o -MMD -MF build/temp.macosx-10.9-universal2-3.11/numpy/core/src/multiarray/buffer.o.d -faltivec -I/System/Library/Frameworks/vecLib.framework/Headers\" failed with exit status 1\n",
      "  \u001b[31m   \u001b[0m \u001b[31m[end of output]\u001b[0m\n",
      "  \n",
      "  \u001b[1;35mnote\u001b[0m: This error originates from a subprocess, and is likely not a problem with pip.\n",
      "\u001b[?25h\u001b[31m  ERROR: Failed building wheel for numpy\u001b[0m\u001b[31m\n",
      "\u001b[0mFailed to build numpy\n",
      "\u001b[31mERROR: ERROR: Failed to build installable wheels for some pyproject.toml based projects (numpy)\u001b[0m\u001b[31m\n",
      "\u001b[0m"
     ]
    }
   ],
   "source": [
    "!pip install numpy==1.19.5"
   ]
  },
  {
   "cell_type": "code",
   "execution_count": 4,
   "metadata": {
    "id": "d8qbJIQuPvmx",
    "pycharm": {
     "name": "#%%\n"
    }
   },
   "outputs": [
    {
     "name": "stderr",
     "output_type": "stream",
     "text": [
      "[NeMo W 2024-11-19 14:58:46 nemo_logging:393] /Library/Frameworks/Python.framework/Versions/3.11/lib/python3.11/site-packages/numpy/_core/_dtype.py:106: FutureWarning: In the future `np.bool` will be defined as the corresponding NumPy scalar.\n",
      "      if dtype.type == np.bool:\n",
      "    \n"
     ]
    },
    {
     "ename": "AttributeError",
     "evalue": "module 'numpy' has no attribute 'bool'.\n`np.bool` was a deprecated alias for the builtin `bool`. To avoid this error in existing code, use `bool` by itself. Doing this will not modify any behavior and is safe. If you specifically wanted the numpy scalar type, use `np.bool_` here.\nThe aliases was originally deprecated in NumPy 1.20; for more details and guidance see the original release note at:\n    https://numpy.org/devdocs/release/1.20.0-notes.html#deprecations",
     "output_type": "error",
     "traceback": [
      "\u001b[0;31m---------------------------------------------------------------------------\u001b[0m",
      "\u001b[0;31mAttributeError\u001b[0m                            Traceback (most recent call last)",
      "Cell \u001b[0;32mIn[4], line 2\u001b[0m\n\u001b[1;32m      1\u001b[0m \u001b[38;5;28;01mimport\u001b[39;00m \u001b[38;5;21;01mos\u001b[39;00m\n\u001b[0;32m----> 2\u001b[0m \u001b[38;5;28;01mfrom\u001b[39;00m \u001b[38;5;21;01mnemo\u001b[39;00m\u001b[38;5;21;01m.\u001b[39;00m\u001b[38;5;21;01mcollections\u001b[39;00m\u001b[38;5;21;01m.\u001b[39;00m\u001b[38;5;21;01mtts\u001b[39;00m\u001b[38;5;21;01m.\u001b[39;00m\u001b[38;5;21;01mg2p\u001b[39;00m\u001b[38;5;21;01m.\u001b[39;00m\u001b[38;5;21;01mmodels\u001b[39;00m\u001b[38;5;21;01m.\u001b[39;00m\u001b[38;5;21;01men_us_arpabet\u001b[39;00m \u001b[38;5;28;01mimport\u001b[39;00m EnglishG2p\n\u001b[1;32m      3\u001b[0m \u001b[38;5;28;01mfrom\u001b[39;00m \u001b[38;5;21;01mnemo\u001b[39;00m\u001b[38;5;21;01m.\u001b[39;00m\u001b[38;5;21;01mcollections\u001b[39;00m\u001b[38;5;21;01m.\u001b[39;00m\u001b[38;5;21;01mtts\u001b[39;00m\u001b[38;5;21;01m.\u001b[39;00m\u001b[38;5;21;01mg2p\u001b[39;00m\u001b[38;5;21;01m.\u001b[39;00m\u001b[38;5;21;01mmodels\u001b[39;00m\u001b[38;5;21;01m.\u001b[39;00m\u001b[38;5;21;01mi18n_ipa\u001b[39;00m \u001b[38;5;28;01mimport\u001b[39;00m IpaG2p\n\u001b[1;32m      5\u001b[0m ipa_dict_path \u001b[38;5;241m=\u001b[39m os\u001b[38;5;241m.\u001b[39mpath\u001b[38;5;241m.\u001b[39mjoin(NEMO_DIR, \u001b[38;5;124m\"\u001b[39m\u001b[38;5;124mscripts\u001b[39m\u001b[38;5;124m\"\u001b[39m, \u001b[38;5;124m\"\u001b[39m\u001b[38;5;124mtts_dataset_files\u001b[39m\u001b[38;5;124m\"\u001b[39m, \u001b[38;5;124m\"\u001b[39m\u001b[38;5;124mipa_cmudict-0.7b_nv23.01.txt\u001b[39m\u001b[38;5;124m\"\u001b[39m)\n",
      "File \u001b[0;32m/Library/Frameworks/Python.framework/Versions/3.11/lib/python3.11/site-packages/nemo/collections/tts/__init__.py:15\u001b[0m\n\u001b[1;32m      1\u001b[0m \u001b[38;5;66;03m# Copyright (c) 2023, NVIDIA CORPORATION & AFFILIATES.  All rights reserved.\u001b[39;00m\n\u001b[1;32m      2\u001b[0m \u001b[38;5;66;03m#\u001b[39;00m\n\u001b[1;32m      3\u001b[0m \u001b[38;5;66;03m# Licensed under the Apache License, Version 2.0 (the \"License\");\u001b[39;00m\n\u001b[0;32m   (...)\u001b[0m\n\u001b[1;32m     12\u001b[0m \u001b[38;5;66;03m# See the License for the specific language governing permissions and\u001b[39;00m\n\u001b[1;32m     13\u001b[0m \u001b[38;5;66;03m# limitations under the License.\u001b[39;00m\n\u001b[0;32m---> 15\u001b[0m \u001b[38;5;28;01mfrom\u001b[39;00m \u001b[38;5;21;01mnemo\u001b[39;00m\u001b[38;5;21;01m.\u001b[39;00m\u001b[38;5;21;01mcollections\u001b[39;00m\u001b[38;5;21;01m.\u001b[39;00m\u001b[38;5;21;01mtts\u001b[39;00m \u001b[38;5;28;01mimport\u001b[39;00m data, losses, models, modules\n\u001b[1;32m     16\u001b[0m \u001b[38;5;28;01mfrom\u001b[39;00m \u001b[38;5;21;01mnemo\u001b[39;00m\u001b[38;5;21;01m.\u001b[39;00m\u001b[38;5;21;01mpackage_info\u001b[39;00m \u001b[38;5;28;01mimport\u001b[39;00m __version__\n\u001b[1;32m     18\u001b[0m \u001b[38;5;66;03m# Set collection version equal to NeMo version.\u001b[39;00m\n",
      "File \u001b[0;32m/Library/Frameworks/Python.framework/Versions/3.11/lib/python3.11/site-packages/nemo/collections/tts/losses/__init__.py:15\u001b[0m\n\u001b[1;32m      1\u001b[0m \u001b[38;5;66;03m# Copyright (c) 2020, NVIDIA CORPORATION.  All rights reserved.\u001b[39;00m\n\u001b[1;32m      2\u001b[0m \u001b[38;5;66;03m#\u001b[39;00m\n\u001b[1;32m      3\u001b[0m \u001b[38;5;66;03m# Licensed under the Apache License, Version 2.0 (the \"License\");\u001b[39;00m\n\u001b[0;32m   (...)\u001b[0m\n\u001b[1;32m     12\u001b[0m \u001b[38;5;66;03m# See the License for the specific language governing permissions and\u001b[39;00m\n\u001b[1;32m     13\u001b[0m \u001b[38;5;66;03m# limitations under the License.\u001b[39;00m\n\u001b[0;32m---> 15\u001b[0m \u001b[38;5;28;01mimport\u001b[39;00m \u001b[38;5;21;01mnemo\u001b[39;00m\u001b[38;5;21;01m.\u001b[39;00m\u001b[38;5;21;01mcollections\u001b[39;00m\u001b[38;5;21;01m.\u001b[39;00m\u001b[38;5;21;01mtts\u001b[39;00m\u001b[38;5;21;01m.\u001b[39;00m\u001b[38;5;21;01mlosses\u001b[39;00m\u001b[38;5;21;01m.\u001b[39;00m\u001b[38;5;21;01mtacotron2loss\u001b[39;00m\n\u001b[1;32m     16\u001b[0m \u001b[38;5;28;01mimport\u001b[39;00m \u001b[38;5;21;01mnemo\u001b[39;00m\u001b[38;5;21;01m.\u001b[39;00m\u001b[38;5;21;01mcollections\u001b[39;00m\u001b[38;5;21;01m.\u001b[39;00m\u001b[38;5;21;01mtts\u001b[39;00m\u001b[38;5;21;01m.\u001b[39;00m\u001b[38;5;21;01mlosses\u001b[39;00m\u001b[38;5;21;01m.\u001b[39;00m\u001b[38;5;21;01mwaveglowloss\u001b[39;00m\n",
      "File \u001b[0;32m/Library/Frameworks/Python.framework/Versions/3.11/lib/python3.11/site-packages/nemo/collections/tts/losses/tacotron2loss.py:17\u001b[0m\n\u001b[1;32m      1\u001b[0m \u001b[38;5;66;03m# Copyright (c) 2020, NVIDIA CORPORATION.  All rights reserved.\u001b[39;00m\n\u001b[1;32m      2\u001b[0m \u001b[38;5;66;03m#\u001b[39;00m\n\u001b[1;32m      3\u001b[0m \u001b[38;5;66;03m# Licensed under the Apache License, Version 2.0 (the \"License\");\u001b[39;00m\n\u001b[0;32m   (...)\u001b[0m\n\u001b[1;32m     12\u001b[0m \u001b[38;5;66;03m# See the License for the specific language governing permissions and\u001b[39;00m\n\u001b[1;32m     13\u001b[0m \u001b[38;5;66;03m# limitations under the License.\u001b[39;00m\n\u001b[1;32m     15\u001b[0m \u001b[38;5;28;01mimport\u001b[39;00m \u001b[38;5;21;01mtorch\u001b[39;00m\n\u001b[0;32m---> 17\u001b[0m \u001b[38;5;28;01mfrom\u001b[39;00m \u001b[38;5;21;01mnemo\u001b[39;00m\u001b[38;5;21;01m.\u001b[39;00m\u001b[38;5;21;01mcollections\u001b[39;00m\u001b[38;5;21;01m.\u001b[39;00m\u001b[38;5;21;01mtts\u001b[39;00m\u001b[38;5;21;01m.\u001b[39;00m\u001b[38;5;21;01mparts\u001b[39;00m\u001b[38;5;21;01m.\u001b[39;00m\u001b[38;5;21;01mutils\u001b[39;00m\u001b[38;5;21;01m.\u001b[39;00m\u001b[38;5;21;01mhelpers\u001b[39;00m \u001b[38;5;28;01mimport\u001b[39;00m get_mask_from_lengths\n\u001b[1;32m     18\u001b[0m \u001b[38;5;28;01mfrom\u001b[39;00m \u001b[38;5;21;01mnemo\u001b[39;00m\u001b[38;5;21;01m.\u001b[39;00m\u001b[38;5;21;01mcore\u001b[39;00m\u001b[38;5;21;01m.\u001b[39;00m\u001b[38;5;21;01mclasses\u001b[39;00m \u001b[38;5;28;01mimport\u001b[39;00m Loss, typecheck\n\u001b[1;32m     19\u001b[0m \u001b[38;5;28;01mfrom\u001b[39;00m \u001b[38;5;21;01mnemo\u001b[39;00m\u001b[38;5;21;01m.\u001b[39;00m\u001b[38;5;21;01mcore\u001b[39;00m\u001b[38;5;21;01m.\u001b[39;00m\u001b[38;5;21;01mneural_types\u001b[39;00m\u001b[38;5;21;01m.\u001b[39;00m\u001b[38;5;21;01melements\u001b[39;00m \u001b[38;5;28;01mimport\u001b[39;00m LengthsType, LogitsType, LossType, MelSpectrogramType\n",
      "File \u001b[0;32m/Library/Frameworks/Python.framework/Versions/3.11/lib/python3.11/site-packages/nemo/collections/tts/parts/utils/helpers.py:56\u001b[0m\n\u001b[1;32m     53\u001b[0m \u001b[38;5;28;01mfrom\u001b[39;00m \u001b[38;5;21;01mnumba\u001b[39;00m \u001b[38;5;28;01mimport\u001b[39;00m jit, prange\n\u001b[1;32m     55\u001b[0m \u001b[38;5;28;01mfrom\u001b[39;00m \u001b[38;5;21;01mnemo\u001b[39;00m\u001b[38;5;21;01m.\u001b[39;00m\u001b[38;5;21;01mcollections\u001b[39;00m\u001b[38;5;21;01m.\u001b[39;00m\u001b[38;5;21;01mtts\u001b[39;00m\u001b[38;5;21;01m.\u001b[39;00m\u001b[38;5;21;01mtorch\u001b[39;00m\u001b[38;5;21;01m.\u001b[39;00m\u001b[38;5;21;01mtts_data_types\u001b[39;00m \u001b[38;5;28;01mimport\u001b[39;00m DATA_STR2DATA_CLASS, MAIN_DATA_TYPES, WithLens\n\u001b[0;32m---> 56\u001b[0m \u001b[38;5;28;01mfrom\u001b[39;00m \u001b[38;5;21;01mnemo\u001b[39;00m\u001b[38;5;21;01m.\u001b[39;00m\u001b[38;5;21;01mutils\u001b[39;00m \u001b[38;5;28;01mimport\u001b[39;00m logging\n\u001b[1;32m     57\u001b[0m \u001b[38;5;28;01mfrom\u001b[39;00m \u001b[38;5;21;01mnemo\u001b[39;00m\u001b[38;5;21;01m.\u001b[39;00m\u001b[38;5;21;01mutils\u001b[39;00m\u001b[38;5;21;01m.\u001b[39;00m\u001b[38;5;21;01mdecorators\u001b[39;00m \u001b[38;5;28;01mimport\u001b[39;00m deprecated\n\u001b[1;32m     59\u001b[0m HAVE_WANDB \u001b[38;5;241m=\u001b[39m \u001b[38;5;28;01mTrue\u001b[39;00m\n",
      "File \u001b[0;32m/Library/Frameworks/Python.framework/Versions/3.11/lib/python3.11/site-packages/nemo/utils/__init__.py:32\u001b[0m\n\u001b[1;32m     30\u001b[0m logging \u001b[38;5;241m=\u001b[39m _Logger()\n\u001b[1;32m     31\u001b[0m \u001b[38;5;28;01mtry\u001b[39;00m:\n\u001b[0;32m---> 32\u001b[0m     \u001b[38;5;28;01mfrom\u001b[39;00m \u001b[38;5;21;01mnemo\u001b[39;00m\u001b[38;5;21;01m.\u001b[39;00m\u001b[38;5;21;01mutils\u001b[39;00m\u001b[38;5;21;01m.\u001b[39;00m\u001b[38;5;21;01mlightning_logger_patch\u001b[39;00m \u001b[38;5;28;01mimport\u001b[39;00m add_memory_handlers_to_pl_logger\n\u001b[1;32m     34\u001b[0m     add_memory_handlers_to_pl_logger()\n\u001b[1;32m     35\u001b[0m \u001b[38;5;28;01mexcept\u001b[39;00m \u001b[38;5;167;01mModuleNotFoundError\u001b[39;00m:\n",
      "File \u001b[0;32m/Library/Frameworks/Python.framework/Versions/3.11/lib/python3.11/site-packages/nemo/utils/lightning_logger_patch.py:18\u001b[0m\n\u001b[1;32m     15\u001b[0m \u001b[38;5;28;01mimport\u001b[39;00m \u001b[38;5;21;01mlogging\u001b[39;00m \u001b[38;5;28;01mas\u001b[39;00m \u001b[38;5;21;01m_logging\u001b[39;00m\n\u001b[1;32m     16\u001b[0m \u001b[38;5;28;01mfrom\u001b[39;00m \u001b[38;5;21;01mlogging\u001b[39;00m\u001b[38;5;21;01m.\u001b[39;00m\u001b[38;5;21;01mhandlers\u001b[39;00m \u001b[38;5;28;01mimport\u001b[39;00m MemoryHandler\n\u001b[0;32m---> 18\u001b[0m \u001b[38;5;28;01mimport\u001b[39;00m \u001b[38;5;21;01mpytorch_lightning\u001b[39;00m \u001b[38;5;28;01mas\u001b[39;00m \u001b[38;5;21;01mpl\u001b[39;00m\n\u001b[1;32m     20\u001b[0m HANDLERS \u001b[38;5;241m=\u001b[39m {}\n\u001b[1;32m     21\u001b[0m PATCHED \u001b[38;5;241m=\u001b[39m \u001b[38;5;28;01mFalse\u001b[39;00m\n",
      "File \u001b[0;32m/Library/Frameworks/Python.framework/Versions/3.11/lib/python3.11/site-packages/pytorch_lightning/__init__.py:26\u001b[0m\n\u001b[1;32m     23\u001b[0m     _logger\u001b[38;5;241m.\u001b[39mpropagate \u001b[38;5;241m=\u001b[39m \u001b[38;5;28;01mFalse\u001b[39;00m\n\u001b[1;32m     25\u001b[0m \u001b[38;5;28;01mfrom\u001b[39;00m \u001b[38;5;21;01mlightning_fabric\u001b[39;00m\u001b[38;5;21;01m.\u001b[39;00m\u001b[38;5;21;01mutilities\u001b[39;00m\u001b[38;5;21;01m.\u001b[39;00m\u001b[38;5;21;01mseed\u001b[39;00m \u001b[38;5;28;01mimport\u001b[39;00m seed_everything  \u001b[38;5;66;03m# noqa: E402\u001b[39;00m\n\u001b[0;32m---> 26\u001b[0m \u001b[38;5;28;01mfrom\u001b[39;00m \u001b[38;5;21;01mpytorch_lightning\u001b[39;00m\u001b[38;5;21;01m.\u001b[39;00m\u001b[38;5;21;01mcallbacks\u001b[39;00m \u001b[38;5;28;01mimport\u001b[39;00m Callback  \u001b[38;5;66;03m# noqa: E402\u001b[39;00m\n\u001b[1;32m     27\u001b[0m \u001b[38;5;28;01mfrom\u001b[39;00m \u001b[38;5;21;01mpytorch_lightning\u001b[39;00m\u001b[38;5;21;01m.\u001b[39;00m\u001b[38;5;21;01mcore\u001b[39;00m \u001b[38;5;28;01mimport\u001b[39;00m LightningDataModule, LightningModule  \u001b[38;5;66;03m# noqa: E402\u001b[39;00m\n\u001b[1;32m     28\u001b[0m \u001b[38;5;28;01mfrom\u001b[39;00m \u001b[38;5;21;01mpytorch_lightning\u001b[39;00m\u001b[38;5;21;01m.\u001b[39;00m\u001b[38;5;21;01mtrainer\u001b[39;00m \u001b[38;5;28;01mimport\u001b[39;00m Trainer  \u001b[38;5;66;03m# noqa: E402\u001b[39;00m\n",
      "File \u001b[0;32m/Library/Frameworks/Python.framework/Versions/3.11/lib/python3.11/site-packages/pytorch_lightning/callbacks/__init__.py:14\u001b[0m\n\u001b[1;32m      1\u001b[0m \u001b[38;5;66;03m# Copyright The Lightning AI team.\u001b[39;00m\n\u001b[1;32m      2\u001b[0m \u001b[38;5;66;03m#\u001b[39;00m\n\u001b[1;32m      3\u001b[0m \u001b[38;5;66;03m# Licensed under the Apache License, Version 2.0 (the \"License\");\u001b[39;00m\n\u001b[0;32m   (...)\u001b[0m\n\u001b[1;32m     12\u001b[0m \u001b[38;5;66;03m# See the License for the specific language governing permissions and\u001b[39;00m\n\u001b[1;32m     13\u001b[0m \u001b[38;5;66;03m# limitations under the License.\u001b[39;00m\n\u001b[0;32m---> 14\u001b[0m \u001b[38;5;28;01mfrom\u001b[39;00m \u001b[38;5;21;01mpytorch_lightning\u001b[39;00m\u001b[38;5;21;01m.\u001b[39;00m\u001b[38;5;21;01mcallbacks\u001b[39;00m\u001b[38;5;21;01m.\u001b[39;00m\u001b[38;5;21;01mbatch_size_finder\u001b[39;00m \u001b[38;5;28;01mimport\u001b[39;00m BatchSizeFinder\n\u001b[1;32m     15\u001b[0m \u001b[38;5;28;01mfrom\u001b[39;00m \u001b[38;5;21;01mpytorch_lightning\u001b[39;00m\u001b[38;5;21;01m.\u001b[39;00m\u001b[38;5;21;01mcallbacks\u001b[39;00m\u001b[38;5;21;01m.\u001b[39;00m\u001b[38;5;21;01mcallback\u001b[39;00m \u001b[38;5;28;01mimport\u001b[39;00m Callback\n\u001b[1;32m     16\u001b[0m \u001b[38;5;28;01mfrom\u001b[39;00m \u001b[38;5;21;01mpytorch_lightning\u001b[39;00m\u001b[38;5;21;01m.\u001b[39;00m\u001b[38;5;21;01mcallbacks\u001b[39;00m\u001b[38;5;21;01m.\u001b[39;00m\u001b[38;5;21;01mcheckpoint\u001b[39;00m \u001b[38;5;28;01mimport\u001b[39;00m Checkpoint\n",
      "File \u001b[0;32m/Library/Frameworks/Python.framework/Versions/3.11/lib/python3.11/site-packages/pytorch_lightning/callbacks/batch_size_finder.py:24\u001b[0m\n\u001b[1;32m     21\u001b[0m \u001b[38;5;28;01mfrom\u001b[39;00m \u001b[38;5;21;01mtyping\u001b[39;00m \u001b[38;5;28;01mimport\u001b[39;00m Optional\n\u001b[1;32m     23\u001b[0m \u001b[38;5;28;01mimport\u001b[39;00m \u001b[38;5;21;01mpytorch_lightning\u001b[39;00m \u001b[38;5;28;01mas\u001b[39;00m \u001b[38;5;21;01mpl\u001b[39;00m\n\u001b[0;32m---> 24\u001b[0m \u001b[38;5;28;01mfrom\u001b[39;00m \u001b[38;5;21;01mpytorch_lightning\u001b[39;00m\u001b[38;5;21;01m.\u001b[39;00m\u001b[38;5;21;01mcallbacks\u001b[39;00m\u001b[38;5;21;01m.\u001b[39;00m\u001b[38;5;21;01mcallback\u001b[39;00m \u001b[38;5;28;01mimport\u001b[39;00m Callback\n\u001b[1;32m     25\u001b[0m \u001b[38;5;28;01mfrom\u001b[39;00m \u001b[38;5;21;01mpytorch_lightning\u001b[39;00m\u001b[38;5;21;01m.\u001b[39;00m\u001b[38;5;21;01mtuner\u001b[39;00m\u001b[38;5;21;01m.\u001b[39;00m\u001b[38;5;21;01mbatch_size_scaling\u001b[39;00m \u001b[38;5;28;01mimport\u001b[39;00m _scale_batch_size\n\u001b[1;32m     26\u001b[0m \u001b[38;5;28;01mfrom\u001b[39;00m \u001b[38;5;21;01mpytorch_lightning\u001b[39;00m\u001b[38;5;21;01m.\u001b[39;00m\u001b[38;5;21;01mutilities\u001b[39;00m\u001b[38;5;21;01m.\u001b[39;00m\u001b[38;5;21;01mexceptions\u001b[39;00m \u001b[38;5;28;01mimport\u001b[39;00m _TunerExitException, MisconfigurationException\n",
      "File \u001b[0;32m/Library/Frameworks/Python.framework/Versions/3.11/lib/python3.11/site-packages/pytorch_lightning/callbacks/callback.py:22\u001b[0m\n\u001b[1;32m     19\u001b[0m \u001b[38;5;28;01mfrom\u001b[39;00m \u001b[38;5;21;01mtorch\u001b[39;00m\u001b[38;5;21;01m.\u001b[39;00m\u001b[38;5;21;01moptim\u001b[39;00m \u001b[38;5;28;01mimport\u001b[39;00m Optimizer\n\u001b[1;32m     21\u001b[0m \u001b[38;5;28;01mimport\u001b[39;00m \u001b[38;5;21;01mpytorch_lightning\u001b[39;00m \u001b[38;5;28;01mas\u001b[39;00m \u001b[38;5;21;01mpl\u001b[39;00m\n\u001b[0;32m---> 22\u001b[0m \u001b[38;5;28;01mfrom\u001b[39;00m \u001b[38;5;21;01mpytorch_lightning\u001b[39;00m\u001b[38;5;21;01m.\u001b[39;00m\u001b[38;5;21;01mutilities\u001b[39;00m\u001b[38;5;21;01m.\u001b[39;00m\u001b[38;5;21;01mtypes\u001b[39;00m \u001b[38;5;28;01mimport\u001b[39;00m STEP_OUTPUT\n\u001b[1;32m     25\u001b[0m \u001b[38;5;28;01mclass\u001b[39;00m \u001b[38;5;21;01mCallback\u001b[39;00m:\n\u001b[1;32m     26\u001b[0m \u001b[38;5;250m    \u001b[39m\u001b[38;5;124mr\u001b[39m\u001b[38;5;124;03m\"\"\"Abstract base class used to build new callbacks.\u001b[39;00m\n\u001b[1;32m     27\u001b[0m \n\u001b[1;32m     28\u001b[0m \u001b[38;5;124;03m    Subclass this class and override any of the relevant hooks\u001b[39;00m\n\u001b[1;32m     29\u001b[0m \n\u001b[1;32m     30\u001b[0m \u001b[38;5;124;03m    \"\"\"\u001b[39;00m\n",
      "File \u001b[0;32m/Library/Frameworks/Python.framework/Versions/3.11/lib/python3.11/site-packages/pytorch_lightning/utilities/types.py:25\u001b[0m\n\u001b[1;32m     23\u001b[0m \u001b[38;5;28;01mimport\u001b[39;00m \u001b[38;5;21;01mtorch\u001b[39;00m\n\u001b[1;32m     24\u001b[0m \u001b[38;5;28;01mfrom\u001b[39;00m \u001b[38;5;21;01mtorch\u001b[39;00m \u001b[38;5;28;01mimport\u001b[39;00m Tensor\n\u001b[0;32m---> 25\u001b[0m \u001b[38;5;28;01mfrom\u001b[39;00m \u001b[38;5;21;01mtorchmetrics\u001b[39;00m \u001b[38;5;28;01mimport\u001b[39;00m Metric\n\u001b[1;32m     27\u001b[0m \u001b[38;5;28;01mfrom\u001b[39;00m \u001b[38;5;21;01mlightning_fabric\u001b[39;00m\u001b[38;5;21;01m.\u001b[39;00m\u001b[38;5;21;01mutilities\u001b[39;00m\u001b[38;5;21;01m.\u001b[39;00m\u001b[38;5;21;01mtypes\u001b[39;00m \u001b[38;5;28;01mimport\u001b[39;00m _TORCH_LRSCHEDULER, LRScheduler, ProcessGroup, ReduceLROnPlateau\n\u001b[1;32m     29\u001b[0m _NUMBER \u001b[38;5;241m=\u001b[39m Union[\u001b[38;5;28mint\u001b[39m, \u001b[38;5;28mfloat\u001b[39m]\n",
      "File \u001b[0;32m/Library/Frameworks/Python.framework/Versions/3.11/lib/python3.11/site-packages/torchmetrics/__init__.py:24\u001b[0m\n\u001b[1;32m     21\u001b[0m         PIL\u001b[38;5;241m.\u001b[39mPILLOW_VERSION \u001b[38;5;241m=\u001b[39m PIL\u001b[38;5;241m.\u001b[39m__version__\n\u001b[1;32m     23\u001b[0m \u001b[38;5;28;01mif\u001b[39;00m package_available(\u001b[38;5;124m\"\u001b[39m\u001b[38;5;124mscipy\u001b[39m\u001b[38;5;124m\"\u001b[39m):\n\u001b[0;32m---> 24\u001b[0m     \u001b[38;5;28;01mimport\u001b[39;00m \u001b[38;5;21;01mscipy\u001b[39;00m\u001b[38;5;21;01m.\u001b[39;00m\u001b[38;5;21;01msignal\u001b[39;00m\n\u001b[1;32m     26\u001b[0m     \u001b[38;5;66;03m# back compatibility patch due to SMRMpy using scipy.signal.hamming\u001b[39;00m\n\u001b[1;32m     27\u001b[0m     \u001b[38;5;28;01mif\u001b[39;00m \u001b[38;5;129;01mnot\u001b[39;00m \u001b[38;5;28mhasattr\u001b[39m(scipy\u001b[38;5;241m.\u001b[39msignal, \u001b[38;5;124m\"\u001b[39m\u001b[38;5;124mhamming\u001b[39m\u001b[38;5;124m\"\u001b[39m):\n",
      "File \u001b[0;32m/Library/Frameworks/Python.framework/Versions/3.11/lib/python3.11/site-packages/scipy/signal/__init__.py:320\u001b[0m\n\u001b[1;32m    310\u001b[0m \u001b[38;5;28;01mfrom\u001b[39;00m \u001b[38;5;21;01m.\u001b[39;00m\u001b[38;5;21;01m_upfirdn\u001b[39;00m \u001b[38;5;28;01mimport\u001b[39;00m upfirdn\n\u001b[1;32m    312\u001b[0m \u001b[38;5;28;01mfrom\u001b[39;00m \u001b[38;5;21;01m.\u001b[39;00m\u001b[38;5;21;01m_spline\u001b[39;00m \u001b[38;5;28;01mimport\u001b[39;00m (\n\u001b[1;32m    313\u001b[0m     cspline2d,\n\u001b[1;32m    314\u001b[0m     qspline2d,\n\u001b[0;32m   (...)\u001b[0m\n\u001b[1;32m    317\u001b[0m     symiirorder2,\n\u001b[1;32m    318\u001b[0m )\n\u001b[0;32m--> 320\u001b[0m \u001b[38;5;28;01mfrom\u001b[39;00m \u001b[38;5;21;01m.\u001b[39;00m\u001b[38;5;21;01m_bsplines\u001b[39;00m \u001b[38;5;28;01mimport\u001b[39;00m \u001b[38;5;241m*\u001b[39m\n\u001b[1;32m    321\u001b[0m \u001b[38;5;28;01mfrom\u001b[39;00m \u001b[38;5;21;01m.\u001b[39;00m\u001b[38;5;21;01m_filter_design\u001b[39;00m \u001b[38;5;28;01mimport\u001b[39;00m \u001b[38;5;241m*\u001b[39m\n\u001b[1;32m    322\u001b[0m \u001b[38;5;28;01mfrom\u001b[39;00m \u001b[38;5;21;01m.\u001b[39;00m\u001b[38;5;21;01m_fir_filter_design\u001b[39;00m \u001b[38;5;28;01mimport\u001b[39;00m \u001b[38;5;241m*\u001b[39m\n",
      "File \u001b[0;32m/Library/Frameworks/Python.framework/Versions/3.11/lib/python3.11/site-packages/scipy/signal/_bsplines.py:7\u001b[0m\n\u001b[1;32m      5\u001b[0m \u001b[38;5;66;03m# From splinemodule.c\u001b[39;00m\n\u001b[1;32m      6\u001b[0m \u001b[38;5;28;01mfrom\u001b[39;00m \u001b[38;5;21;01m.\u001b[39;00m\u001b[38;5;21;01m_spline\u001b[39;00m \u001b[38;5;28;01mimport\u001b[39;00m cspline2d, sepfir2d\n\u001b[0;32m----> 7\u001b[0m \u001b[38;5;28;01mfrom\u001b[39;00m \u001b[38;5;21;01m.\u001b[39;00m\u001b[38;5;21;01m_signaltools\u001b[39;00m \u001b[38;5;28;01mimport\u001b[39;00m lfilter, sosfilt, lfiltic\n\u001b[1;32m      9\u001b[0m \u001b[38;5;28;01mfrom\u001b[39;00m \u001b[38;5;21;01mscipy\u001b[39;00m\u001b[38;5;21;01m.\u001b[39;00m\u001b[38;5;21;01minterpolate\u001b[39;00m \u001b[38;5;28;01mimport\u001b[39;00m BSpline\n\u001b[1;32m     11\u001b[0m __all__ \u001b[38;5;241m=\u001b[39m [\u001b[38;5;124m'\u001b[39m\u001b[38;5;124mspline_filter\u001b[39m\u001b[38;5;124m'\u001b[39m, \u001b[38;5;124m'\u001b[39m\u001b[38;5;124mgauss_spline\u001b[39m\u001b[38;5;124m'\u001b[39m,\n\u001b[1;32m     12\u001b[0m            \u001b[38;5;124m'\u001b[39m\u001b[38;5;124mcspline1d\u001b[39m\u001b[38;5;124m'\u001b[39m, \u001b[38;5;124m'\u001b[39m\u001b[38;5;124mqspline1d\u001b[39m\u001b[38;5;124m'\u001b[39m, \u001b[38;5;124m'\u001b[39m\u001b[38;5;124mcspline1d_eval\u001b[39m\u001b[38;5;124m'\u001b[39m, \u001b[38;5;124m'\u001b[39m\u001b[38;5;124mqspline1d_eval\u001b[39m\u001b[38;5;124m'\u001b[39m]\n",
      "File \u001b[0;32m/Library/Frameworks/Python.framework/Versions/3.11/lib/python3.11/site-packages/scipy/signal/_signaltools.py:16\u001b[0m\n\u001b[1;32m     14\u001b[0m \u001b[38;5;28;01mfrom\u001b[39;00m \u001b[38;5;21;01mscipy\u001b[39;00m\u001b[38;5;21;01m.\u001b[39;00m\u001b[38;5;21;01mspatial\u001b[39;00m \u001b[38;5;28;01mimport\u001b[39;00m cKDTree\n\u001b[1;32m     15\u001b[0m \u001b[38;5;28;01mfrom\u001b[39;00m \u001b[38;5;21;01m.\u001b[39;00m \u001b[38;5;28;01mimport\u001b[39;00m _sigtools\n\u001b[0;32m---> 16\u001b[0m \u001b[38;5;28;01mfrom\u001b[39;00m \u001b[38;5;21;01m.\u001b[39;00m\u001b[38;5;21;01m_ltisys\u001b[39;00m \u001b[38;5;28;01mimport\u001b[39;00m dlti\n\u001b[1;32m     17\u001b[0m \u001b[38;5;28;01mfrom\u001b[39;00m \u001b[38;5;21;01m.\u001b[39;00m\u001b[38;5;21;01m_upfirdn\u001b[39;00m \u001b[38;5;28;01mimport\u001b[39;00m upfirdn, _output_len, _upfirdn_modes\n\u001b[1;32m     18\u001b[0m \u001b[38;5;28;01mfrom\u001b[39;00m \u001b[38;5;21;01mscipy\u001b[39;00m \u001b[38;5;28;01mimport\u001b[39;00m linalg, fft \u001b[38;5;28;01mas\u001b[39;00m sp_fft\n",
      "File \u001b[0;32m/Library/Frameworks/Python.framework/Versions/3.11/lib/python3.11/site-packages/scipy/signal/_ltisys.py:29\u001b[0m\n\u001b[1;32m     27\u001b[0m \u001b[38;5;28;01mfrom\u001b[39;00m \u001b[38;5;21;01mscipy\u001b[39;00m\u001b[38;5;21;01m.\u001b[39;00m\u001b[38;5;21;01mlinalg\u001b[39;00m \u001b[38;5;28;01mimport\u001b[39;00m qr \u001b[38;5;28;01mas\u001b[39;00m s_qr\n\u001b[1;32m     28\u001b[0m \u001b[38;5;28;01mfrom\u001b[39;00m \u001b[38;5;21;01mscipy\u001b[39;00m \u001b[38;5;28;01mimport\u001b[39;00m linalg\n\u001b[0;32m---> 29\u001b[0m \u001b[38;5;28;01mfrom\u001b[39;00m \u001b[38;5;21;01mscipy\u001b[39;00m\u001b[38;5;21;01m.\u001b[39;00m\u001b[38;5;21;01minterpolate\u001b[39;00m \u001b[38;5;28;01mimport\u001b[39;00m make_interp_spline\n\u001b[1;32m     30\u001b[0m \u001b[38;5;28;01mfrom\u001b[39;00m \u001b[38;5;21;01m.\u001b[39;00m\u001b[38;5;21;01m_filter_design\u001b[39;00m \u001b[38;5;28;01mimport\u001b[39;00m (tf2zpk, zpk2tf, normalize, freqs, freqz, freqs_zpk,\n\u001b[1;32m     31\u001b[0m                             freqz_zpk)\n\u001b[1;32m     32\u001b[0m \u001b[38;5;28;01mfrom\u001b[39;00m \u001b[38;5;21;01m.\u001b[39;00m\u001b[38;5;21;01m_lti_conversion\u001b[39;00m \u001b[38;5;28;01mimport\u001b[39;00m (tf2ss, abcd_normalize, ss2tf, zpk2ss, ss2zpk,\n\u001b[1;32m     33\u001b[0m                              cont2discrete, _atleast_2d_or_none)\n",
      "File \u001b[0;32m/Library/Frameworks/Python.framework/Versions/3.11/lib/python3.11/site-packages/scipy/interpolate/__init__.py:167\u001b[0m\n\u001b[1;32m      1\u001b[0m \u001b[38;5;124;03m\"\"\"\u001b[39;00m\n\u001b[1;32m      2\u001b[0m \u001b[38;5;124;03m========================================\u001b[39;00m\n\u001b[1;32m      3\u001b[0m \u001b[38;5;124;03mInterpolation (:mod:`scipy.interpolate`)\u001b[39;00m\n\u001b[0;32m   (...)\u001b[0m\n\u001b[1;32m    165\u001b[0m \u001b[38;5;124;03m(should not be used in new code).\u001b[39;00m\n\u001b[1;32m    166\u001b[0m \u001b[38;5;124;03m\"\"\"\u001b[39;00m\n\u001b[0;32m--> 167\u001b[0m \u001b[38;5;28;01mfrom\u001b[39;00m \u001b[38;5;21;01m.\u001b[39;00m\u001b[38;5;21;01m_interpolate\u001b[39;00m \u001b[38;5;28;01mimport\u001b[39;00m \u001b[38;5;241m*\u001b[39m\n\u001b[1;32m    168\u001b[0m \u001b[38;5;28;01mfrom\u001b[39;00m \u001b[38;5;21;01m.\u001b[39;00m\u001b[38;5;21;01m_fitpack_py\u001b[39;00m \u001b[38;5;28;01mimport\u001b[39;00m \u001b[38;5;241m*\u001b[39m\n\u001b[1;32m    170\u001b[0m \u001b[38;5;66;03m# New interface to fitpack library:\u001b[39;00m\n",
      "File \u001b[0;32m/Library/Frameworks/Python.framework/Versions/3.11/lib/python3.11/site-packages/scipy/interpolate/_interpolate.py:12\u001b[0m\n\u001b[1;32m      9\u001b[0m \u001b[38;5;28;01mfrom\u001b[39;00m \u001b[38;5;21;01mscipy\u001b[39;00m\u001b[38;5;21;01m.\u001b[39;00m\u001b[38;5;21;01m_lib\u001b[39;00m\u001b[38;5;21;01m.\u001b[39;00m\u001b[38;5;21;01m_util\u001b[39;00m \u001b[38;5;28;01mimport\u001b[39;00m copy_if_needed\n\u001b[1;32m     10\u001b[0m \u001b[38;5;28;01mfrom\u001b[39;00m \u001b[38;5;21;01mscipy\u001b[39;00m\u001b[38;5;21;01m.\u001b[39;00m\u001b[38;5;21;01mspecial\u001b[39;00m \u001b[38;5;28;01mimport\u001b[39;00m comb\n\u001b[0;32m---> 12\u001b[0m \u001b[38;5;28;01mfrom\u001b[39;00m \u001b[38;5;21;01m.\u001b[39;00m \u001b[38;5;28;01mimport\u001b[39;00m _fitpack_py\n\u001b[1;32m     13\u001b[0m \u001b[38;5;28;01mfrom\u001b[39;00m \u001b[38;5;21;01m.\u001b[39;00m\u001b[38;5;21;01m_polyint\u001b[39;00m \u001b[38;5;28;01mimport\u001b[39;00m _Interpolator1D\n\u001b[1;32m     14\u001b[0m \u001b[38;5;28;01mfrom\u001b[39;00m \u001b[38;5;21;01m.\u001b[39;00m \u001b[38;5;28;01mimport\u001b[39;00m _ppoly\n",
      "File \u001b[0;32m/Library/Frameworks/Python.framework/Versions/3.11/lib/python3.11/site-packages/scipy/interpolate/_fitpack_py.py:8\u001b[0m\n\u001b[1;32m      5\u001b[0m \u001b[38;5;28;01mimport\u001b[39;00m \u001b[38;5;21;01mnumpy\u001b[39;00m \u001b[38;5;28;01mas\u001b[39;00m \u001b[38;5;21;01mnp\u001b[39;00m\n\u001b[1;32m      7\u001b[0m \u001b[38;5;66;03m# These are in the API for fitpack even if not used in fitpack.py itself.\u001b[39;00m\n\u001b[0;32m----> 8\u001b[0m \u001b[38;5;28;01mfrom\u001b[39;00m \u001b[38;5;21;01m.\u001b[39;00m\u001b[38;5;21;01m_fitpack_impl\u001b[39;00m \u001b[38;5;28;01mimport\u001b[39;00m bisplrep, bisplev, dblint  \u001b[38;5;66;03m# noqa: F401\u001b[39;00m\n\u001b[1;32m      9\u001b[0m \u001b[38;5;28;01mfrom\u001b[39;00m \u001b[38;5;21;01m.\u001b[39;00m \u001b[38;5;28;01mimport\u001b[39;00m _fitpack_impl \u001b[38;5;28;01mas\u001b[39;00m _impl\n\u001b[1;32m     10\u001b[0m \u001b[38;5;28;01mfrom\u001b[39;00m \u001b[38;5;21;01m.\u001b[39;00m\u001b[38;5;21;01m_bsplines\u001b[39;00m \u001b[38;5;28;01mimport\u001b[39;00m BSpline\n",
      "File \u001b[0;32m/Library/Frameworks/Python.framework/Versions/3.11/lib/python3.11/site-packages/scipy/interpolate/_fitpack_impl.py:103\u001b[0m\n\u001b[1;32m     52\u001b[0m _iermess \u001b[38;5;241m=\u001b[39m {\n\u001b[1;32m     53\u001b[0m     \u001b[38;5;241m0\u001b[39m: [\u001b[38;5;124m\"\u001b[39m\u001b[38;5;124mThe spline has a residual sum of squares fp such that \u001b[39m\u001b[38;5;124m\"\u001b[39m\n\u001b[1;32m     54\u001b[0m         \u001b[38;5;124m\"\u001b[39m\u001b[38;5;124mabs(fp-s)/s<=0.001\u001b[39m\u001b[38;5;124m\"\u001b[39m, \u001b[38;5;28;01mNone\u001b[39;00m],\n\u001b[0;32m   (...)\u001b[0m\n\u001b[1;32m     68\u001b[0m     \u001b[38;5;124m'\u001b[39m\u001b[38;5;124munknown\u001b[39m\u001b[38;5;124m'\u001b[39m: [\u001b[38;5;124m\"\u001b[39m\u001b[38;5;124mAn error occurred\u001b[39m\u001b[38;5;124m\"\u001b[39m, \u001b[38;5;167;01mTypeError\u001b[39;00m]\n\u001b[1;32m     69\u001b[0m }\n\u001b[1;32m     71\u001b[0m _iermess2 \u001b[38;5;241m=\u001b[39m {\n\u001b[1;32m     72\u001b[0m     \u001b[38;5;241m0\u001b[39m: [\u001b[38;5;124m\"\u001b[39m\u001b[38;5;124mThe spline has a residual sum of squares fp such that \u001b[39m\u001b[38;5;124m\"\u001b[39m\n\u001b[1;32m     73\u001b[0m         \u001b[38;5;124m\"\u001b[39m\u001b[38;5;124mabs(fp-s)/s<=0.001\u001b[39m\u001b[38;5;124m\"\u001b[39m, \u001b[38;5;28;01mNone\u001b[39;00m],\n\u001b[0;32m   (...)\u001b[0m\n\u001b[1;32m     99\u001b[0m     \u001b[38;5;124m'\u001b[39m\u001b[38;5;124munknown\u001b[39m\u001b[38;5;124m'\u001b[39m: [\u001b[38;5;124m\"\u001b[39m\u001b[38;5;124mAn error occurred\u001b[39m\u001b[38;5;124m\"\u001b[39m, \u001b[38;5;167;01mTypeError\u001b[39;00m]\n\u001b[1;32m    100\u001b[0m }\n\u001b[1;32m    102\u001b[0m _parcur_cache \u001b[38;5;241m=\u001b[39m {\u001b[38;5;124m'\u001b[39m\u001b[38;5;124mt\u001b[39m\u001b[38;5;124m'\u001b[39m: array([], \u001b[38;5;28mfloat\u001b[39m), \u001b[38;5;124m'\u001b[39m\u001b[38;5;124mwrk\u001b[39m\u001b[38;5;124m'\u001b[39m: array([], \u001b[38;5;28mfloat\u001b[39m),\n\u001b[0;32m--> 103\u001b[0m                  \u001b[38;5;124m'\u001b[39m\u001b[38;5;124miwrk\u001b[39m\u001b[38;5;124m'\u001b[39m: \u001b[43marray\u001b[49m\u001b[43m(\u001b[49m\u001b[43m[\u001b[49m\u001b[43m]\u001b[49m\u001b[43m,\u001b[49m\u001b[43m \u001b[49m\u001b[43mdfitpack_int\u001b[49m\u001b[43m)\u001b[49m, \u001b[38;5;124m'\u001b[39m\u001b[38;5;124mu\u001b[39m\u001b[38;5;124m'\u001b[39m: array([], \u001b[38;5;28mfloat\u001b[39m),\n\u001b[1;32m    104\u001b[0m                  \u001b[38;5;124m'\u001b[39m\u001b[38;5;124mub\u001b[39m\u001b[38;5;124m'\u001b[39m: \u001b[38;5;241m0\u001b[39m, \u001b[38;5;124m'\u001b[39m\u001b[38;5;124mue\u001b[39m\u001b[38;5;124m'\u001b[39m: \u001b[38;5;241m1\u001b[39m}\n\u001b[1;32m    107\u001b[0m \u001b[38;5;28;01mdef\u001b[39;00m \u001b[38;5;21msplprep\u001b[39m(x, w\u001b[38;5;241m=\u001b[39m\u001b[38;5;28;01mNone\u001b[39;00m, u\u001b[38;5;241m=\u001b[39m\u001b[38;5;28;01mNone\u001b[39;00m, ub\u001b[38;5;241m=\u001b[39m\u001b[38;5;28;01mNone\u001b[39;00m, ue\u001b[38;5;241m=\u001b[39m\u001b[38;5;28;01mNone\u001b[39;00m, k\u001b[38;5;241m=\u001b[39m\u001b[38;5;241m3\u001b[39m, task\u001b[38;5;241m=\u001b[39m\u001b[38;5;241m0\u001b[39m, s\u001b[38;5;241m=\u001b[39m\u001b[38;5;28;01mNone\u001b[39;00m, t\u001b[38;5;241m=\u001b[39m\u001b[38;5;28;01mNone\u001b[39;00m,\n\u001b[1;32m    108\u001b[0m             full_output\u001b[38;5;241m=\u001b[39m\u001b[38;5;241m0\u001b[39m, nest\u001b[38;5;241m=\u001b[39m\u001b[38;5;28;01mNone\u001b[39;00m, per\u001b[38;5;241m=\u001b[39m\u001b[38;5;241m0\u001b[39m, quiet\u001b[38;5;241m=\u001b[39m\u001b[38;5;241m1\u001b[39m):\n\u001b[1;32m    109\u001b[0m     \u001b[38;5;66;03m# see the docstring of `_fitpack_py/splprep`\u001b[39;00m\n\u001b[1;32m    110\u001b[0m     \u001b[38;5;28;01mif\u001b[39;00m task \u001b[38;5;241m<\u001b[39m\u001b[38;5;241m=\u001b[39m \u001b[38;5;241m0\u001b[39m:\n",
      "File \u001b[0;32m/Library/Frameworks/Python.framework/Versions/3.11/lib/python3.11/site-packages/numpy/_core/_dtype.py:46\u001b[0m, in \u001b[0;36m__repr__\u001b[0;34m(dtype)\u001b[0m\n\u001b[1;32m     45\u001b[0m \u001b[38;5;28;01mdef\u001b[39;00m \u001b[38;5;21m__repr__\u001b[39m(dtype):\n\u001b[0;32m---> 46\u001b[0m     arg_str \u001b[38;5;241m=\u001b[39m \u001b[43m_construction_repr\u001b[49m\u001b[43m(\u001b[49m\u001b[43mdtype\u001b[49m\u001b[43m,\u001b[49m\u001b[43m \u001b[49m\u001b[43minclude_align\u001b[49m\u001b[38;5;241;43m=\u001b[39;49m\u001b[38;5;28;43;01mFalse\u001b[39;49;00m\u001b[43m)\u001b[49m\n\u001b[1;32m     47\u001b[0m     \u001b[38;5;28;01mif\u001b[39;00m dtype\u001b[38;5;241m.\u001b[39misalignedstruct:\n\u001b[1;32m     48\u001b[0m         arg_str \u001b[38;5;241m=\u001b[39m arg_str \u001b[38;5;241m+\u001b[39m \u001b[38;5;124m\"\u001b[39m\u001b[38;5;124m, align=True\u001b[39m\u001b[38;5;124m\"\u001b[39m\n",
      "File \u001b[0;32m/Library/Frameworks/Python.framework/Versions/3.11/lib/python3.11/site-packages/numpy/_core/_dtype.py:100\u001b[0m, in \u001b[0;36m_construction_repr\u001b[0;34m(dtype, include_align, short)\u001b[0m\n\u001b[1;32m     98\u001b[0m     \u001b[38;5;28;01mreturn\u001b[39;00m _subarray_str(dtype)\n\u001b[1;32m     99\u001b[0m \u001b[38;5;28;01melse\u001b[39;00m:\n\u001b[0;32m--> 100\u001b[0m     \u001b[38;5;28;01mreturn\u001b[39;00m \u001b[43m_scalar_str\u001b[49m\u001b[43m(\u001b[49m\u001b[43mdtype\u001b[49m\u001b[43m,\u001b[49m\u001b[43m \u001b[49m\u001b[43mshort\u001b[49m\u001b[38;5;241;43m=\u001b[39;49m\u001b[43mshort\u001b[49m\u001b[43m)\u001b[49m\n",
      "File \u001b[0;32m/Library/Frameworks/Python.framework/Versions/3.11/lib/python3.11/site-packages/numpy/_core/_dtype.py:106\u001b[0m, in \u001b[0;36m_scalar_str\u001b[0;34m(dtype, short)\u001b[0m\n\u001b[1;32m    103\u001b[0m \u001b[38;5;28;01mdef\u001b[39;00m \u001b[38;5;21m_scalar_str\u001b[39m(dtype, short):\n\u001b[1;32m    104\u001b[0m     byteorder \u001b[38;5;241m=\u001b[39m _byte_order_str(dtype)\n\u001b[0;32m--> 106\u001b[0m     \u001b[38;5;28;01mif\u001b[39;00m dtype\u001b[38;5;241m.\u001b[39mtype \u001b[38;5;241m==\u001b[39m \u001b[43mnp\u001b[49m\u001b[38;5;241;43m.\u001b[39;49m\u001b[43mbool\u001b[49m:\n\u001b[1;32m    107\u001b[0m         \u001b[38;5;28;01mif\u001b[39;00m short:\n\u001b[1;32m    108\u001b[0m             \u001b[38;5;28;01mreturn\u001b[39;00m \u001b[38;5;124m\"\u001b[39m\u001b[38;5;124m'\u001b[39m\u001b[38;5;124m?\u001b[39m\u001b[38;5;124m'\u001b[39m\u001b[38;5;124m\"\u001b[39m\n",
      "File \u001b[0;32m/Library/Frameworks/Python.framework/Versions/3.11/lib/python3.11/site-packages/numpy/__init__.py:324\u001b[0m, in \u001b[0;36m__getattr__\u001b[0;34m(attr)\u001b[0m\n\u001b[1;32m    320\u001b[0m warnings.filterwarnings(\"ignore\", message=\"numpy.ufunc size changed\")\n\u001b[1;32m    321\u001b[0m warnings.filterwarnings(\"ignore\", message=\"numpy.ndarray size changed\")\n\u001b[1;32m    323\u001b[0m def __getattr__(attr):\n\u001b[0;32m--> 324\u001b[0m     # Warn for expired attributes\n\u001b[1;32m    325\u001b[0m     import warnings\n\u001b[1;32m    327\u001b[0m     if attr == \"linalg\":\n",
      "\u001b[0;31mAttributeError\u001b[0m: module 'numpy' has no attribute 'bool'.\n`np.bool` was a deprecated alias for the builtin `bool`. To avoid this error in existing code, use `bool` by itself. Doing this will not modify any behavior and is safe. If you specifically wanted the numpy scalar type, use `np.bool_` here.\nThe aliases was originally deprecated in NumPy 1.20; for more details and guidance see the original release note at:\n    https://numpy.org/devdocs/release/1.20.0-notes.html#deprecations"
     ]
    }
   ],
   "source": [
    "import os\n",
    "from nemo.collections.tts.g2p.models.en_us_arpabet import EnglishG2p\n",
    "from nemo.collections.tts.g2p.models.i18n_ipa import IpaG2p\n",
    "\n",
    "ipa_dict_path = os.path.join(NEMO_DIR, \"scripts\", \"tts_dataset_files\", \"ipa_cmudict-0.7b_nv23.01.txt\")\n",
    "\n",
    "# EnglishG2p uses the CMU dictionary by default, if none is provided\n",
    "arpabet_g2p = EnglishG2p()\n",
    "ipa_g2p = IpaG2p(phoneme_dict=ipa_dict_path)"
   ]
  },
  {
   "cell_type": "code",
   "execution_count": null,
   "metadata": {
    "id": "xSaNypYJURXA",
    "pycharm": {
     "name": "#%%\n"
    }
   },
   "outputs": [],
   "source": [
    "text = \"Hello world\"\n",
    "arpabet_phonemes = arpabet_g2p(text)\n",
    "ipa_phonemes = ipa_g2p(text)\n",
    "\n",
    "print(text)\n",
    "print(arpabet_phonemes)\n",
    "print(ipa_phonemes)"
   ]
  },
  {
   "cell_type": "markdown",
   "metadata": {
    "id": "AaZPPpsPcjCZ",
    "pycharm": {
     "name": "#%% md\n"
    }
   },
   "source": [
    "Notice that graphemes are returned for the word \"hello\" rather than the ARPABET phonemes.\n",
    "\n",
    "This is because the English G2P module uses its dictionary to map graphemes to phonemes. The word \"hello\" has two possible pronunciations."
   ]
  },
  {
   "cell_type": "code",
   "execution_count": null,
   "metadata": {
    "id": "JcH24VMMXtkl",
    "pycharm": {
     "name": "#%%\n"
    }
   },
   "outputs": [],
   "source": [
    "print(arpabet_g2p.phoneme_dict['hello'])"
   ]
  },
  {
   "cell_type": "markdown",
   "metadata": {
    "id": "NCeu-W-NeHjZ",
    "pycharm": {
     "name": "#%% md\n"
    }
   },
   "source": [
    "Since the pronunciation is *ambiguous*, it returns the graphemes instead. By default it will also do this for any word **out of vocabulary (oov)** words that are not in the CMU dictionary.\n",
    "\n",
    "In general, handling ambiguous pronunciations is a difficult problem which we will discuss more below.\n",
    "\n",
    "For now, we can tell the G2P module to simply return the first pronunciation in the dictionary by setting `ignore_ambiguous_words=False`."
   ]
  },
  {
   "cell_type": "code",
   "execution_count": null,
   "metadata": {
    "id": "Edv2DIqEdWco",
    "pycharm": {
     "name": "#%%\n"
    }
   },
   "outputs": [],
   "source": [
    "arpabet_g2p = EnglishG2p(ignore_ambiguous_words=False)\n",
    "ipa_g2p = IpaG2p(phoneme_dict=ipa_dict_path, ignore_ambiguous_words=False)"
   ]
  },
  {
   "cell_type": "code",
   "execution_count": null,
   "metadata": {
    "id": "SnVXmlildnsT",
    "pycharm": {
     "name": "#%%\n"
    }
   },
   "outputs": [],
   "source": [
    "text = \"Hello world\"\n",
    "arpabet_phonemes = arpabet_g2p(text)\n",
    "ipa_phonemes = ipa_g2p(text)\n",
    "\n",
    "print(text)\n",
    "print(arpabet_phonemes)\n",
    "print(ipa_phonemes)"
   ]
  },
  {
   "cell_type": "code",
   "execution_count": null,
   "metadata": {
    "id": "5Hb3skQXv_mS"
   },
   "outputs": [],
   "source": [
    "### YOUR TASK: get the previous sentence, that is the result of the Text Normalization part!\n",
    "# and apply G2P (ARPABET) on that sentence\n",
    "# observe how the words have changes to individual phonemes!"
   ]
  },
  {
   "cell_type": "code",
   "execution_count": null,
   "metadata": {
    "id": "VWYMD9JYwH_7"
   },
   "outputs": [],
   "source": [
    "### YOUR SOLUTION"
   ]
  },
  {
   "cell_type": "markdown",
   "metadata": {
    "id": "ckRB7iWpUavz",
    "pycharm": {
     "name": "#%% md\n"
    }
   },
   "source": [
    "**Tokenization**"
   ]
  },
  {
   "cell_type": "markdown",
   "metadata": {
    "id": "Dznknw-e6vhV",
    "pycharm": {
     "name": "#%% md\n"
    }
   },
   "source": [
    "At the end of G2P we have a list of characters. In order for our model to process these characters, we need to convert them into numbers.\n",
    "\n",
    "To do this we have a vocabulary containing all characters in our alphabet. Each character gets assigned a fixed number, such that every time it shows up in the text it is replaced with that number.\n",
    "\n",
    "The numbers are not interpretable for the human eye, but suitable to be the input of the deep learning model - similarly to one-hot encoding during classification."
   ]
  },
  {
   "cell_type": "code",
   "execution_count": null,
   "metadata": {
    "id": "IFUjxsocUYz9",
    "pycharm": {
     "name": "#%%\n"
    }
   },
   "outputs": [],
   "source": [
    "from nemo.collections.tts.torch.tts_tokenizers import EnglishPhonemesTokenizer, IPATokenizer\n",
    "\n",
    "arpabet_tokenizer = EnglishPhonemesTokenizer(arpabet_g2p)\n",
    "ipa_tokenizer = IPATokenizer(ipa_g2p)"
   ]
  },
  {
   "cell_type": "code",
   "execution_count": null,
   "metadata": {
    "id": "t8vdYwA94xnn",
    "pycharm": {
     "name": "#%%\n"
    }
   },
   "outputs": [],
   "source": [
    "text = \"Hello world\"\n",
    "arpabet_tokens = arpabet_tokenizer(text)\n",
    "ipa_tokens = ipa_tokenizer(text)\n",
    "\n",
    "print(text)\n",
    "print(arpabet_tokens)\n",
    "print(ipa_tokens)"
   ]
  },
  {
   "cell_type": "markdown",
   "metadata": {
    "id": "zZhZ47vy5swC",
    "pycharm": {
     "name": "#%% md\n"
    }
   },
   "source": [
    "# 7.&nbsp;Spectrogram Synthesis"
   ]
  },
  {
   "cell_type": "markdown",
   "metadata": {
    "id": "cHXPTuQh7VOY",
    "pycharm": {
     "name": "#%% md\n"
    }
   },
   "source": [
    "The most complicated step is converting the text or phonemes into a spectrogram representing the spoken audio.\n",
    "\n",
    "If we check the general TTS block diagram again, we have now finished with the text processing part, and reached where we deal with the audio.\n",
    "\n",
    "<div>\n",
    "<img src=\"https://raw.githubusercontent.com/NVIDIA/NeMo/stable/tutorials/tts/images/tts_pipeline.png\" width=\"500\", height=\"500\"/>\n",
    "</div>\n",
    "\n",
    "\n"
   ]
  },
  {
   "cell_type": "markdown",
   "metadata": {
    "id": "_yo7Ru_GMA0E",
    "pycharm": {
     "name": "#%% md\n"
    }
   },
   "source": [
    "## 7.1&nbsp;Audio"
   ]
  },
  {
   "cell_type": "markdown",
   "metadata": {
    "id": "7V-iJ0wl6PZP",
    "pycharm": {
     "name": "#%% md\n"
    }
   },
   "source": [
    "Reminder about signal processing:\n",
    "\n",
    "Audio is typically represented by a long sequence of numbers representing the audio amplitude at each point in time.\n",
    "\n",
    "How often the audio samples are recorded is the [sampling rate](https://en.wikipedia.org/wiki/Sampling_(signal_processing)). Common sampling rates are 16 kHz, 22.05 kHz, and 44.1 kHz, with higher sampling rates producing more accurate, higher quality audio.\n",
    "\n",
    "A sampling rate of 44.1 kHz means that we store 44,100 audio sample per second of audio. Each audio sample is typically stored as a 16-bit integer (a whole number ranging from -32,768 to +32,767). For machine learning, it is sometimes more convenient to rescale it and represent it as a continuous value between -1.0 and 1.0 using 32-bit floats.\n",
    "\n",
    "<br>\n",
    "<center>\n",
    "<img src=\"https://raw.githubusercontent.com/NVIDIA/NeMo/stable/tutorials/tts/images/sampling_rate.png\" width=\"800\", height=\"300\"/>\n",
    "<figcaption>https://wiki.hydrogenaud.io/index.php?title=File:Digital_wave.png\n",
    "</figcaption>\n",
    "</center>"
   ]
  },
  {
   "cell_type": "markdown",
   "metadata": {
    "id": "C7K8pIkt6MH2",
    "pycharm": {
     "name": "#%% md\n"
    }
   },
   "source": [
    "## 7.2&nbsp;Spectrograms\n",
    "\n",
    "While raw audio shows amplitude versus time and is useful for easily recording and listening, it is not optimal when it comes to processing.\n",
    "\n",
    "For processing, it is usually preferable to represent the audio as a **spectrogram** which shows frequency versus time. Specifically, we:\n",
    "\n",
    "1.   Group together audio samples into a much smaller set of time buckets, called **audio frames**. An audio frame will usually bucket around 50ms of audio.\n",
    "2.   For each audio frame, use the [Fast Fourier transform](https://en.wikipedia.org/wiki/Fast_Fourier_transform) (**FFT**) to calculate the magnitude (ie. energy, amplitude or \"loudness\") and phase (which we don't use) of each frequency bin. We refer to the magnitudes of the frequency bins as a spectrogram\n",
    "3.   Map the original frequency bins onto the [mel scale](https://en.wikipedia.org/wiki/Mel_scale), using overlapped [triangular filters](https://en.wikipedia.org/wiki/Window_function#Triangular_window) to create mel filterbanks.\n",
    "4.   Multiply the original spectrogram by the mel filterbanks to produce a mel spectrogram (for more details see [here](https://www.mathworks.com/help/audio/ref/melspectrogram.html)).\n",
    "\n",
    "We then use the mel spectrogram as our final audio representation. The only thing we lose during this process is the phase information, the implications of which we will discuss more later on.\n"
   ]
  },
  {
   "cell_type": "markdown",
   "metadata": {
    "id": "qbYSJqjKHVbU",
    "pycharm": {
     "name": "#%% md\n"
    }
   },
   "source": [
    "## 7.3&nbsp;Why use a spectrogram?\n"
   ]
  },
  {
   "cell_type": "markdown",
   "metadata": {
    "id": "uKYbiRNn6G2e",
    "pycharm": {
     "name": "#%% md\n"
    }
   },
   "source": [
    "\n",
    "In addition to the mel spectrogram providing handcrafted features that are closer to human perception and easier to predict, there are a few other advantages to using it over audio samples.\n",
    "\n",
    "**1. Computational Efficiency**\n",
    "\n",
    "One reason to use a spectrogram is that it is a lot more computationally efficient than processing raw audio.\n",
    "\n",
    "Take for example a 10 second piece of audio sampled at 44.1 kHz.\n",
    "\n",
    "This audio has 10 * 44,100 = 441,000 audio samples.\n",
    "\n",
    "For TTS we will represent this same audio with audio frames that are overlapping such that there is about 1 audio frame per 10ms (0.01s). For each audio frame we have 80 frequency bands.\n",
    "\n",
    "Our final spectrogram has 80 bands * 10s * / (0.01s) = 80,000\n",
    "\n",
    "So we made our data about 5 times smaller.\n",
    "\n",
    "Even in other fields that deal with audio, such as *digital signal processing (DSP)*, it is common practice to reduce computation time by computing the FFT, running mathematical calculations and manipulations in the frequency domain, and then converting the final spectrogram back to audio with the *inverse* FFT.\n",
    "\n",
    "**2. Shorter 2D sequence length**\n",
    "\n",
    "In the example above, the dimension of our input goes from being (441,000, 1) to (1000, 80). Instead of having a very long 1-dimensional time series, we instead have a much shorter sequence of multi-dimensional features.\n",
    "\n",
    "This dimensionality works better with most modern deep learning models.\n",
    "\n",
    "Most models work better representing large chunks/sequences of information as higher dimension vectors (eg. *embeddings*).\n",
    "\n",
    "**RNN/LSTM** architectures have latency proportional to the length of the sequence, can struggle to remember information for sequences over a few hundred tokens long, and are more prone to vanishing/exploding gradients as the sequence gets longer.\n",
    "\n",
    "With 2 dimensions we can effectively use **CNNs** by running [temporal convolutions](https://pytorch.org/docs/stable/generated/torch.nn.Conv1d.html?highlight=conv1d#torch.nn.Conv1d) over the time dimension. Or by applying [2d convolutions](https://pytorch.org/docs/stable/generated/torch.nn.Conv2d.html?highlight=conv2d#torch.nn.Conv2d) to the spectrogram exactly as if it were an image in computer vision.\n",
    "\n",
    "**Transformers** require computation/memory that is proportional to the length of the sequence squared. This means we can easily use large transformers for relatively short sequences like in NLP, smaller transformers for longer sequences like spectrogram data, and are impractical to use on very long sequences like audio samples."
   ]
  },
  {
   "cell_type": "markdown",
   "metadata": {
    "id": "dUDB6f9h6G1Q",
    "pycharm": {
     "name": "#%% md\n"
    }
   },
   "source": [
    "## 7.4&nbsp;End to end example"
   ]
  },
  {
   "cell_type": "markdown",
   "metadata": {
    "id": "PsPn56E_Jax4",
    "pycharm": {
     "name": "#%% md\n"
    }
   },
   "source": [
    "Before we go into the details of how this works, let's go through an end-to-end text to audio example so we can visualize what our model inputs and outputs look and sound like.\n",
    "\n",
    "To do this, we will need to use both the spectrogram and vocoder models together. The vocoder will be looked at more thoroughly in the *audio synthesis* section."
   ]
  },
  {
   "cell_type": "code",
   "execution_count": null,
   "metadata": {
    "id": "hy-Z4U7LxR9e",
    "pycharm": {
     "name": "#%%\n"
    }
   },
   "outputs": [],
   "source": [
    "import torch\n",
    "import IPython.display as ipd\n",
    "from matplotlib.pyplot import imshow\n",
    "from matplotlib import pyplot as plt\n",
    "from nemo.collections.tts.models.base import SpectrogramGenerator, Vocoder\n",
    "\n",
    "# List pretrained models available in NeMo\n",
    "print(\"Spectrogram Models\")\n",
    "print(SpectrogramGenerator.list_available_models())\n",
    "\n",
    "print()\n",
    "print(\"Vocoders\")\n",
    "print(Vocoder.list_available_models())"
   ]
  },
  {
   "cell_type": "code",
   "execution_count": null,
   "metadata": {
    "id": "-KuBkFKrKzxn",
    "pycharm": {
     "name": "#%%\n"
    }
   },
   "outputs": [],
   "source": [
    "if torch.cuda.is_available():\n",
    "  device = \"cuda\"\n",
    "else:\n",
    "  device = \"cpu\"\n",
    "\n",
    "# Remarks:\n",
    "# - Tacotron2 is a specific text-to-mel-spectogram generator (see DL theoretical lecture slides)\n",
    "# - HiFiGAN is a specific mel-spectogram-to-audio generator, also called as vocoder (see DL theoretical lecture slides)\n",
    "\n",
    "# Load our spectrogram and vocoder models onto our CPU\n",
    "spectrogram_model = SpectrogramGenerator.from_pretrained(\"tts_en_tacotron2\").eval().to(device)\n",
    "vocoder = Vocoder.from_pretrained(\"tts_en_hifigan\").eval().to(device)"
   ]
  },
  {
   "cell_type": "code",
   "execution_count": null,
   "metadata": {
    "id": "6_brQ8_WBlX_",
    "pycharm": {
     "name": "#%%\n"
    }
   },
   "outputs": [],
   "source": [
    "text = \"This audio was generated with a text-to-speech model.\"\n",
    "\n",
    "# Normalize the text and convert it into individual phonemes/tokens.\n",
    "tokens = spectrogram_model.parse(text, normalize=True)\n",
    "\n",
    "# Generate spectrogram from text\n",
    "spectrogram = spectrogram_model.generate_spectrogram(tokens=tokens)\n",
    "\n",
    "# Invert the spectrogram into audio samples\n",
    "audio = vocoder.convert_spectrogram_to_audio(spec=spectrogram)\n",
    "\n",
    "# Convert output from pytorch tensor to numpy array\n",
    "spectrogram = spectrogram.cpu().detach().numpy()[0]\n",
    "audio = audio.cpu().detach().numpy()[0]"
   ]
  },
  {
   "cell_type": "code",
   "execution_count": null,
   "metadata": {
    "id": "m3VcVblUHA7g",
    "pycharm": {
     "name": "#%%\n"
    }
   },
   "outputs": [],
   "source": [
    "# see the text and listen to the audio, generated by text-to-speech synthesis (using Tacotron2 and HiFiGAN)\n",
    "print(f'\"{text}\"\\n')\n",
    "\n",
    "ipd.Audio(audio, rate=22050)"
   ]
  },
  {
   "cell_type": "code",
   "execution_count": null,
   "metadata": {
    "id": "ze1JIDxeHJq5",
    "pycharm": {
     "name": "#%%\n"
    }
   },
   "outputs": [],
   "source": [
    "# Visualize the spectrogram\n",
    "imshow(spectrogram, origin=\"lower\")\n",
    "plt.xlabel(\"Audio Frame\")\n",
    "plt.ylabel(\"Frequency Band\")\n",
    "plt.show()"
   ]
  },
  {
   "cell_type": "code",
   "execution_count": null,
   "metadata": {
    "id": "KxfnKqkc21V8"
   },
   "outputs": [],
   "source": [
    "### YOUR TASK:\n",
    "# in the 'spectrogram_model', disable the text normalization\n",
    "# get your original sentence, before text normalization\n",
    "# and convert the un-normalized text to speech with the models above!\n",
    "# (expected result: you will hear that text processing is an important step of TTS)"
   ]
  },
  {
   "cell_type": "code",
   "execution_count": null,
   "metadata": {
    "id": "tvkmSibw3G7v"
   },
   "outputs": [],
   "source": [
    "### YOUR SOLUTION"
   ]
  },
  {
   "cell_type": "code",
   "execution_count": null,
   "metadata": {
    "id": "4cLh7jwV3mGx"
   },
   "outputs": [],
   "source": [
    "### YOUR TASK:\n",
    "# write a sentence in your native language, and try to synthesize with Tacotron2 and HiFiGAN.\n",
    "# can you understand any part of that?\n",
    "# (expected result: it will be speech-like, but in general with weak quality; because TTS systems depend on the language)"
   ]
  },
  {
   "cell_type": "code",
   "execution_count": null,
   "metadata": {
    "id": "oeEUGEuD39vL"
   },
   "outputs": [],
   "source": [
    "### YOUR SOLUTION"
   ]
  },
  {
   "cell_type": "markdown",
   "metadata": {
    "id": "OgthvHUzHeE6",
    "pycharm": {
     "name": "#%% md\n"
    }
   },
   "source": [
    "## 7.5&nbsp;Model types"
   ]
  },
  {
   "cell_type": "markdown",
   "metadata": {
    "id": "5QQt3p9a82gN",
    "pycharm": {
     "name": "#%% md\n"
    }
   },
   "source": [
    "Predicting a spectrogram from text is a **sequence-to-sequence** problem because the input and output are different lengths. The length of the output is itself ambiguous, and something the model needs to predict.\n",
    "\n",
    "Most successful approaches to this problem use an **encoder-decoder** system. The typical pattern looks like:\n",
    "\n",
    "1.   The model has a **character embedding** for each character in its vocabulary. This is usually learned from scratch during training, but can also be pre-trained or augmented with generic language embeddings like *BERT*.\n",
    "2.   The **encoder** analyzes the input sentence and applies various transformations to each character embedding in the output sequence. The *encoder outputs* are character embeddings that represent how each character should be *pronounced*, given the sentence. Encoders will also usually encode the approximate length, or **duration**, of each character.\n",
    "3.   The **decoder** predicts the spectrogram using the sequence of character pronunciation embeddings provided by the encoder.\n",
    "\n",
    "Most model architectures rely on **RNNs** or **Transformers** to do sentence-level processing (like how to pronounce or emphasize certain words based on the meaning of the sentence), and **CNNs** to process features based on their adjacent characters or audio frames (like how to start and end a word to make it flow naturally with the previous and next words).\n",
    "\n",
    "Today there are two main categories of these encoder-decoder systems: **auto-regressive** models and **parallel** models. Within these categories, parallel models typically use **duration prediction**, while auto-regressive models can use duration prediction or **attention**."
   ]
  },
  {
   "cell_type": "markdown",
   "metadata": {
    "id": "H8rkeCkHMrev",
    "pycharm": {
     "name": "#%% md\n"
    }
   },
   "source": [
    "## 7.6&nbsp;Auto Regressive Models"
   ]
  },
  {
   "cell_type": "markdown",
   "metadata": {
    "id": "lGVKcJp6Y7Kv",
    "pycharm": {
     "name": "#%% md\n"
    }
   },
   "source": [
    "### 7.6.1&nbsp;Tacotron 2"
   ]
  },
  {
   "cell_type": "markdown",
   "metadata": {
    "id": "O0q5_nb6SfQT",
    "pycharm": {
     "name": "#%% md\n"
    }
   },
   "source": [
    "The first good neural TTS models were auto-regressive models such as [Tacotron 2](https://google.github.io/tacotron/publications/tacotron2/index.html).\n",
    "\n",
    "For these models, the encoder encodes the input sentence, and then the decoder predicts the spectrogram one audio frame at a time. This lets the model condition each spectrogram frame on the frames before it, producing high quality audio.\n",
    "\n",
    "Let's take a quick look at the Tacotron 2 architecture.\n",
    "\n",
    "<br>\n",
    "<div>\n",
    "<img src=\"https://raw.githubusercontent.com/NVIDIA/NeMo/stable/tutorials/tts/images/tacotron2_diagram.png\" width=\"600\", height=\"500\"/>\n",
    "</div>\n",
    "\n",
    "The model is fairly complex. At a high level, it contains:\n",
    "\n",
    "1.   A CNN-RNN *encoder* which uses a bidirectional LSTM to analyze the entire sentence forward and backwards to figure out the pronunciation of every character.\n",
    "2.   A unidirectional LSTM *decoder* which predicts the spectrogram one frame at a time.\n",
    "3.   An **attention** mechanism that the decoder uses to determine which character(s) to look at when generating specific audio frames.\n",
    "4.   A *stop token* layer which predicts a single number [0, 1] to determine the probability that the decoder has reached the end of the sentence.\n",
    "5.   A *pre-net* that feeds the previous predicted frame into the decoder before predicting the next frame. This is used primarily for **teacher forcing** so that the model can learn effectively.\n",
    "6.   A *post-net* which post-processes the entire spectrogram produced by the decoder to fix inconsistencies and smooth it out.\n",
    "\n",
    "The attention and teacher forcing mechanisms are the main characteristics that define the auto-regressive model and differentiate it from non-auto-regressive systems. These will be discussed in more detail below.\n",
    "\n",
    "The post-net is an optional optimization.\n",
    "\n",
    "The specifics of the encoder and decoder are not too important, and can be replaced with any equivalent combination of RNN, CNN, and/or Transformer blocks.\n",
    "\n"
   ]
  },
  {
   "cell_type": "markdown",
   "metadata": {
    "id": "wmGmNcT8LJGp",
    "pycharm": {
     "name": "#%% md\n"
    }
   },
   "source": [
    "### 7.6.2&nbsp;Attention and Alignment"
   ]
  },
  {
   "cell_type": "markdown",
   "metadata": {
    "id": "wunvHeLVEd45",
    "pycharm": {
     "name": "#%% md\n"
    }
   },
   "source": [
    "An auto-regressive model predicts the spectrogram based primarily on the encoder output features. For the output to make sense, each audio frame produced needs to be based on a subset of the characters in the input. Which character(s) the decoder is using when it predicts an audio frame is called its **attention**.\n",
    "\n",
    "First, let's see what our Tacotron 2 attention looks like."
   ]
  },
  {
   "cell_type": "code",
   "execution_count": null,
   "metadata": {
    "id": "rILddgvkw8om",
    "pycharm": {
     "name": "#%%\n"
    }
   },
   "outputs": [],
   "source": [
    "import torch\n",
    "from nemo.collections.tts.models import Tacotron2Model\n",
    "\n",
    "Tacotron2Model.list_available_models()"
   ]
  },
  {
   "cell_type": "code",
   "execution_count": null,
   "metadata": {
    "id": "CIzlpQTH7GZ6",
    "pycharm": {
     "name": "#%%\n"
    }
   },
   "outputs": [],
   "source": [
    "# this step is a bit slow, might take a few minutes\n",
    "\n",
    "tacotron2_model = Tacotron2Model.from_pretrained(\"tts_en_tacotron2\").eval().to(device)\n",
    "tacotron2_model.calculate_loss = False\n",
    "\n",
    "g2p = EnglishG2p(ignore_ambiguous_words=False)"
   ]
  },
  {
   "cell_type": "code",
   "execution_count": null,
   "metadata": {
    "id": "KGxEWnwhjrUQ",
    "pycharm": {
     "name": "#%%\n"
    }
   },
   "outputs": [],
   "source": [
    "text = \"This is an attention map.\"\n",
    "\n",
    "tokens = tacotron2_model.parse(text, normalize=True)\n",
    "token_len = torch.tensor([tokens.shape[1]], dtype=torch.long, device=spectrogram_model.device)\n",
    "\n",
    "_, _, _, alignments, _ = tacotron2_model.forward(tokens=tokens, token_len=token_len)\n",
    "alignment = alignments[0].cpu().detach().numpy()"
   ]
  },
  {
   "cell_type": "code",
   "execution_count": null,
   "metadata": {
    "id": "KW2bN2wh9vTj",
    "pycharm": {
     "name": "#%%\n"
    }
   },
   "outputs": [],
   "source": [
    "# Pretrained Tacotron 2 uses grapheme input with beginning-of-speech and end-of-speech tokens\n",
    "characters = [\"<BOS>\"] + [char for char in text] + [\"<EOS>\"]\n",
    "\n",
    "fig, ax = plt.subplots(figsize=(10, 8))\n",
    "plt.xlabel(\"Audio Frame\")\n",
    "plt.ylabel(\"Character\")\n",
    "_ = ax.imshow(alignment.transpose(), origin='upper', aspect='auto')\n",
    "_ = ax.set_yticks(range(len(characters)))\n",
    "_ = ax.set_yticklabels(characters)"
   ]
  },
  {
   "cell_type": "code",
   "execution_count": null,
   "metadata": {
    "id": "a9notk0YArEE"
   },
   "outputs": [],
   "source": [
    "### YOUR TASK: test the attention mechanism on a longer sentence\n",
    "# (e.g. on one of your earlier examples)"
   ]
  },
  {
   "cell_type": "code",
   "execution_count": null,
   "metadata": {
    "id": "xor1UQqfA4S_"
   },
   "outputs": [],
   "source": [
    "### YOUR SOLUTION"
   ]
  },
  {
   "cell_type": "markdown",
   "metadata": {
    "id": "kIYrbaDDI7--",
    "pycharm": {
     "name": "#%% md\n"
    }
   },
   "source": [
    "In order to get good quality output, we need our model's attention to follow these constraints:\n",
    "\n",
    "*   The decoder should pay attention to one character at a time (sometimes it also places weight on the one character immediately before and/or after it).\n",
    "*   The attention should be **monotonically increasing**, meaning it never go backwards in the text sequence. So the attention should only ever stay on the current character, or move forward to the next character.\n",
    "*   The model should start on the first character in the sequence and end on the last character.\n",
    "\n",
    "These constraints result in the decoder effectively \"reading\" the text character by character or word by word, similar to how humans read aloud.\n",
    "\n",
    "A model may need to be trained for a while before its attention learns to follow these constraints. Before that, the attention may look non-sensical, and the model output will sound unintelligible.\n",
    "\n",
    "Once the models learns the above constraints and starts producing well-behaved attention maps, it is said that the model has **aligned**."
   ]
  },
  {
   "cell_type": "markdown",
   "metadata": {
    "id": "Z7SfuEJK6176",
    "pycharm": {
     "name": "#%% md\n"
    }
   },
   "source": [
    "## 7.8&nbsp;Parallel Models\n"
   ]
  },
  {
   "cell_type": "markdown",
   "metadata": {
    "id": "XOtPiRajZG2Z",
    "pycharm": {
     "name": "#%% md\n"
    }
   },
   "source": [
    "There are some significant weaknesses to auto-regressive systems. Most notably:\n",
    "\n",
    "*  Spectrograms are long (100s-1000s of frames), so generating them one frame at a time makes inference slow.\n",
    "*  They are typically implemented using RNN based architectures, which are slow to train.\n",
    "*  The user has little control over how the sentence is spoken.\n",
    "\n",
    "Using duration prediction enables us to remove the auto-regressive inference and predict every spectrogram frame in parallel. This makes the inference speed up to 100x faster, making it highly preferable for deploying and serving to users."
   ]
  },
  {
   "cell_type": "markdown",
   "metadata": {
    "id": "HgMfSDW5ZaE4",
    "pycharm": {
     "name": "#%% md\n"
    }
   },
   "source": [
    "### 7.8.1&nbsp;FastPitch"
   ]
  },
  {
   "cell_type": "markdown",
   "metadata": {
    "id": "FxsyNfSBRKqc",
    "pycharm": {
     "name": "#%% md\n"
    }
   },
   "source": [
    "In NeMo we support [FastPitch](https://fastpitch.github.io/), a parallel transformer-based model with pitch and duration control and prediction.\n",
    "\n",
    "<div>\n",
    "<img src=\"https://raw.githubusercontent.com/NVIDIA/NeMo/stable/tutorials/tts/images/fastpitch_diagram.png\" width=\"600\", height=\"500\"/>\n",
    "</div>\n",
    "\n",
    "At a high level it contains:\n",
    "\n",
    "1.   An encoder consisting of a **feed-forward transformer block (FFTr)**, which transforms the input character embeddings into character pronunciation embeddings.\n",
    "2.   A temporal CNN which takes the encoder output and predicts the duration and pitch of each character. At training time, the ground truth pitch and duration information are fed to the model (similar to teacher forcing).\n",
    "3.   Each encoder output is repeated a number of times equal to the predicted duration. The repeated encoder output is the same length as the final spectrogram. For example, for characters 'abc' and predicted durations (2, 3, 1) we get the encoder output repeated 'aabbbc'.\n",
    "4.   A decoder consisting of a FFTr that transforms this encoder output into the predicted spectrogram.\n",
    "\n",
    "Some advantages to this approach are:\n",
    "\n",
    "*   The duration prediction makes the output consistent and robust.\n",
    "*   The model inference is fast, able to synthesize up to 1000 seconds of audio every second on an A100 GPU.\n",
    "*   You can customize the prosody by manually selecting the pitch and duration of each character or word."
   ]
  },
  {
   "cell_type": "markdown",
   "metadata": {
    "id": "UN_SIcPuBcQw",
    "pycharm": {
     "name": "#%% md\n"
    }
   },
   "source": [
    "Let's run the same inference for FastPitch that we did with Tacotron2. The main difference is loading the FastPitch checkpoint using the `FastPitchModel` class."
   ]
  },
  {
   "cell_type": "code",
   "execution_count": null,
   "metadata": {
    "id": "gRAkPzK4XkOu",
    "pycharm": {
     "name": "#%%\n"
    }
   },
   "outputs": [],
   "source": [
    "# this step is a bit slow, might take a few minutes\n",
    "\n",
    "from nemo.collections.tts.models import FastPitchModel\n",
    "\n",
    "fastpitch_model = FastPitchModel.from_pretrained(\"tts_en_fastpitch\").eval().to(device)"
   ]
  },
  {
   "cell_type": "code",
   "execution_count": null,
   "metadata": {
    "id": "jXaKddUKeTsz",
    "pycharm": {
     "name": "#%%\n"
    }
   },
   "outputs": [],
   "source": [
    "text = \"This audio was generated with the fastpitch text-to-speech model.\"\n",
    "\n",
    "# Normalize the text and convert it into individual phonemes/tokens.\n",
    "tokens = fastpitch_model.parse(text, normalize=True)\n",
    "\n",
    "# Generate spectrogram from text\n",
    "spectrogram = fastpitch_model.generate_spectrogram(tokens=tokens)\n",
    "\n",
    "# Invert the spectrogram into audio samples\n",
    "audio = vocoder.convert_spectrogram_to_audio(spec=spectrogram)\n",
    "\n",
    "# Convert output from pytorch tensor to numpy array\n",
    "spectrogram = spectrogram.cpu().detach().numpy()[0]\n",
    "audio = audio.cpu().detach().numpy()[0]"
   ]
  },
  {
   "cell_type": "code",
   "execution_count": null,
   "metadata": {
    "id": "LIQ2s_1neeS5",
    "pycharm": {
     "name": "#%%\n"
    }
   },
   "outputs": [],
   "source": [
    "print(f'\"{text}\"\\n')\n",
    "\n",
    "ipd.Audio(audio, rate=22050)"
   ]
  },
  {
   "cell_type": "code",
   "execution_count": null,
   "metadata": {
    "id": "iwE7ucKFEknw"
   },
   "outputs": [],
   "source": [
    "### YOUR TASK: use a single sentence, and synthesize by two models: listen to the audio, and plot the spectrograms!\n",
    "# - Tacotron2 + HiFiGAN\n",
    "# - FastPitch + HiFiGAN\n",
    "# what are the differences that you can hear or see?"
   ]
  },
  {
   "cell_type": "code",
   "execution_count": null,
   "metadata": {
    "id": "jgfYROz8H69Q"
   },
   "outputs": [],
   "source": [
    "### YOUR SOLUTION"
   ]
  },
  {
   "cell_type": "markdown",
   "metadata": {
    "id": "aozxSufVJa0l",
    "pycharm": {
     "name": "#%% md\n"
    }
   },
   "source": [
    "# 9.&nbsp;Model Evaluation"
   ]
  },
  {
   "cell_type": "markdown",
   "metadata": {
    "id": "I8522HduJmHM",
    "pycharm": {
     "name": "#%% md\n"
    }
   },
   "source": [
    "There are no well-established objective metrics for evaluating how good a TTS model is. Rather, quality is usually based on human opinion or perception, commonly measured through surveys.\n",
    "\n",
    "The most common type of survey for evaluating TTS quality is [mean opinion score](https://en.wikipedia.org/wiki/Mean_opinion_score) (**MOS**), in which listeners rate the quality of TTS samples on a 1 to 5 scale.\n",
    "\n",
    "Another common alternative is [MUSHRA](https://en.wikipedia.org/wiki/MUSHRA) in which users are provided a reference (the ground truth audio) and asked to rate several TTS samples relative to the reference.\n",
    "\n",
    "There are some metrics which are occasionally used to try and measure audio quality such as [MCD-DTW](https://github.com/MattShannon/mcd), [PESQ](https://en.wikipedia.org/wiki/Perceptual_Evaluation_of_Speech_Quality), and [STOI](https://torchmetrics.readthedocs.io/en/stable/audio/short_time_objective_intelligibility.html). But these have very limited accuracy and usefulness.\n",
    "\n",
    "The lack of objective numerical metrics that can be trained on is a large reason as to why many state of the art models rely on GAN based training to get good quality."
   ]
  },
  {
   "cell_type": "code",
   "execution_count": null,
   "metadata": {
    "id": "6zuFVfvjNDT6"
   },
   "outputs": [],
   "source": [
    "### this is the end of the DL practice first part, related to Text-to-Speech"
   ]
  },
  {
   "cell_type": "markdown",
   "metadata": {
    "id": "OgtWptQ5tGlq",
    "pycharm": {
     "name": "#%% md\n"
    }
   },
   "source": [
    "# 10.&nbsp;Additional Resources"
   ]
  },
  {
   "cell_type": "markdown",
   "metadata": {
    "id": "wtJINtrStHvJ",
    "pycharm": {
     "name": "#%% md\n"
    }
   },
   "source": [
    "To learn more about what TTS technology and models are available in NeMo, please look through our [documentation](https://docs.nvidia.com/deeplearning/nemo/user-guide/docs/en/stable/tts/intro.html#).\n",
    "\n",
    "To get more hands on experience with NeMo TTS, look through some of our other [tutorials](https://github.com/NVIDIA/NeMo/tree/stable/tutorials/tts).\n",
    "\n",
    "*   Running pretrained models: [Inference_ModelSelect](https://github.com/NVIDIA/NeMo/blob/stable/tutorials/tts/Inference_ModelSelect.ipynb)\n",
    "*   FastPitch [training](https://github.com/NVIDIA/NeMo/blob/stable/tutorials/tts/FastPitch_MixerTTS_Training.ipynb) and [fine-tuning](https://github.com/NVIDIA/NeMo/blob/stable/tutorials/tts/FastPitch_Finetuning.ipynb)\n",
    "\n",
    "To learn how to deploy and serve your TTS models, visit [Riva](https://docs.nvidia.com/deeplearning/riva/index.html)."
   ]
  },
  {
   "cell_type": "markdown",
   "metadata": {
    "id": "V0Og5xzqVwp8",
    "pycharm": {
     "name": "#%% md\n"
    }
   },
   "source": [
    "# 11.&nbsp;References"
   ]
  },
  {
   "cell_type": "markdown",
   "metadata": {
    "id": "0K_QsdvOVx1M",
    "pycharm": {
     "name": "#%% md\n"
    }
   },
   "source": [
    "1.   [Speech Processing Primer](https://aman.ai/primers/ai/speech-processing/)\n",
    "2.   [TTS Survey](https://arxiv.org/abs/2106.15561)\n",
    "3.   [Tacotron 2](https://google.github.io/tacotron/publications/tacotron2/index.html)\n",
    "4.   [Non-Attentive Tacotron](https://arxiv.org/abs/2010.04301)\n",
    "5.   [FastPitch](https://fastpitch.github.io/)\n",
    "6.   [RAD-TTS](https://nv-adlr.github.io/RADTTS)\n",
    "7.   [VITS](https://arxiv.org/pdf/2106.06103.pdf)\n",
    "8.   [One TTS Alignment To Rule Them All](https://arxiv.org/abs/2108.10447)\n",
    "9.   [Parallel Models](https://arxiv.org/abs/2202.13066)\n",
    "10.   [WaveNet](https://www.deepmind.com/blog/wavenet-a-generative-model-for-raw-audio)\n",
    "11.   [HiFi-GAN](https://arxiv.org/abs/2010.05646)\n",
    "12.   [WaveRNN](https://arxiv.org/abs/1802.08435)\n",
    "13.   [PyTorch](https://pytorch.org/docs/stable/index.html)\n",
    "14.   [CMU Pronouncing Dictionary](http://www.speech.cs.cmu.edu/cgi-bin/cmudict)"
   ]
  }
 ],
 "metadata": {
  "accelerator": "GPU",
  "colab": {
   "gpuType": "T4",
   "provenance": []
  },
  "kernelspec": {
   "display_name": "Python 3",
   "name": "python3"
  },
  "language_info": {
   "codemirror_mode": {
    "name": "ipython",
    "version": 3
   },
   "file_extension": ".py",
   "mimetype": "text/x-python",
   "name": "python",
   "nbconvert_exporter": "python",
   "pygments_lexer": "ipython3",
   "version": "3.11.5"
  },
  "vscode": {
   "interpreter": {
    "hash": "f8a1d50fd7b1e17bd198f085b8ced031398c6134b0da7c4415c17601bbcccc4e"
   }
  }
 },
 "nbformat": 4,
 "nbformat_minor": 0
}
