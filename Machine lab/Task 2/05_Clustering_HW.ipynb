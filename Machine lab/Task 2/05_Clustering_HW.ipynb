{
  "cells": [
    {
      "cell_type": "code",
      "execution_count": 44,
      "metadata": {
        "id": "JosuY7dwxT4c"
      },
      "outputs": [],
      "source": [
        "import pandas as pd\n",
        "import numpy as np\n",
        "from sklearn.preprocessing import StandardScaler\n",
        "from sklearn.cluster import KMeans\n",
        "import matplotlib.pyplot as plt\n",
        "from sklearn.tree import DecisionTreeClassifier\n",
        "from sklearn.tree import plot_tree\n",
        "from sklearn.decomposition import PCA\n",
        "import seaborn as sns\n",
        "\n",
        "from ipywidgets import interact, FloatSlider\n",
        "\n",
        "import plotly.express as px"
      ]
    },
    {
      "cell_type": "code",
      "execution_count": 45,
      "metadata": {
        "id": "ATVxfJPaxtwX"
      },
      "outputs": [],
      "source": [
        "pd.set_option('display.max_columns', None)"
      ]
    },
    {
      "cell_type": "markdown",
      "metadata": {
        "id": "FIsHBdbLxwwf"
      },
      "source": [
        "# HW:\n",
        "The data set includes the churn of customers of a telecommunications company.\n",
        "The task is to create segments from customers based on their characteristics using the KMeans algorithm.\n",
        "\n",
        "Do not use the following variables for grouping:\n",
        "- churn?: has the customer dropped out?\n",
        "- Contract_date: contract conclusion time\n",
        "- Cust_ID: customer ID"
      ]
    },
    {
      "cell_type": "code",
      "execution_count": 46,
      "metadata": {
        "id": "8LT1xMaBxY0-"
      },
      "outputs": [],
      "source": [
        "file_path = \"./telco_sampled.csv\"\n",
        "df = pd.read_csv(file_path, sep = ';')"
      ]
    },
    {
      "cell_type": "code",
      "execution_count": null,
      "metadata": {
        "colab": {
          "base_uri": "https://localhost:8080/",
          "height": 313
        },
        "id": "8E4ef2dyyMbC",
        "outputId": "b3f0ec0f-efb6-4f50-b3d1-ecd3e55b21ec"
      },
      "outputs": [],
      "source": [
        "df.head()"
      ]
    },
    {
      "cell_type": "code",
      "execution_count": null,
      "metadata": {
        "id": "5AGjuin8NULA"
      },
      "outputs": [],
      "source": [
        "df['churn?'].value_counts()"
      ]
    },
    {
      "cell_type": "markdown",
      "metadata": {
        "id": "LmRIonxGy9Qi"
      },
      "source": [
        "# 1. Subtask: (data preparation)\n",
        "Use all variables except for the three variables above when creating the clusters. Perform data preparation so that the variables are input to the model in the appropriate form.\n",
        "\n",
        "(hint: categorical variables, missing values, scaling, etc.)"
      ]
    },
    {
      "cell_type": "code",
      "execution_count": 49,
      "metadata": {
        "id": "QwMn4wLfylSV"
      },
      "outputs": [],
      "source": [
        "# Exclude unnecessary columns\n",
        "df = df.drop(['churn?', 'Contract_date', 'Cust_ID'], axis=1)\n",
        "\n",
        "# Handle categorical variables\n",
        "df = pd.get_dummies(df, drop_first=True)\n",
        "\n",
        "# Identify and handle missing values\n",
        "df.fillna(df.mean(), inplace=True)  # Numerical\n",
        "df = df.apply(lambda x: x.fillna(x.mode()[0]) if x.dtype == 'object' else x)  # Categorical\n",
        "\n",
        "# Scaling\n",
        "scaler = StandardScaler()\n",
        "scaled_data = scaler.fit_transform(df)\n"
      ]
    },
    {
      "cell_type": "markdown",
      "metadata": {
        "id": "250NlJ4rzIOi"
      },
      "source": [
        "# 2. Subtask: (clustering)\n",
        "Find the optimal k value for the KMeans algorithm using the variables prepared in the previous task. Then group the customers."
      ]
    },
    {
      "cell_type": "code",
      "execution_count": null,
      "metadata": {
        "id": "xbztHaZBzAVk"
      },
      "outputs": [],
      "source": [
        "inertias = []\n",
        "for k in range(1, 15):\n",
        "    kmeans = KMeans(n_clusters=k, random_state=42)\n",
        "    kmeans.fit(scaled_data)\n",
        "    inertias.append(kmeans.inertia_)\n",
        "\n",
        "plt.plot(range(1, 15), inertias, marker='o')\n",
        "plt.xlabel('Number of clusters (k)')\n",
        "plt.ylabel('Inertia')\n",
        "plt.show()\n",
        "\n",
        "\n",
        "\n",
        "# Fromt the plot, we find that k = 3 or k = 4 is optimal\n",
        "optimal_k = 3\n",
        "kmeans = KMeans(n_clusters=optimal_k, random_state=42)\n",
        "df['Cluster'] = kmeans.fit_predict(scaled_data)\n"
      ]
    },
    {
      "cell_type": "markdown",
      "metadata": {
        "id": "dmUzSUwNzQR9"
      },
      "source": [
        "# 3. Subtask: (explaination of clusters / conclusions)\n",
        "Try to find an explanation of what characterizes each group and what characteristics caused each customer to be in the given cluster."
      ]
    },
    {
      "cell_type": "code",
      "execution_count": null,
      "metadata": {
        "id": "jHzc3aKtzJjs"
      },
      "outputs": [],
      "source": [
        "# Analyze cluster characteristics\n",
        "cluster_profiles = df.groupby('Cluster').mean()\n",
        "\n",
        "# Decision tree to explain clusters\n",
        "X = scaled_data\n",
        "y = df['Cluster']\n",
        "clf = DecisionTreeClassifier()\n",
        "clf.fit(X, y)\n",
        "\n",
        "plt.figure(figsize=(20, 10))\n",
        "plot_tree(clf, feature_names=df.columns, filled=True)\n",
        "plt.show()\n",
        "\n"
      ]
    },
    {
      "cell_type": "code",
      "execution_count": null,
      "metadata": {},
      "outputs": [],
      "source": [
        "# Reduce to 2 dimensions for visualization\n",
        "pca = PCA(n_components=2)\n",
        "pca_components = pca.fit_transform(scaled_data)\n",
        "\n",
        "# Create a DataFrame for visualization\n",
        "df_pca = pd.DataFrame(data=pca_components, columns=['PC1', 'PC2'])\n",
        "df_pca['Cluster'] = df['Cluster']\n",
        "\n",
        "# Visualize clusters in 2D\n",
        "plt.figure(figsize=(10, 8))\n",
        "sns.scatterplot(x='PC1', y='PC2', hue='Cluster', palette='Set2', data=df_pca, s=60)\n",
        "plt.title('Customer Clusters Visualized using PCA')\n",
        "plt.xlabel('Principal Component 1')\n",
        "plt.ylabel('Principal Component 2')\n",
        "plt.legend(title='Cluster')\n",
        "plt.grid(True)\n",
        "plt.show()"
      ]
    },
    {
      "cell_type": "code",
      "execution_count": null,
      "metadata": {},
      "outputs": [],
      "source": [
        "# Step 1: Rebuild preprocessed_data without the 'Cluster' column\n",
        "columns_to_use = [col for col in df.columns if col not in ['Cust_ID', 'churn?', 'Contract_date', 'Cluster']]\n",
        "preprocessed_data = df[columns_to_use]\n",
        "\n",
        "# Verify shapes again\n",
        "print(\"Shape of preprocessed data:\", preprocessed_data.shape)  # Should now match (1565, 72)\n",
        "\n",
        "# Step 2: Re-align columns and create centroids DataFrame\n",
        "centroids = pd.DataFrame(kmeans.cluster_centers_, columns=preprocessed_data.columns)\n",
        "\n",
        "# Step 3: Re-run cluster profile examination\n",
        "df['Cluster'] = kmeans.labels_\n",
        "cluster_profiles = df.groupby('Cluster')[preprocessed_data.columns].mean()\n",
        "\n",
        "# Display the profiles\n",
        "print(cluster_profiles)\n"
      ]
    },
    {
      "cell_type": "code",
      "execution_count": null,
      "metadata": {},
      "outputs": [],
      "source": [
        "columns_to_use = [\n",
        "    'Age', 'Peak_minute_09', 'Weekend_minute_09', 'Offpeak_minute_09',\n",
        "    'Offpeak_nr_09', 'Peak_nr_09', 'Weekend_nr_09', 'Selfnet_minute_09',\n",
        "    # Add other relevant columns...\n",
        "]\n",
        "\n",
        "# Assuming clusters are already added in 'Cluster' column\n",
        "df_clusters = df[columns_to_use + ['Cluster']]\n",
        "\n",
        "# Step 2: Apply PCA\n",
        "pca = PCA(n_components=2)\n",
        "pca_result = pca.fit_transform(df_clusters[columns_to_use])\n",
        "df_clusters['PCA1'] = pca_result[:, 0]\n",
        "df_clusters['PCA2'] = pca_result[:, 1]\n",
        "\n",
        "# Step 3: Plot\n",
        "plt.figure(figsize=(10, 7))\n",
        "sns.scatterplot(data=df_clusters, x='PCA1', y='PCA2', hue='Cluster', palette='Set1', alpha=0.7)\n",
        "plt.title('PCA of Clustered Data')\n",
        "plt.xlabel('Principal Component 1')\n",
        "plt.ylabel('Principal Component 2')\n",
        "plt.legend(title='Cluster')\n",
        "plt.grid(True)\n",
        "plt.show()"
      ]
    },
    {
      "cell_type": "code",
      "execution_count": null,
      "metadata": {},
      "outputs": [],
      "source": [
        "# Assume df is your DataFrame and has the cluster labels added\n",
        "# Run PCA\n",
        "pca = PCA(n_components=2)\n",
        "pca_result = pca.fit_transform(df.drop(columns='Cluster'))  # Drop cluster column for PCA\n",
        "\n",
        "# Add PCA results to DataFrame\n",
        "df['PC1'] = pca_result[:, 0]\n",
        "df['PC2'] = pca_result[:, 1]\n",
        "\n",
        "# Function to plot the scatter plot\n",
        "def plot_pca(variable):\n",
        "    plt.figure(figsize=(10, 6))\n",
        "    sns.scatterplot(data=df, x='PC1', y='PC2', hue='Cluster', palette='viridis', alpha=0.6)\n",
        "    plt.title(f'PCA Scatter Plot - {variable}')\n",
        "    plt.xlabel('Principal Component 1')\n",
        "    plt.ylabel('Principal Component 2')\n",
        "    \n",
        "    # Set x and y limits to ensure consistency across different variable plots\n",
        "    plt.xlim(df['PC1'].min() - 1, df['PC1'].max() + 1)\n",
        "    plt.ylim(df['PC2'].min() - 1, df['PC2'].max() + 1)\n",
        "    \n",
        "    # Display the variable as a reference (optional)\n",
        "    plt.axhline(y=0, color='k', linestyle='--', lw=0.8)\n",
        "    plt.axvline(x=0, color='k', linestyle='--', lw=0.8)\n",
        "    \n",
        "    # Display the plot\n",
        "    plt.show()\n",
        "\n",
        "# Create slider for variable selection\n",
        "variable_slider = FloatSlider(min=0, max=len(df.columns)-2, step=1, value=0)\n",
        "\n",
        "# Interact function to update the plot based on the selected variable\n",
        "interact(plot_pca, variable=variable_slider)\n"
      ]
    },
    {
      "cell_type": "code",
      "execution_count": null,
      "metadata": {},
      "outputs": [],
      "source": [
        "# # Conclusion\n",
        "\n",
        "# Cluster 0: Moderate Users\n",
        "#   Age: Average age of around 31.5 years.\n",
        "#   Usage Pattern: Moderate across all usage categories (peak, weekend, off-peak). They use around 67 minutes during peak times and 61 minutes during off-peak, with a balanced distribution across different times.\n",
        "#   Voice Services: Moderate engagement with voicemail, around 169 minutes per month. Other mobile minutes are relatively average (85 minutes).\n",
        "#   SMS: Average SMS usage (45-51 messages across different months).\n",
        "#   Packages: Most common package is \"PACK_B\" (39%), with significant usage of \"PACK_X\" (24%).\n",
        "#   Gender & Demographics: Predominantly male (64%) and married (59%). A majority own their living condition (78%).\n",
        "#   Job & Income: High representation among public employees (38%) and laborers (38%). Around 38% have an income in the 30-60k range.\n",
        "#       Conclusion: Cluster 0 represents moderately active users who have balanced usage across different services. They are typically working-class individuals, predominantly male, and inclined towards packages offering flexibility like \"PACK_B.\"\n",
        "# \n",
        "# Cluster 1: Low Users\n",
        "#   Age: Slightly older, average age of around 34.7 years.\n",
        "#   Usage Pattern: Significantly lower usage across all metrics. For instance, peak minutes are just around 12, and off-peak minutes are also low (~9). Voicemail usage is similarly minimal (29 minutes).\n",
        "#   Voice Services: Very low mobile and fixed-line minutes.\n",
        "#   SMS: Low SMS usage (~10 messages).\n",
        "#   Packages: High proportion using \"PACK_B\" (43%) and \"PACK_X\" (24%).\n",
        "#   Gender & Demographics: A bit more evenly distributed by gender (58% male). Higher tendency to be married (66%) and own their residence (85%).\n",
        "#   Job & Income: Broad range of jobs, with notable representation among public employees (36%) and a smaller proportion of retired individuals (5%). Income tends to be in the 30-60k range (38%) but with a higher-than-average percentage below 15k (14%).\n",
        "#       Conclusion: Cluster 1 appears to capture low-usage customers. They tend to be slightly older, stable (married, homeowners), and economically varied, with many favoring basic and budget-friendly packages.\n",
        "# \n",
        "# Cluster 2: Heavy Users\n",
        "#   Age: Similar to Cluster 0, average age is around 31.6 years.\n",
        "#   Usage Pattern: Significantly higher usage across all categories. For example, 234 peak minutes, 172 off-peak minutes, and voicemail minutes reaching over 500 in a month. This group makes extensive use of their services.\n",
        "#   Voice Services: Much higher mobile minutes (~327) and frequent use of voicemail (~377).\n",
        "#   SMS: Heavier SMS users, averaging over 100 messages per month.\n",
        "#   Packages: Preference for \"PACK_X\" (37%) and \"PACK_B\" (24%), with higher diversity across package usage than the other clusters.\n",
        "#   Gender & Demographics: Predominantly male (73%) and, while married (56%), have a higher proportion of single individuals (32%).\n",
        "#   Job & Income: Higher presence among public employees (48%) and a lower number of laborers. More diverse income range, with a notable proportion earning over 60k (13%).\n",
        "#       Conclusion: Cluster 2 represents high-usage customers who frequently use voice and SMS services. These customers are predominantly male, more likely to be single, and opt for packages with broader services like \"PACK_X.\" They show a more diverse economic profile, including higher earners.\n",
        "# \n",
        "# General Observations\n",
        "#   Age and Usage: The usage levels do not seem to vary dramatically with age, suggesting that service engagement is more lifestyle-driven.\n",
        "#   Gender Differences: Across clusters, males are predominant, but the level of male dominance is highest among heavy users (Cluster 2).\n",
        "#   Income: Higher earners are more present in Cluster 2, while Cluster 1 has a mix that includes lower-income groups.\n",
        "#   Service & Package Preferences: Heavy users lean toward packages that provide extensive coverage or perks, whereas lighter users prefer basic or more economical options."
      ]
    }
  ],
  "metadata": {
    "colab": {
      "provenance": []
    },
    "kernelspec": {
      "display_name": "Python 3",
      "name": "python3"
    },
    "language_info": {
      "codemirror_mode": {
        "name": "ipython",
        "version": 3
      },
      "file_extension": ".py",
      "mimetype": "text/x-python",
      "name": "python",
      "nbconvert_exporter": "python",
      "pygments_lexer": "ipython3",
      "version": "3.11.5"
    }
  },
  "nbformat": 4,
  "nbformat_minor": 0
}
